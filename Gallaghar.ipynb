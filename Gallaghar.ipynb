{
  "nbformat": 4,
  "nbformat_minor": 0,
  "metadata": {
    "colab": {
      "provenance": []
    },
    "kernelspec": {
      "name": "python3",
      "display_name": "Python 3"
    },
    "language_info": {
      "name": "python"
    }
  },
  "cells": [
    {
      "cell_type": "markdown",
      "source": [
        "#**GATHERING DATA**"
      ],
      "metadata": {
        "id": "kbXcdpM7o1zT"
      }
    },
    {
      "cell_type": "code",
      "execution_count": 217,
      "metadata": {
        "id": "n6rmgO5ybRf9"
      },
      "outputs": [],
      "source": [
        "import pandas as pd\n",
        "import numpy as np\n",
        "import matplotlib.pyplot as plt\n",
        "import seaborn as sns"
      ]
    },
    {
      "cell_type": "code",
      "source": [
        "df_raw = pd.read_excel(\"Assessment.xlsx\")"
      ],
      "metadata": {
        "id": "1mUeXl2IbToK"
      },
      "execution_count": 218,
      "outputs": []
    },
    {
      "cell_type": "code",
      "source": [
        "df_raw.head()"
      ],
      "metadata": {
        "colab": {
          "base_uri": "https://localhost:8080/",
          "height": 0
        },
        "id": "b6DU8RszbTqi",
        "outputId": "48089f2d-dbee-495a-c743-982e4312c9b5"
      },
      "execution_count": 219,
      "outputs": [
        {
          "output_type": "execute_result",
          "data": {
            "text/plain": [
              "         Date Primary Producer                               Stage Name  \\\n",
              "0  28/06/2018        Producer1  1-Met Client,Data Gather,Insurer Market   \n",
              "1  16/11/2017        Producer2  1-Met Client,Data Gather,Insurer Market   \n",
              "2  10/11/2017        Producer2     2-Client Presentation-Await Feedback   \n",
              "3  06/12/2017        Producer2  1-Met Client,Data Gather,Insurer Market   \n",
              "4  29/04/2019        Producer2     2-Client Presentation-Await Feedback   \n",
              "\n",
              "                  Account Name             Opportunity Name  \\\n",
              "0  West Point Construction Ltd           Meeting 06/03/2019   \n",
              "1         Newmor Group Limited                  2019 Review   \n",
              "2                  Prohire Plc                Review - 2019   \n",
              "3               G T Access Ltd  First Meeting - Review 2019   \n",
              "4                Arh Group Ltd             Insurance Review   \n",
              "\n",
              "       Niche Affiliations Expected Decision Date  Annual Revenue  Unnamed: 8  \\\n",
              "0            Construction             01/07/2019         20000.0         NaN   \n",
              "1  Commercial - All Other             31/12/2019         10000.0         NaN   \n",
              "2          Transportation             04/06/2019         10000.0         NaN   \n",
              "3                   Other             30/11/2019          8000.0         NaN   \n",
              "4  Commercial - All Other             28/06/2019         25000.0         NaN   \n",
              "\n",
              "  Primary Producer.1    Office  Unnamed: 11  Unnamed: 12  Unnamed: 13  \\\n",
              "0          Producer1  Office 1          NaN          NaN          NaN   \n",
              "1          Producer2  Office 2          NaN          NaN          NaN   \n",
              "2          Producer3  Office 3          NaN          NaN          NaN   \n",
              "3          Producer4  Office 1          NaN          NaN          NaN   \n",
              "4          Producer5  Office 2          NaN          NaN          NaN   \n",
              "\n",
              "                Account Name.1 Acct ID Primary Office  \n",
              "0  West Point Construction Ltd    A101       Office 1  \n",
              "1         Newmor Group Limited    A102       Office 2  \n",
              "2                  Prohire Plc    A103       Office 2  \n",
              "3               G T Access Ltd    A104       Office 2  \n",
              "4                Arh Group Ltd    A105       Office 2  "
            ],
            "text/html": [
              "\n",
              "  <div id=\"df-60e8b591-9d1a-47cf-95f8-0b3a35f398dd\">\n",
              "    <div class=\"colab-df-container\">\n",
              "      <div>\n",
              "<style scoped>\n",
              "    .dataframe tbody tr th:only-of-type {\n",
              "        vertical-align: middle;\n",
              "    }\n",
              "\n",
              "    .dataframe tbody tr th {\n",
              "        vertical-align: top;\n",
              "    }\n",
              "\n",
              "    .dataframe thead th {\n",
              "        text-align: right;\n",
              "    }\n",
              "</style>\n",
              "<table border=\"1\" class=\"dataframe\">\n",
              "  <thead>\n",
              "    <tr style=\"text-align: right;\">\n",
              "      <th></th>\n",
              "      <th>Date</th>\n",
              "      <th>Primary Producer</th>\n",
              "      <th>Stage Name</th>\n",
              "      <th>Account Name</th>\n",
              "      <th>Opportunity Name</th>\n",
              "      <th>Niche Affiliations</th>\n",
              "      <th>Expected Decision Date</th>\n",
              "      <th>Annual Revenue</th>\n",
              "      <th>Unnamed: 8</th>\n",
              "      <th>Primary Producer.1</th>\n",
              "      <th>Office</th>\n",
              "      <th>Unnamed: 11</th>\n",
              "      <th>Unnamed: 12</th>\n",
              "      <th>Unnamed: 13</th>\n",
              "      <th>Account Name.1</th>\n",
              "      <th>Acct ID</th>\n",
              "      <th>Primary Office</th>\n",
              "    </tr>\n",
              "  </thead>\n",
              "  <tbody>\n",
              "    <tr>\n",
              "      <th>0</th>\n",
              "      <td>28/06/2018</td>\n",
              "      <td>Producer1</td>\n",
              "      <td>1-Met Client,Data Gather,Insurer Market</td>\n",
              "      <td>West Point Construction Ltd</td>\n",
              "      <td>Meeting 06/03/2019</td>\n",
              "      <td>Construction</td>\n",
              "      <td>01/07/2019</td>\n",
              "      <td>20000.0</td>\n",
              "      <td>NaN</td>\n",
              "      <td>Producer1</td>\n",
              "      <td>Office 1</td>\n",
              "      <td>NaN</td>\n",
              "      <td>NaN</td>\n",
              "      <td>NaN</td>\n",
              "      <td>West Point Construction Ltd</td>\n",
              "      <td>A101</td>\n",
              "      <td>Office 1</td>\n",
              "    </tr>\n",
              "    <tr>\n",
              "      <th>1</th>\n",
              "      <td>16/11/2017</td>\n",
              "      <td>Producer2</td>\n",
              "      <td>1-Met Client,Data Gather,Insurer Market</td>\n",
              "      <td>Newmor Group Limited</td>\n",
              "      <td>2019 Review</td>\n",
              "      <td>Commercial - All Other</td>\n",
              "      <td>31/12/2019</td>\n",
              "      <td>10000.0</td>\n",
              "      <td>NaN</td>\n",
              "      <td>Producer2</td>\n",
              "      <td>Office 2</td>\n",
              "      <td>NaN</td>\n",
              "      <td>NaN</td>\n",
              "      <td>NaN</td>\n",
              "      <td>Newmor Group Limited</td>\n",
              "      <td>A102</td>\n",
              "      <td>Office 2</td>\n",
              "    </tr>\n",
              "    <tr>\n",
              "      <th>2</th>\n",
              "      <td>10/11/2017</td>\n",
              "      <td>Producer2</td>\n",
              "      <td>2-Client Presentation-Await Feedback</td>\n",
              "      <td>Prohire Plc</td>\n",
              "      <td>Review - 2019</td>\n",
              "      <td>Transportation</td>\n",
              "      <td>04/06/2019</td>\n",
              "      <td>10000.0</td>\n",
              "      <td>NaN</td>\n",
              "      <td>Producer3</td>\n",
              "      <td>Office 3</td>\n",
              "      <td>NaN</td>\n",
              "      <td>NaN</td>\n",
              "      <td>NaN</td>\n",
              "      <td>Prohire Plc</td>\n",
              "      <td>A103</td>\n",
              "      <td>Office 2</td>\n",
              "    </tr>\n",
              "    <tr>\n",
              "      <th>3</th>\n",
              "      <td>06/12/2017</td>\n",
              "      <td>Producer2</td>\n",
              "      <td>1-Met Client,Data Gather,Insurer Market</td>\n",
              "      <td>G T Access Ltd</td>\n",
              "      <td>First Meeting - Review 2019</td>\n",
              "      <td>Other</td>\n",
              "      <td>30/11/2019</td>\n",
              "      <td>8000.0</td>\n",
              "      <td>NaN</td>\n",
              "      <td>Producer4</td>\n",
              "      <td>Office 1</td>\n",
              "      <td>NaN</td>\n",
              "      <td>NaN</td>\n",
              "      <td>NaN</td>\n",
              "      <td>G T Access Ltd</td>\n",
              "      <td>A104</td>\n",
              "      <td>Office 2</td>\n",
              "    </tr>\n",
              "    <tr>\n",
              "      <th>4</th>\n",
              "      <td>29/04/2019</td>\n",
              "      <td>Producer2</td>\n",
              "      <td>2-Client Presentation-Await Feedback</td>\n",
              "      <td>Arh Group Ltd</td>\n",
              "      <td>Insurance Review</td>\n",
              "      <td>Commercial - All Other</td>\n",
              "      <td>28/06/2019</td>\n",
              "      <td>25000.0</td>\n",
              "      <td>NaN</td>\n",
              "      <td>Producer5</td>\n",
              "      <td>Office 2</td>\n",
              "      <td>NaN</td>\n",
              "      <td>NaN</td>\n",
              "      <td>NaN</td>\n",
              "      <td>Arh Group Ltd</td>\n",
              "      <td>A105</td>\n",
              "      <td>Office 2</td>\n",
              "    </tr>\n",
              "  </tbody>\n",
              "</table>\n",
              "</div>\n",
              "      <button class=\"colab-df-convert\" onclick=\"convertToInteractive('df-60e8b591-9d1a-47cf-95f8-0b3a35f398dd')\"\n",
              "              title=\"Convert this dataframe to an interactive table.\"\n",
              "              style=\"display:none;\">\n",
              "        \n",
              "  <svg xmlns=\"http://www.w3.org/2000/svg\" height=\"24px\"viewBox=\"0 0 24 24\"\n",
              "       width=\"24px\">\n",
              "    <path d=\"M0 0h24v24H0V0z\" fill=\"none\"/>\n",
              "    <path d=\"M18.56 5.44l.94 2.06.94-2.06 2.06-.94-2.06-.94-.94-2.06-.94 2.06-2.06.94zm-11 1L8.5 8.5l.94-2.06 2.06-.94-2.06-.94L8.5 2.5l-.94 2.06-2.06.94zm10 10l.94 2.06.94-2.06 2.06-.94-2.06-.94-.94-2.06-.94 2.06-2.06.94z\"/><path d=\"M17.41 7.96l-1.37-1.37c-.4-.4-.92-.59-1.43-.59-.52 0-1.04.2-1.43.59L10.3 9.45l-7.72 7.72c-.78.78-.78 2.05 0 2.83L4 21.41c.39.39.9.59 1.41.59.51 0 1.02-.2 1.41-.59l7.78-7.78 2.81-2.81c.8-.78.8-2.07 0-2.86zM5.41 20L4 18.59l7.72-7.72 1.47 1.35L5.41 20z\"/>\n",
              "  </svg>\n",
              "      </button>\n",
              "      \n",
              "  <style>\n",
              "    .colab-df-container {\n",
              "      display:flex;\n",
              "      flex-wrap:wrap;\n",
              "      gap: 12px;\n",
              "    }\n",
              "\n",
              "    .colab-df-convert {\n",
              "      background-color: #E8F0FE;\n",
              "      border: none;\n",
              "      border-radius: 50%;\n",
              "      cursor: pointer;\n",
              "      display: none;\n",
              "      fill: #1967D2;\n",
              "      height: 32px;\n",
              "      padding: 0 0 0 0;\n",
              "      width: 32px;\n",
              "    }\n",
              "\n",
              "    .colab-df-convert:hover {\n",
              "      background-color: #E2EBFA;\n",
              "      box-shadow: 0px 1px 2px rgba(60, 64, 67, 0.3), 0px 1px 3px 1px rgba(60, 64, 67, 0.15);\n",
              "      fill: #174EA6;\n",
              "    }\n",
              "\n",
              "    [theme=dark] .colab-df-convert {\n",
              "      background-color: #3B4455;\n",
              "      fill: #D2E3FC;\n",
              "    }\n",
              "\n",
              "    [theme=dark] .colab-df-convert:hover {\n",
              "      background-color: #434B5C;\n",
              "      box-shadow: 0px 1px 3px 1px rgba(0, 0, 0, 0.15);\n",
              "      filter: drop-shadow(0px 1px 2px rgba(0, 0, 0, 0.3));\n",
              "      fill: #FFFFFF;\n",
              "    }\n",
              "  </style>\n",
              "\n",
              "      <script>\n",
              "        const buttonEl =\n",
              "          document.querySelector('#df-60e8b591-9d1a-47cf-95f8-0b3a35f398dd button.colab-df-convert');\n",
              "        buttonEl.style.display =\n",
              "          google.colab.kernel.accessAllowed ? 'block' : 'none';\n",
              "\n",
              "        async function convertToInteractive(key) {\n",
              "          const element = document.querySelector('#df-60e8b591-9d1a-47cf-95f8-0b3a35f398dd');\n",
              "          const dataTable =\n",
              "            await google.colab.kernel.invokeFunction('convertToInteractive',\n",
              "                                                     [key], {});\n",
              "          if (!dataTable) return;\n",
              "\n",
              "          const docLinkHtml = 'Like what you see? Visit the ' +\n",
              "            '<a target=\"_blank\" href=https://colab.research.google.com/notebooks/data_table.ipynb>data table notebook</a>'\n",
              "            + ' to learn more about interactive tables.';\n",
              "          element.innerHTML = '';\n",
              "          dataTable['output_type'] = 'display_data';\n",
              "          await google.colab.output.renderOutput(dataTable, element);\n",
              "          const docLink = document.createElement('div');\n",
              "          docLink.innerHTML = docLinkHtml;\n",
              "          element.appendChild(docLink);\n",
              "        }\n",
              "      </script>\n",
              "    </div>\n",
              "  </div>\n",
              "  "
            ]
          },
          "metadata": {},
          "execution_count": 219
        }
      ]
    },
    {
      "cell_type": "code",
      "source": [
        "df1 = df_raw.iloc[:,:8]"
      ],
      "metadata": {
        "id": "u__CXKUPpL5I"
      },
      "execution_count": 220,
      "outputs": []
    },
    {
      "cell_type": "code",
      "source": [
        "df2 = df_raw.iloc[:5,9:11]"
      ],
      "metadata": {
        "id": "1jSrCuJ4pljb"
      },
      "execution_count": 221,
      "outputs": []
    },
    {
      "cell_type": "code",
      "source": [
        "df3 = df_raw.iloc[:77,14:]"
      ],
      "metadata": {
        "id": "LFzu-ZiQplf_"
      },
      "execution_count": 222,
      "outputs": []
    },
    {
      "cell_type": "code",
      "source": [
        "df3.rename(columns = {'Primary Office':'Office', 'Account Name.1':'Account Name'}, inplace = True)\n",
        "df2.rename(columns = {'Primary Producer.1':'Primary Producer'}, inplace = True)"
      ],
      "metadata": {
        "id": "xtX0Jmr6qknk"
      },
      "execution_count": 223,
      "outputs": []
    },
    {
      "cell_type": "code",
      "source": [
        "df_merge12 = pd.merge(df1, df2, how= \"inner\", on = \"Primary Producer\")"
      ],
      "metadata": {
        "id": "h7sKhWxJrs95"
      },
      "execution_count": 224,
      "outputs": []
    },
    {
      "cell_type": "code",
      "source": [
        "df = pd.merge(df_merge12, df3, how= \"inner\", on = \"Account Name\")"
      ],
      "metadata": {
        "id": "zjzfmy-nt1OP"
      },
      "execution_count": 225,
      "outputs": []
    },
    {
      "cell_type": "code",
      "source": [
        "df.shape"
      ],
      "metadata": {
        "colab": {
          "base_uri": "https://localhost:8080/"
        },
        "id": "-2MEy1pst1K4",
        "outputId": "99c9ed1a-9056-4384-efd6-27028215ee6d"
      },
      "execution_count": 226,
      "outputs": [
        {
          "output_type": "execute_result",
          "data": {
            "text/plain": [
              "(180, 11)"
            ]
          },
          "metadata": {},
          "execution_count": 226
        }
      ]
    },
    {
      "cell_type": "markdown",
      "source": [
        "#**DATA PRE-PROCESSING**"
      ],
      "metadata": {
        "id": "1loCAt_Bo92W"
      }
    },
    {
      "cell_type": "code",
      "source": [
        "df.head()"
      ],
      "metadata": {
        "colab": {
          "base_uri": "https://localhost:8080/",
          "height": 0
        },
        "id": "6tMULY5rt0_m",
        "outputId": "f2287c66-5485-4fca-913d-c6714368f141"
      },
      "execution_count": 227,
      "outputs": [
        {
          "output_type": "execute_result",
          "data": {
            "text/plain": [
              "         Date Primary Producer                               Stage Name  \\\n",
              "0  28/06/2018        Producer1  1-Met Client,Data Gather,Insurer Market   \n",
              "1  28/06/2018        Producer1  1-Met Client,Data Gather,Insurer Market   \n",
              "2  16/11/2017        Producer2  1-Met Client,Data Gather,Insurer Market   \n",
              "3  16/11/2017        Producer2  1-Met Client,Data Gather,Insurer Market   \n",
              "4  10/11/2017        Producer2     2-Client Presentation-Await Feedback   \n",
              "\n",
              "                  Account Name    Opportunity Name      Niche Affiliations  \\\n",
              "0  West Point Construction Ltd  Meeting 06/03/2019            Construction   \n",
              "1  West Point Construction Ltd  Meeting 06/03/2019            Construction   \n",
              "2         Newmor Group Limited         2019 Review  Commercial - All Other   \n",
              "3         Newmor Group Limited         2019 Review  Commercial - All Other   \n",
              "4                  Prohire Plc       Review - 2019          Transportation   \n",
              "\n",
              "  Expected Decision Date  Annual Revenue  Office_x Acct ID  Office_y  \n",
              "0             01/07/2019         20000.0  Office 1    A101  Office 1  \n",
              "1             01/07/2019         20000.0  Office 1    A101  Office 1  \n",
              "2             31/12/2019         10000.0  Office 2    A102  Office 2  \n",
              "3             31/12/2019         10000.0  Office 2    A102  Office 2  \n",
              "4             04/06/2019         10000.0  Office 2    A103  Office 2  "
            ],
            "text/html": [
              "\n",
              "  <div id=\"df-2757fffb-8b60-45a0-900e-4da7aa18b444\">\n",
              "    <div class=\"colab-df-container\">\n",
              "      <div>\n",
              "<style scoped>\n",
              "    .dataframe tbody tr th:only-of-type {\n",
              "        vertical-align: middle;\n",
              "    }\n",
              "\n",
              "    .dataframe tbody tr th {\n",
              "        vertical-align: top;\n",
              "    }\n",
              "\n",
              "    .dataframe thead th {\n",
              "        text-align: right;\n",
              "    }\n",
              "</style>\n",
              "<table border=\"1\" class=\"dataframe\">\n",
              "  <thead>\n",
              "    <tr style=\"text-align: right;\">\n",
              "      <th></th>\n",
              "      <th>Date</th>\n",
              "      <th>Primary Producer</th>\n",
              "      <th>Stage Name</th>\n",
              "      <th>Account Name</th>\n",
              "      <th>Opportunity Name</th>\n",
              "      <th>Niche Affiliations</th>\n",
              "      <th>Expected Decision Date</th>\n",
              "      <th>Annual Revenue</th>\n",
              "      <th>Office_x</th>\n",
              "      <th>Acct ID</th>\n",
              "      <th>Office_y</th>\n",
              "    </tr>\n",
              "  </thead>\n",
              "  <tbody>\n",
              "    <tr>\n",
              "      <th>0</th>\n",
              "      <td>28/06/2018</td>\n",
              "      <td>Producer1</td>\n",
              "      <td>1-Met Client,Data Gather,Insurer Market</td>\n",
              "      <td>West Point Construction Ltd</td>\n",
              "      <td>Meeting 06/03/2019</td>\n",
              "      <td>Construction</td>\n",
              "      <td>01/07/2019</td>\n",
              "      <td>20000.0</td>\n",
              "      <td>Office 1</td>\n",
              "      <td>A101</td>\n",
              "      <td>Office 1</td>\n",
              "    </tr>\n",
              "    <tr>\n",
              "      <th>1</th>\n",
              "      <td>28/06/2018</td>\n",
              "      <td>Producer1</td>\n",
              "      <td>1-Met Client,Data Gather,Insurer Market</td>\n",
              "      <td>West Point Construction Ltd</td>\n",
              "      <td>Meeting 06/03/2019</td>\n",
              "      <td>Construction</td>\n",
              "      <td>01/07/2019</td>\n",
              "      <td>20000.0</td>\n",
              "      <td>Office 1</td>\n",
              "      <td>A101</td>\n",
              "      <td>Office 1</td>\n",
              "    </tr>\n",
              "    <tr>\n",
              "      <th>2</th>\n",
              "      <td>16/11/2017</td>\n",
              "      <td>Producer2</td>\n",
              "      <td>1-Met Client,Data Gather,Insurer Market</td>\n",
              "      <td>Newmor Group Limited</td>\n",
              "      <td>2019 Review</td>\n",
              "      <td>Commercial - All Other</td>\n",
              "      <td>31/12/2019</td>\n",
              "      <td>10000.0</td>\n",
              "      <td>Office 2</td>\n",
              "      <td>A102</td>\n",
              "      <td>Office 2</td>\n",
              "    </tr>\n",
              "    <tr>\n",
              "      <th>3</th>\n",
              "      <td>16/11/2017</td>\n",
              "      <td>Producer2</td>\n",
              "      <td>1-Met Client,Data Gather,Insurer Market</td>\n",
              "      <td>Newmor Group Limited</td>\n",
              "      <td>2019 Review</td>\n",
              "      <td>Commercial - All Other</td>\n",
              "      <td>31/12/2019</td>\n",
              "      <td>10000.0</td>\n",
              "      <td>Office 2</td>\n",
              "      <td>A102</td>\n",
              "      <td>Office 2</td>\n",
              "    </tr>\n",
              "    <tr>\n",
              "      <th>4</th>\n",
              "      <td>10/11/2017</td>\n",
              "      <td>Producer2</td>\n",
              "      <td>2-Client Presentation-Await Feedback</td>\n",
              "      <td>Prohire Plc</td>\n",
              "      <td>Review - 2019</td>\n",
              "      <td>Transportation</td>\n",
              "      <td>04/06/2019</td>\n",
              "      <td>10000.0</td>\n",
              "      <td>Office 2</td>\n",
              "      <td>A103</td>\n",
              "      <td>Office 2</td>\n",
              "    </tr>\n",
              "  </tbody>\n",
              "</table>\n",
              "</div>\n",
              "      <button class=\"colab-df-convert\" onclick=\"convertToInteractive('df-2757fffb-8b60-45a0-900e-4da7aa18b444')\"\n",
              "              title=\"Convert this dataframe to an interactive table.\"\n",
              "              style=\"display:none;\">\n",
              "        \n",
              "  <svg xmlns=\"http://www.w3.org/2000/svg\" height=\"24px\"viewBox=\"0 0 24 24\"\n",
              "       width=\"24px\">\n",
              "    <path d=\"M0 0h24v24H0V0z\" fill=\"none\"/>\n",
              "    <path d=\"M18.56 5.44l.94 2.06.94-2.06 2.06-.94-2.06-.94-.94-2.06-.94 2.06-2.06.94zm-11 1L8.5 8.5l.94-2.06 2.06-.94-2.06-.94L8.5 2.5l-.94 2.06-2.06.94zm10 10l.94 2.06.94-2.06 2.06-.94-2.06-.94-.94-2.06-.94 2.06-2.06.94z\"/><path d=\"M17.41 7.96l-1.37-1.37c-.4-.4-.92-.59-1.43-.59-.52 0-1.04.2-1.43.59L10.3 9.45l-7.72 7.72c-.78.78-.78 2.05 0 2.83L4 21.41c.39.39.9.59 1.41.59.51 0 1.02-.2 1.41-.59l7.78-7.78 2.81-2.81c.8-.78.8-2.07 0-2.86zM5.41 20L4 18.59l7.72-7.72 1.47 1.35L5.41 20z\"/>\n",
              "  </svg>\n",
              "      </button>\n",
              "      \n",
              "  <style>\n",
              "    .colab-df-container {\n",
              "      display:flex;\n",
              "      flex-wrap:wrap;\n",
              "      gap: 12px;\n",
              "    }\n",
              "\n",
              "    .colab-df-convert {\n",
              "      background-color: #E8F0FE;\n",
              "      border: none;\n",
              "      border-radius: 50%;\n",
              "      cursor: pointer;\n",
              "      display: none;\n",
              "      fill: #1967D2;\n",
              "      height: 32px;\n",
              "      padding: 0 0 0 0;\n",
              "      width: 32px;\n",
              "    }\n",
              "\n",
              "    .colab-df-convert:hover {\n",
              "      background-color: #E2EBFA;\n",
              "      box-shadow: 0px 1px 2px rgba(60, 64, 67, 0.3), 0px 1px 3px 1px rgba(60, 64, 67, 0.15);\n",
              "      fill: #174EA6;\n",
              "    }\n",
              "\n",
              "    [theme=dark] .colab-df-convert {\n",
              "      background-color: #3B4455;\n",
              "      fill: #D2E3FC;\n",
              "    }\n",
              "\n",
              "    [theme=dark] .colab-df-convert:hover {\n",
              "      background-color: #434B5C;\n",
              "      box-shadow: 0px 1px 3px 1px rgba(0, 0, 0, 0.15);\n",
              "      filter: drop-shadow(0px 1px 2px rgba(0, 0, 0, 0.3));\n",
              "      fill: #FFFFFF;\n",
              "    }\n",
              "  </style>\n",
              "\n",
              "      <script>\n",
              "        const buttonEl =\n",
              "          document.querySelector('#df-2757fffb-8b60-45a0-900e-4da7aa18b444 button.colab-df-convert');\n",
              "        buttonEl.style.display =\n",
              "          google.colab.kernel.accessAllowed ? 'block' : 'none';\n",
              "\n",
              "        async function convertToInteractive(key) {\n",
              "          const element = document.querySelector('#df-2757fffb-8b60-45a0-900e-4da7aa18b444');\n",
              "          const dataTable =\n",
              "            await google.colab.kernel.invokeFunction('convertToInteractive',\n",
              "                                                     [key], {});\n",
              "          if (!dataTable) return;\n",
              "\n",
              "          const docLinkHtml = 'Like what you see? Visit the ' +\n",
              "            '<a target=\"_blank\" href=https://colab.research.google.com/notebooks/data_table.ipynb>data table notebook</a>'\n",
              "            + ' to learn more about interactive tables.';\n",
              "          element.innerHTML = '';\n",
              "          dataTable['output_type'] = 'display_data';\n",
              "          await google.colab.output.renderOutput(dataTable, element);\n",
              "          const docLink = document.createElement('div');\n",
              "          docLink.innerHTML = docLinkHtml;\n",
              "          element.appendChild(docLink);\n",
              "        }\n",
              "      </script>\n",
              "    </div>\n",
              "  </div>\n",
              "  "
            ]
          },
          "metadata": {},
          "execution_count": 227
        }
      ]
    },
    {
      "cell_type": "code",
      "source": [
        "df.describe()"
      ],
      "metadata": {
        "colab": {
          "base_uri": "https://localhost:8080/",
          "height": 0
        },
        "id": "58LhhBpaoye7",
        "outputId": "f9ce9dad-d360-4f7e-c37e-a88001bd67a5"
      },
      "execution_count": 228,
      "outputs": [
        {
          "output_type": "execute_result",
          "data": {
            "text/plain": [
              "       Annual Revenue\n",
              "count      174.000000\n",
              "mean      7694.255287\n",
              "std       6458.578786\n",
              "min        157.520000\n",
              "25%       3751.827500\n",
              "50%       5000.000000\n",
              "75%      10000.000000\n",
              "max      30000.000000"
            ],
            "text/html": [
              "\n",
              "  <div id=\"df-8b9237cf-59c0-4985-b3a5-43b7ec5c9b88\">\n",
              "    <div class=\"colab-df-container\">\n",
              "      <div>\n",
              "<style scoped>\n",
              "    .dataframe tbody tr th:only-of-type {\n",
              "        vertical-align: middle;\n",
              "    }\n",
              "\n",
              "    .dataframe tbody tr th {\n",
              "        vertical-align: top;\n",
              "    }\n",
              "\n",
              "    .dataframe thead th {\n",
              "        text-align: right;\n",
              "    }\n",
              "</style>\n",
              "<table border=\"1\" class=\"dataframe\">\n",
              "  <thead>\n",
              "    <tr style=\"text-align: right;\">\n",
              "      <th></th>\n",
              "      <th>Annual Revenue</th>\n",
              "    </tr>\n",
              "  </thead>\n",
              "  <tbody>\n",
              "    <tr>\n",
              "      <th>count</th>\n",
              "      <td>174.000000</td>\n",
              "    </tr>\n",
              "    <tr>\n",
              "      <th>mean</th>\n",
              "      <td>7694.255287</td>\n",
              "    </tr>\n",
              "    <tr>\n",
              "      <th>std</th>\n",
              "      <td>6458.578786</td>\n",
              "    </tr>\n",
              "    <tr>\n",
              "      <th>min</th>\n",
              "      <td>157.520000</td>\n",
              "    </tr>\n",
              "    <tr>\n",
              "      <th>25%</th>\n",
              "      <td>3751.827500</td>\n",
              "    </tr>\n",
              "    <tr>\n",
              "      <th>50%</th>\n",
              "      <td>5000.000000</td>\n",
              "    </tr>\n",
              "    <tr>\n",
              "      <th>75%</th>\n",
              "      <td>10000.000000</td>\n",
              "    </tr>\n",
              "    <tr>\n",
              "      <th>max</th>\n",
              "      <td>30000.000000</td>\n",
              "    </tr>\n",
              "  </tbody>\n",
              "</table>\n",
              "</div>\n",
              "      <button class=\"colab-df-convert\" onclick=\"convertToInteractive('df-8b9237cf-59c0-4985-b3a5-43b7ec5c9b88')\"\n",
              "              title=\"Convert this dataframe to an interactive table.\"\n",
              "              style=\"display:none;\">\n",
              "        \n",
              "  <svg xmlns=\"http://www.w3.org/2000/svg\" height=\"24px\"viewBox=\"0 0 24 24\"\n",
              "       width=\"24px\">\n",
              "    <path d=\"M0 0h24v24H0V0z\" fill=\"none\"/>\n",
              "    <path d=\"M18.56 5.44l.94 2.06.94-2.06 2.06-.94-2.06-.94-.94-2.06-.94 2.06-2.06.94zm-11 1L8.5 8.5l.94-2.06 2.06-.94-2.06-.94L8.5 2.5l-.94 2.06-2.06.94zm10 10l.94 2.06.94-2.06 2.06-.94-2.06-.94-.94-2.06-.94 2.06-2.06.94z\"/><path d=\"M17.41 7.96l-1.37-1.37c-.4-.4-.92-.59-1.43-.59-.52 0-1.04.2-1.43.59L10.3 9.45l-7.72 7.72c-.78.78-.78 2.05 0 2.83L4 21.41c.39.39.9.59 1.41.59.51 0 1.02-.2 1.41-.59l7.78-7.78 2.81-2.81c.8-.78.8-2.07 0-2.86zM5.41 20L4 18.59l7.72-7.72 1.47 1.35L5.41 20z\"/>\n",
              "  </svg>\n",
              "      </button>\n",
              "      \n",
              "  <style>\n",
              "    .colab-df-container {\n",
              "      display:flex;\n",
              "      flex-wrap:wrap;\n",
              "      gap: 12px;\n",
              "    }\n",
              "\n",
              "    .colab-df-convert {\n",
              "      background-color: #E8F0FE;\n",
              "      border: none;\n",
              "      border-radius: 50%;\n",
              "      cursor: pointer;\n",
              "      display: none;\n",
              "      fill: #1967D2;\n",
              "      height: 32px;\n",
              "      padding: 0 0 0 0;\n",
              "      width: 32px;\n",
              "    }\n",
              "\n",
              "    .colab-df-convert:hover {\n",
              "      background-color: #E2EBFA;\n",
              "      box-shadow: 0px 1px 2px rgba(60, 64, 67, 0.3), 0px 1px 3px 1px rgba(60, 64, 67, 0.15);\n",
              "      fill: #174EA6;\n",
              "    }\n",
              "\n",
              "    [theme=dark] .colab-df-convert {\n",
              "      background-color: #3B4455;\n",
              "      fill: #D2E3FC;\n",
              "    }\n",
              "\n",
              "    [theme=dark] .colab-df-convert:hover {\n",
              "      background-color: #434B5C;\n",
              "      box-shadow: 0px 1px 3px 1px rgba(0, 0, 0, 0.15);\n",
              "      filter: drop-shadow(0px 1px 2px rgba(0, 0, 0, 0.3));\n",
              "      fill: #FFFFFF;\n",
              "    }\n",
              "  </style>\n",
              "\n",
              "      <script>\n",
              "        const buttonEl =\n",
              "          document.querySelector('#df-8b9237cf-59c0-4985-b3a5-43b7ec5c9b88 button.colab-df-convert');\n",
              "        buttonEl.style.display =\n",
              "          google.colab.kernel.accessAllowed ? 'block' : 'none';\n",
              "\n",
              "        async function convertToInteractive(key) {\n",
              "          const element = document.querySelector('#df-8b9237cf-59c0-4985-b3a5-43b7ec5c9b88');\n",
              "          const dataTable =\n",
              "            await google.colab.kernel.invokeFunction('convertToInteractive',\n",
              "                                                     [key], {});\n",
              "          if (!dataTable) return;\n",
              "\n",
              "          const docLinkHtml = 'Like what you see? Visit the ' +\n",
              "            '<a target=\"_blank\" href=https://colab.research.google.com/notebooks/data_table.ipynb>data table notebook</a>'\n",
              "            + ' to learn more about interactive tables.';\n",
              "          element.innerHTML = '';\n",
              "          dataTable['output_type'] = 'display_data';\n",
              "          await google.colab.output.renderOutput(dataTable, element);\n",
              "          const docLink = document.createElement('div');\n",
              "          docLink.innerHTML = docLinkHtml;\n",
              "          element.appendChild(docLink);\n",
              "        }\n",
              "      </script>\n",
              "    </div>\n",
              "  </div>\n",
              "  "
            ]
          },
          "metadata": {},
          "execution_count": 228
        }
      ]
    },
    {
      "cell_type": "code",
      "source": [
        "df.info()"
      ],
      "metadata": {
        "id": "rR2qNS6Xx9IG",
        "colab": {
          "base_uri": "https://localhost:8080/"
        },
        "outputId": "e2a88967-0bce-4088-d31d-16a362a16d55"
      },
      "execution_count": 229,
      "outputs": [
        {
          "output_type": "stream",
          "name": "stdout",
          "text": [
            "<class 'pandas.core.frame.DataFrame'>\n",
            "Int64Index: 180 entries, 0 to 179\n",
            "Data columns (total 11 columns):\n",
            " #   Column                  Non-Null Count  Dtype  \n",
            "---  ------                  --------------  -----  \n",
            " 0   Date                    180 non-null    object \n",
            " 1   Primary Producer        180 non-null    object \n",
            " 2   Stage Name              180 non-null    object \n",
            " 3   Account Name            180 non-null    object \n",
            " 4   Opportunity Name        180 non-null    object \n",
            " 5   Niche Affiliations      162 non-null    object \n",
            " 6   Expected Decision Date  180 non-null    object \n",
            " 7   Annual Revenue          174 non-null    float64\n",
            " 8   Office_x                180 non-null    object \n",
            " 9   Acct ID                 180 non-null    object \n",
            " 10  Office_y                180 non-null    object \n",
            "dtypes: float64(1), object(10)\n",
            "memory usage: 16.9+ KB\n"
          ]
        }
      ]
    },
    {
      "cell_type": "code",
      "source": [
        "df.isnull().mean()*100"
      ],
      "metadata": {
        "colab": {
          "base_uri": "https://localhost:8080/"
        },
        "id": "VojbfIxb0TRI",
        "outputId": "98c8f9ae-b350-40fc-a0bf-3004d2ea60eb"
      },
      "execution_count": 230,
      "outputs": [
        {
          "output_type": "execute_result",
          "data": {
            "text/plain": [
              "Date                       0.000000\n",
              "Primary Producer           0.000000\n",
              "Stage Name                 0.000000\n",
              "Account Name               0.000000\n",
              "Opportunity Name           0.000000\n",
              "Niche Affiliations        10.000000\n",
              "Expected Decision Date     0.000000\n",
              "Annual Revenue             3.333333\n",
              "Office_x                   0.000000\n",
              "Acct ID                    0.000000\n",
              "Office_y                   0.000000\n",
              "dtype: float64"
            ]
          },
          "metadata": {},
          "execution_count": 230
        }
      ]
    },
    {
      "cell_type": "code",
      "source": [
        "df.nunique()"
      ],
      "metadata": {
        "colab": {
          "base_uri": "https://localhost:8080/"
        },
        "id": "-j7dL6ml0TNp",
        "outputId": "2c88cf5b-056b-4f3c-dc97-639ce92a7d04"
      },
      "execution_count": 231,
      "outputs": [
        {
          "output_type": "execute_result",
          "data": {
            "text/plain": [
              "Date                      46\n",
              "Primary Producer           5\n",
              "Stage Name                 3\n",
              "Account Name              77\n",
              "Opportunity Name          65\n",
              "Niche Affiliations        18\n",
              "Expected Decision Date    56\n",
              "Annual Revenue            45\n",
              "Office_x                   3\n",
              "Acct ID                   77\n",
              "Office_y                   3\n",
              "dtype: int64"
            ]
          },
          "metadata": {},
          "execution_count": 231
        }
      ]
    },
    {
      "cell_type": "markdown",
      "source": [
        "#**FEATURE ENGINEERING**"
      ],
      "metadata": {
        "id": "hrMNjabBpFwn"
      }
    },
    {
      "cell_type": "code",
      "source": [
        "df.head()"
      ],
      "metadata": {
        "colab": {
          "base_uri": "https://localhost:8080/",
          "height": 0
        },
        "id": "rviDapHt6aGB",
        "outputId": "8270a68b-789f-406f-ffab-ae94ef18073f"
      },
      "execution_count": 232,
      "outputs": [
        {
          "output_type": "execute_result",
          "data": {
            "text/plain": [
              "         Date Primary Producer                               Stage Name  \\\n",
              "0  28/06/2018        Producer1  1-Met Client,Data Gather,Insurer Market   \n",
              "1  28/06/2018        Producer1  1-Met Client,Data Gather,Insurer Market   \n",
              "2  16/11/2017        Producer2  1-Met Client,Data Gather,Insurer Market   \n",
              "3  16/11/2017        Producer2  1-Met Client,Data Gather,Insurer Market   \n",
              "4  10/11/2017        Producer2     2-Client Presentation-Await Feedback   \n",
              "\n",
              "                  Account Name    Opportunity Name      Niche Affiliations  \\\n",
              "0  West Point Construction Ltd  Meeting 06/03/2019            Construction   \n",
              "1  West Point Construction Ltd  Meeting 06/03/2019            Construction   \n",
              "2         Newmor Group Limited         2019 Review  Commercial - All Other   \n",
              "3         Newmor Group Limited         2019 Review  Commercial - All Other   \n",
              "4                  Prohire Plc       Review - 2019          Transportation   \n",
              "\n",
              "  Expected Decision Date  Annual Revenue  Office_x Acct ID  Office_y  \n",
              "0             01/07/2019         20000.0  Office 1    A101  Office 1  \n",
              "1             01/07/2019         20000.0  Office 1    A101  Office 1  \n",
              "2             31/12/2019         10000.0  Office 2    A102  Office 2  \n",
              "3             31/12/2019         10000.0  Office 2    A102  Office 2  \n",
              "4             04/06/2019         10000.0  Office 2    A103  Office 2  "
            ],
            "text/html": [
              "\n",
              "  <div id=\"df-eb1ee1e3-e49f-4ff6-a89b-c3af527eca07\">\n",
              "    <div class=\"colab-df-container\">\n",
              "      <div>\n",
              "<style scoped>\n",
              "    .dataframe tbody tr th:only-of-type {\n",
              "        vertical-align: middle;\n",
              "    }\n",
              "\n",
              "    .dataframe tbody tr th {\n",
              "        vertical-align: top;\n",
              "    }\n",
              "\n",
              "    .dataframe thead th {\n",
              "        text-align: right;\n",
              "    }\n",
              "</style>\n",
              "<table border=\"1\" class=\"dataframe\">\n",
              "  <thead>\n",
              "    <tr style=\"text-align: right;\">\n",
              "      <th></th>\n",
              "      <th>Date</th>\n",
              "      <th>Primary Producer</th>\n",
              "      <th>Stage Name</th>\n",
              "      <th>Account Name</th>\n",
              "      <th>Opportunity Name</th>\n",
              "      <th>Niche Affiliations</th>\n",
              "      <th>Expected Decision Date</th>\n",
              "      <th>Annual Revenue</th>\n",
              "      <th>Office_x</th>\n",
              "      <th>Acct ID</th>\n",
              "      <th>Office_y</th>\n",
              "    </tr>\n",
              "  </thead>\n",
              "  <tbody>\n",
              "    <tr>\n",
              "      <th>0</th>\n",
              "      <td>28/06/2018</td>\n",
              "      <td>Producer1</td>\n",
              "      <td>1-Met Client,Data Gather,Insurer Market</td>\n",
              "      <td>West Point Construction Ltd</td>\n",
              "      <td>Meeting 06/03/2019</td>\n",
              "      <td>Construction</td>\n",
              "      <td>01/07/2019</td>\n",
              "      <td>20000.0</td>\n",
              "      <td>Office 1</td>\n",
              "      <td>A101</td>\n",
              "      <td>Office 1</td>\n",
              "    </tr>\n",
              "    <tr>\n",
              "      <th>1</th>\n",
              "      <td>28/06/2018</td>\n",
              "      <td>Producer1</td>\n",
              "      <td>1-Met Client,Data Gather,Insurer Market</td>\n",
              "      <td>West Point Construction Ltd</td>\n",
              "      <td>Meeting 06/03/2019</td>\n",
              "      <td>Construction</td>\n",
              "      <td>01/07/2019</td>\n",
              "      <td>20000.0</td>\n",
              "      <td>Office 1</td>\n",
              "      <td>A101</td>\n",
              "      <td>Office 1</td>\n",
              "    </tr>\n",
              "    <tr>\n",
              "      <th>2</th>\n",
              "      <td>16/11/2017</td>\n",
              "      <td>Producer2</td>\n",
              "      <td>1-Met Client,Data Gather,Insurer Market</td>\n",
              "      <td>Newmor Group Limited</td>\n",
              "      <td>2019 Review</td>\n",
              "      <td>Commercial - All Other</td>\n",
              "      <td>31/12/2019</td>\n",
              "      <td>10000.0</td>\n",
              "      <td>Office 2</td>\n",
              "      <td>A102</td>\n",
              "      <td>Office 2</td>\n",
              "    </tr>\n",
              "    <tr>\n",
              "      <th>3</th>\n",
              "      <td>16/11/2017</td>\n",
              "      <td>Producer2</td>\n",
              "      <td>1-Met Client,Data Gather,Insurer Market</td>\n",
              "      <td>Newmor Group Limited</td>\n",
              "      <td>2019 Review</td>\n",
              "      <td>Commercial - All Other</td>\n",
              "      <td>31/12/2019</td>\n",
              "      <td>10000.0</td>\n",
              "      <td>Office 2</td>\n",
              "      <td>A102</td>\n",
              "      <td>Office 2</td>\n",
              "    </tr>\n",
              "    <tr>\n",
              "      <th>4</th>\n",
              "      <td>10/11/2017</td>\n",
              "      <td>Producer2</td>\n",
              "      <td>2-Client Presentation-Await Feedback</td>\n",
              "      <td>Prohire Plc</td>\n",
              "      <td>Review - 2019</td>\n",
              "      <td>Transportation</td>\n",
              "      <td>04/06/2019</td>\n",
              "      <td>10000.0</td>\n",
              "      <td>Office 2</td>\n",
              "      <td>A103</td>\n",
              "      <td>Office 2</td>\n",
              "    </tr>\n",
              "  </tbody>\n",
              "</table>\n",
              "</div>\n",
              "      <button class=\"colab-df-convert\" onclick=\"convertToInteractive('df-eb1ee1e3-e49f-4ff6-a89b-c3af527eca07')\"\n",
              "              title=\"Convert this dataframe to an interactive table.\"\n",
              "              style=\"display:none;\">\n",
              "        \n",
              "  <svg xmlns=\"http://www.w3.org/2000/svg\" height=\"24px\"viewBox=\"0 0 24 24\"\n",
              "       width=\"24px\">\n",
              "    <path d=\"M0 0h24v24H0V0z\" fill=\"none\"/>\n",
              "    <path d=\"M18.56 5.44l.94 2.06.94-2.06 2.06-.94-2.06-.94-.94-2.06-.94 2.06-2.06.94zm-11 1L8.5 8.5l.94-2.06 2.06-.94-2.06-.94L8.5 2.5l-.94 2.06-2.06.94zm10 10l.94 2.06.94-2.06 2.06-.94-2.06-.94-.94-2.06-.94 2.06-2.06.94z\"/><path d=\"M17.41 7.96l-1.37-1.37c-.4-.4-.92-.59-1.43-.59-.52 0-1.04.2-1.43.59L10.3 9.45l-7.72 7.72c-.78.78-.78 2.05 0 2.83L4 21.41c.39.39.9.59 1.41.59.51 0 1.02-.2 1.41-.59l7.78-7.78 2.81-2.81c.8-.78.8-2.07 0-2.86zM5.41 20L4 18.59l7.72-7.72 1.47 1.35L5.41 20z\"/>\n",
              "  </svg>\n",
              "      </button>\n",
              "      \n",
              "  <style>\n",
              "    .colab-df-container {\n",
              "      display:flex;\n",
              "      flex-wrap:wrap;\n",
              "      gap: 12px;\n",
              "    }\n",
              "\n",
              "    .colab-df-convert {\n",
              "      background-color: #E8F0FE;\n",
              "      border: none;\n",
              "      border-radius: 50%;\n",
              "      cursor: pointer;\n",
              "      display: none;\n",
              "      fill: #1967D2;\n",
              "      height: 32px;\n",
              "      padding: 0 0 0 0;\n",
              "      width: 32px;\n",
              "    }\n",
              "\n",
              "    .colab-df-convert:hover {\n",
              "      background-color: #E2EBFA;\n",
              "      box-shadow: 0px 1px 2px rgba(60, 64, 67, 0.3), 0px 1px 3px 1px rgba(60, 64, 67, 0.15);\n",
              "      fill: #174EA6;\n",
              "    }\n",
              "\n",
              "    [theme=dark] .colab-df-convert {\n",
              "      background-color: #3B4455;\n",
              "      fill: #D2E3FC;\n",
              "    }\n",
              "\n",
              "    [theme=dark] .colab-df-convert:hover {\n",
              "      background-color: #434B5C;\n",
              "      box-shadow: 0px 1px 3px 1px rgba(0, 0, 0, 0.15);\n",
              "      filter: drop-shadow(0px 1px 2px rgba(0, 0, 0, 0.3));\n",
              "      fill: #FFFFFF;\n",
              "    }\n",
              "  </style>\n",
              "\n",
              "      <script>\n",
              "        const buttonEl =\n",
              "          document.querySelector('#df-eb1ee1e3-e49f-4ff6-a89b-c3af527eca07 button.colab-df-convert');\n",
              "        buttonEl.style.display =\n",
              "          google.colab.kernel.accessAllowed ? 'block' : 'none';\n",
              "\n",
              "        async function convertToInteractive(key) {\n",
              "          const element = document.querySelector('#df-eb1ee1e3-e49f-4ff6-a89b-c3af527eca07');\n",
              "          const dataTable =\n",
              "            await google.colab.kernel.invokeFunction('convertToInteractive',\n",
              "                                                     [key], {});\n",
              "          if (!dataTable) return;\n",
              "\n",
              "          const docLinkHtml = 'Like what you see? Visit the ' +\n",
              "            '<a target=\"_blank\" href=https://colab.research.google.com/notebooks/data_table.ipynb>data table notebook</a>'\n",
              "            + ' to learn more about interactive tables.';\n",
              "          element.innerHTML = '';\n",
              "          dataTable['output_type'] = 'display_data';\n",
              "          await google.colab.output.renderOutput(dataTable, element);\n",
              "          const docLink = document.createElement('div');\n",
              "          docLink.innerHTML = docLinkHtml;\n",
              "          element.appendChild(docLink);\n",
              "        }\n",
              "      </script>\n",
              "    </div>\n",
              "  </div>\n",
              "  "
            ]
          },
          "metadata": {},
          "execution_count": 232
        }
      ]
    },
    {
      "cell_type": "markdown",
      "source": [
        "#####Column : Date"
      ],
      "metadata": {
        "id": "kpF53EFgqXwb"
      }
    },
    {
      "cell_type": "code",
      "source": [
        "df[[\"new_Date\", \"new_Date1\"]]= df[\"Date\"].str.split(\"/\",n=1, expand = True)"
      ],
      "metadata": {
        "id": "3O9_F0jfqW-Z"
      },
      "execution_count": 233,
      "outputs": []
    },
    {
      "cell_type": "code",
      "source": [
        "df.dropna(inplace=True)"
      ],
      "metadata": {
        "id": "YooGXkPa0Rys"
      },
      "execution_count": 234,
      "outputs": []
    },
    {
      "cell_type": "code",
      "source": [
        "df.drop([\"new_Date\", \"new_Date1\"], axis = 1, inplace = True)"
      ],
      "metadata": {
        "id": "hHzgz_OG4e6x"
      },
      "execution_count": 235,
      "outputs": []
    },
    {
      "cell_type": "code",
      "source": [
        "df['Date'] = pd.to_datetime(df['Date'], format='%d/%m/%Y')"
      ],
      "metadata": {
        "id": "P_eoVxzK5Mbu"
      },
      "execution_count": 236,
      "outputs": []
    },
    {
      "cell_type": "markdown",
      "source": [
        "#####Column : Expected Decision Date"
      ],
      "metadata": {
        "id": "sLoMpeuV4J2D"
      }
    },
    {
      "cell_type": "code",
      "source": [
        "df[[\"new__exp_Date\", \"new_exp_Date1\"]]= df[\"Expected Decision Date\"].str.split(\"/\",n=1, expand = True)"
      ],
      "metadata": {
        "id": "bpzRR0SB4Cs1"
      },
      "execution_count": 237,
      "outputs": []
    },
    {
      "cell_type": "code",
      "source": [
        "df.dropna(inplace = True)"
      ],
      "metadata": {
        "id": "mdGtUBzq42iO"
      },
      "execution_count": 238,
      "outputs": []
    },
    {
      "cell_type": "code",
      "source": [
        "df.drop([\"new__exp_Date\", \"new_exp_Date1\"], axis = 1, inplace = True)"
      ],
      "metadata": {
        "id": "e1gZY1pB414W"
      },
      "execution_count": 239,
      "outputs": []
    },
    {
      "cell_type": "code",
      "source": [
        "df['Expected Decision Date'] = pd.to_datetime(df['Expected Decision Date'], format='%d/%m/%Y')"
      ],
      "metadata": {
        "id": "6DmjBrmq5h4d"
      },
      "execution_count": 240,
      "outputs": []
    },
    {
      "cell_type": "markdown",
      "source": [
        "#####Column : Office_y"
      ],
      "metadata": {
        "id": "-Km58NJwqcnK"
      }
    },
    {
      "cell_type": "code",
      "source": [
        "df.drop(['Office_y'], axis=1, inplace =True)"
      ],
      "metadata": {
        "id": "5xYsTMiw0TLN"
      },
      "execution_count": 241,
      "outputs": []
    },
    {
      "cell_type": "markdown",
      "source": [
        "#####Column : Annual Revenue"
      ],
      "metadata": {
        "id": "RJb0gnGO6e86"
      }
    },
    {
      "cell_type": "code",
      "source": [
        "sns.boxplot(df[\"Annual Revenue\"])"
      ],
      "metadata": {
        "colab": {
          "base_uri": "https://localhost:8080/",
          "height": 0
        },
        "id": "GWWzynRcJMuF",
        "outputId": "127b5f60-3d91-4446-e2bb-232cf5c4fe91"
      },
      "execution_count": 242,
      "outputs": [
        {
          "output_type": "execute_result",
          "data": {
            "text/plain": [
              "<Axes: >"
            ]
          },
          "metadata": {},
          "execution_count": 242
        },
        {
          "output_type": "display_data",
          "data": {
            "text/plain": [
              "<Figure size 432x288 with 1 Axes>"
            ],
            "image/png": "[encoded data removed]"
          },
          "metadata": {
            "needs_background": "light"
          }
        }
      ]
    },
    {
      "cell_type": "code",
      "source": [
        "sns.histplot(df[\"Annual Revenue\"], kde = True)"
      ],
      "metadata": {
        "colab": {
          "base_uri": "https://localhost:8080/",
          "height": 0
        },
        "id": "JsUTS4FVJwP-",
        "outputId": "85ebcc19-166b-42a9-b76b-0c4cd86efc86"
      },
      "execution_count": 243,
      "outputs": [
        {
          "output_type": "execute_result",
          "data": {
            "text/plain": [
              "<Axes: xlabel='Annual Revenue', ylabel='Count'>"
            ]
          },
          "metadata": {},
          "execution_count": 243
        },
        {
          "output_type": "display_data",
          "data": {
            "text/plain": [
              "<Figure size 432x288 with 1 Axes>"
            ],
            "image/png": "[encoded data removed]"
          },
          "metadata": {
            "needs_background": "light"
          }
        }
      ]
    },
    {
      "cell_type": "code",
      "source": [
        "q3 = df[\"Annual Revenue\"].quantile(0.75)\n",
        "q1 = df[\"Annual Revenue\"].quantile(0.25)\n",
        "iqr = q3-q1\n",
        "upper = q3 + (1.5*iqr)\n",
        "lower = q1 - (1.5*iqr)\n",
        "\n",
        "for i in df[\"Annual Revenue\"]:\n",
        "  if i > upper:\n",
        "    df[\"Annual Revenue\"].replace(i,df[\"Annual Revenue\"].median(), inplace = True)\n",
        "# df.drop(df[(df[\"Annual Revenue\"]>upper)].index, inplace=True)"
      ],
      "metadata": {
        "id": "4o52aqX5JY6O"
      },
      "execution_count": 244,
      "outputs": []
    },
    {
      "cell_type": "markdown",
      "source": [
        "#####New Column : Time_Period"
      ],
      "metadata": {
        "id": "kpTY0slr64vS"
      }
    },
    {
      "cell_type": "code",
      "source": [
        "df[\"time_period\"] = df[\"Expected Decision Date\"] - df[\"Date\"]"
      ],
      "metadata": {
        "id": "6HIps-RX3tyB"
      },
      "execution_count": 245,
      "outputs": []
    },
    {
      "cell_type": "code",
      "source": [
        "days = []\n",
        "for i in df[\"time_period\"]:\n",
        "  days.append(str(i).split(\" \"))\n",
        "df[[\"days\", \"raw\", \"time\"]] = days\n",
        "\n",
        "Days=[]\n",
        "for i in df[\"days\"]:\n",
        "  Days.append(int(i))"
      ],
      "metadata": {
        "id": "NJqY2l7l-Vc6"
      },
      "execution_count": 246,
      "outputs": []
    },
    {
      "cell_type": "code",
      "source": [
        "df.drop([\"Date\", \"Expected Decision Date\", \"raw\", \"time\", \"time_period\"], axis = 1, inplace = True)"
      ],
      "metadata": {
        "id": "mWb8TwFZCo4V"
      },
      "execution_count": 247,
      "outputs": []
    },
    {
      "cell_type": "markdown",
      "source": [
        "#**EXPLORATORY DATA ANALYSIS**"
      ],
      "metadata": {
        "id": "NLgynvHFmYcy"
      }
    },
    {
      "cell_type": "code",
      "source": [
        "df.head()"
      ],
      "metadata": {
        "colab": {
          "base_uri": "https://localhost:8080/",
          "height": 206
        },
        "id": "5bJm2QNroZ60",
        "outputId": "71111fda-12d1-4727-c8e1-73198aa6f860"
      },
      "execution_count": 248,
      "outputs": [
        {
          "output_type": "execute_result",
          "data": {
            "text/plain": [
              "  Primary Producer                               Stage Name  \\\n",
              "0        Producer1  1-Met Client,Data Gather,Insurer Market   \n",
              "1        Producer1  1-Met Client,Data Gather,Insurer Market   \n",
              "2        Producer2  1-Met Client,Data Gather,Insurer Market   \n",
              "3        Producer2  1-Met Client,Data Gather,Insurer Market   \n",
              "4        Producer2     2-Client Presentation-Await Feedback   \n",
              "\n",
              "                  Account Name    Opportunity Name      Niche Affiliations  \\\n",
              "0  West Point Construction Ltd  Meeting 06/03/2019            Construction   \n",
              "1  West Point Construction Ltd  Meeting 06/03/2019            Construction   \n",
              "2         Newmor Group Limited         2019 Review  Commercial - All Other   \n",
              "3         Newmor Group Limited         2019 Review  Commercial - All Other   \n",
              "4                  Prohire Plc       Review - 2019          Transportation   \n",
              "\n",
              "   Annual Revenue  Office_x Acct ID days  \n",
              "0          5000.0  Office 1    A101  368  \n",
              "1          5000.0  Office 1    A101  368  \n",
              "2         10000.0  Office 2    A102  775  \n",
              "3         10000.0  Office 2    A102  775  \n",
              "4         10000.0  Office 2    A103  571  "
            ],
            "text/html": [
              "\n",
              "  <div id=\"df-b7e63a41-a841-4d42-834e-245c1dbed4d3\">\n",
              "    <div class=\"colab-df-container\">\n",
              "      <div>\n",
              "<style scoped>\n",
              "    .dataframe tbody tr th:only-of-type {\n",
              "        vertical-align: middle;\n",
              "    }\n",
              "\n",
              "    .dataframe tbody tr th {\n",
              "        vertical-align: top;\n",
              "    }\n",
              "\n",
              "    .dataframe thead th {\n",
              "        text-align: right;\n",
              "    }\n",
              "</style>\n",
              "<table border=\"1\" class=\"dataframe\">\n",
              "  <thead>\n",
              "    <tr style=\"text-align: right;\">\n",
              "      <th></th>\n",
              "      <th>Primary Producer</th>\n",
              "      <th>Stage Name</th>\n",
              "      <th>Account Name</th>\n",
              "      <th>Opportunity Name</th>\n",
              "      <th>Niche Affiliations</th>\n",
              "      <th>Annual Revenue</th>\n",
              "      <th>Office_x</th>\n",
              "      <th>Acct ID</th>\n",
              "      <th>days</th>\n",
              "    </tr>\n",
              "  </thead>\n",
              "  <tbody>\n",
              "    <tr>\n",
              "      <th>0</th>\n",
              "      <td>Producer1</td>\n",
              "      <td>1-Met Client,Data Gather,Insurer Market</td>\n",
              "      <td>West Point Construction Ltd</td>\n",
              "      <td>Meeting 06/03/2019</td>\n",
              "      <td>Construction</td>\n",
              "      <td>5000.0</td>\n",
              "      <td>Office 1</td>\n",
              "      <td>A101</td>\n",
              "      <td>368</td>\n",
              "    </tr>\n",
              "    <tr>\n",
              "      <th>1</th>\n",
              "      <td>Producer1</td>\n",
              "      <td>1-Met Client,Data Gather,Insurer Market</td>\n",
              "      <td>West Point Construction Ltd</td>\n",
              "      <td>Meeting 06/03/2019</td>\n",
              "      <td>Construction</td>\n",
              "      <td>5000.0</td>\n",
              "      <td>Office 1</td>\n",
              "      <td>A101</td>\n",
              "      <td>368</td>\n",
              "    </tr>\n",
              "    <tr>\n",
              "      <th>2</th>\n",
              "      <td>Producer2</td>\n",
              "      <td>1-Met Client,Data Gather,Insurer Market</td>\n",
              "      <td>Newmor Group Limited</td>\n",
              "      <td>2019 Review</td>\n",
              "      <td>Commercial - All Other</td>\n",
              "      <td>10000.0</td>\n",
              "      <td>Office 2</td>\n",
              "      <td>A102</td>\n",
              "      <td>775</td>\n",
              "    </tr>\n",
              "    <tr>\n",
              "      <th>3</th>\n",
              "      <td>Producer2</td>\n",
              "      <td>1-Met Client,Data Gather,Insurer Market</td>\n",
              "      <td>Newmor Group Limited</td>\n",
              "      <td>2019 Review</td>\n",
              "      <td>Commercial - All Other</td>\n",
              "      <td>10000.0</td>\n",
              "      <td>Office 2</td>\n",
              "      <td>A102</td>\n",
              "      <td>775</td>\n",
              "    </tr>\n",
              "    <tr>\n",
              "      <th>4</th>\n",
              "      <td>Producer2</td>\n",
              "      <td>2-Client Presentation-Await Feedback</td>\n",
              "      <td>Prohire Plc</td>\n",
              "      <td>Review - 2019</td>\n",
              "      <td>Transportation</td>\n",
              "      <td>10000.0</td>\n",
              "      <td>Office 2</td>\n",
              "      <td>A103</td>\n",
              "      <td>571</td>\n",
              "    </tr>\n",
              "  </tbody>\n",
              "</table>\n",
              "</div>\n",
              "      <button class=\"colab-df-convert\" onclick=\"convertToInteractive('df-b7e63a41-a841-4d42-834e-245c1dbed4d3')\"\n",
              "              title=\"Convert this dataframe to an interactive table.\"\n",
              "              style=\"display:none;\">\n",
              "        \n",
              "  <svg xmlns=\"http://www.w3.org/2000/svg\" height=\"24px\"viewBox=\"0 0 24 24\"\n",
              "       width=\"24px\">\n",
              "    <path d=\"M0 0h24v24H0V0z\" fill=\"none\"/>\n",
              "    <path d=\"M18.56 5.44l.94 2.06.94-2.06 2.06-.94-2.06-.94-.94-2.06-.94 2.06-2.06.94zm-11 1L8.5 8.5l.94-2.06 2.06-.94-2.06-.94L8.5 2.5l-.94 2.06-2.06.94zm10 10l.94 2.06.94-2.06 2.06-.94-2.06-.94-.94-2.06-.94 2.06-2.06.94z\"/><path d=\"M17.41 7.96l-1.37-1.37c-.4-.4-.92-.59-1.43-.59-.52 0-1.04.2-1.43.59L10.3 9.45l-7.72 7.72c-.78.78-.78 2.05 0 2.83L4 21.41c.39.39.9.59 1.41.59.51 0 1.02-.2 1.41-.59l7.78-7.78 2.81-2.81c.8-.78.8-2.07 0-2.86zM5.41 20L4 18.59l7.72-7.72 1.47 1.35L5.41 20z\"/>\n",
              "  </svg>\n",
              "      </button>\n",
              "      \n",
              "  <style>\n",
              "    .colab-df-container {\n",
              "      display:flex;\n",
              "      flex-wrap:wrap;\n",
              "      gap: 12px;\n",
              "    }\n",
              "\n",
              "    .colab-df-convert {\n",
              "      background-color: #E8F0FE;\n",
              "      border: none;\n",
              "      border-radius: 50%;\n",
              "      cursor: pointer;\n",
              "      display: none;\n",
              "      fill: #1967D2;\n",
              "      height: 32px;\n",
              "      padding: 0 0 0 0;\n",
              "      width: 32px;\n",
              "    }\n",
              "\n",
              "    .colab-df-convert:hover {\n",
              "      background-color: #E2EBFA;\n",
              "      box-shadow: 0px 1px 2px rgba(60, 64, 67, 0.3), 0px 1px 3px 1px rgba(60, 64, 67, 0.15);\n",
              "      fill: #174EA6;\n",
              "    }\n",
              "\n",
              "    [theme=dark] .colab-df-convert {\n",
              "      background-color: #3B4455;\n",
              "      fill: #D2E3FC;\n",
              "    }\n",
              "\n",
              "    [theme=dark] .colab-df-convert:hover {\n",
              "      background-color: #434B5C;\n",
              "      box-shadow: 0px 1px 3px 1px rgba(0, 0, 0, 0.15);\n",
              "      filter: drop-shadow(0px 1px 2px rgba(0, 0, 0, 0.3));\n",
              "      fill: #FFFFFF;\n",
              "    }\n",
              "  </style>\n",
              "\n",
              "      <script>\n",
              "        const buttonEl =\n",
              "          document.querySelector('#df-b7e63a41-a841-4d42-834e-245c1dbed4d3 button.colab-df-convert');\n",
              "        buttonEl.style.display =\n",
              "          google.colab.kernel.accessAllowed ? 'block' : 'none';\n",
              "\n",
              "        async function convertToInteractive(key) {\n",
              "          const element = document.querySelector('#df-b7e63a41-a841-4d42-834e-245c1dbed4d3');\n",
              "          const dataTable =\n",
              "            await google.colab.kernel.invokeFunction('convertToInteractive',\n",
              "                                                     [key], {});\n",
              "          if (!dataTable) return;\n",
              "\n",
              "          const docLinkHtml = 'Like what you see? Visit the ' +\n",
              "            '<a target=\"_blank\" href=https://colab.research.google.com/notebooks/data_table.ipynb>data table notebook</a>'\n",
              "            + ' to learn more about interactive tables.';\n",
              "          element.innerHTML = '';\n",
              "          dataTable['output_type'] = 'display_data';\n",
              "          await google.colab.output.renderOutput(dataTable, element);\n",
              "          const docLink = document.createElement('div');\n",
              "          docLink.innerHTML = docLinkHtml;\n",
              "          element.appendChild(docLink);\n",
              "        }\n",
              "      </script>\n",
              "    </div>\n",
              "  </div>\n",
              "  "
            ]
          },
          "metadata": {},
          "execution_count": 248
        }
      ]
    },
    {
      "cell_type": "code",
      "source": [
        "print(df[[\"Primary Producer\"]].groupby(df[\"Office_x\"]).count())\n",
        "\n",
        "data1 = df[[\"Primary Producer\", \"Office_x\"]].groupby(['Office_x'], as_index=False).count()\n",
        "sns.barplot(y = \"Primary Producer\", x = \"Office_x\", data = data1)\n",
        "plt.title(\"Annual Revenue based on Production\")\n",
        "plt.xlabel(\"Producer\")\n",
        "plt.ylabel(\"Annual Revenue\")\n",
        "plt.show()"
      ],
      "metadata": {
        "colab": {
          "base_uri": "https://localhost:8080/",
          "height": 382
        },
        "id": "SXFJH7GnHcbj",
        "outputId": "521b8c1e-e458-4c99-d4dc-b691e4cf8309"
      },
      "execution_count": 274,
      "outputs": [
        {
          "output_type": "stream",
          "name": "stdout",
          "text": [
            "          Primary Producer\n",
            "Office_x                  \n",
            "Office 1                29\n",
            "Office 2                62\n",
            "Office 3                62\n"
          ]
        },
        {
          "output_type": "display_data",
          "data": {
            "text/plain": [
              "<Figure size 432x288 with 1 Axes>"
            ],
            "image/png": "[encoded data removed]"
          },
          "metadata": {
            "needs_background": "light"
          }
        }
      ]
    },
    {
      "cell_type": "code",
      "source": [
        "print(df[\"Annual Revenue\"].groupby(df[\"Primary Producer\"]).mean())\n",
        "\n",
        "exp1 = df[[\"Annual Revenue\", \"Primary Producer\"]].groupby([\"Primary Producer\"], as_index=False).mean()\n",
        "sns.barplot(x = \"Primary Producer\", y = \"Annual Revenue\", data = exp1)\n",
        "plt.title(\"Annual Revenue based on Production\")\n",
        "plt.xlabel(\"Producer\")\n",
        "plt.ylabel(\"Annual Revenue\")\n",
        "plt.show()"
      ],
      "metadata": {
        "colab": {
          "base_uri": "https://localhost:8080/",
          "height": 417
        },
        "id": "gGaqXJXl0TIJ",
        "outputId": "ee3c2f7a-1ca4-456f-9461-f1854637c527"
      },
      "execution_count": 279,
      "outputs": [
        {
          "output_type": "stream",
          "name": "stdout",
          "text": [
            "Primary Producer\n",
            "Producer1    5000.000000\n",
            "Producer2    6619.047619\n",
            "Producer3    4933.870968\n",
            "Producer4    4912.798519\n",
            "Producer5    7287.772195\n",
            "Name: Annual Revenue, dtype: float64\n"
          ]
        },
        {
          "output_type": "display_data",
          "data": {
            "text/plain": [
              "<Figure size 432x288 with 1 Axes>"
            ],
            "image/png": "[encoded data removed]"
          },
          "metadata": {
            "needs_background": "light"
          }
        }
      ]
    },
    {
      "cell_type": "code",
      "source": [
        "print(df[[\"Stage Name\", \"Account Name\", \"Opportunity Name\", \"Niche Affiliations\"]].groupby(df[\"Primary Producer\"]).count())\n",
        "\n",
        "data2 = df[[\"Stage Name\", \"Account Name\", \"Opportunity Name\", \"Niche Affiliations\", \"Office_x\"]].groupby(['Office_x'], as_index=False).count()\n",
        "sns.barplot(y = \"Stage Name\", x = \"Office_x\", data = data2)\n",
        "plt.title(\"Annual Revenue based on Production\")\n",
        "plt.xlabel(\"Producer\")\n",
        "plt.ylabel(\"Annual Revenue\")\n",
        "plt.show()"
      ],
      "metadata": {
        "colab": {
          "base_uri": "https://localhost:8080/",
          "height": 555
        },
        "id": "OxM7fiqNOWj2",
        "outputId": "78e0bc2c-e6cc-4ff3-8473-48081cb26ad4"
      },
      "execution_count": 291,
      "outputs": [
        {
          "output_type": "stream",
          "name": "stdout",
          "text": [
            "                  Stage Name  Account Name  Opportunity Name  \\\n",
            "Primary Producer                                               \n",
            "Producer1                  2             2                 2   \n",
            "Producer2                 21            21                21   \n",
            "Producer3                 62            62                62   \n",
            "Producer4                 27            27                27   \n",
            "Producer5                 41            41                41   \n",
            "\n",
            "                  Niche Affiliations  \n",
            "Primary Producer                      \n",
            "Producer1                          2  \n",
            "Producer2                         21  \n",
            "Producer3                         62  \n",
            "Producer4                         27  \n",
            "Producer5                         41  \n"
          ]
        },
        {
          "output_type": "display_data",
          "data": {
            "text/plain": [
              "<Figure size 432x288 with 1 Axes>"
            ],
            "image/png": "[encoded data removed]"
          },
          "metadata": {
            "needs_background": "light"
          }
        }
      ]
    },
    {
      "cell_type": "code",
      "source": [
        "df[[\"Stage Name\", \"Account Name\", \"Opportunity Name\", \"Niche Affiliations\"]].groupby(df[\"Office_x\"]).count()"
      ],
      "metadata": {
        "colab": {
          "base_uri": "https://localhost:8080/",
          "height": 175
        },
        "id": "x5qMx1xRHVjf",
        "outputId": "d47d421d-6111-4dae-8da1-1503d67afaef"
      },
      "execution_count": 206,
      "outputs": [
        {
          "output_type": "execute_result",
          "data": {
            "text/plain": [
              "          Stage Name  Account Name  Opportunity Name  Niche Affiliations\n",
              "Office_x                                                                \n",
              "Office 1          29            29                29                  29\n",
              "Office 2          62            62                62                  62\n",
              "Office 3          62            62                62                  62"
            ],
            "text/html": [
              "\n",
              "  <div id=\"df-64b552eb-e707-4f3e-8ee7-d7231301d995\">\n",
              "    <div class=\"colab-df-container\">\n",
              "      <div>\n",
              "<style scoped>\n",
              "    .dataframe tbody tr th:only-of-type {\n",
              "        vertical-align: middle;\n",
              "    }\n",
              "\n",
              "    .dataframe tbody tr th {\n",
              "        vertical-align: top;\n",
              "    }\n",
              "\n",
              "    .dataframe thead th {\n",
              "        text-align: right;\n",
              "    }\n",
              "</style>\n",
              "<table border=\"1\" class=\"dataframe\">\n",
              "  <thead>\n",
              "    <tr style=\"text-align: right;\">\n",
              "      <th></th>\n",
              "      <th>Stage Name</th>\n",
              "      <th>Account Name</th>\n",
              "      <th>Opportunity Name</th>\n",
              "      <th>Niche Affiliations</th>\n",
              "    </tr>\n",
              "    <tr>\n",
              "      <th>Office_x</th>\n",
              "      <th></th>\n",
              "      <th></th>\n",
              "      <th></th>\n",
              "      <th></th>\n",
              "    </tr>\n",
              "  </thead>\n",
              "  <tbody>\n",
              "    <tr>\n",
              "      <th>Office 1</th>\n",
              "      <td>29</td>\n",
              "      <td>29</td>\n",
              "      <td>29</td>\n",
              "      <td>29</td>\n",
              "    </tr>\n",
              "    <tr>\n",
              "      <th>Office 2</th>\n",
              "      <td>62</td>\n",
              "      <td>62</td>\n",
              "      <td>62</td>\n",
              "      <td>62</td>\n",
              "    </tr>\n",
              "    <tr>\n",
              "      <th>Office 3</th>\n",
              "      <td>62</td>\n",
              "      <td>62</td>\n",
              "      <td>62</td>\n",
              "      <td>62</td>\n",
              "    </tr>\n",
              "  </tbody>\n",
              "</table>\n",
              "</div>\n",
              "      <button class=\"colab-df-convert\" onclick=\"convertToInteractive('df-64b552eb-e707-4f3e-8ee7-d7231301d995')\"\n",
              "              title=\"Convert this dataframe to an interactive table.\"\n",
              "              style=\"display:none;\">\n",
              "        \n",
              "  <svg xmlns=\"http://www.w3.org/2000/svg\" height=\"24px\"viewBox=\"0 0 24 24\"\n",
              "       width=\"24px\">\n",
              "    <path d=\"M0 0h24v24H0V0z\" fill=\"none\"/>\n",
              "    <path d=\"M18.56 5.44l.94 2.06.94-2.06 2.06-.94-2.06-.94-.94-2.06-.94 2.06-2.06.94zm-11 1L8.5 8.5l.94-2.06 2.06-.94-2.06-.94L8.5 2.5l-.94 2.06-2.06.94zm10 10l.94 2.06.94-2.06 2.06-.94-2.06-.94-.94-2.06-.94 2.06-2.06.94z\"/><path d=\"M17.41 7.96l-1.37-1.37c-.4-.4-.92-.59-1.43-.59-.52 0-1.04.2-1.43.59L10.3 9.45l-7.72 7.72c-.78.78-.78 2.05 0 2.83L4 21.41c.39.39.9.59 1.41.59.51 0 1.02-.2 1.41-.59l7.78-7.78 2.81-2.81c.8-.78.8-2.07 0-2.86zM5.41 20L4 18.59l7.72-7.72 1.47 1.35L5.41 20z\"/>\n",
              "  </svg>\n",
              "      </button>\n",
              "      \n",
              "  <style>\n",
              "    .colab-df-container {\n",
              "      display:flex;\n",
              "      flex-wrap:wrap;\n",
              "      gap: 12px;\n",
              "    }\n",
              "\n",
              "    .colab-df-convert {\n",
              "      background-color: #E8F0FE;\n",
              "      border: none;\n",
              "      border-radius: 50%;\n",
              "      cursor: pointer;\n",
              "      display: none;\n",
              "      fill: #1967D2;\n",
              "      height: 32px;\n",
              "      padding: 0 0 0 0;\n",
              "      width: 32px;\n",
              "    }\n",
              "\n",
              "    .colab-df-convert:hover {\n",
              "      background-color: #E2EBFA;\n",
              "      box-shadow: 0px 1px 2px rgba(60, 64, 67, 0.3), 0px 1px 3px 1px rgba(60, 64, 67, 0.15);\n",
              "      fill: #174EA6;\n",
              "    }\n",
              "\n",
              "    [theme=dark] .colab-df-convert {\n",
              "      background-color: #3B4455;\n",
              "      fill: #D2E3FC;\n",
              "    }\n",
              "\n",
              "    [theme=dark] .colab-df-convert:hover {\n",
              "      background-color: #434B5C;\n",
              "      box-shadow: 0px 1px 3px 1px rgba(0, 0, 0, 0.15);\n",
              "      filter: drop-shadow(0px 1px 2px rgba(0, 0, 0, 0.3));\n",
              "      fill: #FFFFFF;\n",
              "    }\n",
              "  </style>\n",
              "\n",
              "      <script>\n",
              "        const buttonEl =\n",
              "          document.querySelector('#df-64b552eb-e707-4f3e-8ee7-d7231301d995 button.colab-df-convert');\n",
              "        buttonEl.style.display =\n",
              "          google.colab.kernel.accessAllowed ? 'block' : 'none';\n",
              "\n",
              "        async function convertToInteractive(key) {\n",
              "          const element = document.querySelector('#df-64b552eb-e707-4f3e-8ee7-d7231301d995');\n",
              "          const dataTable =\n",
              "            await google.colab.kernel.invokeFunction('convertToInteractive',\n",
              "                                                     [key], {});\n",
              "          if (!dataTable) return;\n",
              "\n",
              "          const docLinkHtml = 'Like what you see? Visit the ' +\n",
              "            '<a target=\"_blank\" href=https://colab.research.google.com/notebooks/data_table.ipynb>data table notebook</a>'\n",
              "            + ' to learn more about interactive tables.';\n",
              "          element.innerHTML = '';\n",
              "          dataTable['output_type'] = 'display_data';\n",
              "          await google.colab.output.renderOutput(dataTable, element);\n",
              "          const docLink = document.createElement('div');\n",
              "          docLink.innerHTML = docLinkHtml;\n",
              "          element.appendChild(docLink);\n",
              "        }\n",
              "      </script>\n",
              "    </div>\n",
              "  </div>\n",
              "  "
            ]
          },
          "metadata": {},
          "execution_count": 206
        }
      ]
    },
    {
      "cell_type": "code",
      "source": [
        "print(df[[\"Annual Revenue\", \"Office_x\"]].groupby([\"Office_x\"]).mean())\n",
        "\n",
        "exp2 = df[[\"Annual Revenue\", \"Office_x\"]].groupby([\"Office_x\"], as_index=False).mean()\n",
        "sns.barplot(x = \"Office_x\", y = \"Annual Revenue\", data = exp2)\n",
        "plt.title(\"Annual Revenue based on Production\")\n",
        "plt.xlabel(\"Producer\")\n",
        "plt.ylabel(\"Annual Revenue\")\n",
        "plt.show()"
      ],
      "metadata": {
        "colab": {
          "base_uri": "https://localhost:8080/",
          "height": 382
        },
        "id": "4BpU3NKfF3O6",
        "outputId": "f2f9d712-1815-4879-d263-ec6ac29fce14"
      },
      "execution_count": 290,
      "outputs": [
        {
          "output_type": "stream",
          "name": "stdout",
          "text": [
            "          Annual Revenue\n",
            "Office_x                \n",
            "Office 1     4918.812414\n",
            "Office 2     7061.268710\n",
            "Office 3     4933.870968\n"
          ]
        },
        {
          "output_type": "display_data",
          "data": {
            "text/plain": [
              "<Figure size 432x288 with 1 Axes>"
            ],
            "image/png": "[encoded data removed]"
          },
          "metadata": {
            "needs_background": "light"
          }
        }
      ]
    },
    {
      "cell_type": "code",
      "source": [
        "plt.figure(figsize=(30,10))\n",
        "sns.scatterplot(y = df['Annual Revenue'],x = (df[\"days\"]), hue = df[\"Office_x\"], size = df[\"Primary Producer\"])"
      ],
      "metadata": {
        "id": "hKzsVzIW48Ze",
        "colab": {
          "base_uri": "https://localhost:8080/",
          "height": 623
        },
        "outputId": "4bbbfdcb-3d7f-4fc6-9b20-912df7239969"
      },
      "execution_count": 193,
      "outputs": [
        {
          "output_type": "execute_result",
          "data": {
            "text/plain": [
              "<Axes: xlabel='days', ylabel='Annual Revenue'>"
            ]
          },
          "metadata": {},
          "execution_count": 193
        },
        {
          "output_type": "display_data",
          "data": {
            "text/plain": [
              "<Figure size 2160x720 with 1 Axes>"
            ],
            "image/png": "[encoded data removed]"
          },
          "metadata": {
            "needs_background": "light"
          }
        }
      ]
    }
  ]
}