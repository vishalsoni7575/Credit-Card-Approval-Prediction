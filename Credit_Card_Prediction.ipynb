{
  "nbformat": 4,
  "nbformat_minor": 0,
  "metadata": {
    "colab": {
      "provenance": [],
      "collapsed_sections": [
        "RVw5MUNwSm7k",
        "xp4eHvjRcMkd",
        "AAG0EmJaAIKj",
        "Tf-FrQPvgrhE",
        "lemo8sTXAg_a",
        "3njNmurMiMBb",
        "3WgNku-ZcYA3",
        "4_wPuim2FIin",
        "xJdZV2cjFe8x",
        "zfrLMKlIGKQm",
        "ypsJjej6ZoKu",
        "MqQ5c0TOZpne",
        "Rv-JIQ7TZwYX",
        "JPF_dfqqaNJp",
        "OJH1FG-SaTXG",
        "qZYsilmzvTwC",
        "ZFGzOZYyZ_lH",
        "mEl8SONedUdN",
        "fhnuCbRRq1W0",
        "1r8hMduhPli_",
        "ILOSoyCrcpHs",
        "6SzIGXozCcsZ",
        "d5WRdRmsCllX",
        "RdQsSfX4doaV",
        "QUPmVEMWehFt",
        "yQPdrbJWdjtv",
        "g85hq2g8piWq",
        "Eaa5JUjuGK1b",
        "YfeXZAPCk64L",
        "o2OY3eM6o6BN",
        "nrbBNH95pEvT",
        "QglT7jL6J_LV",
        "uhxoRW-qpTwn",
        "3xg7bJb0KRwS",
        "RY8BORdgpYrF",
        "f9hGemvSpbiH",
        "6VdhZSqYKj7w",
        "RIBuS217KFlj",
        "rSN7lTuSQ566",
        "GJNJosgaQ2ML",
        "pr1KKQF3MOME"
      ]
    },
    "kernelspec": {
      "name": "python3",
      "display_name": "Python 3"
    },
    "language_info": {
      "name": "python"
    }
  },
  "cells": [
    {
      "cell_type": "markdown",
      "source": [
        "#**GATHERING DATA**"
      ],
      "metadata": {
        "id": "RVw5MUNwSm7k"
      }
    },
    {
      "cell_type": "code",
      "execution_count": 1,
      "metadata": {
        "id": "EhRU7r6xl5tM"
      },
      "outputs": [],
      "source": [
        "import pandas as pd   #Library for manipualtion and filtering the data.\n",
        "import numpy as np  #Library for scientific computing.\n",
        "import matplotlib.pyplot as plt  #Library for Data visualization.\n",
        "import seaborn as sns \n",
        "import warnings\n",
        "warnings.filterwarnings('ignore')\n",
        "warnings.simplefilter('ignore')"
      ]
    },
    {
      "cell_type": "code",
      "source": [
        "#Importing Credit Card dataset using read_csv in pandas.\n",
        "df_credit_card = pd.read_csv(\"Credit_card.csv\")\n",
        "\n",
        "#Dataset of Credit Card has 1548 'records' and 18 'features'.\n",
        "df_credit_card.shape"
      ],
      "metadata": {
        "id": "iNPSylSbmBC5",
        "colab": {
          "base_uri": "https://localhost:8080/"
        },
        "outputId": "efedd8fe-034b-43df-c495-bcb986e0dc0a"
      },
      "execution_count": 2,
      "outputs": [
        {
          "output_type": "execute_result",
          "data": {
            "text/plain": [
              "(1548, 18)"
            ]
          },
          "metadata": {},
          "execution_count": 2
        }
      ]
    },
    {
      "cell_type": "code",
      "source": [
        "#Importing Credit Card Label dataset using read_csv in pandas.\n",
        "df_label = pd.read_csv(\"Credit_card_label.csv\")\n",
        "\n",
        "#Dataset of Credit Card labels has 1548 'records' and 2 'features'.\n",
        "df_label.shape"
      ],
      "metadata": {
        "id": "Q3Btbf2F_rgx",
        "colab": {
          "base_uri": "https://localhost:8080/"
        },
        "outputId": "5ada2732-4b69-47fd-cf27-c6e04720ae5f"
      },
      "execution_count": 3,
      "outputs": [
        {
          "output_type": "execute_result",
          "data": {
            "text/plain": [
              "(1548, 2)"
            ]
          },
          "metadata": {},
          "execution_count": 3
        }
      ]
    },
    {
      "cell_type": "code",
      "source": [
        "#Combining common datset using merge on \"Ind_ID\" column.\n",
        "df = pd.merge(df_credit_card, df_label, on='Ind_ID', how='inner')\n",
        "\n",
        "#Dataset of Credit Card 1548 'records' and 19 'features'.\n",
        "df.shape"
      ],
      "metadata": {
        "id": "Q2fE9PNf_u4H",
        "colab": {
          "base_uri": "https://localhost:8080/"
        },
        "outputId": "fa5185cf-d0c3-4938-be19-875555015d82"
      },
      "execution_count": 4,
      "outputs": [
        {
          "output_type": "execute_result",
          "data": {
            "text/plain": [
              "(1548, 19)"
            ]
          },
          "metadata": {},
          "execution_count": 4
        }
      ]
    },
    {
      "cell_type": "markdown",
      "source": [
        "#**DATA PREPARATION**"
      ],
      "metadata": {
        "id": "xp4eHvjRcMkd"
      }
    },
    {
      "cell_type": "markdown",
      "source": [
        "###Data Pre-Processing"
      ],
      "metadata": {
        "id": "AAG0EmJaAIKj"
      }
    },
    {
      "cell_type": "code",
      "source": [
        "#\"head()\" used to get first 5 rows of dataset.\n",
        "df.head()"
      ],
      "metadata": {
        "colab": {
          "base_uri": "https://localhost:8080/",
          "height": 0
        },
        "id": "EalHmDSMmBWa",
        "outputId": "c476dce7-adaf-4bab-9c0a-8e8d07910f36"
      },
      "execution_count": 5,
      "outputs": [
        {
          "output_type": "execute_result",
          "data": {
            "text/plain": [
              "    Ind_ID GENDER Car_Owner Propert_Owner  CHILDREN  Annual_income  \\\n",
              "0  5008827      M         Y             Y         0       180000.0   \n",
              "1  5009744      F         Y             N         0       315000.0   \n",
              "2  5009746      F         Y             N         0       315000.0   \n",
              "3  5009749      F         Y             N         0            NaN   \n",
              "4  5009752      F         Y             N         0       315000.0   \n",
              "\n",
              "            Type_Income         EDUCATION Marital_status       Housing_type  \\\n",
              "0             Pensioner  Higher education        Married  House / apartment   \n",
              "1  Commercial associate  Higher education        Married  House / apartment   \n",
              "2  Commercial associate  Higher education        Married  House / apartment   \n",
              "3  Commercial associate  Higher education        Married  House / apartment   \n",
              "4  Commercial associate  Higher education        Married  House / apartment   \n",
              "\n",
              "   Birthday_count  Employed_days  Mobile_phone  Work_Phone  Phone  EMAIL_ID  \\\n",
              "0        -18772.0         365243             1           0      0         0   \n",
              "1        -13557.0           -586             1           1      1         0   \n",
              "2             NaN           -586             1           1      1         0   \n",
              "3        -13557.0           -586             1           1      1         0   \n",
              "4        -13557.0           -586             1           1      1         0   \n",
              "\n",
              "  Type_Occupation  Family_Members  label  \n",
              "0             NaN               2      1  \n",
              "1             NaN               2      1  \n",
              "2             NaN               2      1  \n",
              "3             NaN               2      1  \n",
              "4             NaN               2      1  "
            ],
            "text/html": [
              "\n",
              "  <div id=\"df-b3947d34-a24d-4c81-b54d-b5e09f7685ec\">\n",
              "    <div class=\"colab-df-container\">\n",
              "      <div>\n",
              "<style scoped>\n",
              "    .dataframe tbody tr th:only-of-type {\n",
              "        vertical-align: middle;\n",
              "    }\n",
              "\n",
              "    .dataframe tbody tr th {\n",
              "        vertical-align: top;\n",
              "    }\n",
              "\n",
              "    .dataframe thead th {\n",
              "        text-align: right;\n",
              "    }\n",
              "</style>\n",
              "<table border=\"1\" class=\"dataframe\">\n",
              "  <thead>\n",
              "    <tr style=\"text-align: right;\">\n",
              "      <th></th>\n",
              "      <th>Ind_ID</th>\n",
              "      <th>GENDER</th>\n",
              "      <th>Car_Owner</th>\n",
              "      <th>Propert_Owner</th>\n",
              "      <th>CHILDREN</th>\n",
              "      <th>Annual_income</th>\n",
              "      <th>Type_Income</th>\n",
              "      <th>EDUCATION</th>\n",
              "      <th>Marital_status</th>\n",
              "      <th>Housing_type</th>\n",
              "      <th>Birthday_count</th>\n",
              "      <th>Employed_days</th>\n",
              "      <th>Mobile_phone</th>\n",
              "      <th>Work_Phone</th>\n",
              "      <th>Phone</th>\n",
              "      <th>EMAIL_ID</th>\n",
              "      <th>Type_Occupation</th>\n",
              "      <th>Family_Members</th>\n",
              "      <th>label</th>\n",
              "    </tr>\n",
              "  </thead>\n",
              "  <tbody>\n",
              "    <tr>\n",
              "      <th>0</th>\n",
              "      <td>5008827</td>\n",
              "      <td>M</td>\n",
              "      <td>Y</td>\n",
              "      <td>Y</td>\n",
              "      <td>0</td>\n",
              "      <td>180000.0</td>\n",
              "      <td>Pensioner</td>\n",
              "      <td>Higher education</td>\n",
              "      <td>Married</td>\n",
              "      <td>House / apartment</td>\n",
              "      <td>-18772.0</td>\n",
              "      <td>365243</td>\n",
              "      <td>1</td>\n",
              "      <td>0</td>\n",
              "      <td>0</td>\n",
              "      <td>0</td>\n",
              "      <td>NaN</td>\n",
              "      <td>2</td>\n",
              "      <td>1</td>\n",
              "    </tr>\n",
              "    <tr>\n",
              "      <th>1</th>\n",
              "      <td>5009744</td>\n",
              "      <td>F</td>\n",
              "      <td>Y</td>\n",
              "      <td>N</td>\n",
              "      <td>0</td>\n",
              "      <td>315000.0</td>\n",
              "      <td>Commercial associate</td>\n",
              "      <td>Higher education</td>\n",
              "      <td>Married</td>\n",
              "      <td>House / apartment</td>\n",
              "      <td>-13557.0</td>\n",
              "      <td>-586</td>\n",
              "      <td>1</td>\n",
              "      <td>1</td>\n",
              "      <td>1</td>\n",
              "      <td>0</td>\n",
              "      <td>NaN</td>\n",
              "      <td>2</td>\n",
              "      <td>1</td>\n",
              "    </tr>\n",
              "    <tr>\n",
              "      <th>2</th>\n",
              "      <td>5009746</td>\n",
              "      <td>F</td>\n",
              "      <td>Y</td>\n",
              "      <td>N</td>\n",
              "      <td>0</td>\n",
              "      <td>315000.0</td>\n",
              "      <td>Commercial associate</td>\n",
              "      <td>Higher education</td>\n",
              "      <td>Married</td>\n",
              "      <td>House / apartment</td>\n",
              "      <td>NaN</td>\n",
              "      <td>-586</td>\n",
              "      <td>1</td>\n",
              "      <td>1</td>\n",
              "      <td>1</td>\n",
              "      <td>0</td>\n",
              "      <td>NaN</td>\n",
              "      <td>2</td>\n",
              "      <td>1</td>\n",
              "    </tr>\n",
              "    <tr>\n",
              "      <th>3</th>\n",
              "      <td>5009749</td>\n",
              "      <td>F</td>\n",
              "      <td>Y</td>\n",
              "      <td>N</td>\n",
              "      <td>0</td>\n",
              "      <td>NaN</td>\n",
              "      <td>Commercial associate</td>\n",
              "      <td>Higher education</td>\n",
              "      <td>Married</td>\n",
              "      <td>House / apartment</td>\n",
              "      <td>-13557.0</td>\n",
              "      <td>-586</td>\n",
              "      <td>1</td>\n",
              "      <td>1</td>\n",
              "      <td>1</td>\n",
              "      <td>0</td>\n",
              "      <td>NaN</td>\n",
              "      <td>2</td>\n",
              "      <td>1</td>\n",
              "    </tr>\n",
              "    <tr>\n",
              "      <th>4</th>\n",
              "      <td>5009752</td>\n",
              "      <td>F</td>\n",
              "      <td>Y</td>\n",
              "      <td>N</td>\n",
              "      <td>0</td>\n",
              "      <td>315000.0</td>\n",
              "      <td>Commercial associate</td>\n",
              "      <td>Higher education</td>\n",
              "      <td>Married</td>\n",
              "      <td>House / apartment</td>\n",
              "      <td>-13557.0</td>\n",
              "      <td>-586</td>\n",
              "      <td>1</td>\n",
              "      <td>1</td>\n",
              "      <td>1</td>\n",
              "      <td>0</td>\n",
              "      <td>NaN</td>\n",
              "      <td>2</td>\n",
              "      <td>1</td>\n",
              "    </tr>\n",
              "  </tbody>\n",
              "</table>\n",
              "</div>\n",
              "      <button class=\"colab-df-convert\" onclick=\"convertToInteractive('df-b3947d34-a24d-4c81-b54d-b5e09f7685ec')\"\n",
              "              title=\"Convert this dataframe to an interactive table.\"\n",
              "              style=\"display:none;\">\n",
              "        \n",
              "  <svg xmlns=\"http://www.w3.org/2000/svg\" height=\"24px\"viewBox=\"0 0 24 24\"\n",
              "       width=\"24px\">\n",
              "    <path d=\"M0 0h24v24H0V0z\" fill=\"none\"/>\n",
              "    <path d=\"M18.56 5.44l.94 2.06.94-2.06 2.06-.94-2.06-.94-.94-2.06-.94 2.06-2.06.94zm-11 1L8.5 8.5l.94-2.06 2.06-.94-2.06-.94L8.5 2.5l-.94 2.06-2.06.94zm10 10l.94 2.06.94-2.06 2.06-.94-2.06-.94-.94-2.06-.94 2.06-2.06.94z\"/><path d=\"M17.41 7.96l-1.37-1.37c-.4-.4-.92-.59-1.43-.59-.52 0-1.04.2-1.43.59L10.3 9.45l-7.72 7.72c-.78.78-.78 2.05 0 2.83L4 21.41c.39.39.9.59 1.41.59.51 0 1.02-.2 1.41-.59l7.78-7.78 2.81-2.81c.8-.78.8-2.07 0-2.86zM5.41 20L4 18.59l7.72-7.72 1.47 1.35L5.41 20z\"/>\n",
              "  </svg>\n",
              "      </button>\n",
              "      \n",
              "  <style>\n",
              "    .colab-df-container {\n",
              "      display:flex;\n",
              "      flex-wrap:wrap;\n",
              "      gap: 12px;\n",
              "    }\n",
              "\n",
              "    .colab-df-convert {\n",
              "      background-color: #E8F0FE;\n",
              "      border: none;\n",
              "      border-radius: 50%;\n",
              "      cursor: pointer;\n",
              "      display: none;\n",
              "      fill: #1967D2;\n",
              "      height: 32px;\n",
              "      padding: 0 0 0 0;\n",
              "      width: 32px;\n",
              "    }\n",
              "\n",
              "    .colab-df-convert:hover {\n",
              "      background-color: #E2EBFA;\n",
              "      box-shadow: 0px 1px 2px rgba(60, 64, 67, 0.3), 0px 1px 3px 1px rgba(60, 64, 67, 0.15);\n",
              "      fill: #174EA6;\n",
              "    }\n",
              "\n",
              "    [theme=dark] .colab-df-convert {\n",
              "      background-color: #3B4455;\n",
              "      fill: #D2E3FC;\n",
              "    }\n",
              "\n",
              "    [theme=dark] .colab-df-convert:hover {\n",
              "      background-color: #434B5C;\n",
              "      box-shadow: 0px 1px 3px 1px rgba(0, 0, 0, 0.15);\n",
              "      filter: drop-shadow(0px 1px 2px rgba(0, 0, 0, 0.3));\n",
              "      fill: #FFFFFF;\n",
              "    }\n",
              "  </style>\n",
              "\n",
              "      <script>\n",
              "        const buttonEl =\n",
              "          document.querySelector('#df-b3947d34-a24d-4c81-b54d-b5e09f7685ec button.colab-df-convert');\n",
              "        buttonEl.style.display =\n",
              "          google.colab.kernel.accessAllowed ? 'block' : 'none';\n",
              "\n",
              "        async function convertToInteractive(key) {\n",
              "          const element = document.querySelector('#df-b3947d34-a24d-4c81-b54d-b5e09f7685ec');\n",
              "          const dataTable =\n",
              "            await google.colab.kernel.invokeFunction('convertToInteractive',\n",
              "                                                     [key], {});\n",
              "          if (!dataTable) return;\n",
              "\n",
              "          const docLinkHtml = 'Like what you see? Visit the ' +\n",
              "            '<a target=\"_blank\" href=https://colab.research.google.com/notebooks/data_table.ipynb>data table notebook</a>'\n",
              "            + ' to learn more about interactive tables.';\n",
              "          element.innerHTML = '';\n",
              "          dataTable['output_type'] = 'display_data';\n",
              "          await google.colab.output.renderOutput(dataTable, element);\n",
              "          const docLink = document.createElement('div');\n",
              "          docLink.innerHTML = docLinkHtml;\n",
              "          element.appendChild(docLink);\n",
              "        }\n",
              "      </script>\n",
              "    </div>\n",
              "  </div>\n",
              "  "
            ]
          },
          "metadata": {},
          "execution_count": 5
        }
      ]
    },
    {
      "cell_type": "code",
      "source": [
        "#\"describe()\" used to give statistics for numerical parameteric column.\n",
        "df.describe()"
      ],
      "metadata": {
        "colab": {
          "base_uri": "https://localhost:8080/",
          "height": 0
        },
        "id": "q6LoVrtAIOWo",
        "outputId": "26221934-3aa7-47ae-84bf-51346c5fe29f"
      },
      "execution_count": 6,
      "outputs": [
        {
          "output_type": "execute_result",
          "data": {
            "text/plain": [
              "             Ind_ID     CHILDREN  Annual_income  Birthday_count  \\\n",
              "count  1.548000e+03  1548.000000   1.525000e+03     1526.000000   \n",
              "mean   5.078920e+06     0.412791   1.913993e+05   -16040.342071   \n",
              "std    4.171759e+04     0.776691   1.132530e+05     4229.503202   \n",
              "min    5.008827e+06     0.000000   3.375000e+04   -24946.000000   \n",
              "25%    5.045070e+06     0.000000   1.215000e+05   -19553.000000   \n",
              "50%    5.078842e+06     0.000000   1.665000e+05   -15661.500000   \n",
              "75%    5.115673e+06     1.000000   2.250000e+05   -12417.000000   \n",
              "max    5.150412e+06    14.000000   1.575000e+06    -7705.000000   \n",
              "\n",
              "       Employed_days  Mobile_phone   Work_Phone        Phone     EMAIL_ID  \\\n",
              "count    1548.000000        1548.0  1548.000000  1548.000000  1548.000000   \n",
              "mean    59364.689922           1.0     0.208010     0.309432     0.092377   \n",
              "std    137808.062701           0.0     0.406015     0.462409     0.289651   \n",
              "min    -14887.000000           1.0     0.000000     0.000000     0.000000   \n",
              "25%     -3174.500000           1.0     0.000000     0.000000     0.000000   \n",
              "50%     -1565.000000           1.0     0.000000     0.000000     0.000000   \n",
              "75%      -431.750000           1.0     0.000000     1.000000     0.000000   \n",
              "max    365243.000000           1.0     1.000000     1.000000     1.000000   \n",
              "\n",
              "       Family_Members        label  \n",
              "count     1548.000000  1548.000000  \n",
              "mean         2.161499     0.113049  \n",
              "std          0.947772     0.316755  \n",
              "min          1.000000     0.000000  \n",
              "25%          2.000000     0.000000  \n",
              "50%          2.000000     0.000000  \n",
              "75%          3.000000     0.000000  \n",
              "max         15.000000     1.000000  "
            ],
            "text/html": [
              "\n",
              "  <div id=\"df-3705fef5-a874-4aff-b739-ffeab37b0e38\">\n",
              "    <div class=\"colab-df-container\">\n",
              "      <div>\n",
              "<style scoped>\n",
              "    .dataframe tbody tr th:only-of-type {\n",
              "        vertical-align: middle;\n",
              "    }\n",
              "\n",
              "    .dataframe tbody tr th {\n",
              "        vertical-align: top;\n",
              "    }\n",
              "\n",
              "    .dataframe thead th {\n",
              "        text-align: right;\n",
              "    }\n",
              "</style>\n",
              "<table border=\"1\" class=\"dataframe\">\n",
              "  <thead>\n",
              "    <tr style=\"text-align: right;\">\n",
              "      <th></th>\n",
              "      <th>Ind_ID</th>\n",
              "      <th>CHILDREN</th>\n",
              "      <th>Annual_income</th>\n",
              "      <th>Birthday_count</th>\n",
              "      <th>Employed_days</th>\n",
              "      <th>Mobile_phone</th>\n",
              "      <th>Work_Phone</th>\n",
              "      <th>Phone</th>\n",
              "      <th>EMAIL_ID</th>\n",
              "      <th>Family_Members</th>\n",
              "      <th>label</th>\n",
              "    </tr>\n",
              "  </thead>\n",
              "  <tbody>\n",
              "    <tr>\n",
              "      <th>count</th>\n",
              "      <td>1.548000e+03</td>\n",
              "      <td>1548.000000</td>\n",
              "      <td>1.525000e+03</td>\n",
              "      <td>1526.000000</td>\n",
              "      <td>1548.000000</td>\n",
              "      <td>1548.0</td>\n",
              "      <td>1548.000000</td>\n",
              "      <td>1548.000000</td>\n",
              "      <td>1548.000000</td>\n",
              "      <td>1548.000000</td>\n",
              "      <td>1548.000000</td>\n",
              "    </tr>\n",
              "    <tr>\n",
              "      <th>mean</th>\n",
              "      <td>5.078920e+06</td>\n",
              "      <td>0.412791</td>\n",
              "      <td>1.913993e+05</td>\n",
              "      <td>-16040.342071</td>\n",
              "      <td>59364.689922</td>\n",
              "      <td>1.0</td>\n",
              "      <td>0.208010</td>\n",
              "      <td>0.309432</td>\n",
              "      <td>0.092377</td>\n",
              "      <td>2.161499</td>\n",
              "      <td>0.113049</td>\n",
              "    </tr>\n",
              "    <tr>\n",
              "      <th>std</th>\n",
              "      <td>4.171759e+04</td>\n",
              "      <td>0.776691</td>\n",
              "      <td>1.132530e+05</td>\n",
              "      <td>4229.503202</td>\n",
              "      <td>137808.062701</td>\n",
              "      <td>0.0</td>\n",
              "      <td>0.406015</td>\n",
              "      <td>0.462409</td>\n",
              "      <td>0.289651</td>\n",
              "      <td>0.947772</td>\n",
              "      <td>0.316755</td>\n",
              "    </tr>\n",
              "    <tr>\n",
              "      <th>min</th>\n",
              "      <td>5.008827e+06</td>\n",
              "      <td>0.000000</td>\n",
              "      <td>3.375000e+04</td>\n",
              "      <td>-24946.000000</td>\n",
              "      <td>-14887.000000</td>\n",
              "      <td>1.0</td>\n",
              "      <td>0.000000</td>\n",
              "      <td>0.000000</td>\n",
              "      <td>0.000000</td>\n",
              "      <td>1.000000</td>\n",
              "      <td>0.000000</td>\n",
              "    </tr>\n",
              "    <tr>\n",
              "      <th>25%</th>\n",
              "      <td>5.045070e+06</td>\n",
              "      <td>0.000000</td>\n",
              "      <td>1.215000e+05</td>\n",
              "      <td>-19553.000000</td>\n",
              "      <td>-3174.500000</td>\n",
              "      <td>1.0</td>\n",
              "      <td>0.000000</td>\n",
              "      <td>0.000000</td>\n",
              "      <td>0.000000</td>\n",
              "      <td>2.000000</td>\n",
              "      <td>0.000000</td>\n",
              "    </tr>\n",
              "    <tr>\n",
              "      <th>50%</th>\n",
              "      <td>5.078842e+06</td>\n",
              "      <td>0.000000</td>\n",
              "      <td>1.665000e+05</td>\n",
              "      <td>-15661.500000</td>\n",
              "      <td>-1565.000000</td>\n",
              "      <td>1.0</td>\n",
              "      <td>0.000000</td>\n",
              "      <td>0.000000</td>\n",
              "      <td>0.000000</td>\n",
              "      <td>2.000000</td>\n",
              "      <td>0.000000</td>\n",
              "    </tr>\n",
              "    <tr>\n",
              "      <th>75%</th>\n",
              "      <td>5.115673e+06</td>\n",
              "      <td>1.000000</td>\n",
              "      <td>2.250000e+05</td>\n",
              "      <td>-12417.000000</td>\n",
              "      <td>-431.750000</td>\n",
              "      <td>1.0</td>\n",
              "      <td>0.000000</td>\n",
              "      <td>1.000000</td>\n",
              "      <td>0.000000</td>\n",
              "      <td>3.000000</td>\n",
              "      <td>0.000000</td>\n",
              "    </tr>\n",
              "    <tr>\n",
              "      <th>max</th>\n",
              "      <td>5.150412e+06</td>\n",
              "      <td>14.000000</td>\n",
              "      <td>1.575000e+06</td>\n",
              "      <td>-7705.000000</td>\n",
              "      <td>365243.000000</td>\n",
              "      <td>1.0</td>\n",
              "      <td>1.000000</td>\n",
              "      <td>1.000000</td>\n",
              "      <td>1.000000</td>\n",
              "      <td>15.000000</td>\n",
              "      <td>1.000000</td>\n",
              "    </tr>\n",
              "  </tbody>\n",
              "</table>\n",
              "</div>\n",
              "      <button class=\"colab-df-convert\" onclick=\"convertToInteractive('df-3705fef5-a874-4aff-b739-ffeab37b0e38')\"\n",
              "              title=\"Convert this dataframe to an interactive table.\"\n",
              "              style=\"display:none;\">\n",
              "        \n",
              "  <svg xmlns=\"http://www.w3.org/2000/svg\" height=\"24px\"viewBox=\"0 0 24 24\"\n",
              "       width=\"24px\">\n",
              "    <path d=\"M0 0h24v24H0V0z\" fill=\"none\"/>\n",
              "    <path d=\"M18.56 5.44l.94 2.06.94-2.06 2.06-.94-2.06-.94-.94-2.06-.94 2.06-2.06.94zm-11 1L8.5 8.5l.94-2.06 2.06-.94-2.06-.94L8.5 2.5l-.94 2.06-2.06.94zm10 10l.94 2.06.94-2.06 2.06-.94-2.06-.94-.94-2.06-.94 2.06-2.06.94z\"/><path d=\"M17.41 7.96l-1.37-1.37c-.4-.4-.92-.59-1.43-.59-.52 0-1.04.2-1.43.59L10.3 9.45l-7.72 7.72c-.78.78-.78 2.05 0 2.83L4 21.41c.39.39.9.59 1.41.59.51 0 1.02-.2 1.41-.59l7.78-7.78 2.81-2.81c.8-.78.8-2.07 0-2.86zM5.41 20L4 18.59l7.72-7.72 1.47 1.35L5.41 20z\"/>\n",
              "  </svg>\n",
              "      </button>\n",
              "      \n",
              "  <style>\n",
              "    .colab-df-container {\n",
              "      display:flex;\n",
              "      flex-wrap:wrap;\n",
              "      gap: 12px;\n",
              "    }\n",
              "\n",
              "    .colab-df-convert {\n",
              "      background-color: #E8F0FE;\n",
              "      border: none;\n",
              "      border-radius: 50%;\n",
              "      cursor: pointer;\n",
              "      display: none;\n",
              "      fill: #1967D2;\n",
              "      height: 32px;\n",
              "      padding: 0 0 0 0;\n",
              "      width: 32px;\n",
              "    }\n",
              "\n",
              "    .colab-df-convert:hover {\n",
              "      background-color: #E2EBFA;\n",
              "      box-shadow: 0px 1px 2px rgba(60, 64, 67, 0.3), 0px 1px 3px 1px rgba(60, 64, 67, 0.15);\n",
              "      fill: #174EA6;\n",
              "    }\n",
              "\n",
              "    [theme=dark] .colab-df-convert {\n",
              "      background-color: #3B4455;\n",
              "      fill: #D2E3FC;\n",
              "    }\n",
              "\n",
              "    [theme=dark] .colab-df-convert:hover {\n",
              "      background-color: #434B5C;\n",
              "      box-shadow: 0px 1px 3px 1px rgba(0, 0, 0, 0.15);\n",
              "      filter: drop-shadow(0px 1px 2px rgba(0, 0, 0, 0.3));\n",
              "      fill: #FFFFFF;\n",
              "    }\n",
              "  </style>\n",
              "\n",
              "      <script>\n",
              "        const buttonEl =\n",
              "          document.querySelector('#df-3705fef5-a874-4aff-b739-ffeab37b0e38 button.colab-df-convert');\n",
              "        buttonEl.style.display =\n",
              "          google.colab.kernel.accessAllowed ? 'block' : 'none';\n",
              "\n",
              "        async function convertToInteractive(key) {\n",
              "          const element = document.querySelector('#df-3705fef5-a874-4aff-b739-ffeab37b0e38');\n",
              "          const dataTable =\n",
              "            await google.colab.kernel.invokeFunction('convertToInteractive',\n",
              "                                                     [key], {});\n",
              "          if (!dataTable) return;\n",
              "\n",
              "          const docLinkHtml = 'Like what you see? Visit the ' +\n",
              "            '<a target=\"_blank\" href=https://colab.research.google.com/notebooks/data_table.ipynb>data table notebook</a>'\n",
              "            + ' to learn more about interactive tables.';\n",
              "          element.innerHTML = '';\n",
              "          dataTable['output_type'] = 'display_data';\n",
              "          await google.colab.output.renderOutput(dataTable, element);\n",
              "          const docLink = document.createElement('div');\n",
              "          docLink.innerHTML = docLinkHtml;\n",
              "          element.appendChild(docLink);\n",
              "        }\n",
              "      </script>\n",
              "    </div>\n",
              "  </div>\n",
              "  "
            ]
          },
          "metadata": {},
          "execution_count": 6
        }
      ]
    },
    {
      "cell_type": "code",
      "source": [
        "corr_df = df.corr()\n",
        "top_corr_fig = corr_df.index\n",
        "plt.figure(figsize=(10,10))\n",
        "sns.heatmap(df[top_corr_fig].corr(), annot=True, cmap =\"RdYlGn\")\n",
        "plt.show()"
      ],
      "metadata": {
        "colab": {
          "base_uri": "https://localhost:8080/",
          "height": 0
        },
        "id": "NRcGsNNCn-2z",
        "outputId": "2870223e-4f4c-4396-9ebb-c133772a961d"
      },
      "execution_count": 7,
      "outputs": [
        {
          "output_type": "display_data",
          "data": {
            "text/plain": [
              "<Figure size 720x720 with 2 Axes>"
            ],
            "image/png": "[encoded data removed]"
          },
          "metadata": {
            "needs_background": "light"
          }
        }
      ]
    },
    {
      "cell_type": "code",
      "source": [
        "#\"nunique()\" used to distinct values in each column in dataset.\n",
        "df.nunique()"
      ],
      "metadata": {
        "colab": {
          "base_uri": "https://localhost:8080/"
        },
        "id": "vxd5GYtnnCyX",
        "outputId": "e336a256-f963-4f65-dbe4-82cfd310bf46"
      },
      "execution_count": 8,
      "outputs": [
        {
          "output_type": "execute_result",
          "data": {
            "text/plain": [
              "Ind_ID             1548\n",
              "GENDER                2\n",
              "Car_Owner             2\n",
              "Propert_Owner         2\n",
              "CHILDREN              6\n",
              "Annual_income       115\n",
              "Type_Income           4\n",
              "EDUCATION             5\n",
              "Marital_status        5\n",
              "Housing_type          6\n",
              "Birthday_count     1270\n",
              "Employed_days       956\n",
              "Mobile_phone          1\n",
              "Work_Phone            2\n",
              "Phone                 2\n",
              "EMAIL_ID              2\n",
              "Type_Occupation      18\n",
              "Family_Members        7\n",
              "label                 2\n",
              "dtype: int64"
            ]
          },
          "metadata": {},
          "execution_count": 8
        }
      ]
    },
    {
      "cell_type": "code",
      "source": [
        "#Dataset of Credit Card 1548 'records' and 19 'features'.\n",
        "df.shape"
      ],
      "metadata": {
        "colab": {
          "base_uri": "https://localhost:8080/"
        },
        "id": "bkxsDA40Qa6W",
        "outputId": "9af01d4f-e6b3-4632-9b2d-92cd8b09398a"
      },
      "execution_count": 9,
      "outputs": [
        {
          "output_type": "execute_result",
          "data": {
            "text/plain": [
              "(1548, 19)"
            ]
          },
          "metadata": {},
          "execution_count": 9
        }
      ]
    },
    {
      "cell_type": "code",
      "source": [
        "#\"isnull().sum()\" give total null values in each column in dataset.\n",
        "df.isnull().sum()"
      ],
      "metadata": {
        "colab": {
          "base_uri": "https://localhost:8080/"
        },
        "id": "uOhTrOQYndsq",
        "outputId": "8be2481a-f5f3-4600-8d0c-2dce6dc73385"
      },
      "execution_count": 10,
      "outputs": [
        {
          "output_type": "execute_result",
          "data": {
            "text/plain": [
              "Ind_ID               0\n",
              "GENDER               7\n",
              "Car_Owner            0\n",
              "Propert_Owner        0\n",
              "CHILDREN             0\n",
              "Annual_income       23\n",
              "Type_Income          0\n",
              "EDUCATION            0\n",
              "Marital_status       0\n",
              "Housing_type         0\n",
              "Birthday_count      22\n",
              "Employed_days        0\n",
              "Mobile_phone         0\n",
              "Work_Phone           0\n",
              "Phone                0\n",
              "EMAIL_ID             0\n",
              "Type_Occupation    488\n",
              "Family_Members       0\n",
              "label                0\n",
              "dtype: int64"
            ]
          },
          "metadata": {},
          "execution_count": 10
        }
      ]
    },
    {
      "cell_type": "code",
      "source": [
        "df.isnull().mean()*100"
      ],
      "metadata": {
        "colab": {
          "base_uri": "https://localhost:8080/"
        },
        "id": "PPU1VhDZPSbe",
        "outputId": "13d43d81-8556-4f3c-c8fd-8738ada3ab39"
      },
      "execution_count": 11,
      "outputs": [
        {
          "output_type": "execute_result",
          "data": {
            "text/plain": [
              "Ind_ID              0.000000\n",
              "GENDER              0.452196\n",
              "Car_Owner           0.000000\n",
              "Propert_Owner       0.000000\n",
              "CHILDREN            0.000000\n",
              "Annual_income       1.485788\n",
              "Type_Income         0.000000\n",
              "EDUCATION           0.000000\n",
              "Marital_status      0.000000\n",
              "Housing_type        0.000000\n",
              "Birthday_count      1.421189\n",
              "Employed_days       0.000000\n",
              "Mobile_phone        0.000000\n",
              "Work_Phone          0.000000\n",
              "Phone               0.000000\n",
              "EMAIL_ID            0.000000\n",
              "Type_Occupation    31.524548\n",
              "Family_Members      0.000000\n",
              "label               0.000000\n",
              "dtype: float64"
            ]
          },
          "metadata": {},
          "execution_count": 11
        }
      ]
    },
    {
      "cell_type": "markdown",
      "source": [
        "* Observations \n",
        "* There are missing values in 4 features :- \n",
        "* Gender = 0.45%\n",
        "* Annual Income = 1.48%\n",
        "* Age = 1.42%\n",
        "* type of Occupation = 31.5%"
      ],
      "metadata": {
        "id": "SOxAYhYhPb9s"
      }
    },
    {
      "cell_type": "code",
      "source": [
        "#\"isnull().sum().sum()\" gives total null values.\n",
        "df.isnull().sum().sum()"
      ],
      "metadata": {
        "colab": {
          "base_uri": "https://localhost:8080/"
        },
        "id": "3CsWi9ScU-xg",
        "outputId": "8218b863-4528-4a97-db0b-a2d091701035"
      },
      "execution_count": 12,
      "outputs": [
        {
          "output_type": "execute_result",
          "data": {
            "text/plain": [
              "540"
            ]
          },
          "metadata": {},
          "execution_count": 12
        }
      ]
    },
    {
      "cell_type": "code",
      "source": [
        "#Extracting out the values count in each column using loop and \"value_counts()\".\n",
        "for i in df.columns[1:]:\n",
        "  print(df[i].value_counts())\n",
        "  print(\"-------------------\")"
      ],
      "metadata": {
        "colab": {
          "base_uri": "https://localhost:8080/"
        },
        "id": "mJQEhFELf-59",
        "outputId": "49ad7ed0-b1d1-4264-d28b-00029892536e"
      },
      "execution_count": 13,
      "outputs": [
        {
          "output_type": "stream",
          "name": "stdout",
          "text": [
            "F    973\n",
            "M    568\n",
            "Name: GENDER, dtype: int64\n",
            "-------------------\n",
            "N    924\n",
            "Y    624\n",
            "Name: Car_Owner, dtype: int64\n",
            "-------------------\n",
            "Y    1010\n",
            "N     538\n",
            "Name: Propert_Owner, dtype: int64\n",
            "-------------------\n",
            "0     1091\n",
            "1      305\n",
            "2      134\n",
            "3       16\n",
            "4        1\n",
            "14       1\n",
            "Name: CHILDREN, dtype: int64\n",
            "-------------------\n",
            "135000.0    170\n",
            "112500.0    144\n",
            "180000.0    137\n",
            "157500.0    125\n",
            "225000.0    119\n",
            "           ... \n",
            "119700.0      1\n",
            "69372.0       1\n",
            "37800.0       1\n",
            "333000.0      1\n",
            "69750.0       1\n",
            "Name: Annual_income, Length: 115, dtype: int64\n",
            "-------------------\n",
            "Working                 798\n",
            "Commercial associate    365\n",
            "Pensioner               269\n",
            "State servant           116\n",
            "Name: Type_Income, dtype: int64\n",
            "-------------------\n",
            "Secondary / secondary special    1031\n",
            "Higher education                  426\n",
            "Incomplete higher                  68\n",
            "Lower secondary                    21\n",
            "Academic degree                     2\n",
            "Name: EDUCATION, dtype: int64\n",
            "-------------------\n",
            "Married                 1049\n",
            "Single / not married     227\n",
            "Civil marriage           101\n",
            "Separated                 96\n",
            "Widow                     75\n",
            "Name: Marital_status, dtype: int64\n",
            "-------------------\n",
            "House / apartment      1380\n",
            "With parents             80\n",
            "Municipal apartment      53\n",
            "Rented apartment         21\n",
            "Office apartment          9\n",
            "Co-op apartment           5\n",
            "Name: Housing_type, dtype: int64\n",
            "-------------------\n",
            "-13557.0    5\n",
            "-22655.0    5\n",
            "-14523.0    5\n",
            "-21363.0    5\n",
            "-17454.0    4\n",
            "           ..\n",
            "-11729.0    1\n",
            "-15994.0    1\n",
            "-13456.0    1\n",
            "-19532.0    1\n",
            "-16601.0    1\n",
            "Name: Birthday_count, Length: 1270, dtype: int64\n",
            "-------------------\n",
            " 365243    261\n",
            "-586         6\n",
            "-622         5\n",
            "-460         5\n",
            "-1678        5\n",
            "          ... \n",
            "-3034        1\n",
            "-1324        1\n",
            "-3112        1\n",
            "-2959        1\n",
            "-2859        1\n",
            "Name: Employed_days, Length: 956, dtype: int64\n",
            "-------------------\n",
            "1    1548\n",
            "Name: Mobile_phone, dtype: int64\n",
            "-------------------\n",
            "0    1226\n",
            "1     322\n",
            "Name: Work_Phone, dtype: int64\n",
            "-------------------\n",
            "0    1069\n",
            "1     479\n",
            "Name: Phone, dtype: int64\n",
            "-------------------\n",
            "0    1405\n",
            "1     143\n",
            "Name: EMAIL_ID, dtype: int64\n",
            "-------------------\n",
            "Laborers                 268\n",
            "Core staff               174\n",
            "Managers                 136\n",
            "Sales staff              122\n",
            "Drivers                   86\n",
            "High skill tech staff     65\n",
            "Medicine staff            50\n",
            "Accountants               44\n",
            "Security staff            25\n",
            "Cleaning staff            22\n",
            "Cooking staff             21\n",
            "Private service staff     17\n",
            "Secretaries                9\n",
            "Low-skill Laborers         9\n",
            "Waiters/barmen staff       5\n",
            "HR staff                   3\n",
            "IT staff                   2\n",
            "Realty agents              2\n",
            "Name: Type_Occupation, dtype: int64\n",
            "-------------------\n",
            "2     802\n",
            "1     334\n",
            "3     268\n",
            "4     127\n",
            "5      15\n",
            "6       1\n",
            "15      1\n",
            "Name: Family_Members, dtype: int64\n",
            "-------------------\n",
            "0    1373\n",
            "1     175\n",
            "Name: label, dtype: int64\n",
            "-------------------\n"
          ]
        }
      ]
    },
    {
      "cell_type": "markdown",
      "source": [
        "###Data Cleaning\n",
        "\n",
        "\n",
        "\n"
      ],
      "metadata": {
        "id": "Tf-FrQPvgrhE"
      }
    },
    {
      "cell_type": "markdown",
      "source": [
        "####Replacing Categorical variable to Numerical variable."
      ],
      "metadata": {
        "id": "lemo8sTXAg_a"
      }
    },
    {
      "cell_type": "code",
      "source": [
        "#Replacing the \"Male\" to 1 and \"Female\" to 0.\n",
        "df[\"GENDER\"] = df[\"GENDER\"].replace(\"M\",1)\n",
        "df[\"GENDER\"] = df[\"GENDER\"].replace(\"F\",0)"
      ],
      "metadata": {
        "id": "tK40muP9mOgb"
      },
      "execution_count": 14,
      "outputs": []
    },
    {
      "cell_type": "code",
      "source": [
        "#Replacing the \"Yes\" to 1 and \"No\" to 0.\n",
        "df[\"Car_Owner\"] = df[\"Car_Owner\"].replace(\"Y\",1)\n",
        "df[\"Car_Owner\"] = df[\"Car_Owner\"].replace(\"N\",0)"
      ],
      "metadata": {
        "id": "if7nLNO7mOl3"
      },
      "execution_count": 15,
      "outputs": []
    },
    {
      "cell_type": "code",
      "source": [
        "#Replacing the \"Yes\" to 1 and \"No\" to 0.\n",
        "df[\"Propert_Owner\"] = df[\"Propert_Owner\"].replace(\"Y\",1)\n",
        "df[\"Propert_Owner\"] = df[\"Propert_Owner\"].replace(\"N\",0)"
      ],
      "metadata": {
        "id": "Ji8FKTbLm6be"
      },
      "execution_count": 16,
      "outputs": []
    },
    {
      "cell_type": "code",
      "source": [
        "#Droping some columns which are not relevant for the analysis and prediction.\n",
        "df.drop([\"Marital_status\", \"Mobile_phone\", \"Work_Phone\", \"Phone\", \"EMAIL_ID\"], axis=1, inplace=True)"
      ],
      "metadata": {
        "id": "COC_b4Mgm6ei"
      },
      "execution_count": 17,
      "outputs": []
    },
    {
      "cell_type": "markdown",
      "source": [
        "####Feature Engineering"
      ],
      "metadata": {
        "id": "3njNmurMiMBb"
      }
    },
    {
      "cell_type": "markdown",
      "source": [
        "*   In the dataset, there are some negative values in which needs to be converted.\n",
        "*   In \"Employed_days\", 0 or positive value should be 0 as Experience.\n",
        "*   \"Birthday_count\" and \"Employed_days\" columns need to converted into years with positive value in it.\n",
        "\n",
        "\n"
      ],
      "metadata": {
        "id": "yZ75BaL_V6uv"
      }
    },
    {
      "cell_type": "code",
      "source": [
        "print(df.shape)\n",
        "df[df[\"Birthday_count\"]>=0]"
      ],
      "metadata": {
        "colab": {
          "base_uri": "https://localhost:8080/",
          "height": 0
        },
        "id": "MZJjwkX4uFd9",
        "outputId": "e3737611-207c-4089-ddc4-8e77b1ed416e"
      },
      "execution_count": 18,
      "outputs": [
        {
          "output_type": "stream",
          "name": "stdout",
          "text": [
            "(1548, 14)\n"
          ]
        },
        {
          "output_type": "execute_result",
          "data": {
            "text/plain": [
              "Empty DataFrame\n",
              "Columns: [Ind_ID, GENDER, Car_Owner, Propert_Owner, CHILDREN, Annual_income, Type_Income, EDUCATION, Housing_type, Birthday_count, Employed_days, Type_Occupation, Family_Members, label]\n",
              "Index: []"
            ],
            "text/html": [
              "\n",
              "  <div id=\"df-b4502de5-d98b-4a8c-aa36-27b4f98c5f26\">\n",
              "    <div class=\"colab-df-container\">\n",
              "      <div>\n",
              "<style scoped>\n",
              "    .dataframe tbody tr th:only-of-type {\n",
              "        vertical-align: middle;\n",
              "    }\n",
              "\n",
              "    .dataframe tbody tr th {\n",
              "        vertical-align: top;\n",
              "    }\n",
              "\n",
              "    .dataframe thead th {\n",
              "        text-align: right;\n",
              "    }\n",
              "</style>\n",
              "<table border=\"1\" class=\"dataframe\">\n",
              "  <thead>\n",
              "    <tr style=\"text-align: right;\">\n",
              "      <th></th>\n",
              "      <th>Ind_ID</th>\n",
              "      <th>GENDER</th>\n",
              "      <th>Car_Owner</th>\n",
              "      <th>Propert_Owner</th>\n",
              "      <th>CHILDREN</th>\n",
              "      <th>Annual_income</th>\n",
              "      <th>Type_Income</th>\n",
              "      <th>EDUCATION</th>\n",
              "      <th>Housing_type</th>\n",
              "      <th>Birthday_count</th>\n",
              "      <th>Employed_days</th>\n",
              "      <th>Type_Occupation</th>\n",
              "      <th>Family_Members</th>\n",
              "      <th>label</th>\n",
              "    </tr>\n",
              "  </thead>\n",
              "  <tbody>\n",
              "  </tbody>\n",
              "</table>\n",
              "</div>\n",
              "      <button class=\"colab-df-convert\" onclick=\"convertToInteractive('df-b4502de5-d98b-4a8c-aa36-27b4f98c5f26')\"\n",
              "              title=\"Convert this dataframe to an interactive table.\"\n",
              "              style=\"display:none;\">\n",
              "        \n",
              "  <svg xmlns=\"http://www.w3.org/2000/svg\" height=\"24px\"viewBox=\"0 0 24 24\"\n",
              "       width=\"24px\">\n",
              "    <path d=\"M0 0h24v24H0V0z\" fill=\"none\"/>\n",
              "    <path d=\"M18.56 5.44l.94 2.06.94-2.06 2.06-.94-2.06-.94-.94-2.06-.94 2.06-2.06.94zm-11 1L8.5 8.5l.94-2.06 2.06-.94-2.06-.94L8.5 2.5l-.94 2.06-2.06.94zm10 10l.94 2.06.94-2.06 2.06-.94-2.06-.94-.94-2.06-.94 2.06-2.06.94z\"/><path d=\"M17.41 7.96l-1.37-1.37c-.4-.4-.92-.59-1.43-.59-.52 0-1.04.2-1.43.59L10.3 9.45l-7.72 7.72c-.78.78-.78 2.05 0 2.83L4 21.41c.39.39.9.59 1.41.59.51 0 1.02-.2 1.41-.59l7.78-7.78 2.81-2.81c.8-.78.8-2.07 0-2.86zM5.41 20L4 18.59l7.72-7.72 1.47 1.35L5.41 20z\"/>\n",
              "  </svg>\n",
              "      </button>\n",
              "      \n",
              "  <style>\n",
              "    .colab-df-container {\n",
              "      display:flex;\n",
              "      flex-wrap:wrap;\n",
              "      gap: 12px;\n",
              "    }\n",
              "\n",
              "    .colab-df-convert {\n",
              "      background-color: #E8F0FE;\n",
              "      border: none;\n",
              "      border-radius: 50%;\n",
              "      cursor: pointer;\n",
              "      display: none;\n",
              "      fill: #1967D2;\n",
              "      height: 32px;\n",
              "      padding: 0 0 0 0;\n",
              "      width: 32px;\n",
              "    }\n",
              "\n",
              "    .colab-df-convert:hover {\n",
              "      background-color: #E2EBFA;\n",
              "      box-shadow: 0px 1px 2px rgba(60, 64, 67, 0.3), 0px 1px 3px 1px rgba(60, 64, 67, 0.15);\n",
              "      fill: #174EA6;\n",
              "    }\n",
              "\n",
              "    [theme=dark] .colab-df-convert {\n",
              "      background-color: #3B4455;\n",
              "      fill: #D2E3FC;\n",
              "    }\n",
              "\n",
              "    [theme=dark] .colab-df-convert:hover {\n",
              "      background-color: #434B5C;\n",
              "      box-shadow: 0px 1px 3px 1px rgba(0, 0, 0, 0.15);\n",
              "      filter: drop-shadow(0px 1px 2px rgba(0, 0, 0, 0.3));\n",
              "      fill: #FFFFFF;\n",
              "    }\n",
              "  </style>\n",
              "\n",
              "      <script>\n",
              "        const buttonEl =\n",
              "          document.querySelector('#df-b4502de5-d98b-4a8c-aa36-27b4f98c5f26 button.colab-df-convert');\n",
              "        buttonEl.style.display =\n",
              "          google.colab.kernel.accessAllowed ? 'block' : 'none';\n",
              "\n",
              "        async function convertToInteractive(key) {\n",
              "          const element = document.querySelector('#df-b4502de5-d98b-4a8c-aa36-27b4f98c5f26');\n",
              "          const dataTable =\n",
              "            await google.colab.kernel.invokeFunction('convertToInteractive',\n",
              "                                                     [key], {});\n",
              "          if (!dataTable) return;\n",
              "\n",
              "          const docLinkHtml = 'Like what you see? Visit the ' +\n",
              "            '<a target=\"_blank\" href=https://colab.research.google.com/notebooks/data_table.ipynb>data table notebook</a>'\n",
              "            + ' to learn more about interactive tables.';\n",
              "          element.innerHTML = '';\n",
              "          dataTable['output_type'] = 'display_data';\n",
              "          await google.colab.output.renderOutput(dataTable, element);\n",
              "          const docLink = document.createElement('div');\n",
              "          docLink.innerHTML = docLinkHtml;\n",
              "          element.appendChild(docLink);\n",
              "        }\n",
              "      </script>\n",
              "    </div>\n",
              "  </div>\n",
              "  "
            ]
          },
          "metadata": {},
          "execution_count": 18
        }
      ]
    },
    {
      "cell_type": "code",
      "source": [
        "#Renaming the \"Birthday_count\" to \"Age\" by dividing 365.\n",
        "df.rename(columns = {\"Birthday_count\" : \"Age\"}, inplace=True) \n",
        "df[\"Age\"] = round(abs(df[\"Age\"]/365))"
      ],
      "metadata": {
        "id": "6Yw6MWSem6h2"
      },
      "execution_count": 19,
      "outputs": []
    },
    {
      "cell_type": "code",
      "source": [
        "df[df[\"Employed_days\"]>=0].head()"
      ],
      "metadata": {
        "colab": {
          "base_uri": "https://localhost:8080/",
          "height": 0
        },
        "id": "D9PcRJ7uuJBH",
        "outputId": "7e1a8481-3e66-473b-f3e0-c664391c9aa6"
      },
      "execution_count": 20,
      "outputs": [
        {
          "output_type": "execute_result",
          "data": {
            "text/plain": [
              "     Ind_ID  GENDER  Car_Owner  Propert_Owner  CHILDREN  Annual_income  \\\n",
              "0   5008827     1.0          1              1         0       180000.0   \n",
              "7   5009894     0.0          0              0         0       180000.0   \n",
              "26  5024916     0.0          0              1         0       112500.0   \n",
              "27  5024917     0.0          0              1         0            NaN   \n",
              "31  5029311     0.0          0              1         0       112500.0   \n",
              "\n",
              "   Type_Income                      EDUCATION       Housing_type   Age  \\\n",
              "0    Pensioner               Higher education  House / apartment  51.0   \n",
              "7    Pensioner  Secondary / secondary special  House / apartment  61.0   \n",
              "26   Pensioner  Secondary / secondary special  House / apartment  60.0   \n",
              "27   Pensioner  Secondary / secondary special  House / apartment  60.0   \n",
              "31   Pensioner  Secondary / secondary special  House / apartment  60.0   \n",
              "\n",
              "    Employed_days Type_Occupation  Family_Members  label  \n",
              "0          365243             NaN               2      1  \n",
              "7          365243             NaN               2      1  \n",
              "26         365243             NaN               2      1  \n",
              "27         365243             NaN               2      1  \n",
              "31         365243             NaN               2      1  "
            ],
            "text/html": [
              "\n",
              "  <div id=\"df-961e5e2a-894a-4e75-b9f3-69407d60dbce\">\n",
              "    <div class=\"colab-df-container\">\n",
              "      <div>\n",
              "<style scoped>\n",
              "    .dataframe tbody tr th:only-of-type {\n",
              "        vertical-align: middle;\n",
              "    }\n",
              "\n",
              "    .dataframe tbody tr th {\n",
              "        vertical-align: top;\n",
              "    }\n",
              "\n",
              "    .dataframe thead th {\n",
              "        text-align: right;\n",
              "    }\n",
              "</style>\n",
              "<table border=\"1\" class=\"dataframe\">\n",
              "  <thead>\n",
              "    <tr style=\"text-align: right;\">\n",
              "      <th></th>\n",
              "      <th>Ind_ID</th>\n",
              "      <th>GENDER</th>\n",
              "      <th>Car_Owner</th>\n",
              "      <th>Propert_Owner</th>\n",
              "      <th>CHILDREN</th>\n",
              "      <th>Annual_income</th>\n",
              "      <th>Type_Income</th>\n",
              "      <th>EDUCATION</th>\n",
              "      <th>Housing_type</th>\n",
              "      <th>Age</th>\n",
              "      <th>Employed_days</th>\n",
              "      <th>Type_Occupation</th>\n",
              "      <th>Family_Members</th>\n",
              "      <th>label</th>\n",
              "    </tr>\n",
              "  </thead>\n",
              "  <tbody>\n",
              "    <tr>\n",
              "      <th>0</th>\n",
              "      <td>5008827</td>\n",
              "      <td>1.0</td>\n",
              "      <td>1</td>\n",
              "      <td>1</td>\n",
              "      <td>0</td>\n",
              "      <td>180000.0</td>\n",
              "      <td>Pensioner</td>\n",
              "      <td>Higher education</td>\n",
              "      <td>House / apartment</td>\n",
              "      <td>51.0</td>\n",
              "      <td>365243</td>\n",
              "      <td>NaN</td>\n",
              "      <td>2</td>\n",
              "      <td>1</td>\n",
              "    </tr>\n",
              "    <tr>\n",
              "      <th>7</th>\n",
              "      <td>5009894</td>\n",
              "      <td>0.0</td>\n",
              "      <td>0</td>\n",
              "      <td>0</td>\n",
              "      <td>0</td>\n",
              "      <td>180000.0</td>\n",
              "      <td>Pensioner</td>\n",
              "      <td>Secondary / secondary special</td>\n",
              "      <td>House / apartment</td>\n",
              "      <td>61.0</td>\n",
              "      <td>365243</td>\n",
              "      <td>NaN</td>\n",
              "      <td>2</td>\n",
              "      <td>1</td>\n",
              "    </tr>\n",
              "    <tr>\n",
              "      <th>26</th>\n",
              "      <td>5024916</td>\n",
              "      <td>0.0</td>\n",
              "      <td>0</td>\n",
              "      <td>1</td>\n",
              "      <td>0</td>\n",
              "      <td>112500.0</td>\n",
              "      <td>Pensioner</td>\n",
              "      <td>Secondary / secondary special</td>\n",
              "      <td>House / apartment</td>\n",
              "      <td>60.0</td>\n",
              "      <td>365243</td>\n",
              "      <td>NaN</td>\n",
              "      <td>2</td>\n",
              "      <td>1</td>\n",
              "    </tr>\n",
              "    <tr>\n",
              "      <th>27</th>\n",
              "      <td>5024917</td>\n",
              "      <td>0.0</td>\n",
              "      <td>0</td>\n",
              "      <td>1</td>\n",
              "      <td>0</td>\n",
              "      <td>NaN</td>\n",
              "      <td>Pensioner</td>\n",
              "      <td>Secondary / secondary special</td>\n",
              "      <td>House / apartment</td>\n",
              "      <td>60.0</td>\n",
              "      <td>365243</td>\n",
              "      <td>NaN</td>\n",
              "      <td>2</td>\n",
              "      <td>1</td>\n",
              "    </tr>\n",
              "    <tr>\n",
              "      <th>31</th>\n",
              "      <td>5029311</td>\n",
              "      <td>0.0</td>\n",
              "      <td>0</td>\n",
              "      <td>1</td>\n",
              "      <td>0</td>\n",
              "      <td>112500.0</td>\n",
              "      <td>Pensioner</td>\n",
              "      <td>Secondary / secondary special</td>\n",
              "      <td>House / apartment</td>\n",
              "      <td>60.0</td>\n",
              "      <td>365243</td>\n",
              "      <td>NaN</td>\n",
              "      <td>2</td>\n",
              "      <td>1</td>\n",
              "    </tr>\n",
              "  </tbody>\n",
              "</table>\n",
              "</div>\n",
              "      <button class=\"colab-df-convert\" onclick=\"convertToInteractive('df-961e5e2a-894a-4e75-b9f3-69407d60dbce')\"\n",
              "              title=\"Convert this dataframe to an interactive table.\"\n",
              "              style=\"display:none;\">\n",
              "        \n",
              "  <svg xmlns=\"http://www.w3.org/2000/svg\" height=\"24px\"viewBox=\"0 0 24 24\"\n",
              "       width=\"24px\">\n",
              "    <path d=\"M0 0h24v24H0V0z\" fill=\"none\"/>\n",
              "    <path d=\"M18.56 5.44l.94 2.06.94-2.06 2.06-.94-2.06-.94-.94-2.06-.94 2.06-2.06.94zm-11 1L8.5 8.5l.94-2.06 2.06-.94-2.06-.94L8.5 2.5l-.94 2.06-2.06.94zm10 10l.94 2.06.94-2.06 2.06-.94-2.06-.94-.94-2.06-.94 2.06-2.06.94z\"/><path d=\"M17.41 7.96l-1.37-1.37c-.4-.4-.92-.59-1.43-.59-.52 0-1.04.2-1.43.59L10.3 9.45l-7.72 7.72c-.78.78-.78 2.05 0 2.83L4 21.41c.39.39.9.59 1.41.59.51 0 1.02-.2 1.41-.59l7.78-7.78 2.81-2.81c.8-.78.8-2.07 0-2.86zM5.41 20L4 18.59l7.72-7.72 1.47 1.35L5.41 20z\"/>\n",
              "  </svg>\n",
              "      </button>\n",
              "      \n",
              "  <style>\n",
              "    .colab-df-container {\n",
              "      display:flex;\n",
              "      flex-wrap:wrap;\n",
              "      gap: 12px;\n",
              "    }\n",
              "\n",
              "    .colab-df-convert {\n",
              "      background-color: #E8F0FE;\n",
              "      border: none;\n",
              "      border-radius: 50%;\n",
              "      cursor: pointer;\n",
              "      display: none;\n",
              "      fill: #1967D2;\n",
              "      height: 32px;\n",
              "      padding: 0 0 0 0;\n",
              "      width: 32px;\n",
              "    }\n",
              "\n",
              "    .colab-df-convert:hover {\n",
              "      background-color: #E2EBFA;\n",
              "      box-shadow: 0px 1px 2px rgba(60, 64, 67, 0.3), 0px 1px 3px 1px rgba(60, 64, 67, 0.15);\n",
              "      fill: #174EA6;\n",
              "    }\n",
              "\n",
              "    [theme=dark] .colab-df-convert {\n",
              "      background-color: #3B4455;\n",
              "      fill: #D2E3FC;\n",
              "    }\n",
              "\n",
              "    [theme=dark] .colab-df-convert:hover {\n",
              "      background-color: #434B5C;\n",
              "      box-shadow: 0px 1px 3px 1px rgba(0, 0, 0, 0.15);\n",
              "      filter: drop-shadow(0px 1px 2px rgba(0, 0, 0, 0.3));\n",
              "      fill: #FFFFFF;\n",
              "    }\n",
              "  </style>\n",
              "\n",
              "      <script>\n",
              "        const buttonEl =\n",
              "          document.querySelector('#df-961e5e2a-894a-4e75-b9f3-69407d60dbce button.colab-df-convert');\n",
              "        buttonEl.style.display =\n",
              "          google.colab.kernel.accessAllowed ? 'block' : 'none';\n",
              "\n",
              "        async function convertToInteractive(key) {\n",
              "          const element = document.querySelector('#df-961e5e2a-894a-4e75-b9f3-69407d60dbce');\n",
              "          const dataTable =\n",
              "            await google.colab.kernel.invokeFunction('convertToInteractive',\n",
              "                                                     [key], {});\n",
              "          if (!dataTable) return;\n",
              "\n",
              "          const docLinkHtml = 'Like what you see? Visit the ' +\n",
              "            '<a target=\"_blank\" href=https://colab.research.google.com/notebooks/data_table.ipynb>data table notebook</a>'\n",
              "            + ' to learn more about interactive tables.';\n",
              "          element.innerHTML = '';\n",
              "          dataTable['output_type'] = 'display_data';\n",
              "          await google.colab.output.renderOutput(dataTable, element);\n",
              "          const docLink = document.createElement('div');\n",
              "          docLink.innerHTML = docLinkHtml;\n",
              "          element.appendChild(docLink);\n",
              "        }\n",
              "      </script>\n",
              "    </div>\n",
              "  </div>\n",
              "  "
            ]
          },
          "metadata": {},
          "execution_count": 20
        }
      ]
    },
    {
      "cell_type": "code",
      "source": [
        "df[\"Employed_days\"][df[\"Employed_days\"]>=0] = 0\n",
        "df.shape"
      ],
      "metadata": {
        "colab": {
          "base_uri": "https://localhost:8080/"
        },
        "id": "9BRgzbkNuQee",
        "outputId": "917f6aca-345f-4130-c359-d14ce8607915"
      },
      "execution_count": 21,
      "outputs": [
        {
          "output_type": "execute_result",
          "data": {
            "text/plain": [
              "(1548, 14)"
            ]
          },
          "metadata": {},
          "execution_count": 21
        }
      ]
    },
    {
      "cell_type": "code",
      "source": [
        "#Renaming the \"Employed_days\" to \"Experience\" by dividing 365.\n",
        "df.rename(columns = {\"Employed_days\" : \"Experience\"}, inplace=True) \n",
        "df[\"Experience\"] = round(abs(df[\"Experience\"]/365),1)"
      ],
      "metadata": {
        "id": "10ZT2SRdVwhi"
      },
      "execution_count": 22,
      "outputs": []
    },
    {
      "cell_type": "markdown",
      "source": [
        "####Missing Values -  Pending (Mean or Median Imputation)."
      ],
      "metadata": {
        "id": "3WgNku-ZcYA3"
      }
    },
    {
      "cell_type": "code",
      "source": [
        "# df[df[\"Annual_income\"].isnull()]"
      ],
      "metadata": {
        "id": "w0-tH0HI-2IG"
      },
      "execution_count": 23,
      "outputs": []
    },
    {
      "cell_type": "code",
      "source": [
        "# sum(list(df[\"Type_Occupation\"].value_counts().values))"
      ],
      "metadata": {
        "id": "W-p_89fk-8Y1"
      },
      "execution_count": 24,
      "outputs": []
    },
    {
      "cell_type": "code",
      "source": [
        "# df[df[\"Type_Occupation\"].isnull()]"
      ],
      "metadata": {
        "id": "w3ot_6i9-8WG"
      },
      "execution_count": 25,
      "outputs": []
    },
    {
      "cell_type": "code",
      "source": [
        "df.isnull().sum()"
      ],
      "metadata": {
        "colab": {
          "base_uri": "https://localhost:8080/"
        },
        "id": "XOyZEZY6SLzh",
        "outputId": "a3924ac0-b7df-41cb-b601-8ccaffaff8f4"
      },
      "execution_count": 26,
      "outputs": [
        {
          "output_type": "execute_result",
          "data": {
            "text/plain": [
              "Ind_ID               0\n",
              "GENDER               7\n",
              "Car_Owner            0\n",
              "Propert_Owner        0\n",
              "CHILDREN             0\n",
              "Annual_income       23\n",
              "Type_Income          0\n",
              "EDUCATION            0\n",
              "Housing_type         0\n",
              "Age                 22\n",
              "Experience           0\n",
              "Type_Occupation    488\n",
              "Family_Members       0\n",
              "label                0\n",
              "dtype: int64"
            ]
          },
          "metadata": {},
          "execution_count": 26
        }
      ]
    },
    {
      "cell_type": "markdown",
      "source": [
        "#####Column : Type of Occupation"
      ],
      "metadata": {
        "id": "4_wPuim2FIin"
      }
    },
    {
      "cell_type": "code",
      "source": [
        "# df[\"Type_Occupation\"].fillna(\"Missing\", inplace = True)"
      ],
      "metadata": {
        "id": "7PbZPJmXzHxC"
      },
      "execution_count": 27,
      "outputs": []
    },
    {
      "cell_type": "code",
      "source": [
        "df[\"Type_Occupation\"].unique()"
      ],
      "metadata": {
        "colab": {
          "base_uri": "https://localhost:8080/"
        },
        "id": "cEAbpTOUvm9X",
        "outputId": "8d2a41f9-afe2-407d-c763-71fc90a2f675"
      },
      "execution_count": 28,
      "outputs": [
        {
          "output_type": "execute_result",
          "data": {
            "text/plain": [
              "array([nan, 'Core staff', 'Cooking staff', 'Laborers', 'Sales staff',\n",
              "       'Accountants', 'High skill tech staff', 'Managers',\n",
              "       'Cleaning staff', 'Drivers', 'Low-skill Laborers', 'IT staff',\n",
              "       'Waiters/barmen staff', 'Security staff', 'Medicine staff',\n",
              "       'Private service staff', 'HR staff', 'Secretaries',\n",
              "       'Realty agents'], dtype=object)"
            ]
          },
          "metadata": {},
          "execution_count": 28
        }
      ]
    },
    {
      "cell_type": "code",
      "source": [
        "plt.figure(figsize = (25,10))\n",
        "plt.bar(df[\"Type_Occupation\"].value_counts().index,df[\"Type_Occupation\"].value_counts().values)\n",
        "plt.show()"
      ],
      "metadata": {
        "colab": {
          "base_uri": "https://localhost:8080/",
          "height": 0
        },
        "id": "23cUUS8VygFl",
        "outputId": "cfc5f592-92d5-44a0-897c-866dea81e839"
      },
      "execution_count": 29,
      "outputs": [
        {
          "output_type": "display_data",
          "data": {
            "text/plain": [
              "<Figure size 1800x720 with 1 Axes>"
            ],
            "image/png": "[encoded data removed]"
          },
          "metadata": {
            "needs_background": "light"
          }
        }
      ]
    },
    {
      "cell_type": "code",
      "source": [
        "fig = plt.figure()\n",
        "ax = fig.add_subplot(111)\n",
        "df[df[\"Type_Occupation\"]==\"Laborers\"][\"label\"].plot(kind=\"kde\", ax = ax)\n",
        "df[df[\"Type_Occupation\"].isnull()][\"label\"].plot(kind=\"kde\", ax = ax, color = \"r\")"
      ],
      "metadata": {
        "colab": {
          "base_uri": "https://localhost:8080/",
          "height": 0
        },
        "id": "Gk1oaNinsFUS",
        "outputId": "c2572ba7-6b02-4feb-c0ae-fbf9b7ab9ae1"
      },
      "execution_count": 30,
      "outputs": [
        {
          "output_type": "execute_result",
          "data": {
            "text/plain": [
              "<Axes: ylabel='Density'>"
            ]
          },
          "metadata": {},
          "execution_count": 30
        },
        {
          "output_type": "display_data",
          "data": {
            "text/plain": [
              "<Figure size 432x288 with 1 Axes>"
            ],
            "image/png": "[encoded data removed]"
          },
          "metadata": {
            "needs_background": "light"
          }
        }
      ]
    },
    {
      "cell_type": "code",
      "source": [
        "gg = df[df[\"Type_Occupation\"]==\"Laborers\"][\"label\"]"
      ],
      "metadata": {
        "id": "g4FY1GuhwV_h"
      },
      "execution_count": 31,
      "outputs": []
    },
    {
      "cell_type": "code",
      "source": [
        "df[\"Type_Occupation\"].fillna(\"Laborers\", inplace = True)"
      ],
      "metadata": {
        "id": "NPge6PUGuS4X"
      },
      "execution_count": 32,
      "outputs": []
    },
    {
      "cell_type": "code",
      "source": [
        "fig = plt.figure()\n",
        "ax = fig.add_subplot(111)\n",
        "gg.plot(kind=\"kde\", ax = ax)\n",
        "df[df[\"Type_Occupation\"]==\"Laborers\"][\"label\"].plot(kind=\"kde\", ax = ax, color = \"r\")"
      ],
      "metadata": {
        "colab": {
          "base_uri": "https://localhost:8080/",
          "height": 0
        },
        "id": "U-yjWec4uMyR",
        "outputId": "0de5d548-6a3e-41a6-88c0-473e4d56fcde"
      },
      "execution_count": 33,
      "outputs": [
        {
          "output_type": "execute_result",
          "data": {
            "text/plain": [
              "<Axes: ylabel='Density'>"
            ]
          },
          "metadata": {},
          "execution_count": 33
        },
        {
          "output_type": "display_data",
          "data": {
            "text/plain": [
              "<Figure size 432x288 with 1 Axes>"
            ],
            "image/png": "[encoded data removed]"
          },
          "metadata": {
            "needs_background": "light"
          }
        }
      ]
    },
    {
      "cell_type": "code",
      "source": [
        "# df.drop('Type_Occupation', axis = 1, inplace = True)"
      ],
      "metadata": {
        "id": "ZVM2VNNAzy2z"
      },
      "execution_count": 34,
      "outputs": []
    },
    {
      "cell_type": "markdown",
      "source": [
        "#####Column : Annual Income"
      ],
      "metadata": {
        "id": "xJdZV2cjFe8x"
      }
    },
    {
      "cell_type": "code",
      "source": [
        "from sklearn.impute import KNNImputer \n",
        "knn_imputer = KNNImputer(n_neighbors=5) \n",
        "income_reshape = np.array(df[\"Annual_income\"]).reshape(-1, 1)\n",
        "df[\"Annual_income\"] = knn_imputer.fit_transform(income_reshape)\n",
        "sns.histplot(df[\"Annual_income\"], kde = True)"
      ],
      "metadata": {
        "colab": {
          "base_uri": "https://localhost:8080/",
          "height": 0
        },
        "id": "PDEoiRNCE2rQ",
        "outputId": "cfd29ef0-5331-4e38-9ad6-175c6f521404"
      },
      "execution_count": 35,
      "outputs": [
        {
          "output_type": "execute_result",
          "data": {
            "text/plain": [
              "<Axes: xlabel='Annual_income', ylabel='Count'>"
            ]
          },
          "metadata": {},
          "execution_count": 35
        },
        {
          "output_type": "display_data",
          "data": {
            "text/plain": [
              "<Figure size 432x288 with 1 Axes>"
            ],
            "image/png": "[encoded data removed]"
          },
          "metadata": {
            "needs_background": "light"
          }
        }
      ]
    },
    {
      "cell_type": "code",
      "source": [
        "# from sklearn.impute import SimpleImputer \n",
        "# median_imputer = SimpleImputer(strategy='median') \n",
        "# income_reshape = np.array(df[\"Annual_income\"]).reshape(-1, 1)\n",
        "# df[\"Annual_income\"] = median_imputer.fit_transform(income_reshape)\n",
        "# sns.histplot(df[\"Annual_income\"], kde = True)"
      ],
      "metadata": {
        "id": "Xp3a10jzvIzb"
      },
      "execution_count": 36,
      "outputs": []
    },
    {
      "cell_type": "markdown",
      "source": [
        "#####Column : Age"
      ],
      "metadata": {
        "id": "zfrLMKlIGKQm"
      }
    },
    {
      "cell_type": "code",
      "source": [
        "from sklearn.impute import KNNImputer \n",
        "knn_imputer_age = KNNImputer(n_neighbors=5) \n",
        "income_reshape = np.array(df[\"Age\"]).reshape(-1, 1)\n",
        "df[\"Age\"] = knn_imputer_age.fit_transform(income_reshape)\n",
        "sns.histplot(df[\"Age\"], kde = True)"
      ],
      "metadata": {
        "colab": {
          "base_uri": "https://localhost:8080/",
          "height": 0
        },
        "id": "FJrYkCRYGK5I",
        "outputId": "819810b4-f28e-4de4-d7de-c8756a6794ad"
      },
      "execution_count": 37,
      "outputs": [
        {
          "output_type": "execute_result",
          "data": {
            "text/plain": [
              "<Axes: xlabel='Age', ylabel='Count'>"
            ]
          },
          "metadata": {},
          "execution_count": 37
        },
        {
          "output_type": "display_data",
          "data": {
            "text/plain": [
              "<Figure size 432x288 with 1 Axes>"
            ],
            "image/png": "[encoded data removed]"
          },
          "metadata": {
            "needs_background": "light"
          }
        }
      ]
    },
    {
      "cell_type": "code",
      "source": [
        "# from sklearn.impute import SimpleImputer \n",
        "# median_imputer_age = SimpleImputer(strategy='mean') \n",
        "# age_reshape = np.array(df[\"Age\"]).reshape(-1, 1)\n",
        "# df[\"Age\"] = median_imputer_age.fit_transform(age_reshape)\n",
        "# sns.histplot(df[\"Age\"], kde = True)"
      ],
      "metadata": {
        "id": "SVdvtzhW2yND"
      },
      "execution_count": 38,
      "outputs": []
    },
    {
      "cell_type": "markdown",
      "source": [
        "####Dealing with Outliers."
      ],
      "metadata": {
        "id": "ypsJjej6ZoKu"
      }
    },
    {
      "cell_type": "markdown",
      "source": [
        "#####Age"
      ],
      "metadata": {
        "id": "MqQ5c0TOZpne"
      }
    },
    {
      "cell_type": "code",
      "source": [
        "q3_age = df[\"Age\"].quantile(0.75)\n",
        "q1_age = df[\"Age\"].quantile(0.25)\n",
        "iqr_age = q3_age - q1_age\n",
        "upper_age = q3_age + (1.5*iqr_age)\n",
        "inner_age = q1_age - (1.5*iqr_age)\n",
        "df.drop(df[(df[\"Age\"]>upper_age)].index, inplace=True)\n",
        "df.drop(df[(df[\"Age\"]<inner_age)].index, inplace=True)"
      ],
      "metadata": {
        "id": "dxTzdidNZWyG"
      },
      "execution_count": 39,
      "outputs": []
    },
    {
      "cell_type": "code",
      "source": [
        "sns.boxplot(df[\"Age\"])\n",
        "plt.show()"
      ],
      "metadata": {
        "colab": {
          "base_uri": "https://localhost:8080/",
          "height": 0
        },
        "id": "V50YhiS8ZWvt",
        "outputId": "d795156a-c1da-43d6-9d51-e4ab0be46276"
      },
      "execution_count": 40,
      "outputs": [
        {
          "output_type": "display_data",
          "data": {
            "text/plain": [
              "<Figure size 432x288 with 1 Axes>"
            ],
            "image/png": "[encoded data removed]"
          },
          "metadata": {
            "needs_background": "light"
          }
        }
      ]
    },
    {
      "cell_type": "code",
      "source": [
        "plt.hist(df[\"Age\"])\n",
        "plt.show()"
      ],
      "metadata": {
        "colab": {
          "base_uri": "https://localhost:8080/",
          "height": 0
        },
        "id": "fxjJXCi2ZWtF",
        "outputId": "0260e476-848b-4af7-ad2b-1d77e018dcf2"
      },
      "execution_count": 41,
      "outputs": [
        {
          "output_type": "display_data",
          "data": {
            "text/plain": [
              "<Figure size 432x288 with 1 Axes>"
            ],
            "image/png": "[encoded data removed]"
          },
          "metadata": {
            "needs_background": "light"
          }
        }
      ]
    },
    {
      "cell_type": "markdown",
      "source": [
        "#####Children"
      ],
      "metadata": {
        "id": "Rv-JIQ7TZwYX"
      }
    },
    {
      "cell_type": "code",
      "source": [
        "q3_child = df[\"CHILDREN\"].quantile(0.75)\n",
        "q1_child = df[\"CHILDREN\"].quantile(0.25)\n",
        "iqr_child = q3_child - q1_child\n",
        "upper_child = q3_child + (1.5*iqr_child)\n",
        "lower_child = q1_child - (1.5*iqr_child)\n",
        "df.drop(df[(df[\"CHILDREN\"]>upper_child)].index, inplace=True)\n",
        "df.drop(df[(df[\"CHILDREN\"]<lower_child)].index, inplace=True)"
      ],
      "metadata": {
        "id": "XLC1000hZWqf"
      },
      "execution_count": 42,
      "outputs": []
    },
    {
      "cell_type": "code",
      "source": [
        "sns.boxplot(df[\"CHILDREN\"])\n",
        "plt.show()"
      ],
      "metadata": {
        "colab": {
          "base_uri": "https://localhost:8080/",
          "height": 0
        },
        "id": "dArIKNbmZWoK",
        "outputId": "21094300-d07a-44b9-da5f-fd671b66968e"
      },
      "execution_count": 43,
      "outputs": [
        {
          "output_type": "display_data",
          "data": {
            "text/plain": [
              "<Figure size 432x288 with 1 Axes>"
            ],
            "image/png": "[encoded data removed]"
          },
          "metadata": {
            "needs_background": "light"
          }
        }
      ]
    },
    {
      "cell_type": "code",
      "source": [
        "plt.hist(df[\"CHILDREN\"])\n",
        "plt.show()"
      ],
      "metadata": {
        "colab": {
          "base_uri": "https://localhost:8080/",
          "height": 0
        },
        "id": "3HBMFff6ZWlZ",
        "outputId": "7d5052cb-f804-420e-ccb6-9388218879eb"
      },
      "execution_count": 44,
      "outputs": [
        {
          "output_type": "display_data",
          "data": {
            "text/plain": [
              "<Figure size 432x288 with 1 Axes>"
            ],
            "image/png": "[encoded data removed]"
          },
          "metadata": {
            "needs_background": "light"
          }
        }
      ]
    },
    {
      "cell_type": "markdown",
      "source": [
        "#####Family Members"
      ],
      "metadata": {
        "id": "JPF_dfqqaNJp"
      }
    },
    {
      "cell_type": "code",
      "source": [
        "q3_fam = df[\"Family_Members\"].quantile(0.75)\n",
        "q1_fam = df[\"Family_Members\"].quantile(0.25)\n",
        "iqr_fam = q3_fam - q1_fam\n",
        "upper_fam_member = q3_fam + (1.5*iqr_fam)\n",
        "lower_fam_member = q1_fam - (1.5*iqr_fam)\n",
        "df.drop(df[(df[\"Family_Members\"]>upper_fam_member)].index, inplace=True)"
      ],
      "metadata": {
        "id": "DcWqWoTvZWi-"
      },
      "execution_count": 45,
      "outputs": []
    },
    {
      "cell_type": "code",
      "source": [
        "sns.boxplot(df[\"Family_Members\"])\n",
        "plt.show()"
      ],
      "metadata": {
        "colab": {
          "base_uri": "https://localhost:8080/",
          "height": 0
        },
        "id": "ZdeiIR3gZWgO",
        "outputId": "e661fa5a-4bbb-4a46-e7e6-099b42bb53c0"
      },
      "execution_count": 46,
      "outputs": [
        {
          "output_type": "display_data",
          "data": {
            "text/plain": [
              "<Figure size 432x288 with 1 Axes>"
            ],
            "image/png": "[encoded data removed]"
          },
          "metadata": {
            "needs_background": "light"
          }
        }
      ]
    },
    {
      "cell_type": "code",
      "source": [
        "plt.hist(df[\"Family_Members\"])\n",
        "plt.show()"
      ],
      "metadata": {
        "colab": {
          "base_uri": "https://localhost:8080/",
          "height": 0
        },
        "id": "zwR90D3KZWF-",
        "outputId": "1b268879-0951-46d5-cba2-f6b8fd74ef44"
      },
      "execution_count": 47,
      "outputs": [
        {
          "output_type": "display_data",
          "data": {
            "text/plain": [
              "<Figure size 432x288 with 1 Axes>"
            ],
            "image/png": "[encoded data removed]"
          },
          "metadata": {
            "needs_background": "light"
          }
        }
      ]
    },
    {
      "cell_type": "markdown",
      "source": [
        "#####Experience"
      ],
      "metadata": {
        "id": "OJH1FG-SaTXG"
      }
    },
    {
      "cell_type": "code",
      "source": [
        "q3_exp = df[\"Experience\"].quantile(0.75)\n",
        "q1_exp = df[\"Experience\"].quantile(0.25)\n",
        "iqr_exp = q3_exp - q1_exp\n",
        "upper_exp = q3_exp + (1.5*iqr_exp)\n",
        "lower_exp = q1_exp - (1.5*iqr_exp)\n",
        "df.drop(df[df[\"Experience\"]>upper_exp].index, inplace=True)"
      ],
      "metadata": {
        "id": "UE9cAHJcaDt4"
      },
      "execution_count": 48,
      "outputs": []
    },
    {
      "cell_type": "code",
      "source": [
        "sns.boxplot(df[\"Experience\"])\n",
        "plt.show()"
      ],
      "metadata": {
        "colab": {
          "base_uri": "https://localhost:8080/",
          "height": 0
        },
        "id": "vx8w_GLbaDwZ",
        "outputId": "b55785bd-e094-4a32-e9aa-9b73f26f7e9a"
      },
      "execution_count": 49,
      "outputs": [
        {
          "output_type": "display_data",
          "data": {
            "text/plain": [
              "<Figure size 432x288 with 1 Axes>"
            ],
            "image/png": "[encoded data removed]"
          },
          "metadata": {
            "needs_background": "light"
          }
        }
      ]
    },
    {
      "cell_type": "code",
      "source": [
        "plt.hist(df[\"Experience\"])\n",
        "plt.show()"
      ],
      "metadata": {
        "colab": {
          "base_uri": "https://localhost:8080/",
          "height": 0
        },
        "id": "lvj2XLx8aWAy",
        "outputId": "50a92ae8-7365-498c-9a79-a7df874bbf07"
      },
      "execution_count": 50,
      "outputs": [
        {
          "output_type": "display_data",
          "data": {
            "text/plain": [
              "<Figure size 432x288 with 1 Axes>"
            ],
            "image/png": "[encoded data removed]"
          },
          "metadata": {
            "needs_background": "light"
          }
        }
      ]
    },
    {
      "cell_type": "markdown",
      "source": [
        "####Duplicates"
      ],
      "metadata": {
        "id": "qZYsilmzvTwC"
      }
    },
    {
      "cell_type": "code",
      "source": [
        "df.shape"
      ],
      "metadata": {
        "colab": {
          "base_uri": "https://localhost:8080/"
        },
        "id": "vaRcovQ07w7u",
        "outputId": "ab5f66e6-c3f1-47c4-97c2-5ff18455c3a9"
      },
      "execution_count": 51,
      "outputs": [
        {
          "output_type": "execute_result",
          "data": {
            "text/plain": [
              "(1448, 14)"
            ]
          },
          "metadata": {},
          "execution_count": 51
        }
      ]
    },
    {
      "cell_type": "code",
      "source": [
        "df.dropna(inplace = True)"
      ],
      "metadata": {
        "id": "dlGXo5B-7tnH"
      },
      "execution_count": 52,
      "outputs": []
    },
    {
      "cell_type": "code",
      "source": [
        "df.drop_duplicates(inplace = True)"
      ],
      "metadata": {
        "id": "3MOuwdDSjpVS"
      },
      "execution_count": 53,
      "outputs": []
    },
    {
      "cell_type": "code",
      "source": [
        "df.shape"
      ],
      "metadata": {
        "colab": {
          "base_uri": "https://localhost:8080/"
        },
        "id": "KImdg1XmjxNY",
        "outputId": "14dc3eaf-9da4-4d89-8c7a-529e98ee575f"
      },
      "execution_count": 54,
      "outputs": [
        {
          "output_type": "execute_result",
          "data": {
            "text/plain": [
              "(1441, 14)"
            ]
          },
          "metadata": {},
          "execution_count": 54
        }
      ]
    },
    {
      "cell_type": "code",
      "source": [
        "df.drop([\"Ind_ID\"], axis=1, inplace=True)"
      ],
      "metadata": {
        "id": "b-79rizRvSiP"
      },
      "execution_count": 55,
      "outputs": []
    },
    {
      "cell_type": "code",
      "source": [
        "df.shape"
      ],
      "metadata": {
        "colab": {
          "base_uri": "https://localhost:8080/"
        },
        "id": "ppKFvWwFjynC",
        "outputId": "9d8f21e6-b40a-4a42-f794-15c8a8a9b9b9"
      },
      "execution_count": 56,
      "outputs": [
        {
          "output_type": "execute_result",
          "data": {
            "text/plain": [
              "(1441, 13)"
            ]
          },
          "metadata": {},
          "execution_count": 56
        }
      ]
    },
    {
      "cell_type": "code",
      "source": [
        "corr_df_new = df.corr()"
      ],
      "metadata": {
        "id": "jM92C7n2UlIe"
      },
      "execution_count": 57,
      "outputs": []
    },
    {
      "cell_type": "code",
      "source": [
        "top_corr_fig = corr_df_new.index\n",
        "plt.figure(figsize=(10,10))\n",
        "sns.heatmap(df[top_corr_fig].corr(), annot=True, cmap =\"RdYlGn\")\n",
        "plt.show()"
      ],
      "metadata": {
        "colab": {
          "base_uri": "https://localhost:8080/",
          "height": 0
        },
        "id": "0FMm6Id9UqLB",
        "outputId": "c7572f21-9c50-4c21-c71f-c27b60a64444"
      },
      "execution_count": 58,
      "outputs": [
        {
          "output_type": "display_data",
          "data": {
            "text/plain": [
              "<Figure size 720x720 with 2 Axes>"
            ],
            "image/png": "[encoded data removed]"
          },
          "metadata": {
            "needs_background": "light"
          }
        }
      ]
    },
    {
      "cell_type": "markdown",
      "source": [
        "#**EXPLORATORY DATA ANALYSIS**"
      ],
      "metadata": {
        "id": "ZFGzOZYyZ_lH"
      }
    },
    {
      "cell_type": "code",
      "source": [
        "df.head()"
      ],
      "metadata": {
        "colab": {
          "base_uri": "https://localhost:8080/",
          "height": 0
        },
        "id": "iew29HPzZBPf",
        "outputId": "0489a9c8-9a34-422c-c580-d164142ee277"
      },
      "execution_count": 59,
      "outputs": [
        {
          "output_type": "execute_result",
          "data": {
            "text/plain": [
              "   GENDER  Car_Owner  Propert_Owner  CHILDREN  Annual_income  \\\n",
              "0     1.0          1              1         0   180000.00000   \n",
              "1     0.0          1              0         0   315000.00000   \n",
              "2     0.0          1              0         0   315000.00000   \n",
              "3     0.0          1              0         0   191399.32623   \n",
              "4     0.0          1              0         0   315000.00000   \n",
              "\n",
              "            Type_Income         EDUCATION       Housing_type        Age  \\\n",
              "0             Pensioner  Higher education  House / apartment  51.000000   \n",
              "1  Commercial associate  Higher education  House / apartment  37.000000   \n",
              "2  Commercial associate  Higher education  House / apartment  43.952818   \n",
              "3  Commercial associate  Higher education  House / apartment  37.000000   \n",
              "4  Commercial associate  Higher education  House / apartment  37.000000   \n",
              "\n",
              "   Experience Type_Occupation  Family_Members  label  \n",
              "0         0.0        Laborers               2      1  \n",
              "1         1.6        Laborers               2      1  \n",
              "2         1.6        Laborers               2      1  \n",
              "3         1.6        Laborers               2      1  \n",
              "4         1.6        Laborers               2      1  "
            ],
            "text/html": [
              "\n",
              "  <div id=\"df-cbfdef3c-39b7-4efe-8ce2-a7b2e19b85cd\">\n",
              "    <div class=\"colab-df-container\">\n",
              "      <div>\n",
              "<style scoped>\n",
              "    .dataframe tbody tr th:only-of-type {\n",
              "        vertical-align: middle;\n",
              "    }\n",
              "\n",
              "    .dataframe tbody tr th {\n",
              "        vertical-align: top;\n",
              "    }\n",
              "\n",
              "    .dataframe thead th {\n",
              "        text-align: right;\n",
              "    }\n",
              "</style>\n",
              "<table border=\"1\" class=\"dataframe\">\n",
              "  <thead>\n",
              "    <tr style=\"text-align: right;\">\n",
              "      <th></th>\n",
              "      <th>GENDER</th>\n",
              "      <th>Car_Owner</th>\n",
              "      <th>Propert_Owner</th>\n",
              "      <th>CHILDREN</th>\n",
              "      <th>Annual_income</th>\n",
              "      <th>Type_Income</th>\n",
              "      <th>EDUCATION</th>\n",
              "      <th>Housing_type</th>\n",
              "      <th>Age</th>\n",
              "      <th>Experience</th>\n",
              "      <th>Type_Occupation</th>\n",
              "      <th>Family_Members</th>\n",
              "      <th>label</th>\n",
              "    </tr>\n",
              "  </thead>\n",
              "  <tbody>\n",
              "    <tr>\n",
              "      <th>0</th>\n",
              "      <td>1.0</td>\n",
              "      <td>1</td>\n",
              "      <td>1</td>\n",
              "      <td>0</td>\n",
              "      <td>180000.00000</td>\n",
              "      <td>Pensioner</td>\n",
              "      <td>Higher education</td>\n",
              "      <td>House / apartment</td>\n",
              "      <td>51.000000</td>\n",
              "      <td>0.0</td>\n",
              "      <td>Laborers</td>\n",
              "      <td>2</td>\n",
              "      <td>1</td>\n",
              "    </tr>\n",
              "    <tr>\n",
              "      <th>1</th>\n",
              "      <td>0.0</td>\n",
              "      <td>1</td>\n",
              "      <td>0</td>\n",
              "      <td>0</td>\n",
              "      <td>315000.00000</td>\n",
              "      <td>Commercial associate</td>\n",
              "      <td>Higher education</td>\n",
              "      <td>House / apartment</td>\n",
              "      <td>37.000000</td>\n",
              "      <td>1.6</td>\n",
              "      <td>Laborers</td>\n",
              "      <td>2</td>\n",
              "      <td>1</td>\n",
              "    </tr>\n",
              "    <tr>\n",
              "      <th>2</th>\n",
              "      <td>0.0</td>\n",
              "      <td>1</td>\n",
              "      <td>0</td>\n",
              "      <td>0</td>\n",
              "      <td>315000.00000</td>\n",
              "      <td>Commercial associate</td>\n",
              "      <td>Higher education</td>\n",
              "      <td>House / apartment</td>\n",
              "      <td>43.952818</td>\n",
              "      <td>1.6</td>\n",
              "      <td>Laborers</td>\n",
              "      <td>2</td>\n",
              "      <td>1</td>\n",
              "    </tr>\n",
              "    <tr>\n",
              "      <th>3</th>\n",
              "      <td>0.0</td>\n",
              "      <td>1</td>\n",
              "      <td>0</td>\n",
              "      <td>0</td>\n",
              "      <td>191399.32623</td>\n",
              "      <td>Commercial associate</td>\n",
              "      <td>Higher education</td>\n",
              "      <td>House / apartment</td>\n",
              "      <td>37.000000</td>\n",
              "      <td>1.6</td>\n",
              "      <td>Laborers</td>\n",
              "      <td>2</td>\n",
              "      <td>1</td>\n",
              "    </tr>\n",
              "    <tr>\n",
              "      <th>4</th>\n",
              "      <td>0.0</td>\n",
              "      <td>1</td>\n",
              "      <td>0</td>\n",
              "      <td>0</td>\n",
              "      <td>315000.00000</td>\n",
              "      <td>Commercial associate</td>\n",
              "      <td>Higher education</td>\n",
              "      <td>House / apartment</td>\n",
              "      <td>37.000000</td>\n",
              "      <td>1.6</td>\n",
              "      <td>Laborers</td>\n",
              "      <td>2</td>\n",
              "      <td>1</td>\n",
              "    </tr>\n",
              "  </tbody>\n",
              "</table>\n",
              "</div>\n",
              "      <button class=\"colab-df-convert\" onclick=\"convertToInteractive('df-cbfdef3c-39b7-4efe-8ce2-a7b2e19b85cd')\"\n",
              "              title=\"Convert this dataframe to an interactive table.\"\n",
              "              style=\"display:none;\">\n",
              "        \n",
              "  <svg xmlns=\"http://www.w3.org/2000/svg\" height=\"24px\"viewBox=\"0 0 24 24\"\n",
              "       width=\"24px\">\n",
              "    <path d=\"M0 0h24v24H0V0z\" fill=\"none\"/>\n",
              "    <path d=\"M18.56 5.44l.94 2.06.94-2.06 2.06-.94-2.06-.94-.94-2.06-.94 2.06-2.06.94zm-11 1L8.5 8.5l.94-2.06 2.06-.94-2.06-.94L8.5 2.5l-.94 2.06-2.06.94zm10 10l.94 2.06.94-2.06 2.06-.94-2.06-.94-.94-2.06-.94 2.06-2.06.94z\"/><path d=\"M17.41 7.96l-1.37-1.37c-.4-.4-.92-.59-1.43-.59-.52 0-1.04.2-1.43.59L10.3 9.45l-7.72 7.72c-.78.78-.78 2.05 0 2.83L4 21.41c.39.39.9.59 1.41.59.51 0 1.02-.2 1.41-.59l7.78-7.78 2.81-2.81c.8-.78.8-2.07 0-2.86zM5.41 20L4 18.59l7.72-7.72 1.47 1.35L5.41 20z\"/>\n",
              "  </svg>\n",
              "      </button>\n",
              "      \n",
              "  <style>\n",
              "    .colab-df-container {\n",
              "      display:flex;\n",
              "      flex-wrap:wrap;\n",
              "      gap: 12px;\n",
              "    }\n",
              "\n",
              "    .colab-df-convert {\n",
              "      background-color: #E8F0FE;\n",
              "      border: none;\n",
              "      border-radius: 50%;\n",
              "      cursor: pointer;\n",
              "      display: none;\n",
              "      fill: #1967D2;\n",
              "      height: 32px;\n",
              "      padding: 0 0 0 0;\n",
              "      width: 32px;\n",
              "    }\n",
              "\n",
              "    .colab-df-convert:hover {\n",
              "      background-color: #E2EBFA;\n",
              "      box-shadow: 0px 1px 2px rgba(60, 64, 67, 0.3), 0px 1px 3px 1px rgba(60, 64, 67, 0.15);\n",
              "      fill: #174EA6;\n",
              "    }\n",
              "\n",
              "    [theme=dark] .colab-df-convert {\n",
              "      background-color: #3B4455;\n",
              "      fill: #D2E3FC;\n",
              "    }\n",
              "\n",
              "    [theme=dark] .colab-df-convert:hover {\n",
              "      background-color: #434B5C;\n",
              "      box-shadow: 0px 1px 3px 1px rgba(0, 0, 0, 0.15);\n",
              "      filter: drop-shadow(0px 1px 2px rgba(0, 0, 0, 0.3));\n",
              "      fill: #FFFFFF;\n",
              "    }\n",
              "  </style>\n",
              "\n",
              "      <script>\n",
              "        const buttonEl =\n",
              "          document.querySelector('#df-cbfdef3c-39b7-4efe-8ce2-a7b2e19b85cd button.colab-df-convert');\n",
              "        buttonEl.style.display =\n",
              "          google.colab.kernel.accessAllowed ? 'block' : 'none';\n",
              "\n",
              "        async function convertToInteractive(key) {\n",
              "          const element = document.querySelector('#df-cbfdef3c-39b7-4efe-8ce2-a7b2e19b85cd');\n",
              "          const dataTable =\n",
              "            await google.colab.kernel.invokeFunction('convertToInteractive',\n",
              "                                                     [key], {});\n",
              "          if (!dataTable) return;\n",
              "\n",
              "          const docLinkHtml = 'Like what you see? Visit the ' +\n",
              "            '<a target=\"_blank\" href=https://colab.research.google.com/notebooks/data_table.ipynb>data table notebook</a>'\n",
              "            + ' to learn more about interactive tables.';\n",
              "          element.innerHTML = '';\n",
              "          dataTable['output_type'] = 'display_data';\n",
              "          await google.colab.output.renderOutput(dataTable, element);\n",
              "          const docLink = document.createElement('div');\n",
              "          docLink.innerHTML = docLinkHtml;\n",
              "          element.appendChild(docLink);\n",
              "        }\n",
              "      </script>\n",
              "    </div>\n",
              "  </div>\n",
              "  "
            ]
          },
          "metadata": {},
          "execution_count": 59
        }
      ]
    },
    {
      "cell_type": "markdown",
      "source": [
        "#####Univariate Analysis"
      ],
      "metadata": {
        "id": "mEl8SONedUdN"
      }
    },
    {
      "cell_type": "code",
      "source": [
        "# df.hist(bins = 30, figsize = (15,10))\n",
        "# plt.show()"
      ],
      "metadata": {
        "id": "8Uw2aBAVLISA"
      },
      "execution_count": 60,
      "outputs": []
    },
    {
      "cell_type": "code",
      "source": [
        "sns.countplot(x = \"label\", hue = \"Type_Income\", data = df)\n",
        "plt.show()"
      ],
      "metadata": {
        "colab": {
          "base_uri": "https://localhost:8080/",
          "height": 0
        },
        "id": "UeQOEbZsYjDX",
        "outputId": "41635d5b-2e52-4bf5-a21b-c231d5c506d0"
      },
      "execution_count": 61,
      "outputs": [
        {
          "output_type": "display_data",
          "data": {
            "text/plain": [
              "<Figure size 432x288 with 1 Axes>"
            ],
            "image/png": "[encoded data removed]"
          },
          "metadata": {
            "needs_background": "light"
          }
        }
      ]
    },
    {
      "cell_type": "code",
      "source": [
        "sns.countplot(x = \"label\", hue = \"Housing_type\", data = df)\n",
        "plt.show()"
      ],
      "metadata": {
        "colab": {
          "base_uri": "https://localhost:8080/",
          "height": 0
        },
        "id": "06Tbt5oCZMUY",
        "outputId": "ef8d5cb6-a99e-4f03-b7a8-440363e683d6"
      },
      "execution_count": 62,
      "outputs": [
        {
          "output_type": "display_data",
          "data": {
            "text/plain": [
              "<Figure size 432x288 with 1 Axes>"
            ],
            "image/png": "[encoded data removed]"
          },
          "metadata": {
            "needs_background": "light"
          }
        }
      ]
    },
    {
      "cell_type": "code",
      "source": [
        "plt.figure(figsize = (25,7))\n",
        "plt.subplot(1,2, 1)\n",
        "plt.title(\"Log of Annual Income\")\n",
        "plt.xlabel(\"Log of Annual Income\")\n",
        "sns.histplot(np.log(df[\"Annual_income\"]), kde =True, color =\"r\")\n",
        "plt.subplot(1, 2, 2)\n",
        "sns.histplot(df[\"Annual_income\"], kde = True, color =\"b\")\n",
        "plt.title(\"Annual Income\")\n",
        "plt.xlabel(\"Annual Income\")\n",
        "plt.show()"
      ],
      "metadata": {
        "colab": {
          "base_uri": "https://localhost:8080/",
          "height": 0
        },
        "id": "yVlwVbgVqgVO",
        "outputId": "b4217681-a9b8-4c84-f63e-c3ad20a6e637"
      },
      "execution_count": 63,
      "outputs": [
        {
          "output_type": "display_data",
          "data": {
            "text/plain": [
              "<Figure size 1800x504 with 2 Axes>"
            ],
            "image/png": "[encoded data removed]"
          },
          "metadata": {
            "needs_background": "light"
          }
        }
      ]
    },
    {
      "cell_type": "code",
      "source": [
        "plt.figure(figsize = (25,7))\n",
        "plt.subplot(1, 2, 1)\n",
        "plt.title(\"Log of Experience\")\n",
        "plt.xlabel(\"Log Experience\")\n",
        "sns.histplot(np.log(df[\"Experience\"]), kde =True, color =\"cyan\")\n",
        "plt.subplot(1, 2, 2)\n",
        "sns.histplot(df[\"Experience\"], kde = True, color = \"green\")\n",
        "plt.title(\"Experience\")\n",
        "plt.xlabel(\"Experience\")\n",
        "plt.show()"
      ],
      "metadata": {
        "colab": {
          "base_uri": "https://localhost:8080/",
          "height": 0
        },
        "id": "8sI-f_4cu772",
        "outputId": "bbe8c23e-d929-4cb9-e4d6-565617e5bdc4"
      },
      "execution_count": 64,
      "outputs": [
        {
          "output_type": "display_data",
          "data": {
            "text/plain": [
              "<Figure size 1800x504 with 2 Axes>"
            ],
            "image/png": "[encoded data removed]"
          },
          "metadata": {
            "needs_background": "light"
          }
        }
      ]
    },
    {
      "cell_type": "markdown",
      "source": [
        "The log transformation extract out all the values into the center of the distribution making it look more like a \"Normal distribution\""
      ],
      "metadata": {
        "id": "aEHOnv5d9qPs"
      }
    },
    {
      "cell_type": "markdown",
      "source": [
        "#####BivariateAnalysis"
      ],
      "metadata": {
        "id": "fhnuCbRRq1W0"
      }
    },
    {
      "cell_type": "code",
      "source": [
        "# cat = df[[\"Type_Income\", \"Annual_income\"]].groupby(['Type_Income'], as_index=False).sum().sort_values(by='Annual_income', ascending=False)\n",
        "cat = df[[\"Type_Income\", \"Annual_income\"]].groupby(['Type_Income'], as_index=False).sum()\n",
        "sns.barplot(x = \"Type_Income\", y = \"Annual_income\", data = cat)\n",
        "plt.title(\"Annual Income based on Occupation\")\n",
        "plt.xlabel(\"Occupation\")\n",
        "plt.ylabel(\"Annual Income\")\n",
        "plt.show()"
      ],
      "metadata": {
        "colab": {
          "base_uri": "https://localhost:8080/",
          "height": 0
        },
        "id": "b11lDm6_grFK",
        "outputId": "f8c64fc3-93ea-41ff-c5be-fd8536c46bd7"
      },
      "execution_count": 65,
      "outputs": [
        {
          "output_type": "display_data",
          "data": {
            "text/plain": [
              "<Figure size 432x288 with 1 Axes>"
            ],
            "image/png": "[encoded data removed]"
          },
          "metadata": {
            "needs_background": "light"
          }
        }
      ]
    },
    {
      "cell_type": "markdown",
      "source": [
        "Car and Property Analysis with respect to Annual Income"
      ],
      "metadata": {
        "id": "VeXyZFA0p9FP"
      }
    },
    {
      "cell_type": "code",
      "source": [
        "cat1 = df[[\"Car_Owner\",\"Propert_Owner\", \"Annual_income\"]].groupby(['Car_Owner','Propert_Owner'], as_index=False).agg({'Annual_income':'count','Annual_income':'max'})\n",
        "\n",
        "plt.figure(figsize = (25,7))\n",
        "plt.subplot(1, 4, 1)\n",
        "sns.barplot(x= \"Car_Owner\", y = \"Annual_income\", data = cat1)\n",
        "plt.title(\"Income Vs Car Owner\")\n",
        "plt.xlabel(\"Cars\")\n",
        "plt.ylabel(\"Income\")\n",
        "\n",
        "plt.subplot(1, 4, 2)\n",
        "sns.barplot(x = \"Propert_Owner\", y = \"Annual_income\", data = cat1)\n",
        "plt.title(\"Income Vs Property Owner\")\n",
        "plt.xlabel(\"Property\")\n",
        "plt.ylabel(\"Income\")\n",
        "plt.show()"
      ],
      "metadata": {
        "colab": {
          "base_uri": "https://localhost:8080/",
          "height": 0
        },
        "id": "-gK79QaLlXjC",
        "outputId": "c2027a9c-9188-45d5-acfe-89f1dde928be"
      },
      "execution_count": 66,
      "outputs": [
        {
          "output_type": "display_data",
          "data": {
            "text/plain": [
              "<Figure size 1800x504 with 2 Axes>"
            ],
            "image/png": "[encoded data removed]"
          },
          "metadata": {
            "needs_background": "light"
          }
        }
      ]
    },
    {
      "cell_type": "code",
      "source": [
        "exp1 = pd.cut(df[\"Experience\"], bins = list(np.arange(0,23,3)))\n",
        "print(\"Mean of Annual Income by the Age are :\\n\",df.groupby(exp1)[\"Annual_income\"].mean())\n",
        "\n",
        "cat2 = round(df[['Experience',\"Annual_income\"]].groupby(pd.cut(df[\"Experience\"], bins = list(np.arange(0,23,3))), as_index=False).mean(),1)\n",
        "plt.figure(figsize =(10,5))\n",
        "sns.barplot(x = \"Experience\", y = \"Annual_income\", data = cat2)\n",
        "plt.title(\"Annual Income Based on Experience\")\n",
        "plt.xlabel(\"Experience\")\n",
        "plt.ylabel(\"Annual Income\")\n",
        "plt.show()"
      ],
      "metadata": {
        "colab": {
          "base_uri": "https://localhost:8080/",
          "height": 0
        },
        "id": "XvSMqYllxs9U",
        "outputId": "a6e3dad8-9543-4ec2-c7f1-e8ed65e9f058"
      },
      "execution_count": 67,
      "outputs": [
        {
          "output_type": "stream",
          "name": "stdout",
          "text": [
            "Mean of Annual Income by the Age are :\n",
            " Experience\n",
            "(0, 3]      194214.622915\n",
            "(3, 6]      192750.460433\n",
            "(6, 9]      211179.138918\n",
            "(9, 12]     224182.825765\n",
            "(12, 15]    200101.973684\n",
            "(15, 18]    200531.250000\n",
            "(18, 21]    154782.000000\n",
            "Name: Annual_income, dtype: float64\n"
          ]
        },
        {
          "output_type": "display_data",
          "data": {
            "text/plain": [
              "<Figure size 720x360 with 1 Axes>"
            ],
            "image/png": "[encoded data removed]"
          },
          "metadata": {
            "needs_background": "light"
          }
        }
      ]
    },
    {
      "cell_type": "code",
      "source": [
        "age = pd.cut(df[\"Age\"], bins = [20,30,40,50,60,70])\n",
        "print(\"Mean of Annual Income by the Age are :\\n\",df.groupby(age)[\"Annual_income\"].mean())\n",
        "\n",
        "cat4 = round(df[['Age',\"Annual_income\"]].groupby(pd.cut(df[\"Age\"], bins = [20,30,40,50,60,70]), as_index=False).mean(),1)\n",
        "plt.figure(figsize =(10,5))\n",
        "sns.barplot(x = \"Age\", y = \"Annual_income\", data = cat4)\n",
        "plt.title(\"Annual Income based on Age\")\n",
        "plt.xlabel(\"Age\")\n",
        "plt.ylabel(\"Annual Income\")\n",
        "plt.show()"
      ],
      "metadata": {
        "colab": {
          "base_uri": "https://localhost:8080/",
          "height": 0
        },
        "id": "nMDGChYReVSY",
        "outputId": "499ba930-18bf-4ae2-99b1-6f0c0f6cc325"
      },
      "execution_count": 68,
      "outputs": [
        {
          "output_type": "stream",
          "name": "stdout",
          "text": [
            "Mean of Annual Income by the Age are :\n",
            " Age\n",
            "(20, 30]    207346.663672\n",
            "(30, 40]    192059.041696\n",
            "(40, 50]    211526.992134\n",
            "(50, 60]    172241.346457\n",
            "(60, 70]    154035.956681\n",
            "Name: Annual_income, dtype: float64\n"
          ]
        },
        {
          "output_type": "display_data",
          "data": {
            "text/plain": [
              "<Figure size 720x360 with 1 Axes>"
            ],
            "image/png": "[encoded data removed]"
          },
          "metadata": {
            "needs_background": "light"
          }
        }
      ]
    },
    {
      "cell_type": "markdown",
      "source": [
        "#####Multivariate Analysis"
      ],
      "metadata": {
        "id": "1r8hMduhPli_"
      }
    },
    {
      "cell_type": "code",
      "source": [
        "exp1 = pd.cut(df[\"Experience\"], bins = list(np.arange(0,22,2)))\n",
        "print(\"Mean of Annual Income by the Age are :\\n\",df.groupby(exp1)[\"label\"].mean())\n",
        "\n",
        "cat3 = round(df[['Experience',\"Annual_income\", \"label\"]].groupby(pd.cut(df[\"Experience\"], bins = list(np.arange(0,22,2))), as_index=False).mean(),1)\n",
        "plt.figure(figsize =(50,10))\n",
        "plt.subplot(1, 4, 1)\n",
        "sns.barplot(x = \"Experience\", y = \"label\", data = cat3)\n",
        "plt.title(\"Probability of Credit Card Approval Based on Experience\", fontsize = 15)\n",
        "plt.xlabel(\"Experience\")\n",
        "plt.ylabel(\"label\")\n",
        "\n",
        "plt.subplot(1, 4, 2)\n",
        "sns.barplot(x = \"Annual_income\", y = \"label\", data = cat3)\n",
        "plt.title(\"Probability of Credit Card Approval Based on Annual Income\", fontsize = 15)\n",
        "plt.xlabel(\"Annual Income\")\n",
        "plt.ylabel(\"label\")\n",
        "plt.show()"
      ],
      "metadata": {
        "colab": {
          "base_uri": "https://localhost:8080/",
          "height": 0
        },
        "id": "WFoL-rX5FThc",
        "outputId": "b2eb065b-fcc5-4c2b-bab1-eef781c31b98"
      },
      "execution_count": 69,
      "outputs": [
        {
          "output_type": "stream",
          "name": "stdout",
          "text": [
            "Mean of Annual Income by the Age are :\n",
            " Experience\n",
            "(0, 2]      0.164062\n",
            "(2, 4]      0.160000\n",
            "(4, 6]      0.083744\n",
            "(6, 8]      0.069182\n",
            "(8, 10]     0.085271\n",
            "(10, 12]    0.101449\n",
            "(12, 14]    0.043478\n",
            "(14, 16]    0.000000\n",
            "(16, 18]    0.000000\n",
            "(18, 20]    0.080000\n",
            "Name: label, dtype: float64\n"
          ]
        },
        {
          "output_type": "display_data",
          "data": {
            "text/plain": [
              "<Figure size 3600x720 with 2 Axes>"
            ],
            "image/png": "[encoded data removed]"
          },
          "metadata": {
            "needs_background": "light"
          }
        }
      ]
    },
    {
      "cell_type": "markdown",
      "source": [
        "- **OBSERVATIONS :-**\n",
        "* People have 0 to 4 Year of Experience have 20% chances to get the Credit Card.\n",
        "* Salary between 1.7 Lakhs to 2.25 Lakhs has 10% chances to get Credit Card.\n",
        "* Salary between 1.9 to 2 Lakhs Lakhs has 20% chances to get Credit Card."
      ],
      "metadata": {
        "id": "AhuqoGmlGvnL"
      }
    },
    {
      "cell_type": "markdown",
      "source": [
        "#**FEATURE ENGINEERING & SELECTION**"
      ],
      "metadata": {
        "id": "ILOSoyCrcpHs"
      }
    },
    {
      "cell_type": "markdown",
      "source": [
        "#####Spliting Data into Dependent(y) and Independent(X) Variable"
      ],
      "metadata": {
        "id": "6SzIGXozCcsZ"
      }
    },
    {
      "cell_type": "code",
      "source": [
        "df1 = df.iloc[:,:-1]\n",
        "y = df.iloc[:,-1]"
      ],
      "metadata": {
        "id": "14vp6uNAAQIT"
      },
      "execution_count": 70,
      "outputs": []
    },
    {
      "cell_type": "code",
      "source": [
        "X = pd.get_dummies(df1, drop_first = True)"
      ],
      "metadata": {
        "id": "tf3larJTzaQ1"
      },
      "execution_count": 71,
      "outputs": []
    },
    {
      "cell_type": "code",
      "source": [
        "X.head()"
      ],
      "metadata": {
        "colab": {
          "base_uri": "https://localhost:8080/",
          "height": 317
        },
        "id": "ocehRuQJ0M77",
        "outputId": "0335679a-fa95-42c3-c546-c0459e8e12dd"
      },
      "execution_count": 72,
      "outputs": [
        {
          "output_type": "execute_result",
          "data": {
            "text/plain": [
              "   GENDER  Car_Owner  Propert_Owner  CHILDREN  Annual_income        Age  \\\n",
              "0     1.0          1              1         0   180000.00000  51.000000   \n",
              "1     0.0          1              0         0   315000.00000  37.000000   \n",
              "2     0.0          1              0         0   315000.00000  43.952818   \n",
              "3     0.0          1              0         0   191399.32623  37.000000   \n",
              "4     0.0          1              0         0   315000.00000  37.000000   \n",
              "\n",
              "   Experience  Family_Members  Type_Income_Pensioner  \\\n",
              "0         0.0               2                      1   \n",
              "1         1.6               2                      0   \n",
              "2         1.6               2                      0   \n",
              "3         1.6               2                      0   \n",
              "4         1.6               2                      0   \n",
              "\n",
              "   Type_Income_State servant  ...  Type_Occupation_Laborers  \\\n",
              "0                          0  ...                         1   \n",
              "1                          0  ...                         1   \n",
              "2                          0  ...                         1   \n",
              "3                          0  ...                         1   \n",
              "4                          0  ...                         1   \n",
              "\n",
              "   Type_Occupation_Low-skill Laborers  Type_Occupation_Managers  \\\n",
              "0                                   0                         0   \n",
              "1                                   0                         0   \n",
              "2                                   0                         0   \n",
              "3                                   0                         0   \n",
              "4                                   0                         0   \n",
              "\n",
              "   Type_Occupation_Medicine staff  Type_Occupation_Private service staff  \\\n",
              "0                               0                                      0   \n",
              "1                               0                                      0   \n",
              "2                               0                                      0   \n",
              "3                               0                                      0   \n",
              "4                               0                                      0   \n",
              "\n",
              "   Type_Occupation_Realty agents  Type_Occupation_Sales staff  \\\n",
              "0                              0                            0   \n",
              "1                              0                            0   \n",
              "2                              0                            0   \n",
              "3                              0                            0   \n",
              "4                              0                            0   \n",
              "\n",
              "   Type_Occupation_Secretaries  Type_Occupation_Security staff  \\\n",
              "0                            0                               0   \n",
              "1                            0                               0   \n",
              "2                            0                               0   \n",
              "3                            0                               0   \n",
              "4                            0                               0   \n",
              "\n",
              "   Type_Occupation_Waiters/barmen staff  \n",
              "0                                     0  \n",
              "1                                     0  \n",
              "2                                     0  \n",
              "3                                     0  \n",
              "4                                     0  \n",
              "\n",
              "[5 rows x 37 columns]"
            ],
            "text/html": [
              "\n",
              "  <div id=\"df-a2535456-5e50-4c15-9161-9e707cfdab66\">\n",
              "    <div class=\"colab-df-container\">\n",
              "      <div>\n",
              "<style scoped>\n",
              "    .dataframe tbody tr th:only-of-type {\n",
              "        vertical-align: middle;\n",
              "    }\n",
              "\n",
              "    .dataframe tbody tr th {\n",
              "        vertical-align: top;\n",
              "    }\n",
              "\n",
              "    .dataframe thead th {\n",
              "        text-align: right;\n",
              "    }\n",
              "</style>\n",
              "<table border=\"1\" class=\"dataframe\">\n",
              "  <thead>\n",
              "    <tr style=\"text-align: right;\">\n",
              "      <th></th>\n",
              "      <th>GENDER</th>\n",
              "      <th>Car_Owner</th>\n",
              "      <th>Propert_Owner</th>\n",
              "      <th>CHILDREN</th>\n",
              "      <th>Annual_income</th>\n",
              "      <th>Age</th>\n",
              "      <th>Experience</th>\n",
              "      <th>Family_Members</th>\n",
              "      <th>Type_Income_Pensioner</th>\n",
              "      <th>Type_Income_State servant</th>\n",
              "      <th>...</th>\n",
              "      <th>Type_Occupation_Laborers</th>\n",
              "      <th>Type_Occupation_Low-skill Laborers</th>\n",
              "      <th>Type_Occupation_Managers</th>\n",
              "      <th>Type_Occupation_Medicine staff</th>\n",
              "      <th>Type_Occupation_Private service staff</th>\n",
              "      <th>Type_Occupation_Realty agents</th>\n",
              "      <th>Type_Occupation_Sales staff</th>\n",
              "      <th>Type_Occupation_Secretaries</th>\n",
              "      <th>Type_Occupation_Security staff</th>\n",
              "      <th>Type_Occupation_Waiters/barmen staff</th>\n",
              "    </tr>\n",
              "  </thead>\n",
              "  <tbody>\n",
              "    <tr>\n",
              "      <th>0</th>\n",
              "      <td>1.0</td>\n",
              "      <td>1</td>\n",
              "      <td>1</td>\n",
              "      <td>0</td>\n",
              "      <td>180000.00000</td>\n",
              "      <td>51.000000</td>\n",
              "      <td>0.0</td>\n",
              "      <td>2</td>\n",
              "      <td>1</td>\n",
              "      <td>0</td>\n",
              "      <td>...</td>\n",
              "      <td>1</td>\n",
              "      <td>0</td>\n",
              "      <td>0</td>\n",
              "      <td>0</td>\n",
              "      <td>0</td>\n",
              "      <td>0</td>\n",
              "      <td>0</td>\n",
              "      <td>0</td>\n",
              "      <td>0</td>\n",
              "      <td>0</td>\n",
              "    </tr>\n",
              "    <tr>\n",
              "      <th>1</th>\n",
              "      <td>0.0</td>\n",
              "      <td>1</td>\n",
              "      <td>0</td>\n",
              "      <td>0</td>\n",
              "      <td>315000.00000</td>\n",
              "      <td>37.000000</td>\n",
              "      <td>1.6</td>\n",
              "      <td>2</td>\n",
              "      <td>0</td>\n",
              "      <td>0</td>\n",
              "      <td>...</td>\n",
              "      <td>1</td>\n",
              "      <td>0</td>\n",
              "      <td>0</td>\n",
              "      <td>0</td>\n",
              "      <td>0</td>\n",
              "      <td>0</td>\n",
              "      <td>0</td>\n",
              "      <td>0</td>\n",
              "      <td>0</td>\n",
              "      <td>0</td>\n",
              "    </tr>\n",
              "    <tr>\n",
              "      <th>2</th>\n",
              "      <td>0.0</td>\n",
              "      <td>1</td>\n",
              "      <td>0</td>\n",
              "      <td>0</td>\n",
              "      <td>315000.00000</td>\n",
              "      <td>43.952818</td>\n",
              "      <td>1.6</td>\n",
              "      <td>2</td>\n",
              "      <td>0</td>\n",
              "      <td>0</td>\n",
              "      <td>...</td>\n",
              "      <td>1</td>\n",
              "      <td>0</td>\n",
              "      <td>0</td>\n",
              "      <td>0</td>\n",
              "      <td>0</td>\n",
              "      <td>0</td>\n",
              "      <td>0</td>\n",
              "      <td>0</td>\n",
              "      <td>0</td>\n",
              "      <td>0</td>\n",
              "    </tr>\n",
              "    <tr>\n",
              "      <th>3</th>\n",
              "      <td>0.0</td>\n",
              "      <td>1</td>\n",
              "      <td>0</td>\n",
              "      <td>0</td>\n",
              "      <td>191399.32623</td>\n",
              "      <td>37.000000</td>\n",
              "      <td>1.6</td>\n",
              "      <td>2</td>\n",
              "      <td>0</td>\n",
              "      <td>0</td>\n",
              "      <td>...</td>\n",
              "      <td>1</td>\n",
              "      <td>0</td>\n",
              "      <td>0</td>\n",
              "      <td>0</td>\n",
              "      <td>0</td>\n",
              "      <td>0</td>\n",
              "      <td>0</td>\n",
              "      <td>0</td>\n",
              "      <td>0</td>\n",
              "      <td>0</td>\n",
              "    </tr>\n",
              "    <tr>\n",
              "      <th>4</th>\n",
              "      <td>0.0</td>\n",
              "      <td>1</td>\n",
              "      <td>0</td>\n",
              "      <td>0</td>\n",
              "      <td>315000.00000</td>\n",
              "      <td>37.000000</td>\n",
              "      <td>1.6</td>\n",
              "      <td>2</td>\n",
              "      <td>0</td>\n",
              "      <td>0</td>\n",
              "      <td>...</td>\n",
              "      <td>1</td>\n",
              "      <td>0</td>\n",
              "      <td>0</td>\n",
              "      <td>0</td>\n",
              "      <td>0</td>\n",
              "      <td>0</td>\n",
              "      <td>0</td>\n",
              "      <td>0</td>\n",
              "      <td>0</td>\n",
              "      <td>0</td>\n",
              "    </tr>\n",
              "  </tbody>\n",
              "</table>\n",
              "<p>5 rows × 37 columns</p>\n",
              "</div>\n",
              "      <button class=\"colab-df-convert\" onclick=\"convertToInteractive('df-a2535456-5e50-4c15-9161-9e707cfdab66')\"\n",
              "              title=\"Convert this dataframe to an interactive table.\"\n",
              "              style=\"display:none;\">\n",
              "        \n",
              "  <svg xmlns=\"http://www.w3.org/2000/svg\" height=\"24px\"viewBox=\"0 0 24 24\"\n",
              "       width=\"24px\">\n",
              "    <path d=\"M0 0h24v24H0V0z\" fill=\"none\"/>\n",
              "    <path d=\"M18.56 5.44l.94 2.06.94-2.06 2.06-.94-2.06-.94-.94-2.06-.94 2.06-2.06.94zm-11 1L8.5 8.5l.94-2.06 2.06-.94-2.06-.94L8.5 2.5l-.94 2.06-2.06.94zm10 10l.94 2.06.94-2.06 2.06-.94-2.06-.94-.94-2.06-.94 2.06-2.06.94z\"/><path d=\"M17.41 7.96l-1.37-1.37c-.4-.4-.92-.59-1.43-.59-.52 0-1.04.2-1.43.59L10.3 9.45l-7.72 7.72c-.78.78-.78 2.05 0 2.83L4 21.41c.39.39.9.59 1.41.59.51 0 1.02-.2 1.41-.59l7.78-7.78 2.81-2.81c.8-.78.8-2.07 0-2.86zM5.41 20L4 18.59l7.72-7.72 1.47 1.35L5.41 20z\"/>\n",
              "  </svg>\n",
              "      </button>\n",
              "      \n",
              "  <style>\n",
              "    .colab-df-container {\n",
              "      display:flex;\n",
              "      flex-wrap:wrap;\n",
              "      gap: 12px;\n",
              "    }\n",
              "\n",
              "    .colab-df-convert {\n",
              "      background-color: #E8F0FE;\n",
              "      border: none;\n",
              "      border-radius: 50%;\n",
              "      cursor: pointer;\n",
              "      display: none;\n",
              "      fill: #1967D2;\n",
              "      height: 32px;\n",
              "      padding: 0 0 0 0;\n",
              "      width: 32px;\n",
              "    }\n",
              "\n",
              "    .colab-df-convert:hover {\n",
              "      background-color: #E2EBFA;\n",
              "      box-shadow: 0px 1px 2px rgba(60, 64, 67, 0.3), 0px 1px 3px 1px rgba(60, 64, 67, 0.15);\n",
              "      fill: #174EA6;\n",
              "    }\n",
              "\n",
              "    [theme=dark] .colab-df-convert {\n",
              "      background-color: #3B4455;\n",
              "      fill: #D2E3FC;\n",
              "    }\n",
              "\n",
              "    [theme=dark] .colab-df-convert:hover {\n",
              "      background-color: #434B5C;\n",
              "      box-shadow: 0px 1px 3px 1px rgba(0, 0, 0, 0.15);\n",
              "      filter: drop-shadow(0px 1px 2px rgba(0, 0, 0, 0.3));\n",
              "      fill: #FFFFFF;\n",
              "    }\n",
              "  </style>\n",
              "\n",
              "      <script>\n",
              "        const buttonEl =\n",
              "          document.querySelector('#df-a2535456-5e50-4c15-9161-9e707cfdab66 button.colab-df-convert');\n",
              "        buttonEl.style.display =\n",
              "          google.colab.kernel.accessAllowed ? 'block' : 'none';\n",
              "\n",
              "        async function convertToInteractive(key) {\n",
              "          const element = document.querySelector('#df-a2535456-5e50-4c15-9161-9e707cfdab66');\n",
              "          const dataTable =\n",
              "            await google.colab.kernel.invokeFunction('convertToInteractive',\n",
              "                                                     [key], {});\n",
              "          if (!dataTable) return;\n",
              "\n",
              "          const docLinkHtml = 'Like what you see? Visit the ' +\n",
              "            '<a target=\"_blank\" href=https://colab.research.google.com/notebooks/data_table.ipynb>data table notebook</a>'\n",
              "            + ' to learn more about interactive tables.';\n",
              "          element.innerHTML = '';\n",
              "          dataTable['output_type'] = 'display_data';\n",
              "          await google.colab.output.renderOutput(dataTable, element);\n",
              "          const docLink = document.createElement('div');\n",
              "          docLink.innerHTML = docLinkHtml;\n",
              "          element.appendChild(docLink);\n",
              "        }\n",
              "      </script>\n",
              "    </div>\n",
              "  </div>\n",
              "  "
            ]
          },
          "metadata": {},
          "execution_count": 72
        }
      ]
    },
    {
      "cell_type": "markdown",
      "source": [
        "#####Feature Selection - Pending"
      ],
      "metadata": {
        "id": "d5WRdRmsCllX"
      }
    },
    {
      "cell_type": "code",
      "source": [
        "df.corr()"
      ],
      "metadata": {
        "colab": {
          "base_uri": "https://localhost:8080/",
          "height": 332
        },
        "id": "L2_ex94mFguh",
        "outputId": "4610b3a2-67ee-4edf-c2bc-1304d5b2ce62"
      },
      "execution_count": 73,
      "outputs": [
        {
          "output_type": "execute_result",
          "data": {
            "text/plain": [
              "                  GENDER  Car_Owner  Propert_Owner  CHILDREN  Annual_income  \\\n",
              "GENDER          1.000000   0.366672      -0.045503  0.068566       0.214698   \n",
              "Car_Owner       0.366672   1.000000       0.000144  0.068275       0.205965   \n",
              "Propert_Owner  -0.045503   0.000144       1.000000 -0.012954       0.056345   \n",
              "CHILDREN        0.068566   0.068275      -0.012954  1.000000       0.099883   \n",
              "Annual_income   0.214698   0.205965       0.056345  0.099883       1.000000   \n",
              "Age            -0.184776  -0.140412       0.129241 -0.321954      -0.112305   \n",
              "Experience      0.043885   0.041235      -0.056532  0.157201       0.094886   \n",
              "Family_Members  0.106459   0.125559      -0.006866  0.862582       0.059573   \n",
              "label           0.049664  -0.017848      -0.005728 -0.028937       0.017477   \n",
              "\n",
              "                     Age  Experience  Family_Members     label  \n",
              "GENDER         -0.184776    0.043885        0.106459  0.049664  \n",
              "Car_Owner      -0.140412    0.041235        0.125559 -0.017848  \n",
              "Propert_Owner   0.129241   -0.056532       -0.006866 -0.005728  \n",
              "CHILDREN       -0.321954    0.157201        0.862582 -0.028937  \n",
              "Annual_income  -0.112305    0.094886        0.059573  0.017477  \n",
              "Age             1.000000   -0.186587       -0.284652  0.054385  \n",
              "Experience     -0.186587    1.000000        0.186204 -0.111440  \n",
              "Family_Members -0.284652    0.186204        1.000000 -0.043899  \n",
              "label           0.054385   -0.111440       -0.043899  1.000000  "
            ],
            "text/html": [
              "\n",
              "  <div id=\"df-3cb82cd0-62cd-443c-8284-d940d954daf1\">\n",
              "    <div class=\"colab-df-container\">\n",
              "      <div>\n",
              "<style scoped>\n",
              "    .dataframe tbody tr th:only-of-type {\n",
              "        vertical-align: middle;\n",
              "    }\n",
              "\n",
              "    .dataframe tbody tr th {\n",
              "        vertical-align: top;\n",
              "    }\n",
              "\n",
              "    .dataframe thead th {\n",
              "        text-align: right;\n",
              "    }\n",
              "</style>\n",
              "<table border=\"1\" class=\"dataframe\">\n",
              "  <thead>\n",
              "    <tr style=\"text-align: right;\">\n",
              "      <th></th>\n",
              "      <th>GENDER</th>\n",
              "      <th>Car_Owner</th>\n",
              "      <th>Propert_Owner</th>\n",
              "      <th>CHILDREN</th>\n",
              "      <th>Annual_income</th>\n",
              "      <th>Age</th>\n",
              "      <th>Experience</th>\n",
              "      <th>Family_Members</th>\n",
              "      <th>label</th>\n",
              "    </tr>\n",
              "  </thead>\n",
              "  <tbody>\n",
              "    <tr>\n",
              "      <th>GENDER</th>\n",
              "      <td>1.000000</td>\n",
              "      <td>0.366672</td>\n",
              "      <td>-0.045503</td>\n",
              "      <td>0.068566</td>\n",
              "      <td>0.214698</td>\n",
              "      <td>-0.184776</td>\n",
              "      <td>0.043885</td>\n",
              "      <td>0.106459</td>\n",
              "      <td>0.049664</td>\n",
              "    </tr>\n",
              "    <tr>\n",
              "      <th>Car_Owner</th>\n",
              "      <td>0.366672</td>\n",
              "      <td>1.000000</td>\n",
              "      <td>0.000144</td>\n",
              "      <td>0.068275</td>\n",
              "      <td>0.205965</td>\n",
              "      <td>-0.140412</td>\n",
              "      <td>0.041235</td>\n",
              "      <td>0.125559</td>\n",
              "      <td>-0.017848</td>\n",
              "    </tr>\n",
              "    <tr>\n",
              "      <th>Propert_Owner</th>\n",
              "      <td>-0.045503</td>\n",
              "      <td>0.000144</td>\n",
              "      <td>1.000000</td>\n",
              "      <td>-0.012954</td>\n",
              "      <td>0.056345</td>\n",
              "      <td>0.129241</td>\n",
              "      <td>-0.056532</td>\n",
              "      <td>-0.006866</td>\n",
              "      <td>-0.005728</td>\n",
              "    </tr>\n",
              "    <tr>\n",
              "      <th>CHILDREN</th>\n",
              "      <td>0.068566</td>\n",
              "      <td>0.068275</td>\n",
              "      <td>-0.012954</td>\n",
              "      <td>1.000000</td>\n",
              "      <td>0.099883</td>\n",
              "      <td>-0.321954</td>\n",
              "      <td>0.157201</td>\n",
              "      <td>0.862582</td>\n",
              "      <td>-0.028937</td>\n",
              "    </tr>\n",
              "    <tr>\n",
              "      <th>Annual_income</th>\n",
              "      <td>0.214698</td>\n",
              "      <td>0.205965</td>\n",
              "      <td>0.056345</td>\n",
              "      <td>0.099883</td>\n",
              "      <td>1.000000</td>\n",
              "      <td>-0.112305</td>\n",
              "      <td>0.094886</td>\n",
              "      <td>0.059573</td>\n",
              "      <td>0.017477</td>\n",
              "    </tr>\n",
              "    <tr>\n",
              "      <th>Age</th>\n",
              "      <td>-0.184776</td>\n",
              "      <td>-0.140412</td>\n",
              "      <td>0.129241</td>\n",
              "      <td>-0.321954</td>\n",
              "      <td>-0.112305</td>\n",
              "      <td>1.000000</td>\n",
              "      <td>-0.186587</td>\n",
              "      <td>-0.284652</td>\n",
              "      <td>0.054385</td>\n",
              "    </tr>\n",
              "    <tr>\n",
              "      <th>Experience</th>\n",
              "      <td>0.043885</td>\n",
              "      <td>0.041235</td>\n",
              "      <td>-0.056532</td>\n",
              "      <td>0.157201</td>\n",
              "      <td>0.094886</td>\n",
              "      <td>-0.186587</td>\n",
              "      <td>1.000000</td>\n",
              "      <td>0.186204</td>\n",
              "      <td>-0.111440</td>\n",
              "    </tr>\n",
              "    <tr>\n",
              "      <th>Family_Members</th>\n",
              "      <td>0.106459</td>\n",
              "      <td>0.125559</td>\n",
              "      <td>-0.006866</td>\n",
              "      <td>0.862582</td>\n",
              "      <td>0.059573</td>\n",
              "      <td>-0.284652</td>\n",
              "      <td>0.186204</td>\n",
              "      <td>1.000000</td>\n",
              "      <td>-0.043899</td>\n",
              "    </tr>\n",
              "    <tr>\n",
              "      <th>label</th>\n",
              "      <td>0.049664</td>\n",
              "      <td>-0.017848</td>\n",
              "      <td>-0.005728</td>\n",
              "      <td>-0.028937</td>\n",
              "      <td>0.017477</td>\n",
              "      <td>0.054385</td>\n",
              "      <td>-0.111440</td>\n",
              "      <td>-0.043899</td>\n",
              "      <td>1.000000</td>\n",
              "    </tr>\n",
              "  </tbody>\n",
              "</table>\n",
              "</div>\n",
              "      <button class=\"colab-df-convert\" onclick=\"convertToInteractive('df-3cb82cd0-62cd-443c-8284-d940d954daf1')\"\n",
              "              title=\"Convert this dataframe to an interactive table.\"\n",
              "              style=\"display:none;\">\n",
              "        \n",
              "  <svg xmlns=\"http://www.w3.org/2000/svg\" height=\"24px\"viewBox=\"0 0 24 24\"\n",
              "       width=\"24px\">\n",
              "    <path d=\"M0 0h24v24H0V0z\" fill=\"none\"/>\n",
              "    <path d=\"M18.56 5.44l.94 2.06.94-2.06 2.06-.94-2.06-.94-.94-2.06-.94 2.06-2.06.94zm-11 1L8.5 8.5l.94-2.06 2.06-.94-2.06-.94L8.5 2.5l-.94 2.06-2.06.94zm10 10l.94 2.06.94-2.06 2.06-.94-2.06-.94-.94-2.06-.94 2.06-2.06.94z\"/><path d=\"M17.41 7.96l-1.37-1.37c-.4-.4-.92-.59-1.43-.59-.52 0-1.04.2-1.43.59L10.3 9.45l-7.72 7.72c-.78.78-.78 2.05 0 2.83L4 21.41c.39.39.9.59 1.41.59.51 0 1.02-.2 1.41-.59l7.78-7.78 2.81-2.81c.8-.78.8-2.07 0-2.86zM5.41 20L4 18.59l7.72-7.72 1.47 1.35L5.41 20z\"/>\n",
              "  </svg>\n",
              "      </button>\n",
              "      \n",
              "  <style>\n",
              "    .colab-df-container {\n",
              "      display:flex;\n",
              "      flex-wrap:wrap;\n",
              "      gap: 12px;\n",
              "    }\n",
              "\n",
              "    .colab-df-convert {\n",
              "      background-color: #E8F0FE;\n",
              "      border: none;\n",
              "      border-radius: 50%;\n",
              "      cursor: pointer;\n",
              "      display: none;\n",
              "      fill: #1967D2;\n",
              "      height: 32px;\n",
              "      padding: 0 0 0 0;\n",
              "      width: 32px;\n",
              "    }\n",
              "\n",
              "    .colab-df-convert:hover {\n",
              "      background-color: #E2EBFA;\n",
              "      box-shadow: 0px 1px 2px rgba(60, 64, 67, 0.3), 0px 1px 3px 1px rgba(60, 64, 67, 0.15);\n",
              "      fill: #174EA6;\n",
              "    }\n",
              "\n",
              "    [theme=dark] .colab-df-convert {\n",
              "      background-color: #3B4455;\n",
              "      fill: #D2E3FC;\n",
              "    }\n",
              "\n",
              "    [theme=dark] .colab-df-convert:hover {\n",
              "      background-color: #434B5C;\n",
              "      box-shadow: 0px 1px 3px 1px rgba(0, 0, 0, 0.15);\n",
              "      filter: drop-shadow(0px 1px 2px rgba(0, 0, 0, 0.3));\n",
              "      fill: #FFFFFF;\n",
              "    }\n",
              "  </style>\n",
              "\n",
              "      <script>\n",
              "        const buttonEl =\n",
              "          document.querySelector('#df-3cb82cd0-62cd-443c-8284-d940d954daf1 button.colab-df-convert');\n",
              "        buttonEl.style.display =\n",
              "          google.colab.kernel.accessAllowed ? 'block' : 'none';\n",
              "\n",
              "        async function convertToInteractive(key) {\n",
              "          const element = document.querySelector('#df-3cb82cd0-62cd-443c-8284-d940d954daf1');\n",
              "          const dataTable =\n",
              "            await google.colab.kernel.invokeFunction('convertToInteractive',\n",
              "                                                     [key], {});\n",
              "          if (!dataTable) return;\n",
              "\n",
              "          const docLinkHtml = 'Like what you see? Visit the ' +\n",
              "            '<a target=\"_blank\" href=https://colab.research.google.com/notebooks/data_table.ipynb>data table notebook</a>'\n",
              "            + ' to learn more about interactive tables.';\n",
              "          element.innerHTML = '';\n",
              "          dataTable['output_type'] = 'display_data';\n",
              "          await google.colab.output.renderOutput(dataTable, element);\n",
              "          const docLink = document.createElement('div');\n",
              "          docLink.innerHTML = docLinkHtml;\n",
              "          element.appendChild(docLink);\n",
              "        }\n",
              "      </script>\n",
              "    </div>\n",
              "  </div>\n",
              "  "
            ]
          },
          "metadata": {},
          "execution_count": 73
        }
      ]
    },
    {
      "cell_type": "code",
      "source": [
        "# X_train.corr()"
      ],
      "metadata": {
        "id": "jp8DbXxDFcPP"
      },
      "execution_count": 74,
      "outputs": []
    },
    {
      "cell_type": "code",
      "source": [
        "# X[X.isnull().any(axis=1)]"
      ],
      "metadata": {
        "id": "nWjdVzMc7Cvf"
      },
      "execution_count": 75,
      "outputs": []
    },
    {
      "cell_type": "code",
      "source": [
        "X.shape"
      ],
      "metadata": {
        "colab": {
          "base_uri": "https://localhost:8080/"
        },
        "id": "dxppOrQI6WFY",
        "outputId": "271c043e-65c9-4827-8b36-6e19d98d4a28"
      },
      "execution_count": 76,
      "outputs": [
        {
          "output_type": "execute_result",
          "data": {
            "text/plain": [
              "(1441, 37)"
            ]
          },
          "metadata": {},
          "execution_count": 76
        }
      ]
    },
    {
      "cell_type": "code",
      "source": [
        "from sklearn.ensemble import ExtraTreesRegressor\n",
        "model = ExtraTreesRegressor()\n",
        "model.fit(X,y)"
      ],
      "metadata": {
        "colab": {
          "base_uri": "https://localhost:8080/",
          "height": 75
        },
        "id": "o2Q0o6vruc8M",
        "outputId": "04f5b4a1-33f6-4b81-fea0-22d8342fd4d9"
      },
      "execution_count": 77,
      "outputs": [
        {
          "output_type": "execute_result",
          "data": {
            "text/plain": [
              "ExtraTreesRegressor()"
            ],
            "text/html": [
              "<style>#sk-container-id-1 {color: black;background-color: white;}#sk-container-id-1 pre{padding: 0;}#sk-container-id-1 div.sk-toggleable {background-color: white;}#sk-container-id-1 label.sk-toggleable__label {cursor: pointer;display: block;width: 100%;margin-bottom: 0;padding: 0.3em;box-sizing: border-box;text-align: center;}#sk-container-id-1 label.sk-toggleable__label-arrow:before {content: \"▸\";float: left;margin-right: 0.25em;color: #696969;}#sk-container-id-1 label.sk-toggleable__label-arrow:hover:before {color: black;}#sk-container-id-1 div.sk-estimator:hover label.sk-toggleable__label-arrow:before {color: black;}#sk-container-id-1 div.sk-toggleable__content {max-height: 0;max-width: 0;overflow: hidden;text-align: left;background-color: #f0f8ff;}#sk-container-id-1 div.sk-toggleable__content pre {margin: 0.2em;color: black;border-radius: 0.25em;background-color: #f0f8ff;}#sk-container-id-1 input.sk-toggleable__control:checked~div.sk-toggleable__content {max-height: 200px;max-width: 100%;overflow: auto;}#sk-container-id-1 input.sk-toggleable__control:checked~label.sk-toggleable__label-arrow:before {content: \"▾\";}#sk-container-id-1 div.sk-estimator input.sk-toggleable__control:checked~label.sk-toggleable__label {background-color: #d4ebff;}#sk-container-id-1 div.sk-label input.sk-toggleable__control:checked~label.sk-toggleable__label {background-color: #d4ebff;}#sk-container-id-1 input.sk-hidden--visually {border: 0;clip: rect(1px 1px 1px 1px);clip: rect(1px, 1px, 1px, 1px);height: 1px;margin: -1px;overflow: hidden;padding: 0;position: absolute;width: 1px;}#sk-container-id-1 div.sk-estimator {font-family: monospace;background-color: #f0f8ff;border: 1px dotted black;border-radius: 0.25em;box-sizing: border-box;margin-bottom: 0.5em;}#sk-container-id-1 div.sk-estimator:hover {background-color: #d4ebff;}#sk-container-id-1 div.sk-parallel-item::after {content: \"\";width: 100%;border-bottom: 1px solid gray;flex-grow: 1;}#sk-container-id-1 div.sk-label:hover label.sk-toggleable__label {background-color: #d4ebff;}#sk-container-id-1 div.sk-serial::before {content: \"\";position: absolute;border-left: 1px solid gray;box-sizing: border-box;top: 0;bottom: 0;left: 50%;z-index: 0;}#sk-container-id-1 div.sk-serial {display: flex;flex-direction: column;align-items: center;background-color: white;padding-right: 0.2em;padding-left: 0.2em;position: relative;}#sk-container-id-1 div.sk-item {position: relative;z-index: 1;}#sk-container-id-1 div.sk-parallel {display: flex;align-items: stretch;justify-content: center;background-color: white;position: relative;}#sk-container-id-1 div.sk-item::before, #sk-container-id-1 div.sk-parallel-item::before {content: \"\";position: absolute;border-left: 1px solid gray;box-sizing: border-box;top: 0;bottom: 0;left: 50%;z-index: -1;}#sk-container-id-1 div.sk-parallel-item {display: flex;flex-direction: column;z-index: 1;position: relative;background-color: white;}#sk-container-id-1 div.sk-parallel-item:first-child::after {align-self: flex-end;width: 50%;}#sk-container-id-1 div.sk-parallel-item:last-child::after {align-self: flex-start;width: 50%;}#sk-container-id-1 div.sk-parallel-item:only-child::after {width: 0;}#sk-container-id-1 div.sk-dashed-wrapped {border: 1px dashed gray;margin: 0 0.4em 0.5em 0.4em;box-sizing: border-box;padding-bottom: 0.4em;background-color: white;}#sk-container-id-1 div.sk-label label {font-family: monospace;font-weight: bold;display: inline-block;line-height: 1.2em;}#sk-container-id-1 div.sk-label-container {text-align: center;}#sk-container-id-1 div.sk-container {/* jupyter's `normalize.less` sets `[hidden] { display: none; }` but bootstrap.min.css set `[hidden] { display: none !important; }` so we also need the `!important` here to be able to override the default hidden behavior on the sphinx rendered scikit-learn.org. See: https://github.com/scikit-learn/scikit-learn/issues/21755 */display: inline-block !important;position: relative;}#sk-container-id-1 div.sk-text-repr-fallback {display: none;}</style><div id=\"sk-container-id-1\" class=\"sk-top-container\"><div class=\"sk-text-repr-fallback\"><pre>ExtraTreesRegressor()</pre><b>In a Jupyter environment, please rerun this cell to show the HTML representation or trust the notebook. <br />On GitHub, the HTML representation is unable to render, please try loading this page with nbviewer.org.</b></div><div class=\"sk-container\" hidden><div class=\"sk-item\"><div class=\"sk-estimator sk-toggleable\"><input class=\"sk-toggleable__control sk-hidden--visually\" id=\"sk-estimator-id-1\" type=\"checkbox\" checked><label for=\"sk-estimator-id-1\" class=\"sk-toggleable__label sk-toggleable__label-arrow\">ExtraTreesRegressor</label><div class=\"sk-toggleable__content\"><pre>ExtraTreesRegressor()</pre></div></div></div></div></div>"
            ]
          },
          "metadata": {},
          "execution_count": 77
        }
      ]
    },
    {
      "cell_type": "code",
      "source": [
        "print(model.feature_importances_)"
      ],
      "metadata": {
        "colab": {
          "base_uri": "https://localhost:8080/"
        },
        "id": "TfVfbxMzuxFh",
        "outputId": "b97a3556-8177-483c-8b62-7a6883b49ebd"
      },
      "execution_count": 78,
      "outputs": [
        {
          "output_type": "stream",
          "name": "stdout",
          "text": [
            "[3.64214598e-02 4.93276998e-02 3.60479753e-02 3.56950561e-02\n",
            " 1.71848073e-01 1.69860969e-01 1.11881705e-01 7.70813397e-02\n",
            " 1.90461847e-02 1.04539920e-02 3.19158124e-02 2.34987655e-02\n",
            " 5.83252017e-03 7.86093772e-03 2.77928941e-02 1.18486394e-02\n",
            " 1.54394540e-02 7.52482533e-03 6.12714129e-03 5.46302315e-03\n",
            " 5.71658489e-03 6.00996296e-03 2.02755311e-02 1.02014925e-02\n",
            " 4.84129107e-06 1.10238155e-02 1.14822292e-02 2.76356960e-02\n",
            " 4.10153520e-03 1.46357160e-02 7.74397733e-03 2.16410185e-04\n",
            " 0.00000000e+00 9.53042156e-03 0.00000000e+00 6.98882053e-03\n",
            " 3.46449875e-03]\n"
          ]
        }
      ]
    },
    {
      "cell_type": "code",
      "source": [
        "feat_important = pd.Series(model.feature_importances_, index = X.columns)\n",
        "plt.figure(figsize= (30,10))\n",
        "feat_important.nlargest(30).plot(kind=\"barh\")\n",
        "plt.show()"
      ],
      "metadata": {
        "colab": {
          "base_uri": "https://localhost:8080/",
          "height": 558
        },
        "id": "bZWKaGQR5cli",
        "outputId": "49c6dc22-0309-400e-a764-495c05fb4fa8"
      },
      "execution_count": 79,
      "outputs": [
        {
          "output_type": "display_data",
          "data": {
            "text/plain": [
              "<Figure size 2160x720 with 1 Axes>"
            ],
            "image/png": "[encoded data removed]"
          },
          "metadata": {
            "needs_background": "light"
          }
        }
      ]
    },
    {
      "cell_type": "markdown",
      "source": [
        "#####Splitting data into Training and Test data"
      ],
      "metadata": {
        "id": "RdQsSfX4doaV"
      }
    },
    {
      "cell_type": "code",
      "source": [
        "## Drop irrelevant columns."
      ],
      "metadata": {
        "id": "GeSzRkl4EmPd"
      },
      "execution_count": 80,
      "outputs": []
    },
    {
      "cell_type": "code",
      "source": [
        "X.columns"
      ],
      "metadata": {
        "colab": {
          "base_uri": "https://localhost:8080/"
        },
        "id": "nxoUIN4PChGT",
        "outputId": "70d1fbf9-a525-4938-d88a-f635b0d12f23"
      },
      "execution_count": 81,
      "outputs": [
        {
          "output_type": "execute_result",
          "data": {
            "text/plain": [
              "Index(['GENDER', 'Car_Owner', 'Propert_Owner', 'CHILDREN', 'Annual_income',\n",
              "       'Age', 'Experience', 'Family_Members', 'Type_Income_Pensioner',\n",
              "       'Type_Income_State servant', 'Type_Income_Working',\n",
              "       'EDUCATION_Higher education', 'EDUCATION_Incomplete higher',\n",
              "       'EDUCATION_Lower secondary', 'EDUCATION_Secondary / secondary special',\n",
              "       'Housing_type_House / apartment', 'Housing_type_Municipal apartment',\n",
              "       'Housing_type_Office apartment', 'Housing_type_Rented apartment',\n",
              "       'Housing_type_With parents', 'Type_Occupation_Cleaning staff',\n",
              "       'Type_Occupation_Cooking staff', 'Type_Occupation_Core staff',\n",
              "       'Type_Occupation_Drivers', 'Type_Occupation_HR staff',\n",
              "       'Type_Occupation_High skill tech staff', 'Type_Occupation_IT staff',\n",
              "       'Type_Occupation_Laborers', 'Type_Occupation_Low-skill Laborers',\n",
              "       'Type_Occupation_Managers', 'Type_Occupation_Medicine staff',\n",
              "       'Type_Occupation_Private service staff',\n",
              "       'Type_Occupation_Realty agents', 'Type_Occupation_Sales staff',\n",
              "       'Type_Occupation_Secretaries', 'Type_Occupation_Security staff',\n",
              "       'Type_Occupation_Waiters/barmen staff'],\n",
              "      dtype='object')"
            ]
          },
          "metadata": {},
          "execution_count": 81
        }
      ]
    },
    {
      "cell_type": "code",
      "source": [
        "X1 = X[[\"Age\", \"Annual_income\", \"Experience\", \"Family_Members\", \"Car_Owner\", \"Propert_Owner\", \"GENDER\", \"CHILDREN\", \"EDUCATION_Secondary / secondary special\", \"Type_Income_Working\"]]\n",
        "y = df[\"label\"]"
      ],
      "metadata": {
        "id": "XAuZUVluAYi3"
      },
      "execution_count": 82,
      "outputs": []
    },
    {
      "cell_type": "code",
      "source": [
        "#import train test split from sklearn libraries.\n",
        "#Train size : 75% and Test size : 25% with random state = 42\n",
        "from sklearn.model_selection import train_test_split\n",
        "X_train, X_test, y_train, y_test = train_test_split(X, y, test_size=0.25, random_state=0)"
      ],
      "metadata": {
        "id": "n4iKFKj-AbZf"
      },
      "execution_count": 83,
      "outputs": []
    },
    {
      "cell_type": "code",
      "source": [
        "print(\"Train : \",X_train.shape, y_train.shape)\n",
        "print(\"Test : \",X_test.shape, y_test.shape)"
      ],
      "metadata": {
        "colab": {
          "base_uri": "https://localhost:8080/"
        },
        "id": "FYIf_F_Z1d4e",
        "outputId": "07fcd243-6819-48d9-a790-f3d01f868692"
      },
      "execution_count": 84,
      "outputs": [
        {
          "output_type": "stream",
          "name": "stdout",
          "text": [
            "Train :  (1080, 37) (1080,)\n",
            "Test :  (361, 37) (361,)\n"
          ]
        }
      ]
    },
    {
      "cell_type": "markdown",
      "source": [
        "Observation\n",
        "\n",
        "\n",
        "*   Numerical Feature : Gender, Car_Owner, Propert_Owner, Children, Annual_income, Age, Experience, Family_Members.\n",
        "*   Categorical Feature : Type_Income, Education, Marital_status, Housing_type.\n",
        "\n"
      ],
      "metadata": {
        "id": "WXGbNA2axwod"
      }
    },
    {
      "cell_type": "code",
      "source": [
        "## mut_feature \n",
        "## SelectKBest\n",
        "## chi2"
      ],
      "metadata": {
        "id": "wiv6VkW7EENe"
      },
      "execution_count": 85,
      "outputs": []
    },
    {
      "cell_type": "markdown",
      "source": [
        "#**ML MODEL**"
      ],
      "metadata": {
        "id": "QUPmVEMWehFt"
      }
    },
    {
      "cell_type": "markdown",
      "source": [
        "#####Feature Scaling"
      ],
      "metadata": {
        "id": "yQPdrbJWdjtv"
      }
    },
    {
      "cell_type": "code",
      "source": [
        "#Extracting out the Numerical and Categorical Feature into \"num_features\" and \"cat_features\".   \n",
        "num_features = X_train.select_dtypes(exclude=\"object\").columns\n",
        "cat_features = X_train.select_dtypes(include=\"object\").columns\n",
        "print(num_features)\n",
        "print(cat_features)\n",
        "\n",
        "\n",
        "#Importing OneHotEncoding and StandardScaler Library for Scaling the dataset.\n",
        "from sklearn.preprocessing import OneHotEncoder, StandardScaler, OrdinalEncoder\n",
        "\n",
        "\n",
        "#Importing \"ColumnTransformer\" : Used to create and apply separate transformers for numerical and categorical data.\n",
        "from sklearn.compose import ColumnTransformer\n",
        "\n",
        "#Crating a object for \"StandardScaler()\" and \"OneHotEncoder()\".\n",
        "numeric_transformer = StandardScaler()\n",
        "oh_transformer = OneHotEncoder()\n",
        "oe = OrdinalEncoder()\n",
        "\n",
        "#Transforming for Numerical and Categorical data.\n",
        "preprocessor = ColumnTransformer(\n",
        "    [\n",
        "        (\"OneHotEncoder\", oh_transformer, cat_features),\n",
        "         (\"StandardScaler\", numeric_transformer, num_features),        \n",
        "    ]\n",
        ")\n",
        "\n",
        "# transformer = ColumnTransformer(\n",
        "#     [\n",
        "#         (\"Num1\", oe(categories=[[\"House / apartment\", \"With parents\", \"Municipal apartment\", \n",
        "#                                 \"Rented apartment\", \"Office apartment\", \"Co-op apartment\"]]), \"Housing_type\" ),\n",
        "#         (\"Num2\", oh_transformer(sparse = False, drop = \"first\"), [\"Type_Income\", \"EDUCATION\"]),\n",
        "#         (\"Num3\", numeric_transformer, num_features)\n",
        "#     ]\n",
        "    \n",
        "# )\n",
        "\n",
        "#Using fit_transform to Standardize the train data\n",
        "X_train = preprocessor.fit_transform(X_train)\n",
        "\n",
        "#\"transform\" only to avoid data leakage\n",
        "X_test = preprocessor.transform(X_test)"
      ],
      "metadata": {
        "id": "INQk3N_G3ms5",
        "colab": {
          "base_uri": "https://localhost:8080/"
        },
        "outputId": "e551f342-2831-4559-d728-810dc9579f49"
      },
      "execution_count": 86,
      "outputs": [
        {
          "output_type": "stream",
          "name": "stdout",
          "text": [
            "Index(['GENDER', 'Car_Owner', 'Propert_Owner', 'CHILDREN', 'Annual_income',\n",
            "       'Age', 'Experience', 'Family_Members', 'Type_Income_Pensioner',\n",
            "       'Type_Income_State servant', 'Type_Income_Working',\n",
            "       'EDUCATION_Higher education', 'EDUCATION_Incomplete higher',\n",
            "       'EDUCATION_Lower secondary', 'EDUCATION_Secondary / secondary special',\n",
            "       'Housing_type_House / apartment', 'Housing_type_Municipal apartment',\n",
            "       'Housing_type_Office apartment', 'Housing_type_Rented apartment',\n",
            "       'Housing_type_With parents', 'Type_Occupation_Cleaning staff',\n",
            "       'Type_Occupation_Cooking staff', 'Type_Occupation_Core staff',\n",
            "       'Type_Occupation_Drivers', 'Type_Occupation_HR staff',\n",
            "       'Type_Occupation_High skill tech staff', 'Type_Occupation_IT staff',\n",
            "       'Type_Occupation_Laborers', 'Type_Occupation_Low-skill Laborers',\n",
            "       'Type_Occupation_Managers', 'Type_Occupation_Medicine staff',\n",
            "       'Type_Occupation_Private service staff',\n",
            "       'Type_Occupation_Realty agents', 'Type_Occupation_Sales staff',\n",
            "       'Type_Occupation_Secretaries', 'Type_Occupation_Security staff',\n",
            "       'Type_Occupation_Waiters/barmen staff'],\n",
            "      dtype='object')\n",
            "Index([], dtype='object')\n"
          ]
        }
      ]
    },
    {
      "cell_type": "markdown",
      "source": [
        "###Logistic Regression"
      ],
      "metadata": {
        "id": "g85hq2g8piWq"
      }
    },
    {
      "cell_type": "code",
      "source": [
        "from sklearn.linear_model import LogisticRegression\n",
        "from sklearn.metrics import accuracy_score, confusion_matrix, classification_report\n",
        "log_reg = LogisticRegression()\n",
        "log_reg.fit(X_train,y_train)\n",
        "y_pred = log_reg.predict(X_test)\n",
        "Log_reg_untune = accuracy_score(y_pred, y_test)*100\n",
        "print(\"Accuracy of Logistic Regression Model : {}%\".format(round(accuracy_score(y_pred, y_test)*100)))\n",
        "print(\"Classification Report of Logistic Regression Model : \\n\",classification_report(y_pred, y_test))"
      ],
      "metadata": {
        "colab": {
          "base_uri": "https://localhost:8080/"
        },
        "id": "Fon1TM59CBRv",
        "outputId": "d9f3f5c8-677b-4ea4-9de7-0ae1b79a98d5"
      },
      "execution_count": 87,
      "outputs": [
        {
          "output_type": "stream",
          "name": "stdout",
          "text": [
            "Accuracy of Logistic Regression Model : 89%\n",
            "Classification Report of Logistic Regression Model : \n",
            "               precision    recall  f1-score   support\n",
            "\n",
            "           0       1.00      0.89      0.94       359\n",
            "           1       0.03      0.50      0.05         2\n",
            "\n",
            "    accuracy                           0.89       361\n",
            "   macro avg       0.51      0.70      0.49       361\n",
            "weighted avg       0.99      0.89      0.94       361\n",
            "\n"
          ]
        }
      ]
    },
    {
      "cell_type": "code",
      "source": [
        "sns.distplot(y_test - y_pred)"
      ],
      "metadata": {
        "colab": {
          "base_uri": "https://localhost:8080/",
          "height": 296
        },
        "id": "ss0MI7rhJPBk",
        "outputId": "50023487-2fec-44a8-ff4b-daff5a35d746"
      },
      "execution_count": 88,
      "outputs": [
        {
          "output_type": "execute_result",
          "data": {
            "text/plain": [
              "<Axes: xlabel='label', ylabel='Density'>"
            ]
          },
          "metadata": {},
          "execution_count": 88
        },
        {
          "output_type": "display_data",
          "data": {
            "text/plain": [
              "<Figure size 432x288 with 1 Axes>"
            ],
            "image/png": "[encoded data removed]"
          },
          "metadata": {
            "needs_background": "light"
          }
        }
      ]
    },
    {
      "cell_type": "markdown",
      "source": [
        "####Model Evaluation Metrics"
      ],
      "metadata": {
        "id": "Eaa5JUjuGK1b"
      }
    },
    {
      "cell_type": "code",
      "source": [
        "confusion_matrix(y_pred, y_test)"
      ],
      "metadata": {
        "colab": {
          "base_uri": "https://localhost:8080/"
        },
        "id": "J1IFZ-hC_6JU",
        "outputId": "878d7456-8f57-4124-c80d-cfe1b6f4dd99"
      },
      "execution_count": 89,
      "outputs": [
        {
          "output_type": "execute_result",
          "data": {
            "text/plain": [
              "array([[320,  39],\n",
              "       [  1,   1]])"
            ]
          },
          "metadata": {},
          "execution_count": 89
        }
      ]
    },
    {
      "cell_type": "markdown",
      "source": [
        "####Hyper Parameter Tuning for Logistic Regression"
      ],
      "metadata": {
        "id": "YfeXZAPCk64L"
      }
    },
    {
      "cell_type": "code",
      "source": [
        "from sklearn.model_selection import GridSearchCV\n",
        "parameter = {\"penalty\":[\"l1\", \"l2\", \"elasticnet\"],\n",
        "             \"C\" : [1,2,3,4,5,6,10,20,40,50],\n",
        "             \"max_iter\" : [100,200,300,400,500]}\n",
        "Classfier_Reg = GridSearchCV(log_reg,param_grid=parameter, scoring=\"accuracy\", cv=10)"
      ],
      "metadata": {
        "id": "n6XyeF29E-l6"
      },
      "execution_count": 90,
      "outputs": []
    },
    {
      "cell_type": "code",
      "source": [
        "Classfier_Reg.fit(X_train, y_train)"
      ],
      "metadata": {
        "colab": {
          "base_uri": "https://localhost:8080/",
          "height": 118
        },
        "id": "tEEMsg2hFSII",
        "outputId": "ebc15ae4-2df1-44a8-d870-6b9f9791ddd9"
      },
      "execution_count": 91,
      "outputs": [
        {
          "output_type": "execute_result",
          "data": {
            "text/plain": [
              "GridSearchCV(cv=10, estimator=LogisticRegression(),\n",
              "             param_grid={'C': [1, 2, 3, 4, 5, 6, 10, 20, 40, 50],\n",
              "                         'max_iter': [100, 200, 300, 400, 500],\n",
              "                         'penalty': ['l1', 'l2', 'elasticnet']},\n",
              "             scoring='accuracy')"
            ],
            "text/html": [
              "<style>#sk-container-id-2 {color: black;background-color: white;}#sk-container-id-2 pre{padding: 0;}#sk-container-id-2 div.sk-toggleable {background-color: white;}#sk-container-id-2 label.sk-toggleable__label {cursor: pointer;display: block;width: 100%;margin-bottom: 0;padding: 0.3em;box-sizing: border-box;text-align: center;}#sk-container-id-2 label.sk-toggleable__label-arrow:before {content: \"▸\";float: left;margin-right: 0.25em;color: #696969;}#sk-container-id-2 label.sk-toggleable__label-arrow:hover:before {color: black;}#sk-container-id-2 div.sk-estimator:hover label.sk-toggleable__label-arrow:before {color: black;}#sk-container-id-2 div.sk-toggleable__content {max-height: 0;max-width: 0;overflow: hidden;text-align: left;background-color: #f0f8ff;}#sk-container-id-2 div.sk-toggleable__content pre {margin: 0.2em;color: black;border-radius: 0.25em;background-color: #f0f8ff;}#sk-container-id-2 input.sk-toggleable__control:checked~div.sk-toggleable__content {max-height: 200px;max-width: 100%;overflow: auto;}#sk-container-id-2 input.sk-toggleable__control:checked~label.sk-toggleable__label-arrow:before {content: \"▾\";}#sk-container-id-2 div.sk-estimator input.sk-toggleable__control:checked~label.sk-toggleable__label {background-color: #d4ebff;}#sk-container-id-2 div.sk-label input.sk-toggleable__control:checked~label.sk-toggleable__label {background-color: #d4ebff;}#sk-container-id-2 input.sk-hidden--visually {border: 0;clip: rect(1px 1px 1px 1px);clip: rect(1px, 1px, 1px, 1px);height: 1px;margin: -1px;overflow: hidden;padding: 0;position: absolute;width: 1px;}#sk-container-id-2 div.sk-estimator {font-family: monospace;background-color: #f0f8ff;border: 1px dotted black;border-radius: 0.25em;box-sizing: border-box;margin-bottom: 0.5em;}#sk-container-id-2 div.sk-estimator:hover {background-color: #d4ebff;}#sk-container-id-2 div.sk-parallel-item::after {content: \"\";width: 100%;border-bottom: 1px solid gray;flex-grow: 1;}#sk-container-id-2 div.sk-label:hover label.sk-toggleable__label {background-color: #d4ebff;}#sk-container-id-2 div.sk-serial::before {content: \"\";position: absolute;border-left: 1px solid gray;box-sizing: border-box;top: 0;bottom: 0;left: 50%;z-index: 0;}#sk-container-id-2 div.sk-serial {display: flex;flex-direction: column;align-items: center;background-color: white;padding-right: 0.2em;padding-left: 0.2em;position: relative;}#sk-container-id-2 div.sk-item {position: relative;z-index: 1;}#sk-container-id-2 div.sk-parallel {display: flex;align-items: stretch;justify-content: center;background-color: white;position: relative;}#sk-container-id-2 div.sk-item::before, #sk-container-id-2 div.sk-parallel-item::before {content: \"\";position: absolute;border-left: 1px solid gray;box-sizing: border-box;top: 0;bottom: 0;left: 50%;z-index: -1;}#sk-container-id-2 div.sk-parallel-item {display: flex;flex-direction: column;z-index: 1;position: relative;background-color: white;}#sk-container-id-2 div.sk-parallel-item:first-child::after {align-self: flex-end;width: 50%;}#sk-container-id-2 div.sk-parallel-item:last-child::after {align-self: flex-start;width: 50%;}#sk-container-id-2 div.sk-parallel-item:only-child::after {width: 0;}#sk-container-id-2 div.sk-dashed-wrapped {border: 1px dashed gray;margin: 0 0.4em 0.5em 0.4em;box-sizing: border-box;padding-bottom: 0.4em;background-color: white;}#sk-container-id-2 div.sk-label label {font-family: monospace;font-weight: bold;display: inline-block;line-height: 1.2em;}#sk-container-id-2 div.sk-label-container {text-align: center;}#sk-container-id-2 div.sk-container {/* jupyter's `normalize.less` sets `[hidden] { display: none; }` but bootstrap.min.css set `[hidden] { display: none !important; }` so we also need the `!important` here to be able to override the default hidden behavior on the sphinx rendered scikit-learn.org. See: https://github.com/scikit-learn/scikit-learn/issues/21755 */display: inline-block !important;position: relative;}#sk-container-id-2 div.sk-text-repr-fallback {display: none;}</style><div id=\"sk-container-id-2\" class=\"sk-top-container\"><div class=\"sk-text-repr-fallback\"><pre>GridSearchCV(cv=10, estimator=LogisticRegression(),\n",
              "             param_grid={&#x27;C&#x27;: [1, 2, 3, 4, 5, 6, 10, 20, 40, 50],\n",
              "                         &#x27;max_iter&#x27;: [100, 200, 300, 400, 500],\n",
              "                         &#x27;penalty&#x27;: [&#x27;l1&#x27;, &#x27;l2&#x27;, &#x27;elasticnet&#x27;]},\n",
              "             scoring=&#x27;accuracy&#x27;)</pre><b>In a Jupyter environment, please rerun this cell to show the HTML representation or trust the notebook. <br />On GitHub, the HTML representation is unable to render, please try loading this page with nbviewer.org.</b></div><div class=\"sk-container\" hidden><div class=\"sk-item sk-dashed-wrapped\"><div class=\"sk-label-container\"><div class=\"sk-label sk-toggleable\"><input class=\"sk-toggleable__control sk-hidden--visually\" id=\"sk-estimator-id-2\" type=\"checkbox\" ><label for=\"sk-estimator-id-2\" class=\"sk-toggleable__label sk-toggleable__label-arrow\">GridSearchCV</label><div class=\"sk-toggleable__content\"><pre>GridSearchCV(cv=10, estimator=LogisticRegression(),\n",
              "             param_grid={&#x27;C&#x27;: [1, 2, 3, 4, 5, 6, 10, 20, 40, 50],\n",
              "                         &#x27;max_iter&#x27;: [100, 200, 300, 400, 500],\n",
              "                         &#x27;penalty&#x27;: [&#x27;l1&#x27;, &#x27;l2&#x27;, &#x27;elasticnet&#x27;]},\n",
              "             scoring=&#x27;accuracy&#x27;)</pre></div></div></div><div class=\"sk-parallel\"><div class=\"sk-parallel-item\"><div class=\"sk-item\"><div class=\"sk-label-container\"><div class=\"sk-label sk-toggleable\"><input class=\"sk-toggleable__control sk-hidden--visually\" id=\"sk-estimator-id-3\" type=\"checkbox\" ><label for=\"sk-estimator-id-3\" class=\"sk-toggleable__label sk-toggleable__label-arrow\">estimator: LogisticRegression</label><div class=\"sk-toggleable__content\"><pre>LogisticRegression()</pre></div></div></div><div class=\"sk-serial\"><div class=\"sk-item\"><div class=\"sk-estimator sk-toggleable\"><input class=\"sk-toggleable__control sk-hidden--visually\" id=\"sk-estimator-id-4\" type=\"checkbox\" ><label for=\"sk-estimator-id-4\" class=\"sk-toggleable__label sk-toggleable__label-arrow\">LogisticRegression</label><div class=\"sk-toggleable__content\"><pre>LogisticRegression()</pre></div></div></div></div></div></div></div></div></div></div>"
            ]
          },
          "metadata": {},
          "execution_count": 91
        }
      ]
    },
    {
      "cell_type": "code",
      "source": [
        "print(Classfier_Reg.best_params_)"
      ],
      "metadata": {
        "colab": {
          "base_uri": "https://localhost:8080/"
        },
        "id": "EFkzacLUFSEu",
        "outputId": "5dd8b507-7ae6-4962-b939-6803a4cf06d3"
      },
      "execution_count": 92,
      "outputs": [
        {
          "output_type": "stream",
          "name": "stdout",
          "text": [
            "{'C': 1, 'max_iter': 100, 'penalty': 'l2'}\n"
          ]
        }
      ]
    },
    {
      "cell_type": "code",
      "source": [
        "print(Classfier_Reg.best_score_)"
      ],
      "metadata": {
        "colab": {
          "base_uri": "https://localhost:8080/"
        },
        "id": "anh6rshyGT_I",
        "outputId": "f450b0d0-1ffe-4bb0-b85e-37eb9a9b2296"
      },
      "execution_count": 93,
      "outputs": [
        {
          "output_type": "stream",
          "name": "stdout",
          "text": [
            "0.8851851851851853\n"
          ]
        }
      ]
    },
    {
      "cell_type": "code",
      "source": [
        "y_pred_tune_grid = Classfier_Reg.predict(X_test)"
      ],
      "metadata": {
        "id": "TbHdHYe8GbZh"
      },
      "execution_count": 94,
      "outputs": []
    },
    {
      "cell_type": "code",
      "source": [
        "Log_reg_tune = accuracy_score(y_pred_tune_grid, y_test)*100\n",
        "round(accuracy_score(y_pred_tune_grid, y_test)*100)"
      ],
      "metadata": {
        "colab": {
          "base_uri": "https://localhost:8080/"
        },
        "id": "bEmOzPZIGk1V",
        "outputId": "b0693dc4-20fc-464e-cc90-4ec9661e5217"
      },
      "execution_count": 95,
      "outputs": [
        {
          "output_type": "execute_result",
          "data": {
            "text/plain": [
              "89"
            ]
          },
          "metadata": {},
          "execution_count": 95
        }
      ]
    },
    {
      "cell_type": "code",
      "source": [
        "confusion_matrix(y_pred_tune_grid, y_test)"
      ],
      "metadata": {
        "colab": {
          "base_uri": "https://localhost:8080/"
        },
        "id": "Awnnc2k2AFRe",
        "outputId": "5b1ebd57-9be2-4b7b-bf4a-cf93798c6156"
      },
      "execution_count": 96,
      "outputs": [
        {
          "output_type": "execute_result",
          "data": {
            "text/plain": [
              "array([[320,  39],\n",
              "       [  1,   1]])"
            ]
          },
          "metadata": {},
          "execution_count": 96
        }
      ]
    },
    {
      "cell_type": "markdown",
      "source": [
        "Improvment in FP"
      ],
      "metadata": {
        "id": "yQTPvYQHAkSV"
      }
    },
    {
      "cell_type": "code",
      "source": [
        "print(classification_report(y_pred_tune_grid, y_test))"
      ],
      "metadata": {
        "colab": {
          "base_uri": "https://localhost:8080/"
        },
        "id": "_JP7cjyrHOPD",
        "outputId": "27b9a617-e179-4336-c7c1-a5559ce45dd1"
      },
      "execution_count": 97,
      "outputs": [
        {
          "output_type": "stream",
          "name": "stdout",
          "text": [
            "              precision    recall  f1-score   support\n",
            "\n",
            "           0       1.00      0.89      0.94       359\n",
            "           1       0.03      0.50      0.05         2\n",
            "\n",
            "    accuracy                           0.89       361\n",
            "   macro avg       0.51      0.70      0.49       361\n",
            "weighted avg       0.99      0.89      0.94       361\n",
            "\n"
          ]
        }
      ]
    },
    {
      "cell_type": "markdown",
      "source": [
        "Verification after tuning"
      ],
      "metadata": {
        "id": "MxWItNHkJoSl"
      }
    },
    {
      "cell_type": "code",
      "source": [
        "log_reg_tune = LogisticRegression(penalty=\"l2\",C = 4, max_iter=100, random_state=0)\n",
        "log_reg_tune.fit(X_train,y_train)\n",
        "y_pred_tune = log_reg_tune.predict(X_test)\n",
        "print(\"Accuracy of Logistic Regression Model : {}%\".format(round(accuracy_score(y_pred_tune, y_test)*100)))\n",
        "print(\"Classification Report of Logistic Regression Model : \\n\",classification_report(y_pred_tune, y_test))"
      ],
      "metadata": {
        "colab": {
          "base_uri": "https://localhost:8080/"
        },
        "id": "Febk4uUMFSCd",
        "outputId": "d5c4d2da-c7e7-4539-b9f6-92b24f46611c"
      },
      "execution_count": 98,
      "outputs": [
        {
          "output_type": "stream",
          "name": "stdout",
          "text": [
            "Accuracy of Logistic Regression Model : 89%\n",
            "Classification Report of Logistic Regression Model : \n",
            "               precision    recall  f1-score   support\n",
            "\n",
            "           0       1.00      0.89      0.94       359\n",
            "           1       0.03      0.50      0.05         2\n",
            "\n",
            "    accuracy                           0.89       361\n",
            "   macro avg       0.51      0.70      0.49       361\n",
            "weighted avg       0.99      0.89      0.94       361\n",
            "\n"
          ]
        }
      ]
    },
    {
      "cell_type": "markdown",
      "source": [
        "###Decision Tree Classifier"
      ],
      "metadata": {
        "id": "o2OY3eM6o6BN"
      }
    },
    {
      "cell_type": "code",
      "source": [
        "from sklearn.tree import DecisionTreeClassifier\n",
        "dec_tree = DecisionTreeClassifier()\n",
        "dec_tree.fit(X_train,y_train)\n",
        "y_pred_dec = dec_tree.predict(X_test)\n",
        "dec_tree_untune = accuracy_score(y_pred_dec, y_test)*100\n",
        "accuracy_score(y_pred_dec, y_test)*100"
      ],
      "metadata": {
        "colab": {
          "base_uri": "https://localhost:8080/"
        },
        "id": "F_OyraoKFR_Y",
        "outputId": "82bc0782-c203-4644-f8d2-6c9636397eab"
      },
      "execution_count": 99,
      "outputs": [
        {
          "output_type": "execute_result",
          "data": {
            "text/plain": [
              "88.9196675900277"
            ]
          },
          "metadata": {},
          "execution_count": 99
        }
      ]
    },
    {
      "cell_type": "code",
      "source": [
        "sns.distplot(y_test - y_pred_dec)"
      ],
      "metadata": {
        "colab": {
          "base_uri": "https://localhost:8080/",
          "height": 296
        },
        "id": "CrzcdixNJq34",
        "outputId": "477e4da5-26eb-4d80-a76b-0f980749fa53"
      },
      "execution_count": 100,
      "outputs": [
        {
          "output_type": "execute_result",
          "data": {
            "text/plain": [
              "<Axes: xlabel='label', ylabel='Density'>"
            ]
          },
          "metadata": {},
          "execution_count": 100
        },
        {
          "output_type": "display_data",
          "data": {
            "text/plain": [
              "<Figure size 432x288 with 1 Axes>"
            ],
            "image/png": "[encoded data removed]"
          },
          "metadata": {
            "needs_background": "light"
          }
        }
      ]
    },
    {
      "cell_type": "code",
      "source": [
        "# from sklearn import tree\n",
        "# tree.plot_tree(dec_tree)"
      ],
      "metadata": {
        "id": "PhrmFLSpqbh2"
      },
      "execution_count": 101,
      "outputs": []
    },
    {
      "cell_type": "markdown",
      "source": [
        "#####Hyper Parameter Tuning for Decision Tree Classifier"
      ],
      "metadata": {
        "id": "a1qtwTGWJcav"
      }
    },
    {
      "cell_type": "code",
      "source": [
        "from sklearn.model_selection import GridSearchCV\n",
        "parameter_dtc = {\"criterion\" : [\"gini\", \"entropy\", \"log_loss\"],\n",
        "                 \"splitter\" : [\"best\", \"random\"],\n",
        "                 \"max_depth\" : [1,2,3,4,5],\n",
        "                 \"max_features\" : [\"auto\", \"sqrt\", \"log2\"],\n",
        "                 \"ccp_alpha\" : [1,2,3,4,5,6,7]}\n",
        "Classfier_dtc = GridSearchCV(dec_tree,param_grid=parameter_dtc, scoring=\"accuracy\", cv=5)"
      ],
      "metadata": {
        "id": "ScPXEimRpoYf"
      },
      "execution_count": 102,
      "outputs": []
    },
    {
      "cell_type": "code",
      "source": [
        "Classfier_dtc.fit(X_train, y_train)"
      ],
      "metadata": {
        "colab": {
          "base_uri": "https://localhost:8080/",
          "height": 118
        },
        "id": "QgRGnka7seU_",
        "outputId": "bda5b76c-ea19-4319-9810-f28667532e1e"
      },
      "execution_count": 103,
      "outputs": [
        {
          "output_type": "execute_result",
          "data": {
            "text/plain": [
              "GridSearchCV(cv=5, estimator=DecisionTreeClassifier(),\n",
              "             param_grid={'ccp_alpha': [1, 2, 3, 4, 5, 6, 7],\n",
              "                         'criterion': ['gini', 'entropy', 'log_loss'],\n",
              "                         'max_depth': [1, 2, 3, 4, 5],\n",
              "                         'max_features': ['auto', 'sqrt', 'log2'],\n",
              "                         'splitter': ['best', 'random']},\n",
              "             scoring='accuracy')"
            ],
            "text/html": [
              "<style>#sk-container-id-3 {color: black;background-color: white;}#sk-container-id-3 pre{padding: 0;}#sk-container-id-3 div.sk-toggleable {background-color: white;}#sk-container-id-3 label.sk-toggleable__label {cursor: pointer;display: block;width: 100%;margin-bottom: 0;padding: 0.3em;box-sizing: border-box;text-align: center;}#sk-container-id-3 label.sk-toggleable__label-arrow:before {content: \"▸\";float: left;margin-right: 0.25em;color: #696969;}#sk-container-id-3 label.sk-toggleable__label-arrow:hover:before {color: black;}#sk-container-id-3 div.sk-estimator:hover label.sk-toggleable__label-arrow:before {color: black;}#sk-container-id-3 div.sk-toggleable__content {max-height: 0;max-width: 0;overflow: hidden;text-align: left;background-color: #f0f8ff;}#sk-container-id-3 div.sk-toggleable__content pre {margin: 0.2em;color: black;border-radius: 0.25em;background-color: #f0f8ff;}#sk-container-id-3 input.sk-toggleable__control:checked~div.sk-toggleable__content {max-height: 200px;max-width: 100%;overflow: auto;}#sk-container-id-3 input.sk-toggleable__control:checked~label.sk-toggleable__label-arrow:before {content: \"▾\";}#sk-container-id-3 div.sk-estimator input.sk-toggleable__control:checked~label.sk-toggleable__label {background-color: #d4ebff;}#sk-container-id-3 div.sk-label input.sk-toggleable__control:checked~label.sk-toggleable__label {background-color: #d4ebff;}#sk-container-id-3 input.sk-hidden--visually {border: 0;clip: rect(1px 1px 1px 1px);clip: rect(1px, 1px, 1px, 1px);height: 1px;margin: -1px;overflow: hidden;padding: 0;position: absolute;width: 1px;}#sk-container-id-3 div.sk-estimator {font-family: monospace;background-color: #f0f8ff;border: 1px dotted black;border-radius: 0.25em;box-sizing: border-box;margin-bottom: 0.5em;}#sk-container-id-3 div.sk-estimator:hover {background-color: #d4ebff;}#sk-container-id-3 div.sk-parallel-item::after {content: \"\";width: 100%;border-bottom: 1px solid gray;flex-grow: 1;}#sk-container-id-3 div.sk-label:hover label.sk-toggleable__label {background-color: #d4ebff;}#sk-container-id-3 div.sk-serial::before {content: \"\";position: absolute;border-left: 1px solid gray;box-sizing: border-box;top: 0;bottom: 0;left: 50%;z-index: 0;}#sk-container-id-3 div.sk-serial {display: flex;flex-direction: column;align-items: center;background-color: white;padding-right: 0.2em;padding-left: 0.2em;position: relative;}#sk-container-id-3 div.sk-item {position: relative;z-index: 1;}#sk-container-id-3 div.sk-parallel {display: flex;align-items: stretch;justify-content: center;background-color: white;position: relative;}#sk-container-id-3 div.sk-item::before, #sk-container-id-3 div.sk-parallel-item::before {content: \"\";position: absolute;border-left: 1px solid gray;box-sizing: border-box;top: 0;bottom: 0;left: 50%;z-index: -1;}#sk-container-id-3 div.sk-parallel-item {display: flex;flex-direction: column;z-index: 1;position: relative;background-color: white;}#sk-container-id-3 div.sk-parallel-item:first-child::after {align-self: flex-end;width: 50%;}#sk-container-id-3 div.sk-parallel-item:last-child::after {align-self: flex-start;width: 50%;}#sk-container-id-3 div.sk-parallel-item:only-child::after {width: 0;}#sk-container-id-3 div.sk-dashed-wrapped {border: 1px dashed gray;margin: 0 0.4em 0.5em 0.4em;box-sizing: border-box;padding-bottom: 0.4em;background-color: white;}#sk-container-id-3 div.sk-label label {font-family: monospace;font-weight: bold;display: inline-block;line-height: 1.2em;}#sk-container-id-3 div.sk-label-container {text-align: center;}#sk-container-id-3 div.sk-container {/* jupyter's `normalize.less` sets `[hidden] { display: none; }` but bootstrap.min.css set `[hidden] { display: none !important; }` so we also need the `!important` here to be able to override the default hidden behavior on the sphinx rendered scikit-learn.org. See: https://github.com/scikit-learn/scikit-learn/issues/21755 */display: inline-block !important;position: relative;}#sk-container-id-3 div.sk-text-repr-fallback {display: none;}</style><div id=\"sk-container-id-3\" class=\"sk-top-container\"><div class=\"sk-text-repr-fallback\"><pre>GridSearchCV(cv=5, estimator=DecisionTreeClassifier(),\n",
              "             param_grid={&#x27;ccp_alpha&#x27;: [1, 2, 3, 4, 5, 6, 7],\n",
              "                         &#x27;criterion&#x27;: [&#x27;gini&#x27;, &#x27;entropy&#x27;, &#x27;log_loss&#x27;],\n",
              "                         &#x27;max_depth&#x27;: [1, 2, 3, 4, 5],\n",
              "                         &#x27;max_features&#x27;: [&#x27;auto&#x27;, &#x27;sqrt&#x27;, &#x27;log2&#x27;],\n",
              "                         &#x27;splitter&#x27;: [&#x27;best&#x27;, &#x27;random&#x27;]},\n",
              "             scoring=&#x27;accuracy&#x27;)</pre><b>In a Jupyter environment, please rerun this cell to show the HTML representation or trust the notebook. <br />On GitHub, the HTML representation is unable to render, please try loading this page with nbviewer.org.</b></div><div class=\"sk-container\" hidden><div class=\"sk-item sk-dashed-wrapped\"><div class=\"sk-label-container\"><div class=\"sk-label sk-toggleable\"><input class=\"sk-toggleable__control sk-hidden--visually\" id=\"sk-estimator-id-5\" type=\"checkbox\" ><label for=\"sk-estimator-id-5\" class=\"sk-toggleable__label sk-toggleable__label-arrow\">GridSearchCV</label><div class=\"sk-toggleable__content\"><pre>GridSearchCV(cv=5, estimator=DecisionTreeClassifier(),\n",
              "             param_grid={&#x27;ccp_alpha&#x27;: [1, 2, 3, 4, 5, 6, 7],\n",
              "                         &#x27;criterion&#x27;: [&#x27;gini&#x27;, &#x27;entropy&#x27;, &#x27;log_loss&#x27;],\n",
              "                         &#x27;max_depth&#x27;: [1, 2, 3, 4, 5],\n",
              "                         &#x27;max_features&#x27;: [&#x27;auto&#x27;, &#x27;sqrt&#x27;, &#x27;log2&#x27;],\n",
              "                         &#x27;splitter&#x27;: [&#x27;best&#x27;, &#x27;random&#x27;]},\n",
              "             scoring=&#x27;accuracy&#x27;)</pre></div></div></div><div class=\"sk-parallel\"><div class=\"sk-parallel-item\"><div class=\"sk-item\"><div class=\"sk-label-container\"><div class=\"sk-label sk-toggleable\"><input class=\"sk-toggleable__control sk-hidden--visually\" id=\"sk-estimator-id-6\" type=\"checkbox\" ><label for=\"sk-estimator-id-6\" class=\"sk-toggleable__label sk-toggleable__label-arrow\">estimator: DecisionTreeClassifier</label><div class=\"sk-toggleable__content\"><pre>DecisionTreeClassifier()</pre></div></div></div><div class=\"sk-serial\"><div class=\"sk-item\"><div class=\"sk-estimator sk-toggleable\"><input class=\"sk-toggleable__control sk-hidden--visually\" id=\"sk-estimator-id-7\" type=\"checkbox\" ><label for=\"sk-estimator-id-7\" class=\"sk-toggleable__label sk-toggleable__label-arrow\">DecisionTreeClassifier</label><div class=\"sk-toggleable__content\"><pre>DecisionTreeClassifier()</pre></div></div></div></div></div></div></div></div></div></div>"
            ]
          },
          "metadata": {},
          "execution_count": 103
        }
      ]
    },
    {
      "cell_type": "code",
      "source": [
        "print(Classfier_dtc.best_params_)"
      ],
      "metadata": {
        "colab": {
          "base_uri": "https://localhost:8080/"
        },
        "id": "AwVzo6NSsAL7",
        "outputId": "9217de46-bb9f-479f-e7b9-3290cf63a9bd"
      },
      "execution_count": 104,
      "outputs": [
        {
          "output_type": "stream",
          "name": "stdout",
          "text": [
            "{'ccp_alpha': 1, 'criterion': 'gini', 'max_depth': 1, 'max_features': 'auto', 'splitter': 'best'}\n"
          ]
        }
      ]
    },
    {
      "cell_type": "code",
      "source": [
        "print(Classfier_dtc.best_score_)"
      ],
      "metadata": {
        "colab": {
          "base_uri": "https://localhost:8080/"
        },
        "id": "nDf8x4wdsrbL",
        "outputId": "36af22d4-fa72-4a40-a82b-6439f8ee6ecd"
      },
      "execution_count": 105,
      "outputs": [
        {
          "output_type": "stream",
          "name": "stdout",
          "text": [
            "0.8870370370370371\n"
          ]
        }
      ]
    },
    {
      "cell_type": "code",
      "source": [
        "y_pred_tune_dtc = Classfier_dtc.predict(X_test)"
      ],
      "metadata": {
        "id": "5dYyHfTKsrXx"
      },
      "execution_count": 106,
      "outputs": []
    },
    {
      "cell_type": "code",
      "source": [
        "dec_tree_tune = accuracy_score(y_pred_tune_dtc, y_test)*100\n",
        "accuracy_score(y_pred_tune_dtc, y_test)*100"
      ],
      "metadata": {
        "colab": {
          "base_uri": "https://localhost:8080/"
        },
        "id": "iN5RnoqvsrUj",
        "outputId": "6755e5d0-3a06-45a8-b414-c2c286a339c0"
      },
      "execution_count": 107,
      "outputs": [
        {
          "output_type": "execute_result",
          "data": {
            "text/plain": [
              "88.9196675900277"
            ]
          },
          "metadata": {},
          "execution_count": 107
        }
      ]
    },
    {
      "cell_type": "code",
      "source": [
        "print(classification_report(y_pred_tune_dtc, y_test))"
      ],
      "metadata": {
        "colab": {
          "base_uri": "https://localhost:8080/"
        },
        "id": "hxXrnxpeszqV",
        "outputId": "56db5ead-ca42-4f71-84de-dbfdfdcd63fc"
      },
      "execution_count": 108,
      "outputs": [
        {
          "output_type": "stream",
          "name": "stdout",
          "text": [
            "              precision    recall  f1-score   support\n",
            "\n",
            "           0       1.00      0.89      0.94       361\n",
            "           1       0.00      0.00      0.00         0\n",
            "\n",
            "    accuracy                           0.89       361\n",
            "   macro avg       0.50      0.44      0.47       361\n",
            "weighted avg       1.00      0.89      0.94       361\n",
            "\n"
          ]
        }
      ]
    },
    {
      "cell_type": "markdown",
      "source": [
        "###KNN"
      ],
      "metadata": {
        "id": "nrbBNH95pEvT"
      }
    },
    {
      "cell_type": "code",
      "source": [
        "from sklearn.neighbors import KNeighborsClassifier\n",
        "knn = KNeighborsClassifier()\n",
        "knn.fit(X_train,y_train)\n",
        "y_pred_knn = knn.predict(X_test)\n",
        "knn_untune = accuracy_score(y_pred_knn, y_test)*100\n",
        "accuracy_score(y_pred_knn, y_test)*100"
      ],
      "metadata": {
        "colab": {
          "base_uri": "https://localhost:8080/"
        },
        "id": "oHp0WJJoo-0M",
        "outputId": "1a5030cd-8c64-42b7-f01b-24dca5369c39"
      },
      "execution_count": 109,
      "outputs": [
        {
          "output_type": "execute_result",
          "data": {
            "text/plain": [
              "86.98060941828255"
            ]
          },
          "metadata": {},
          "execution_count": 109
        }
      ]
    },
    {
      "cell_type": "code",
      "source": [
        "sns.distplot(y_test - y_pred_knn)"
      ],
      "metadata": {
        "colab": {
          "base_uri": "https://localhost:8080/",
          "height": 296
        },
        "id": "MBXJqPDfJwoC",
        "outputId": "285d0ffa-8727-4299-9cbe-fdc197bba586"
      },
      "execution_count": 110,
      "outputs": [
        {
          "output_type": "execute_result",
          "data": {
            "text/plain": [
              "<Axes: xlabel='label', ylabel='Density'>"
            ]
          },
          "metadata": {},
          "execution_count": 110
        },
        {
          "output_type": "display_data",
          "data": {
            "text/plain": [
              "<Figure size 432x288 with 1 Axes>"
            ],
            "image/png": "[encoded data removed]"
          },
          "metadata": {
            "needs_background": "light"
          }
        }
      ]
    },
    {
      "cell_type": "markdown",
      "source": [
        "#####Hyper Parameter Tuning for KNN"
      ],
      "metadata": {
        "id": "QglT7jL6J_LV"
      }
    },
    {
      "cell_type": "code",
      "source": [
        "from sklearn.model_selection import GridSearchCV\n",
        "parameter_knn = {\"n_neighbors\" : list(np.arange(1,30,1)),\n",
        "                 \"weights\" : [\"uniform\", \"distance\"],\n",
        "                 \"algorithm\" : [\"auto\", \"ball_tree\", \"kd_tree\", \"brute\"]}\n",
        "Classfier_knn = GridSearchCV(knn,param_grid=parameter_knn, scoring=\"accuracy\", cv=5)"
      ],
      "metadata": {
        "id": "CHqvgNG6tSQ0"
      },
      "execution_count": 111,
      "outputs": []
    },
    {
      "cell_type": "code",
      "source": [
        "Classfier_knn.fit(X_train, y_train)"
      ],
      "metadata": {
        "colab": {
          "base_uri": "https://localhost:8080/",
          "height": 118
        },
        "id": "qnSm5OuhtSNc",
        "outputId": "700fdd7b-0641-4287-b681-d95a06674739"
      },
      "execution_count": 112,
      "outputs": [
        {
          "output_type": "execute_result",
          "data": {
            "text/plain": [
              "GridSearchCV(cv=5, estimator=KNeighborsClassifier(),\n",
              "             param_grid={'algorithm': ['auto', 'ball_tree', 'kd_tree', 'brute'],\n",
              "                         'n_neighbors': [1, 2, 3, 4, 5, 6, 7, 8, 9, 10, 11, 12,\n",
              "                                         13, 14, 15, 16, 17, 18, 19, 20, 21, 22,\n",
              "                                         23, 24, 25, 26, 27, 28, 29],\n",
              "                         'weights': ['uniform', 'distance']},\n",
              "             scoring='accuracy')"
            ],
            "text/html": [
              "<style>#sk-container-id-4 {color: black;background-color: white;}#sk-container-id-4 pre{padding: 0;}#sk-container-id-4 div.sk-toggleable {background-color: white;}#sk-container-id-4 label.sk-toggleable__label {cursor: pointer;display: block;width: 100%;margin-bottom: 0;padding: 0.3em;box-sizing: border-box;text-align: center;}#sk-container-id-4 label.sk-toggleable__label-arrow:before {content: \"▸\";float: left;margin-right: 0.25em;color: #696969;}#sk-container-id-4 label.sk-toggleable__label-arrow:hover:before {color: black;}#sk-container-id-4 div.sk-estimator:hover label.sk-toggleable__label-arrow:before {color: black;}#sk-container-id-4 div.sk-toggleable__content {max-height: 0;max-width: 0;overflow: hidden;text-align: left;background-color: #f0f8ff;}#sk-container-id-4 div.sk-toggleable__content pre {margin: 0.2em;color: black;border-radius: 0.25em;background-color: #f0f8ff;}#sk-container-id-4 input.sk-toggleable__control:checked~div.sk-toggleable__content {max-height: 200px;max-width: 100%;overflow: auto;}#sk-container-id-4 input.sk-toggleable__control:checked~label.sk-toggleable__label-arrow:before {content: \"▾\";}#sk-container-id-4 div.sk-estimator input.sk-toggleable__control:checked~label.sk-toggleable__label {background-color: #d4ebff;}#sk-container-id-4 div.sk-label input.sk-toggleable__control:checked~label.sk-toggleable__label {background-color: #d4ebff;}#sk-container-id-4 input.sk-hidden--visually {border: 0;clip: rect(1px 1px 1px 1px);clip: rect(1px, 1px, 1px, 1px);height: 1px;margin: -1px;overflow: hidden;padding: 0;position: absolute;width: 1px;}#sk-container-id-4 div.sk-estimator {font-family: monospace;background-color: #f0f8ff;border: 1px dotted black;border-radius: 0.25em;box-sizing: border-box;margin-bottom: 0.5em;}#sk-container-id-4 div.sk-estimator:hover {background-color: #d4ebff;}#sk-container-id-4 div.sk-parallel-item::after {content: \"\";width: 100%;border-bottom: 1px solid gray;flex-grow: 1;}#sk-container-id-4 div.sk-label:hover label.sk-toggleable__label {background-color: #d4ebff;}#sk-container-id-4 div.sk-serial::before {content: \"\";position: absolute;border-left: 1px solid gray;box-sizing: border-box;top: 0;bottom: 0;left: 50%;z-index: 0;}#sk-container-id-4 div.sk-serial {display: flex;flex-direction: column;align-items: center;background-color: white;padding-right: 0.2em;padding-left: 0.2em;position: relative;}#sk-container-id-4 div.sk-item {position: relative;z-index: 1;}#sk-container-id-4 div.sk-parallel {display: flex;align-items: stretch;justify-content: center;background-color: white;position: relative;}#sk-container-id-4 div.sk-item::before, #sk-container-id-4 div.sk-parallel-item::before {content: \"\";position: absolute;border-left: 1px solid gray;box-sizing: border-box;top: 0;bottom: 0;left: 50%;z-index: -1;}#sk-container-id-4 div.sk-parallel-item {display: flex;flex-direction: column;z-index: 1;position: relative;background-color: white;}#sk-container-id-4 div.sk-parallel-item:first-child::after {align-self: flex-end;width: 50%;}#sk-container-id-4 div.sk-parallel-item:last-child::after {align-self: flex-start;width: 50%;}#sk-container-id-4 div.sk-parallel-item:only-child::after {width: 0;}#sk-container-id-4 div.sk-dashed-wrapped {border: 1px dashed gray;margin: 0 0.4em 0.5em 0.4em;box-sizing: border-box;padding-bottom: 0.4em;background-color: white;}#sk-container-id-4 div.sk-label label {font-family: monospace;font-weight: bold;display: inline-block;line-height: 1.2em;}#sk-container-id-4 div.sk-label-container {text-align: center;}#sk-container-id-4 div.sk-container {/* jupyter's `normalize.less` sets `[hidden] { display: none; }` but bootstrap.min.css set `[hidden] { display: none !important; }` so we also need the `!important` here to be able to override the default hidden behavior on the sphinx rendered scikit-learn.org. See: https://github.com/scikit-learn/scikit-learn/issues/21755 */display: inline-block !important;position: relative;}#sk-container-id-4 div.sk-text-repr-fallback {display: none;}</style><div id=\"sk-container-id-4\" class=\"sk-top-container\"><div class=\"sk-text-repr-fallback\"><pre>GridSearchCV(cv=5, estimator=KNeighborsClassifier(),\n",
              "             param_grid={&#x27;algorithm&#x27;: [&#x27;auto&#x27;, &#x27;ball_tree&#x27;, &#x27;kd_tree&#x27;, &#x27;brute&#x27;],\n",
              "                         &#x27;n_neighbors&#x27;: [1, 2, 3, 4, 5, 6, 7, 8, 9, 10, 11, 12,\n",
              "                                         13, 14, 15, 16, 17, 18, 19, 20, 21, 22,\n",
              "                                         23, 24, 25, 26, 27, 28, 29],\n",
              "                         &#x27;weights&#x27;: [&#x27;uniform&#x27;, &#x27;distance&#x27;]},\n",
              "             scoring=&#x27;accuracy&#x27;)</pre><b>In a Jupyter environment, please rerun this cell to show the HTML representation or trust the notebook. <br />On GitHub, the HTML representation is unable to render, please try loading this page with nbviewer.org.</b></div><div class=\"sk-container\" hidden><div class=\"sk-item sk-dashed-wrapped\"><div class=\"sk-label-container\"><div class=\"sk-label sk-toggleable\"><input class=\"sk-toggleable__control sk-hidden--visually\" id=\"sk-estimator-id-8\" type=\"checkbox\" ><label for=\"sk-estimator-id-8\" class=\"sk-toggleable__label sk-toggleable__label-arrow\">GridSearchCV</label><div class=\"sk-toggleable__content\"><pre>GridSearchCV(cv=5, estimator=KNeighborsClassifier(),\n",
              "             param_grid={&#x27;algorithm&#x27;: [&#x27;auto&#x27;, &#x27;ball_tree&#x27;, &#x27;kd_tree&#x27;, &#x27;brute&#x27;],\n",
              "                         &#x27;n_neighbors&#x27;: [1, 2, 3, 4, 5, 6, 7, 8, 9, 10, 11, 12,\n",
              "                                         13, 14, 15, 16, 17, 18, 19, 20, 21, 22,\n",
              "                                         23, 24, 25, 26, 27, 28, 29],\n",
              "                         &#x27;weights&#x27;: [&#x27;uniform&#x27;, &#x27;distance&#x27;]},\n",
              "             scoring=&#x27;accuracy&#x27;)</pre></div></div></div><div class=\"sk-parallel\"><div class=\"sk-parallel-item\"><div class=\"sk-item\"><div class=\"sk-label-container\"><div class=\"sk-label sk-toggleable\"><input class=\"sk-toggleable__control sk-hidden--visually\" id=\"sk-estimator-id-9\" type=\"checkbox\" ><label for=\"sk-estimator-id-9\" class=\"sk-toggleable__label sk-toggleable__label-arrow\">estimator: KNeighborsClassifier</label><div class=\"sk-toggleable__content\"><pre>KNeighborsClassifier()</pre></div></div></div><div class=\"sk-serial\"><div class=\"sk-item\"><div class=\"sk-estimator sk-toggleable\"><input class=\"sk-toggleable__control sk-hidden--visually\" id=\"sk-estimator-id-10\" type=\"checkbox\" ><label for=\"sk-estimator-id-10\" class=\"sk-toggleable__label sk-toggleable__label-arrow\">KNeighborsClassifier</label><div class=\"sk-toggleable__content\"><pre>KNeighborsClassifier()</pre></div></div></div></div></div></div></div></div></div></div>"
            ]
          },
          "metadata": {},
          "execution_count": 112
        }
      ]
    },
    {
      "cell_type": "code",
      "source": [
        "print(Classfier_knn.best_params_)"
      ],
      "metadata": {
        "colab": {
          "base_uri": "https://localhost:8080/"
        },
        "id": "2ZMhS04YtSLP",
        "outputId": "71caf5da-bd2a-4aab-a7ff-4699a6279ae3"
      },
      "execution_count": 113,
      "outputs": [
        {
          "output_type": "stream",
          "name": "stdout",
          "text": [
            "{'algorithm': 'auto', 'n_neighbors': 23, 'weights': 'distance'}\n"
          ]
        }
      ]
    },
    {
      "cell_type": "code",
      "source": [
        "print(Classfier_knn.best_score_)"
      ],
      "metadata": {
        "colab": {
          "base_uri": "https://localhost:8080/"
        },
        "id": "gCAy7Zf2tSH0",
        "outputId": "e3fd1cc2-8fe4-4e31-a053-037772523aae"
      },
      "execution_count": 114,
      "outputs": [
        {
          "output_type": "stream",
          "name": "stdout",
          "text": [
            "0.912037037037037\n"
          ]
        }
      ]
    },
    {
      "cell_type": "code",
      "source": [
        "y_pred_tune_knn = Classfier_knn.predict(X_test)"
      ],
      "metadata": {
        "id": "5eGCbiKAtSFh"
      },
      "execution_count": 115,
      "outputs": []
    },
    {
      "cell_type": "code",
      "source": [
        "knn_tune = accuracy_score(y_pred_tune_knn, y_test)*100\n",
        "accuracy_score(y_pred_tune_knn, y_test)*100"
      ],
      "metadata": {
        "colab": {
          "base_uri": "https://localhost:8080/"
        },
        "id": "kuhAqHMTtSEe",
        "outputId": "ebe86b71-3bd3-438a-afe4-1848427f49b1"
      },
      "execution_count": 116,
      "outputs": [
        {
          "output_type": "execute_result",
          "data": {
            "text/plain": [
              "92.5207756232687"
            ]
          },
          "metadata": {},
          "execution_count": 116
        }
      ]
    },
    {
      "cell_type": "code",
      "source": [
        "print(classification_report(y_pred_tune_knn, y_test))"
      ],
      "metadata": {
        "colab": {
          "base_uri": "https://localhost:8080/"
        },
        "id": "BWcHkA4UtSB_",
        "outputId": "8df5a0f6-1276-495a-9102-ad7e381bc9dd"
      },
      "execution_count": 117,
      "outputs": [
        {
          "output_type": "stream",
          "name": "stdout",
          "text": [
            "              precision    recall  f1-score   support\n",
            "\n",
            "           0       0.99      0.93      0.96       344\n",
            "           1       0.38      0.88      0.53        17\n",
            "\n",
            "    accuracy                           0.93       361\n",
            "   macro avg       0.68      0.90      0.74       361\n",
            "weighted avg       0.96      0.93      0.94       361\n",
            "\n"
          ]
        }
      ]
    },
    {
      "cell_type": "markdown",
      "source": [
        "###Random Forest Classifier"
      ],
      "metadata": {
        "id": "uhxoRW-qpTwn"
      }
    },
    {
      "cell_type": "code",
      "source": [
        "from sklearn.ensemble import RandomForestClassifier\n",
        "random_forest = RandomForestClassifier()\n",
        "random_forest.fit(X_train,y_train)\n",
        "y_pred_rfc = random_forest.predict(X_test)\n",
        "random_forest_untune = accuracy_score(y_pred_rfc, y_test)*100\n",
        "accuracy_score(y_pred_rfc, y_test)*100"
      ],
      "metadata": {
        "colab": {
          "base_uri": "https://localhost:8080/"
        },
        "id": "L0drAF7to-2v",
        "outputId": "2a030bac-00d1-45f5-a949-64367b7b1b25"
      },
      "execution_count": 118,
      "outputs": [
        {
          "output_type": "execute_result",
          "data": {
            "text/plain": [
              "92.5207756232687"
            ]
          },
          "metadata": {},
          "execution_count": 118
        }
      ]
    },
    {
      "cell_type": "code",
      "source": [
        "sns.distplot(y_test - y_pred_rfc)"
      ],
      "metadata": {
        "colab": {
          "base_uri": "https://localhost:8080/",
          "height": 0
        },
        "id": "vmrtDch7J-Uf",
        "outputId": "d8a2242f-b8f4-4b8a-d2c3-e37f0a9b387a"
      },
      "execution_count": 119,
      "outputs": [
        {
          "output_type": "execute_result",
          "data": {
            "text/plain": [
              "<Axes: xlabel='label', ylabel='Density'>"
            ]
          },
          "metadata": {},
          "execution_count": 119
        },
        {
          "output_type": "display_data",
          "data": {
            "text/plain": [
              "<Figure size 432x288 with 1 Axes>"
            ],
            "image/png": "[encoded data removed]"
          },
          "metadata": {
            "needs_background": "light"
          }
        }
      ]
    },
    {
      "cell_type": "markdown",
      "source": [
        "#####Hyper Parameter Tuning for Random Forest Classifier"
      ],
      "metadata": {
        "id": "3xg7bJb0KRwS"
      }
    },
    {
      "cell_type": "code",
      "source": [
        "from sklearn.model_selection import GridSearchCV\n",
        "parameter_rfc = {\"n_estimators\" : list(np.arange(10,15,1)),\n",
        "                 \"criterion\" : [\"gini\", \"entropy\", \"log_loss\"],\n",
        "                 \"max_depth\" : list(np.arange(0,14))}\n",
        "Classfier_rfc = GridSearchCV(random_forest,param_grid=parameter_rfc, scoring=\"accuracy\", cv=5)"
      ],
      "metadata": {
        "id": "KgaoyMOSweJQ"
      },
      "execution_count": 120,
      "outputs": []
    },
    {
      "cell_type": "code",
      "source": [
        "Classfier_rfc.fit(X_train, y_train)"
      ],
      "metadata": {
        "colab": {
          "base_uri": "https://localhost:8080/",
          "height": 0
        },
        "id": "j-kIoHeuweDS",
        "outputId": "35363ae8-ea9f-4a90-fd15-5a2c13f0d036"
      },
      "execution_count": 121,
      "outputs": [
        {
          "output_type": "execute_result",
          "data": {
            "text/plain": [
              "GridSearchCV(cv=5, estimator=RandomForestClassifier(),\n",
              "             param_grid={'criterion': ['gini', 'entropy', 'log_loss'],\n",
              "                         'max_depth': [0, 1, 2, 3, 4, 5, 6, 7, 8, 9, 10, 11, 12,\n",
              "                                       13],\n",
              "                         'n_estimators': [10, 11, 12, 13, 14]},\n",
              "             scoring='accuracy')"
            ],
            "text/html": [
              "<style>#sk-container-id-5 {color: black;background-color: white;}#sk-container-id-5 pre{padding: 0;}#sk-container-id-5 div.sk-toggleable {background-color: white;}#sk-container-id-5 label.sk-toggleable__label {cursor: pointer;display: block;width: 100%;margin-bottom: 0;padding: 0.3em;box-sizing: border-box;text-align: center;}#sk-container-id-5 label.sk-toggleable__label-arrow:before {content: \"▸\";float: left;margin-right: 0.25em;color: #696969;}#sk-container-id-5 label.sk-toggleable__label-arrow:hover:before {color: black;}#sk-container-id-5 div.sk-estimator:hover label.sk-toggleable__label-arrow:before {color: black;}#sk-container-id-5 div.sk-toggleable__content {max-height: 0;max-width: 0;overflow: hidden;text-align: left;background-color: #f0f8ff;}#sk-container-id-5 div.sk-toggleable__content pre {margin: 0.2em;color: black;border-radius: 0.25em;background-color: #f0f8ff;}#sk-container-id-5 input.sk-toggleable__control:checked~div.sk-toggleable__content {max-height: 200px;max-width: 100%;overflow: auto;}#sk-container-id-5 input.sk-toggleable__control:checked~label.sk-toggleable__label-arrow:before {content: \"▾\";}#sk-container-id-5 div.sk-estimator input.sk-toggleable__control:checked~label.sk-toggleable__label {background-color: #d4ebff;}#sk-container-id-5 div.sk-label input.sk-toggleable__control:checked~label.sk-toggleable__label {background-color: #d4ebff;}#sk-container-id-5 input.sk-hidden--visually {border: 0;clip: rect(1px 1px 1px 1px);clip: rect(1px, 1px, 1px, 1px);height: 1px;margin: -1px;overflow: hidden;padding: 0;position: absolute;width: 1px;}#sk-container-id-5 div.sk-estimator {font-family: monospace;background-color: #f0f8ff;border: 1px dotted black;border-radius: 0.25em;box-sizing: border-box;margin-bottom: 0.5em;}#sk-container-id-5 div.sk-estimator:hover {background-color: #d4ebff;}#sk-container-id-5 div.sk-parallel-item::after {content: \"\";width: 100%;border-bottom: 1px solid gray;flex-grow: 1;}#sk-container-id-5 div.sk-label:hover label.sk-toggleable__label {background-color: #d4ebff;}#sk-container-id-5 div.sk-serial::before {content: \"\";position: absolute;border-left: 1px solid gray;box-sizing: border-box;top: 0;bottom: 0;left: 50%;z-index: 0;}#sk-container-id-5 div.sk-serial {display: flex;flex-direction: column;align-items: center;background-color: white;padding-right: 0.2em;padding-left: 0.2em;position: relative;}#sk-container-id-5 div.sk-item {position: relative;z-index: 1;}#sk-container-id-5 div.sk-parallel {display: flex;align-items: stretch;justify-content: center;background-color: white;position: relative;}#sk-container-id-5 div.sk-item::before, #sk-container-id-5 div.sk-parallel-item::before {content: \"\";position: absolute;border-left: 1px solid gray;box-sizing: border-box;top: 0;bottom: 0;left: 50%;z-index: -1;}#sk-container-id-5 div.sk-parallel-item {display: flex;flex-direction: column;z-index: 1;position: relative;background-color: white;}#sk-container-id-5 div.sk-parallel-item:first-child::after {align-self: flex-end;width: 50%;}#sk-container-id-5 div.sk-parallel-item:last-child::after {align-self: flex-start;width: 50%;}#sk-container-id-5 div.sk-parallel-item:only-child::after {width: 0;}#sk-container-id-5 div.sk-dashed-wrapped {border: 1px dashed gray;margin: 0 0.4em 0.5em 0.4em;box-sizing: border-box;padding-bottom: 0.4em;background-color: white;}#sk-container-id-5 div.sk-label label {font-family: monospace;font-weight: bold;display: inline-block;line-height: 1.2em;}#sk-container-id-5 div.sk-label-container {text-align: center;}#sk-container-id-5 div.sk-container {/* jupyter's `normalize.less` sets `[hidden] { display: none; }` but bootstrap.min.css set `[hidden] { display: none !important; }` so we also need the `!important` here to be able to override the default hidden behavior on the sphinx rendered scikit-learn.org. See: https://github.com/scikit-learn/scikit-learn/issues/21755 */display: inline-block !important;position: relative;}#sk-container-id-5 div.sk-text-repr-fallback {display: none;}</style><div id=\"sk-container-id-5\" class=\"sk-top-container\"><div class=\"sk-text-repr-fallback\"><pre>GridSearchCV(cv=5, estimator=RandomForestClassifier(),\n",
              "             param_grid={&#x27;criterion&#x27;: [&#x27;gini&#x27;, &#x27;entropy&#x27;, &#x27;log_loss&#x27;],\n",
              "                         &#x27;max_depth&#x27;: [0, 1, 2, 3, 4, 5, 6, 7, 8, 9, 10, 11, 12,\n",
              "                                       13],\n",
              "                         &#x27;n_estimators&#x27;: [10, 11, 12, 13, 14]},\n",
              "             scoring=&#x27;accuracy&#x27;)</pre><b>In a Jupyter environment, please rerun this cell to show the HTML representation or trust the notebook. <br />On GitHub, the HTML representation is unable to render, please try loading this page with nbviewer.org.</b></div><div class=\"sk-container\" hidden><div class=\"sk-item sk-dashed-wrapped\"><div class=\"sk-label-container\"><div class=\"sk-label sk-toggleable\"><input class=\"sk-toggleable__control sk-hidden--visually\" id=\"sk-estimator-id-11\" type=\"checkbox\" ><label for=\"sk-estimator-id-11\" class=\"sk-toggleable__label sk-toggleable__label-arrow\">GridSearchCV</label><div class=\"sk-toggleable__content\"><pre>GridSearchCV(cv=5, estimator=RandomForestClassifier(),\n",
              "             param_grid={&#x27;criterion&#x27;: [&#x27;gini&#x27;, &#x27;entropy&#x27;, &#x27;log_loss&#x27;],\n",
              "                         &#x27;max_depth&#x27;: [0, 1, 2, 3, 4, 5, 6, 7, 8, 9, 10, 11, 12,\n",
              "                                       13],\n",
              "                         &#x27;n_estimators&#x27;: [10, 11, 12, 13, 14]},\n",
              "             scoring=&#x27;accuracy&#x27;)</pre></div></div></div><div class=\"sk-parallel\"><div class=\"sk-parallel-item\"><div class=\"sk-item\"><div class=\"sk-label-container\"><div class=\"sk-label sk-toggleable\"><input class=\"sk-toggleable__control sk-hidden--visually\" id=\"sk-estimator-id-12\" type=\"checkbox\" ><label for=\"sk-estimator-id-12\" class=\"sk-toggleable__label sk-toggleable__label-arrow\">estimator: RandomForestClassifier</label><div class=\"sk-toggleable__content\"><pre>RandomForestClassifier()</pre></div></div></div><div class=\"sk-serial\"><div class=\"sk-item\"><div class=\"sk-estimator sk-toggleable\"><input class=\"sk-toggleable__control sk-hidden--visually\" id=\"sk-estimator-id-13\" type=\"checkbox\" ><label for=\"sk-estimator-id-13\" class=\"sk-toggleable__label sk-toggleable__label-arrow\">RandomForestClassifier</label><div class=\"sk-toggleable__content\"><pre>RandomForestClassifier()</pre></div></div></div></div></div></div></div></div></div></div>"
            ]
          },
          "metadata": {},
          "execution_count": 121
        }
      ]
    },
    {
      "cell_type": "code",
      "source": [
        "print(Classfier_rfc.best_params_)"
      ],
      "metadata": {
        "colab": {
          "base_uri": "https://localhost:8080/"
        },
        "id": "6mQ46JRCwd_3",
        "outputId": "1e4b44ee-0b93-49e4-a861-f928f12af3e0"
      },
      "execution_count": 122,
      "outputs": [
        {
          "output_type": "stream",
          "name": "stdout",
          "text": [
            "{'criterion': 'gini', 'max_depth': 13, 'n_estimators': 12}\n"
          ]
        }
      ]
    },
    {
      "cell_type": "code",
      "source": [
        "print(Classfier_rfc.best_score_)"
      ],
      "metadata": {
        "colab": {
          "base_uri": "https://localhost:8080/"
        },
        "id": "HEFceHi_wd9T",
        "outputId": "38e675ad-6401-4b9a-94db-e6489294df3c"
      },
      "execution_count": 123,
      "outputs": [
        {
          "output_type": "stream",
          "name": "stdout",
          "text": [
            "0.9111111111111112\n"
          ]
        }
      ]
    },
    {
      "cell_type": "code",
      "source": [
        "y_pred_tune_rfc = Classfier_rfc.predict(X_test)"
      ],
      "metadata": {
        "id": "KRwX1HO6wd6T"
      },
      "execution_count": 124,
      "outputs": []
    },
    {
      "cell_type": "code",
      "source": [
        "random_forest_tune = accuracy_score(y_pred_tune_rfc, y_test)*100\n",
        "accuracy_score(y_pred_tune_rfc, y_test)*100"
      ],
      "metadata": {
        "colab": {
          "base_uri": "https://localhost:8080/"
        },
        "id": "LMUcKPB4wd2t",
        "outputId": "d7899554-0f4c-4d91-bf4a-57da23b47ad3"
      },
      "execution_count": 125,
      "outputs": [
        {
          "output_type": "execute_result",
          "data": {
            "text/plain": [
              "89.47368421052632"
            ]
          },
          "metadata": {},
          "execution_count": 125
        }
      ]
    },
    {
      "cell_type": "code",
      "source": [
        "print(classification_report(y_pred_tune_rfc, y_test))"
      ],
      "metadata": {
        "colab": {
          "base_uri": "https://localhost:8080/"
        },
        "id": "gsgVXEKDwdzW",
        "outputId": "fbfa9e82-9cf0-4e63-c271-76e3f44b9da7"
      },
      "execution_count": 126,
      "outputs": [
        {
          "output_type": "stream",
          "name": "stdout",
          "text": [
            "              precision    recall  f1-score   support\n",
            "\n",
            "           0       1.00      0.90      0.94       357\n",
            "           1       0.07      0.75      0.14         4\n",
            "\n",
            "    accuracy                           0.89       361\n",
            "   macro avg       0.54      0.82      0.54       361\n",
            "weighted avg       0.99      0.89      0.94       361\n",
            "\n"
          ]
        }
      ]
    },
    {
      "cell_type": "markdown",
      "source": [
        "###XGBoost - Pending"
      ],
      "metadata": {
        "id": "RY8BORdgpYrF"
      }
    },
    {
      "cell_type": "code",
      "source": [
        "import xgboost as xgb\n",
        "xgb_classifier = xgb.XGBClassifier()\n",
        "xgb_classifier.fit(X_train,y_train)\n",
        "y_pred_xgb = xgb_classifier.predict(X_test)\n",
        "accuracy_score(y_test,y_pred_xgb)*100"
      ],
      "metadata": {
        "colab": {
          "base_uri": "https://localhost:8080/"
        },
        "id": "4kb_l1CChHgZ",
        "outputId": "1ccef840-b025-49b4-be6e-31ebcb79bda1"
      },
      "execution_count": 127,
      "outputs": [
        {
          "output_type": "execute_result",
          "data": {
            "text/plain": [
              "90.02770083102493"
            ]
          },
          "metadata": {},
          "execution_count": 127
        }
      ]
    },
    {
      "cell_type": "code",
      "source": [
        "sns.distplot(y_test - y_pred_xgb)"
      ],
      "metadata": {
        "id": "doBugwY0KC-9",
        "colab": {
          "base_uri": "https://localhost:8080/",
          "height": 0
        },
        "outputId": "48149521-6e22-43f4-b5b5-f0270b275ad7"
      },
      "execution_count": 128,
      "outputs": [
        {
          "output_type": "execute_result",
          "data": {
            "text/plain": [
              "<Axes: xlabel='label', ylabel='Density'>"
            ]
          },
          "metadata": {},
          "execution_count": 128
        },
        {
          "output_type": "display_data",
          "data": {
            "text/plain": [
              "<Figure size 432x288 with 1 Axes>"
            ],
            "image/png": "[encoded data removed]"
          },
          "metadata": {
            "needs_background": "light"
          }
        }
      ]
    },
    {
      "cell_type": "markdown",
      "source": [
        "###SVM"
      ],
      "metadata": {
        "id": "f9hGemvSpbiH"
      }
    },
    {
      "cell_type": "code",
      "source": [
        "from sklearn.svm import SVC\n",
        "svm = SVC()\n",
        "svm.fit(X_train,y_train)\n",
        "y_pred_svm = svm.predict(X_test)\n",
        "svm_untune = accuracy_score(y_pred_svm, y_test)*100\n",
        "accuracy_score(y_pred_svm, y_test)*100"
      ],
      "metadata": {
        "colab": {
          "base_uri": "https://localhost:8080/"
        },
        "id": "fpzV5b0mpPcV",
        "outputId": "60b67063-0394-4cbc-9109-4eded8b18fa1"
      },
      "execution_count": 129,
      "outputs": [
        {
          "output_type": "execute_result",
          "data": {
            "text/plain": [
              "89.47368421052632"
            ]
          },
          "metadata": {},
          "execution_count": 129
        }
      ]
    },
    {
      "cell_type": "code",
      "source": [
        "sns.distplot(y_test - y_pred_svm)"
      ],
      "metadata": {
        "colab": {
          "base_uri": "https://localhost:8080/",
          "height": 0
        },
        "id": "W5UZwXCYKdqd",
        "outputId": "04b18f34-ca3d-4af1-cd83-fe471c6e5ff9"
      },
      "execution_count": 130,
      "outputs": [
        {
          "output_type": "execute_result",
          "data": {
            "text/plain": [
              "<Axes: xlabel='label', ylabel='Density'>"
            ]
          },
          "metadata": {},
          "execution_count": 130
        },
        {
          "output_type": "display_data",
          "data": {
            "text/plain": [
              "<Figure size 432x288 with 1 Axes>"
            ],
            "image/png": "[encoded data removed]"
          },
          "metadata": {
            "needs_background": "light"
          }
        }
      ]
    },
    {
      "cell_type": "markdown",
      "source": [
        "#####Hyper Parameter Tuning for SVC"
      ],
      "metadata": {
        "id": "6VdhZSqYKj7w"
      }
    },
    {
      "cell_type": "code",
      "source": [
        "# from sklearn.model_selection import GridSearchCV\n",
        "# parameter_svm = {'C': [0.1, 1, 10, 100, 1000], \n",
        "#               'gamma': [1, 0.1, 0.01, 0.001, 0.0001],\n",
        "#               'kernel': ['rbf', 'poly', 'sigmoid']}\n",
        "# Classfier_svm = GridSearchCV(svm,param_grid=parameter_svm,refit=True, verbose=2)"
      ],
      "metadata": {
        "id": "33XGX6P-pPY6"
      },
      "execution_count": 131,
      "outputs": []
    },
    {
      "cell_type": "code",
      "source": [
        "# Classfier_svm.fit(X_train, y_train)"
      ],
      "metadata": {
        "id": "dY8yY_-H1-RQ"
      },
      "execution_count": 132,
      "outputs": []
    },
    {
      "cell_type": "code",
      "source": [
        "# print(Classfier_svm.best_params_)"
      ],
      "metadata": {
        "id": "xD3yliaG0xxX"
      },
      "execution_count": 133,
      "outputs": []
    },
    {
      "cell_type": "code",
      "source": [
        "# print(Classfier_svm.best_estimator_)"
      ],
      "metadata": {
        "id": "bek8cqJe2gAn"
      },
      "execution_count": 134,
      "outputs": []
    },
    {
      "cell_type": "code",
      "source": [
        "# print(Classfier_svm.best_score_)"
      ],
      "metadata": {
        "id": "TsF5uD2r2f9U"
      },
      "execution_count": 135,
      "outputs": []
    },
    {
      "cell_type": "code",
      "source": [
        "# y_pred_tune_svm = Classfier_svm.predict(X_test)"
      ],
      "metadata": {
        "id": "kjd3h-in2f7X"
      },
      "execution_count": 136,
      "outputs": []
    },
    {
      "cell_type": "code",
      "source": [
        "# svm_tune = accuracy_score(y_pred_tune_svm, y_test)*100\n",
        "# accuracy_score(y_pred_tune_svm, y_test)*100"
      ],
      "metadata": {
        "id": "Fu5XFgyW2f37"
      },
      "execution_count": 137,
      "outputs": []
    },
    {
      "cell_type": "code",
      "source": [
        "# print(classification_report(y_pred_tune_svm, y_test))"
      ],
      "metadata": {
        "id": "c7ilF3iJ26Gv"
      },
      "execution_count": 138,
      "outputs": []
    },
    {
      "cell_type": "markdown",
      "source": [
        "#**ACCURACY : GRAPH**"
      ],
      "metadata": {
        "id": "RIBuS217KFlj"
      }
    },
    {
      "cell_type": "markdown",
      "source": [
        "#####Untuned Algorithm Graph"
      ],
      "metadata": {
        "id": "rSN7lTuSQ566"
      }
    },
    {
      "cell_type": "code",
      "source": [
        "untuned_algo = [Log_reg_untune, dec_tree_untune, knn_untune, random_forest_untune]\n",
        "Algo_value_untune = []\n",
        "for i in untuned_algo:\n",
        "  Algo_value_untune.append(round(i,1))\n",
        "Algo = [\"Logistic Regression\", \"Decision Tree\" , \"KNN\", \"Random Forest\"]\n",
        "plt.figure(figsize=(15,5))\n",
        "def addlabels_untune(x,y):\n",
        "    for i in range(len(x)):\n",
        "        plt.text(i,y[i],y[i], horizontalalignment = \"left\")\n",
        "sns.barplot(x= Algo, y = untuned_algo)\n",
        "addlabels_untune(Algo, Algo_value_untune)"
      ],
      "metadata": {
        "colab": {
          "base_uri": "https://localhost:8080/",
          "height": 0
        },
        "id": "CPpSzKHAKwkx",
        "outputId": "75c454e0-3895-4281-de42-70f683684dfa"
      },
      "execution_count": 139,
      "outputs": [
        {
          "output_type": "display_data",
          "data": {
            "text/plain": [
              "<Figure size 1080x360 with 1 Axes>"
            ],
            "image/png": "[encoded data removed]"
          },
          "metadata": {
            "needs_background": "light"
          }
        }
      ]
    },
    {
      "cell_type": "markdown",
      "source": [
        "#####Tuned Algorithm Graph"
      ],
      "metadata": {
        "id": "GJNJosgaQ2ML"
      }
    },
    {
      "cell_type": "code",
      "source": [
        "tuned_algo = [Log_reg_tune, dec_tree_tune, knn_tune, random_forest_tune]\n",
        "Algo_value_tune = []\n",
        "for i in tuned_algo:\n",
        "  Algo_value_tune.append(round(i,1))\n",
        "Algo = [\"Logistic Regression\", \"Decision Tree\" , \"KNN\", \"Random Forest\"]\n",
        "plt.figure(figsize=(15,5))\n",
        "def addlabels_tune(x,y):\n",
        "    for i in range(len(x)):\n",
        "        plt.text(i,y[i],y[i], horizontalalignment = \"right\")\n",
        "sns.barplot(x = Algo, y = Algo_value_tune)\n",
        "addlabels_tune(Algo, Algo_value_tune)"
      ],
      "metadata": {
        "colab": {
          "base_uri": "https://localhost:8080/",
          "height": 0
        },
        "id": "DBR15P00Q1U1",
        "outputId": "974ec568-6aa3-4be6-df8b-c7f1447699fa"
      },
      "execution_count": 140,
      "outputs": [
        {
          "output_type": "display_data",
          "data": {
            "text/plain": [
              "<Figure size 1080x360 with 1 Axes>"
            ],
            "image/png": "[encoded data removed]"
          },
          "metadata": {
            "needs_background": "light"
          }
        }
      ]
    },
    {
      "cell_type": "markdown",
      "source": [
        "#####Comparision "
      ],
      "metadata": {
        "id": "pr1KKQF3MOME"
      }
    },
    {
      "cell_type": "code",
      "source": [
        "plt.figure(figsize=(20,15))\n",
        "X_label_algo = np.arange(len(Algo))\n",
        "plt.bar(X_label_algo-0.1, untuned_algo, 0.3, label = \"Untuned Algorithm\")\n",
        "plt.bar(X_label_algo+0.1, tuned_algo, 0.3, label = \"Tuned Algorithm\" )\n",
        "plt.xticks(X_label_algo, Algo)\n",
        "plt.legend(loc = \"upper left\")\n",
        "addlabels_tune(Algo, Algo_value_tune)\n",
        "addlabels_untune(Algo, Algo_value_untune)"
      ],
      "metadata": {
        "colab": {
          "base_uri": "https://localhost:8080/",
          "height": 863
        },
        "id": "8hoPHltHLV6J",
        "outputId": "495ed11f-e198-4c3b-ba02-1fd3eec72261"
      },
      "execution_count": 142,
      "outputs": [
        {
          "output_type": "display_data",
          "data": {
            "text/plain": [
              "<Figure size 1440x1080 with 1 Axes>"
            ],
            "image/png": "[encoded data removed]"
          },
          "metadata": {
            "needs_background": "light"
          }
        }
      ]
    }
  ]
}