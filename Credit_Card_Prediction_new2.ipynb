{
  "nbformat": 4,
  "nbformat_minor": 0,
  "metadata": {
    "colab": {
      "provenance": [],
      "collapsed_sections": [
        "RVw5MUNwSm7k",
        "AAG0EmJaAIKj",
        "lemo8sTXAg_a",
        "3njNmurMiMBb",
        "ypsJjej6ZoKu",
        "MqQ5c0TOZpne",
        "Rv-JIQ7TZwYX",
        "JPF_dfqqaNJp",
        "OJH1FG-SaTXG",
        "qZYsilmzvTwC",
        "ZFGzOZYyZ_lH",
        "fhnuCbRRq1W0",
        "1r8hMduhPli_",
        "ILOSoyCrcpHs",
        "6SzIGXozCcsZ",
        "d5WRdRmsCllX",
        "RdQsSfX4doaV",
        "QUPmVEMWehFt",
        "yQPdrbJWdjtv",
        "g85hq2g8piWq",
        "Eaa5JUjuGK1b",
        "YfeXZAPCk64L",
        "o2OY3eM6o6BN",
        "a1qtwTGWJcav",
        "nrbBNH95pEvT",
        "QglT7jL6J_LV",
        "uhxoRW-qpTwn",
        "3xg7bJb0KRwS",
        "RY8BORdgpYrF",
        "f9hGemvSpbiH",
        "RIBuS217KFlj",
        "rSN7lTuSQ566",
        "GJNJosgaQ2ML",
        "pr1KKQF3MOME"
      ]
    },
    "kernelspec": {
      "name": "python3",
      "display_name": "Python 3"
    },
    "language_info": {
      "name": "python"
    }
  },
  "cells": [
    {
      "cell_type": "markdown",
      "source": [
        "#**GATHERING DATA**"
      ],
      "metadata": {
        "id": "RVw5MUNwSm7k"
      }
    },
    {
      "cell_type": "code",
      "execution_count": 173,
      "metadata": {
        "id": "EhRU7r6xl5tM"
      },
      "outputs": [],
      "source": [
        "import pandas as pd   #Library for manipualtion and filtering the data.\n",
        "import numpy as np  #Library for scientific computing.\n",
        "import matplotlib.pyplot as plt  #Library for Data visualization.\n",
        "import seaborn as sns \n",
        "import warnings\n",
        "warnings.filterwarnings('ignore')\n",
        "warnings.simplefilter('ignore')"
      ]
    },
    {
      "cell_type": "code",
      "source": [
        "#Importing Credit Card dataset using read_csv in pandas.\n",
        "df_credit_card = pd.read_csv(\"Credit_card.csv\")\n",
        "\n",
        "#Dataset of Credit Card has 1548 'records' and 18 'features'.\n",
        "df_credit_card.shape"
      ],
      "metadata": {
        "id": "iNPSylSbmBC5",
        "colab": {
          "base_uri": "https://localhost:8080/"
        },
        "outputId": "1a872648-984d-4e2a-f941-b4899d43b161"
      },
      "execution_count": 174,
      "outputs": [
        {
          "output_type": "execute_result",
          "data": {
            "text/plain": [
              "(1548, 18)"
            ]
          },
          "metadata": {},
          "execution_count": 174
        }
      ]
    },
    {
      "cell_type": "code",
      "source": [
        "#Importing Credit Card Label dataset using read_csv in pandas.\n",
        "df_label = pd.read_csv(\"Credit_card_label.csv\")\n",
        "\n",
        "#Dataset of Credit Card labels has 1548 'records' and 2 'features'.\n",
        "df_label.shape"
      ],
      "metadata": {
        "id": "Q3Btbf2F_rgx",
        "colab": {
          "base_uri": "https://localhost:8080/"
        },
        "outputId": "7374fb6b-8ac6-4b8a-a3c1-3887d4c26648"
      },
      "execution_count": 175,
      "outputs": [
        {
          "output_type": "execute_result",
          "data": {
            "text/plain": [
              "(1548, 2)"
            ]
          },
          "metadata": {},
          "execution_count": 175
        }
      ]
    },
    {
      "cell_type": "code",
      "source": [
        "#Combining common datset using merge on \"Ind_ID\" column.\n",
        "df = pd.merge(df_credit_card, df_label, on='Ind_ID', how='inner')"
      ],
      "metadata": {
        "id": "Q2fE9PNf_u4H"
      },
      "execution_count": 176,
      "outputs": []
    },
    {
      "cell_type": "markdown",
      "source": [
        "#**DATA PREPARATION**"
      ],
      "metadata": {
        "id": "xp4eHvjRcMkd"
      }
    },
    {
      "cell_type": "markdown",
      "source": [
        "###Data Pre-Processing"
      ],
      "metadata": {
        "id": "AAG0EmJaAIKj"
      }
    },
    {
      "cell_type": "code",
      "source": [
        "#\"head()\" used to get first 5 rows of dataset.\n",
        "df.head()"
      ],
      "metadata": {
        "colab": {
          "base_uri": "https://localhost:8080/",
          "height": 0
        },
        "id": "EalHmDSMmBWa",
        "outputId": "c2238148-e165-4754-98c3-145ff916482f"
      },
      "execution_count": 177,
      "outputs": [
        {
          "output_type": "execute_result",
          "data": {
            "text/plain": [
              "    Ind_ID GENDER Car_Owner Propert_Owner  CHILDREN  Annual_income  \\\n",
              "0  5008827      M         Y             Y         0       180000.0   \n",
              "1  5009744      F         Y             N         0       315000.0   \n",
              "2  5009746      F         Y             N         0       315000.0   \n",
              "3  5009749      F         Y             N         0            NaN   \n",
              "4  5009752      F         Y             N         0       315000.0   \n",
              "\n",
              "            Type_Income         EDUCATION Marital_status       Housing_type  \\\n",
              "0             Pensioner  Higher education        Married  House / apartment   \n",
              "1  Commercial associate  Higher education        Married  House / apartment   \n",
              "2  Commercial associate  Higher education        Married  House / apartment   \n",
              "3  Commercial associate  Higher education        Married  House / apartment   \n",
              "4  Commercial associate  Higher education        Married  House / apartment   \n",
              "\n",
              "   Birthday_count  Employed_days  Mobile_phone  Work_Phone  Phone  EMAIL_ID  \\\n",
              "0        -18772.0         365243             1           0      0         0   \n",
              "1        -13557.0           -586             1           1      1         0   \n",
              "2             NaN           -586             1           1      1         0   \n",
              "3        -13557.0           -586             1           1      1         0   \n",
              "4        -13557.0           -586             1           1      1         0   \n",
              "\n",
              "  Type_Occupation  Family_Members  label  \n",
              "0             NaN               2      1  \n",
              "1             NaN               2      1  \n",
              "2             NaN               2      1  \n",
              "3             NaN               2      1  \n",
              "4             NaN               2      1  "
            ],
            "text/html": [
              "\n",
              "  <div id=\"df-f0592e45-ba85-46f2-9d70-304c61a61b49\">\n",
              "    <div class=\"colab-df-container\">\n",
              "      <div>\n",
              "<style scoped>\n",
              "    .dataframe tbody tr th:only-of-type {\n",
              "        vertical-align: middle;\n",
              "    }\n",
              "\n",
              "    .dataframe tbody tr th {\n",
              "        vertical-align: top;\n",
              "    }\n",
              "\n",
              "    .dataframe thead th {\n",
              "        text-align: right;\n",
              "    }\n",
              "</style>\n",
              "<table border=\"1\" class=\"dataframe\">\n",
              "  <thead>\n",
              "    <tr style=\"text-align: right;\">\n",
              "      <th></th>\n",
              "      <th>Ind_ID</th>\n",
              "      <th>GENDER</th>\n",
              "      <th>Car_Owner</th>\n",
              "      <th>Propert_Owner</th>\n",
              "      <th>CHILDREN</th>\n",
              "      <th>Annual_income</th>\n",
              "      <th>Type_Income</th>\n",
              "      <th>EDUCATION</th>\n",
              "      <th>Marital_status</th>\n",
              "      <th>Housing_type</th>\n",
              "      <th>Birthday_count</th>\n",
              "      <th>Employed_days</th>\n",
              "      <th>Mobile_phone</th>\n",
              "      <th>Work_Phone</th>\n",
              "      <th>Phone</th>\n",
              "      <th>EMAIL_ID</th>\n",
              "      <th>Type_Occupation</th>\n",
              "      <th>Family_Members</th>\n",
              "      <th>label</th>\n",
              "    </tr>\n",
              "  </thead>\n",
              "  <tbody>\n",
              "    <tr>\n",
              "      <th>0</th>\n",
              "      <td>5008827</td>\n",
              "      <td>M</td>\n",
              "      <td>Y</td>\n",
              "      <td>Y</td>\n",
              "      <td>0</td>\n",
              "      <td>180000.0</td>\n",
              "      <td>Pensioner</td>\n",
              "      <td>Higher education</td>\n",
              "      <td>Married</td>\n",
              "      <td>House / apartment</td>\n",
              "      <td>-18772.0</td>\n",
              "      <td>365243</td>\n",
              "      <td>1</td>\n",
              "      <td>0</td>\n",
              "      <td>0</td>\n",
              "      <td>0</td>\n",
              "      <td>NaN</td>\n",
              "      <td>2</td>\n",
              "      <td>1</td>\n",
              "    </tr>\n",
              "    <tr>\n",
              "      <th>1</th>\n",
              "      <td>5009744</td>\n",
              "      <td>F</td>\n",
              "      <td>Y</td>\n",
              "      <td>N</td>\n",
              "      <td>0</td>\n",
              "      <td>315000.0</td>\n",
              "      <td>Commercial associate</td>\n",
              "      <td>Higher education</td>\n",
              "      <td>Married</td>\n",
              "      <td>House / apartment</td>\n",
              "      <td>-13557.0</td>\n",
              "      <td>-586</td>\n",
              "      <td>1</td>\n",
              "      <td>1</td>\n",
              "      <td>1</td>\n",
              "      <td>0</td>\n",
              "      <td>NaN</td>\n",
              "      <td>2</td>\n",
              "      <td>1</td>\n",
              "    </tr>\n",
              "    <tr>\n",
              "      <th>2</th>\n",
              "      <td>5009746</td>\n",
              "      <td>F</td>\n",
              "      <td>Y</td>\n",
              "      <td>N</td>\n",
              "      <td>0</td>\n",
              "      <td>315000.0</td>\n",
              "      <td>Commercial associate</td>\n",
              "      <td>Higher education</td>\n",
              "      <td>Married</td>\n",
              "      <td>House / apartment</td>\n",
              "      <td>NaN</td>\n",
              "      <td>-586</td>\n",
              "      <td>1</td>\n",
              "      <td>1</td>\n",
              "      <td>1</td>\n",
              "      <td>0</td>\n",
              "      <td>NaN</td>\n",
              "      <td>2</td>\n",
              "      <td>1</td>\n",
              "    </tr>\n",
              "    <tr>\n",
              "      <th>3</th>\n",
              "      <td>5009749</td>\n",
              "      <td>F</td>\n",
              "      <td>Y</td>\n",
              "      <td>N</td>\n",
              "      <td>0</td>\n",
              "      <td>NaN</td>\n",
              "      <td>Commercial associate</td>\n",
              "      <td>Higher education</td>\n",
              "      <td>Married</td>\n",
              "      <td>House / apartment</td>\n",
              "      <td>-13557.0</td>\n",
              "      <td>-586</td>\n",
              "      <td>1</td>\n",
              "      <td>1</td>\n",
              "      <td>1</td>\n",
              "      <td>0</td>\n",
              "      <td>NaN</td>\n",
              "      <td>2</td>\n",
              "      <td>1</td>\n",
              "    </tr>\n",
              "    <tr>\n",
              "      <th>4</th>\n",
              "      <td>5009752</td>\n",
              "      <td>F</td>\n",
              "      <td>Y</td>\n",
              "      <td>N</td>\n",
              "      <td>0</td>\n",
              "      <td>315000.0</td>\n",
              "      <td>Commercial associate</td>\n",
              "      <td>Higher education</td>\n",
              "      <td>Married</td>\n",
              "      <td>House / apartment</td>\n",
              "      <td>-13557.0</td>\n",
              "      <td>-586</td>\n",
              "      <td>1</td>\n",
              "      <td>1</td>\n",
              "      <td>1</td>\n",
              "      <td>0</td>\n",
              "      <td>NaN</td>\n",
              "      <td>2</td>\n",
              "      <td>1</td>\n",
              "    </tr>\n",
              "  </tbody>\n",
              "</table>\n",
              "</div>\n",
              "      <button class=\"colab-df-convert\" onclick=\"convertToInteractive('df-f0592e45-ba85-46f2-9d70-304c61a61b49')\"\n",
              "              title=\"Convert this dataframe to an interactive table.\"\n",
              "              style=\"display:none;\">\n",
              "        \n",
              "  <svg xmlns=\"http://www.w3.org/2000/svg\" height=\"24px\"viewBox=\"0 0 24 24\"\n",
              "       width=\"24px\">\n",
              "    <path d=\"M0 0h24v24H0V0z\" fill=\"none\"/>\n",
              "    <path d=\"M18.56 5.44l.94 2.06.94-2.06 2.06-.94-2.06-.94-.94-2.06-.94 2.06-2.06.94zm-11 1L8.5 8.5l.94-2.06 2.06-.94-2.06-.94L8.5 2.5l-.94 2.06-2.06.94zm10 10l.94 2.06.94-2.06 2.06-.94-2.06-.94-.94-2.06-.94 2.06-2.06.94z\"/><path d=\"M17.41 7.96l-1.37-1.37c-.4-.4-.92-.59-1.43-.59-.52 0-1.04.2-1.43.59L10.3 9.45l-7.72 7.72c-.78.78-.78 2.05 0 2.83L4 21.41c.39.39.9.59 1.41.59.51 0 1.02-.2 1.41-.59l7.78-7.78 2.81-2.81c.8-.78.8-2.07 0-2.86zM5.41 20L4 18.59l7.72-7.72 1.47 1.35L5.41 20z\"/>\n",
              "  </svg>\n",
              "      </button>\n",
              "      \n",
              "  <style>\n",
              "    .colab-df-container {\n",
              "      display:flex;\n",
              "      flex-wrap:wrap;\n",
              "      gap: 12px;\n",
              "    }\n",
              "\n",
              "    .colab-df-convert {\n",
              "      background-color: #E8F0FE;\n",
              "      border: none;\n",
              "      border-radius: 50%;\n",
              "      cursor: pointer;\n",
              "      display: none;\n",
              "      fill: #1967D2;\n",
              "      height: 32px;\n",
              "      padding: 0 0 0 0;\n",
              "      width: 32px;\n",
              "    }\n",
              "\n",
              "    .colab-df-convert:hover {\n",
              "      background-color: #E2EBFA;\n",
              "      box-shadow: 0px 1px 2px rgba(60, 64, 67, 0.3), 0px 1px 3px 1px rgba(60, 64, 67, 0.15);\n",
              "      fill: #174EA6;\n",
              "    }\n",
              "\n",
              "    [theme=dark] .colab-df-convert {\n",
              "      background-color: #3B4455;\n",
              "      fill: #D2E3FC;\n",
              "    }\n",
              "\n",
              "    [theme=dark] .colab-df-convert:hover {\n",
              "      background-color: #434B5C;\n",
              "      box-shadow: 0px 1px 3px 1px rgba(0, 0, 0, 0.15);\n",
              "      filter: drop-shadow(0px 1px 2px rgba(0, 0, 0, 0.3));\n",
              "      fill: #FFFFFF;\n",
              "    }\n",
              "  </style>\n",
              "\n",
              "      <script>\n",
              "        const buttonEl =\n",
              "          document.querySelector('#df-f0592e45-ba85-46f2-9d70-304c61a61b49 button.colab-df-convert');\n",
              "        buttonEl.style.display =\n",
              "          google.colab.kernel.accessAllowed ? 'block' : 'none';\n",
              "\n",
              "        async function convertToInteractive(key) {\n",
              "          const element = document.querySelector('#df-f0592e45-ba85-46f2-9d70-304c61a61b49');\n",
              "          const dataTable =\n",
              "            await google.colab.kernel.invokeFunction('convertToInteractive',\n",
              "                                                     [key], {});\n",
              "          if (!dataTable) return;\n",
              "\n",
              "          const docLinkHtml = 'Like what you see? Visit the ' +\n",
              "            '<a target=\"_blank\" href=https://colab.research.google.com/notebooks/data_table.ipynb>data table notebook</a>'\n",
              "            + ' to learn more about interactive tables.';\n",
              "          element.innerHTML = '';\n",
              "          dataTable['output_type'] = 'display_data';\n",
              "          await google.colab.output.renderOutput(dataTable, element);\n",
              "          const docLink = document.createElement('div');\n",
              "          docLink.innerHTML = docLinkHtml;\n",
              "          element.appendChild(docLink);\n",
              "        }\n",
              "      </script>\n",
              "    </div>\n",
              "  </div>\n",
              "  "
            ]
          },
          "metadata": {},
          "execution_count": 177
        }
      ]
    },
    {
      "cell_type": "code",
      "source": [
        "# sum(list(df[\"Type_Occupation\"].value_counts().values))"
      ],
      "metadata": {
        "id": "nesmKu0zJz1F"
      },
      "execution_count": 178,
      "outputs": []
    },
    {
      "cell_type": "code",
      "source": [
        "# df[df[\"Type_Occupation\"].isnull()]"
      ],
      "metadata": {
        "id": "8kC5xpLRJi1H"
      },
      "execution_count": 179,
      "outputs": []
    },
    {
      "cell_type": "code",
      "source": [
        "#\"describe()\" used to give statistics for numerical parameteric column.\n",
        "df.describe()"
      ],
      "metadata": {
        "colab": {
          "base_uri": "https://localhost:8080/",
          "height": 0
        },
        "id": "q6LoVrtAIOWo",
        "outputId": "ff655714-518a-4768-95c5-38584c67dbe0"
      },
      "execution_count": 180,
      "outputs": [
        {
          "output_type": "execute_result",
          "data": {
            "text/plain": [
              "             Ind_ID     CHILDREN  Annual_income  Birthday_count  \\\n",
              "count  1.548000e+03  1548.000000   1.525000e+03     1526.000000   \n",
              "mean   5.078920e+06     0.412791   1.913993e+05   -16040.342071   \n",
              "std    4.171759e+04     0.776691   1.132530e+05     4229.503202   \n",
              "min    5.008827e+06     0.000000   3.375000e+04   -24946.000000   \n",
              "25%    5.045070e+06     0.000000   1.215000e+05   -19553.000000   \n",
              "50%    5.078842e+06     0.000000   1.665000e+05   -15661.500000   \n",
              "75%    5.115673e+06     1.000000   2.250000e+05   -12417.000000   \n",
              "max    5.150412e+06    14.000000   1.575000e+06    -7705.000000   \n",
              "\n",
              "       Employed_days  Mobile_phone   Work_Phone        Phone     EMAIL_ID  \\\n",
              "count    1548.000000        1548.0  1548.000000  1548.000000  1548.000000   \n",
              "mean    59364.689922           1.0     0.208010     0.309432     0.092377   \n",
              "std    137808.062701           0.0     0.406015     0.462409     0.289651   \n",
              "min    -14887.000000           1.0     0.000000     0.000000     0.000000   \n",
              "25%     -3174.500000           1.0     0.000000     0.000000     0.000000   \n",
              "50%     -1565.000000           1.0     0.000000     0.000000     0.000000   \n",
              "75%      -431.750000           1.0     0.000000     1.000000     0.000000   \n",
              "max    365243.000000           1.0     1.000000     1.000000     1.000000   \n",
              "\n",
              "       Family_Members        label  \n",
              "count     1548.000000  1548.000000  \n",
              "mean         2.161499     0.113049  \n",
              "std          0.947772     0.316755  \n",
              "min          1.000000     0.000000  \n",
              "25%          2.000000     0.000000  \n",
              "50%          2.000000     0.000000  \n",
              "75%          3.000000     0.000000  \n",
              "max         15.000000     1.000000  "
            ],
            "text/html": [
              "\n",
              "  <div id=\"df-ce1b8067-e954-458b-8794-2208eb7e110d\">\n",
              "    <div class=\"colab-df-container\">\n",
              "      <div>\n",
              "<style scoped>\n",
              "    .dataframe tbody tr th:only-of-type {\n",
              "        vertical-align: middle;\n",
              "    }\n",
              "\n",
              "    .dataframe tbody tr th {\n",
              "        vertical-align: top;\n",
              "    }\n",
              "\n",
              "    .dataframe thead th {\n",
              "        text-align: right;\n",
              "    }\n",
              "</style>\n",
              "<table border=\"1\" class=\"dataframe\">\n",
              "  <thead>\n",
              "    <tr style=\"text-align: right;\">\n",
              "      <th></th>\n",
              "      <th>Ind_ID</th>\n",
              "      <th>CHILDREN</th>\n",
              "      <th>Annual_income</th>\n",
              "      <th>Birthday_count</th>\n",
              "      <th>Employed_days</th>\n",
              "      <th>Mobile_phone</th>\n",
              "      <th>Work_Phone</th>\n",
              "      <th>Phone</th>\n",
              "      <th>EMAIL_ID</th>\n",
              "      <th>Family_Members</th>\n",
              "      <th>label</th>\n",
              "    </tr>\n",
              "  </thead>\n",
              "  <tbody>\n",
              "    <tr>\n",
              "      <th>count</th>\n",
              "      <td>1.548000e+03</td>\n",
              "      <td>1548.000000</td>\n",
              "      <td>1.525000e+03</td>\n",
              "      <td>1526.000000</td>\n",
              "      <td>1548.000000</td>\n",
              "      <td>1548.0</td>\n",
              "      <td>1548.000000</td>\n",
              "      <td>1548.000000</td>\n",
              "      <td>1548.000000</td>\n",
              "      <td>1548.000000</td>\n",
              "      <td>1548.000000</td>\n",
              "    </tr>\n",
              "    <tr>\n",
              "      <th>mean</th>\n",
              "      <td>5.078920e+06</td>\n",
              "      <td>0.412791</td>\n",
              "      <td>1.913993e+05</td>\n",
              "      <td>-16040.342071</td>\n",
              "      <td>59364.689922</td>\n",
              "      <td>1.0</td>\n",
              "      <td>0.208010</td>\n",
              "      <td>0.309432</td>\n",
              "      <td>0.092377</td>\n",
              "      <td>2.161499</td>\n",
              "      <td>0.113049</td>\n",
              "    </tr>\n",
              "    <tr>\n",
              "      <th>std</th>\n",
              "      <td>4.171759e+04</td>\n",
              "      <td>0.776691</td>\n",
              "      <td>1.132530e+05</td>\n",
              "      <td>4229.503202</td>\n",
              "      <td>137808.062701</td>\n",
              "      <td>0.0</td>\n",
              "      <td>0.406015</td>\n",
              "      <td>0.462409</td>\n",
              "      <td>0.289651</td>\n",
              "      <td>0.947772</td>\n",
              "      <td>0.316755</td>\n",
              "    </tr>\n",
              "    <tr>\n",
              "      <th>min</th>\n",
              "      <td>5.008827e+06</td>\n",
              "      <td>0.000000</td>\n",
              "      <td>3.375000e+04</td>\n",
              "      <td>-24946.000000</td>\n",
              "      <td>-14887.000000</td>\n",
              "      <td>1.0</td>\n",
              "      <td>0.000000</td>\n",
              "      <td>0.000000</td>\n",
              "      <td>0.000000</td>\n",
              "      <td>1.000000</td>\n",
              "      <td>0.000000</td>\n",
              "    </tr>\n",
              "    <tr>\n",
              "      <th>25%</th>\n",
              "      <td>5.045070e+06</td>\n",
              "      <td>0.000000</td>\n",
              "      <td>1.215000e+05</td>\n",
              "      <td>-19553.000000</td>\n",
              "      <td>-3174.500000</td>\n",
              "      <td>1.0</td>\n",
              "      <td>0.000000</td>\n",
              "      <td>0.000000</td>\n",
              "      <td>0.000000</td>\n",
              "      <td>2.000000</td>\n",
              "      <td>0.000000</td>\n",
              "    </tr>\n",
              "    <tr>\n",
              "      <th>50%</th>\n",
              "      <td>5.078842e+06</td>\n",
              "      <td>0.000000</td>\n",
              "      <td>1.665000e+05</td>\n",
              "      <td>-15661.500000</td>\n",
              "      <td>-1565.000000</td>\n",
              "      <td>1.0</td>\n",
              "      <td>0.000000</td>\n",
              "      <td>0.000000</td>\n",
              "      <td>0.000000</td>\n",
              "      <td>2.000000</td>\n",
              "      <td>0.000000</td>\n",
              "    </tr>\n",
              "    <tr>\n",
              "      <th>75%</th>\n",
              "      <td>5.115673e+06</td>\n",
              "      <td>1.000000</td>\n",
              "      <td>2.250000e+05</td>\n",
              "      <td>-12417.000000</td>\n",
              "      <td>-431.750000</td>\n",
              "      <td>1.0</td>\n",
              "      <td>0.000000</td>\n",
              "      <td>1.000000</td>\n",
              "      <td>0.000000</td>\n",
              "      <td>3.000000</td>\n",
              "      <td>0.000000</td>\n",
              "    </tr>\n",
              "    <tr>\n",
              "      <th>max</th>\n",
              "      <td>5.150412e+06</td>\n",
              "      <td>14.000000</td>\n",
              "      <td>1.575000e+06</td>\n",
              "      <td>-7705.000000</td>\n",
              "      <td>365243.000000</td>\n",
              "      <td>1.0</td>\n",
              "      <td>1.000000</td>\n",
              "      <td>1.000000</td>\n",
              "      <td>1.000000</td>\n",
              "      <td>15.000000</td>\n",
              "      <td>1.000000</td>\n",
              "    </tr>\n",
              "  </tbody>\n",
              "</table>\n",
              "</div>\n",
              "      <button class=\"colab-df-convert\" onclick=\"convertToInteractive('df-ce1b8067-e954-458b-8794-2208eb7e110d')\"\n",
              "              title=\"Convert this dataframe to an interactive table.\"\n",
              "              style=\"display:none;\">\n",
              "        \n",
              "  <svg xmlns=\"http://www.w3.org/2000/svg\" height=\"24px\"viewBox=\"0 0 24 24\"\n",
              "       width=\"24px\">\n",
              "    <path d=\"M0 0h24v24H0V0z\" fill=\"none\"/>\n",
              "    <path d=\"M18.56 5.44l.94 2.06.94-2.06 2.06-.94-2.06-.94-.94-2.06-.94 2.06-2.06.94zm-11 1L8.5 8.5l.94-2.06 2.06-.94-2.06-.94L8.5 2.5l-.94 2.06-2.06.94zm10 10l.94 2.06.94-2.06 2.06-.94-2.06-.94-.94-2.06-.94 2.06-2.06.94z\"/><path d=\"M17.41 7.96l-1.37-1.37c-.4-.4-.92-.59-1.43-.59-.52 0-1.04.2-1.43.59L10.3 9.45l-7.72 7.72c-.78.78-.78 2.05 0 2.83L4 21.41c.39.39.9.59 1.41.59.51 0 1.02-.2 1.41-.59l7.78-7.78 2.81-2.81c.8-.78.8-2.07 0-2.86zM5.41 20L4 18.59l7.72-7.72 1.47 1.35L5.41 20z\"/>\n",
              "  </svg>\n",
              "      </button>\n",
              "      \n",
              "  <style>\n",
              "    .colab-df-container {\n",
              "      display:flex;\n",
              "      flex-wrap:wrap;\n",
              "      gap: 12px;\n",
              "    }\n",
              "\n",
              "    .colab-df-convert {\n",
              "      background-color: #E8F0FE;\n",
              "      border: none;\n",
              "      border-radius: 50%;\n",
              "      cursor: pointer;\n",
              "      display: none;\n",
              "      fill: #1967D2;\n",
              "      height: 32px;\n",
              "      padding: 0 0 0 0;\n",
              "      width: 32px;\n",
              "    }\n",
              "\n",
              "    .colab-df-convert:hover {\n",
              "      background-color: #E2EBFA;\n",
              "      box-shadow: 0px 1px 2px rgba(60, 64, 67, 0.3), 0px 1px 3px 1px rgba(60, 64, 67, 0.15);\n",
              "      fill: #174EA6;\n",
              "    }\n",
              "\n",
              "    [theme=dark] .colab-df-convert {\n",
              "      background-color: #3B4455;\n",
              "      fill: #D2E3FC;\n",
              "    }\n",
              "\n",
              "    [theme=dark] .colab-df-convert:hover {\n",
              "      background-color: #434B5C;\n",
              "      box-shadow: 0px 1px 3px 1px rgba(0, 0, 0, 0.15);\n",
              "      filter: drop-shadow(0px 1px 2px rgba(0, 0, 0, 0.3));\n",
              "      fill: #FFFFFF;\n",
              "    }\n",
              "  </style>\n",
              "\n",
              "      <script>\n",
              "        const buttonEl =\n",
              "          document.querySelector('#df-ce1b8067-e954-458b-8794-2208eb7e110d button.colab-df-convert');\n",
              "        buttonEl.style.display =\n",
              "          google.colab.kernel.accessAllowed ? 'block' : 'none';\n",
              "\n",
              "        async function convertToInteractive(key) {\n",
              "          const element = document.querySelector('#df-ce1b8067-e954-458b-8794-2208eb7e110d');\n",
              "          const dataTable =\n",
              "            await google.colab.kernel.invokeFunction('convertToInteractive',\n",
              "                                                     [key], {});\n",
              "          if (!dataTable) return;\n",
              "\n",
              "          const docLinkHtml = 'Like what you see? Visit the ' +\n",
              "            '<a target=\"_blank\" href=https://colab.research.google.com/notebooks/data_table.ipynb>data table notebook</a>'\n",
              "            + ' to learn more about interactive tables.';\n",
              "          element.innerHTML = '';\n",
              "          dataTable['output_type'] = 'display_data';\n",
              "          await google.colab.output.renderOutput(dataTable, element);\n",
              "          const docLink = document.createElement('div');\n",
              "          docLink.innerHTML = docLinkHtml;\n",
              "          element.appendChild(docLink);\n",
              "        }\n",
              "      </script>\n",
              "    </div>\n",
              "  </div>\n",
              "  "
            ]
          },
          "metadata": {},
          "execution_count": 180
        }
      ]
    },
    {
      "cell_type": "code",
      "source": [
        "corr_df = df.corr()"
      ],
      "metadata": {
        "id": "yOH7ewI-mU5T"
      },
      "execution_count": 181,
      "outputs": []
    },
    {
      "cell_type": "code",
      "source": [
        "top_corr_fig = corr_df.index\n",
        "plt.figure(figsize=(10,10))\n",
        "sns.heatmap(df[top_corr_fig].corr(), annot=True, cmap =\"RdYlGn\")\n",
        "plt.show()"
      ],
      "metadata": {
        "colab": {
          "base_uri": "https://localhost:8080/",
          "height": 0
        },
        "id": "NRcGsNNCn-2z",
        "outputId": "16816f6b-fcf3-4b88-d36b-8763fc9130fd"
      },
      "execution_count": 182,
      "outputs": [
        {
          "output_type": "display_data",
          "data": {
            "text/plain": [
              "<Figure size 720x720 with 2 Axes>"
            ],
            "image/png": "[encoded data removed]"
          },
          "metadata": {
            "needs_background": "light"
          }
        }
      ]
    },
    {
      "cell_type": "code",
      "source": [
        "#\"nunique()\" used to distinct values in each column in dataset.\n",
        "df.nunique()"
      ],
      "metadata": {
        "colab": {
          "base_uri": "https://localhost:8080/"
        },
        "id": "vxd5GYtnnCyX",
        "outputId": "d2f70d05-ef7d-4010-b765-9c02528417fd"
      },
      "execution_count": 183,
      "outputs": [
        {
          "output_type": "execute_result",
          "data": {
            "text/plain": [
              "Ind_ID             1548\n",
              "GENDER                2\n",
              "Car_Owner             2\n",
              "Propert_Owner         2\n",
              "CHILDREN              6\n",
              "Annual_income       115\n",
              "Type_Income           4\n",
              "EDUCATION             5\n",
              "Marital_status        5\n",
              "Housing_type          6\n",
              "Birthday_count     1270\n",
              "Employed_days       956\n",
              "Mobile_phone          1\n",
              "Work_Phone            2\n",
              "Phone                 2\n",
              "EMAIL_ID              2\n",
              "Type_Occupation      18\n",
              "Family_Members        7\n",
              "label                 2\n",
              "dtype: int64"
            ]
          },
          "metadata": {},
          "execution_count": 183
        }
      ]
    },
    {
      "cell_type": "code",
      "source": [
        "#\"isnull().sum()\" give total null values in each column in dataset.\n",
        "df.isnull().sum()"
      ],
      "metadata": {
        "colab": {
          "base_uri": "https://localhost:8080/"
        },
        "id": "uOhTrOQYndsq",
        "outputId": "6415c6d8-2d5b-4c76-f272-fc140301f8c8"
      },
      "execution_count": 184,
      "outputs": [
        {
          "output_type": "execute_result",
          "data": {
            "text/plain": [
              "Ind_ID               0\n",
              "GENDER               7\n",
              "Car_Owner            0\n",
              "Propert_Owner        0\n",
              "CHILDREN             0\n",
              "Annual_income       23\n",
              "Type_Income          0\n",
              "EDUCATION            0\n",
              "Marital_status       0\n",
              "Housing_type         0\n",
              "Birthday_count      22\n",
              "Employed_days        0\n",
              "Mobile_phone         0\n",
              "Work_Phone           0\n",
              "Phone                0\n",
              "EMAIL_ID             0\n",
              "Type_Occupation    488\n",
              "Family_Members       0\n",
              "label                0\n",
              "dtype: int64"
            ]
          },
          "metadata": {},
          "execution_count": 184
        }
      ]
    },
    {
      "cell_type": "code",
      "source": [
        "#\"isnull().sum().sum()\" gives total null values.\n",
        "df.isnull().sum().sum()"
      ],
      "metadata": {
        "colab": {
          "base_uri": "https://localhost:8080/"
        },
        "id": "3CsWi9ScU-xg",
        "outputId": "c5df9e44-fd49-46b1-d6eb-d3923e921efa"
      },
      "execution_count": 185,
      "outputs": [
        {
          "output_type": "execute_result",
          "data": {
            "text/plain": [
              "540"
            ]
          },
          "metadata": {},
          "execution_count": 185
        }
      ]
    },
    {
      "cell_type": "code",
      "source": [
        "#Extracting out the values count in each column using loop and \"value_counts()\".\n",
        "for i in df.columns[1:]:\n",
        "  print(df[i].value_counts())\n",
        "  print(\"-------------------\")"
      ],
      "metadata": {
        "colab": {
          "base_uri": "https://localhost:8080/"
        },
        "id": "mJQEhFELf-59",
        "outputId": "d0dd6fe8-0f02-4216-ac6e-d4d23904a63f"
      },
      "execution_count": 186,
      "outputs": [
        {
          "output_type": "stream",
          "name": "stdout",
          "text": [
            "F    973\n",
            "M    568\n",
            "Name: GENDER, dtype: int64\n",
            "-------------------\n",
            "N    924\n",
            "Y    624\n",
            "Name: Car_Owner, dtype: int64\n",
            "-------------------\n",
            "Y    1010\n",
            "N     538\n",
            "Name: Propert_Owner, dtype: int64\n",
            "-------------------\n",
            "0     1091\n",
            "1      305\n",
            "2      134\n",
            "3       16\n",
            "4        1\n",
            "14       1\n",
            "Name: CHILDREN, dtype: int64\n",
            "-------------------\n",
            "135000.0    170\n",
            "112500.0    144\n",
            "180000.0    137\n",
            "157500.0    125\n",
            "225000.0    119\n",
            "           ... \n",
            "119700.0      1\n",
            "69372.0       1\n",
            "37800.0       1\n",
            "333000.0      1\n",
            "69750.0       1\n",
            "Name: Annual_income, Length: 115, dtype: int64\n",
            "-------------------\n",
            "Working                 798\n",
            "Commercial associate    365\n",
            "Pensioner               269\n",
            "State servant           116\n",
            "Name: Type_Income, dtype: int64\n",
            "-------------------\n",
            "Secondary / secondary special    1031\n",
            "Higher education                  426\n",
            "Incomplete higher                  68\n",
            "Lower secondary                    21\n",
            "Academic degree                     2\n",
            "Name: EDUCATION, dtype: int64\n",
            "-------------------\n",
            "Married                 1049\n",
            "Single / not married     227\n",
            "Civil marriage           101\n",
            "Separated                 96\n",
            "Widow                     75\n",
            "Name: Marital_status, dtype: int64\n",
            "-------------------\n",
            "House / apartment      1380\n",
            "With parents             80\n",
            "Municipal apartment      53\n",
            "Rented apartment         21\n",
            "Office apartment          9\n",
            "Co-op apartment           5\n",
            "Name: Housing_type, dtype: int64\n",
            "-------------------\n",
            "-13557.0    5\n",
            "-22655.0    5\n",
            "-14523.0    5\n",
            "-21363.0    5\n",
            "-17454.0    4\n",
            "           ..\n",
            "-11729.0    1\n",
            "-15994.0    1\n",
            "-13456.0    1\n",
            "-19532.0    1\n",
            "-16601.0    1\n",
            "Name: Birthday_count, Length: 1270, dtype: int64\n",
            "-------------------\n",
            " 365243    261\n",
            "-586         6\n",
            "-622         5\n",
            "-460         5\n",
            "-1678        5\n",
            "          ... \n",
            "-3034        1\n",
            "-1324        1\n",
            "-3112        1\n",
            "-2959        1\n",
            "-2859        1\n",
            "Name: Employed_days, Length: 956, dtype: int64\n",
            "-------------------\n",
            "1    1548\n",
            "Name: Mobile_phone, dtype: int64\n",
            "-------------------\n",
            "0    1226\n",
            "1     322\n",
            "Name: Work_Phone, dtype: int64\n",
            "-------------------\n",
            "0    1069\n",
            "1     479\n",
            "Name: Phone, dtype: int64\n",
            "-------------------\n",
            "0    1405\n",
            "1     143\n",
            "Name: EMAIL_ID, dtype: int64\n",
            "-------------------\n",
            "Laborers                 268\n",
            "Core staff               174\n",
            "Managers                 136\n",
            "Sales staff              122\n",
            "Drivers                   86\n",
            "High skill tech staff     65\n",
            "Medicine staff            50\n",
            "Accountants               44\n",
            "Security staff            25\n",
            "Cleaning staff            22\n",
            "Cooking staff             21\n",
            "Private service staff     17\n",
            "Secretaries                9\n",
            "Low-skill Laborers         9\n",
            "Waiters/barmen staff       5\n",
            "HR staff                   3\n",
            "IT staff                   2\n",
            "Realty agents              2\n",
            "Name: Type_Occupation, dtype: int64\n",
            "-------------------\n",
            "2     802\n",
            "1     334\n",
            "3     268\n",
            "4     127\n",
            "5      15\n",
            "6       1\n",
            "15      1\n",
            "Name: Family_Members, dtype: int64\n",
            "-------------------\n",
            "0    1373\n",
            "1     175\n",
            "Name: label, dtype: int64\n",
            "-------------------\n"
          ]
        }
      ]
    },
    {
      "cell_type": "markdown",
      "source": [
        "###Data Cleaning\n",
        "\n",
        "\n",
        "\n"
      ],
      "metadata": {
        "id": "Tf-FrQPvgrhE"
      }
    },
    {
      "cell_type": "markdown",
      "source": [
        "#####Replacing Categorical variable to Numerical variable."
      ],
      "metadata": {
        "id": "lemo8sTXAg_a"
      }
    },
    {
      "cell_type": "code",
      "source": [
        "#Replacing the \"Male\" to 1 and \"Female\" to 0.\n",
        "df[\"GENDER\"] = df[\"GENDER\"].replace(\"M\",1)\n",
        "df[\"GENDER\"] = df[\"GENDER\"].replace(\"F\",0)"
      ],
      "metadata": {
        "id": "tK40muP9mOgb"
      },
      "execution_count": 187,
      "outputs": []
    },
    {
      "cell_type": "code",
      "source": [
        "#Replacing the \"Yes\" to 1 and \"No\" to 0.\n",
        "df[\"Car_Owner\"] = df[\"Car_Owner\"].replace(\"Y\",1)\n",
        "df[\"Car_Owner\"] = df[\"Car_Owner\"].replace(\"N\",0)"
      ],
      "metadata": {
        "id": "if7nLNO7mOl3"
      },
      "execution_count": 188,
      "outputs": []
    },
    {
      "cell_type": "code",
      "source": [
        "#Replacing the \"Yes\" to 1 and \"No\" to 0.\n",
        "df[\"Propert_Owner\"] = df[\"Propert_Owner\"].replace(\"Y\",1)\n",
        "df[\"Propert_Owner\"] = df[\"Propert_Owner\"].replace(\"N\",0)"
      ],
      "metadata": {
        "id": "Ji8FKTbLm6be"
      },
      "execution_count": 189,
      "outputs": []
    },
    {
      "cell_type": "code",
      "source": [
        "#Droping some columns which are not relevant for the analysis and prediction.\n",
        "df.drop([\"Marital_status\", \"Mobile_phone\", \"Work_Phone\", \"Phone\", \"EMAIL_ID\"], axis=1, inplace=True)"
      ],
      "metadata": {
        "id": "COC_b4Mgm6ei"
      },
      "execution_count": 190,
      "outputs": []
    },
    {
      "cell_type": "code",
      "source": [
        "# df.isnull().sum()"
      ],
      "metadata": {
        "id": "Sp-uB2CIUL5f"
      },
      "execution_count": 191,
      "outputs": []
    },
    {
      "cell_type": "code",
      "source": [
        "# df[df[\"Annual_income\"].isnull()]"
      ],
      "metadata": {
        "id": "ipu-nqBqSp2g"
      },
      "execution_count": 192,
      "outputs": []
    },
    {
      "cell_type": "markdown",
      "source": [
        "#####Missing Values -  Pending (Mean or Median Imputation)."
      ],
      "metadata": {
        "id": "3WgNku-ZcYA3"
      }
    },
    {
      "cell_type": "code",
      "source": [
        "##USE KNN IMPUTATION"
      ],
      "metadata": {
        "id": "gRZCivmCcQMN"
      },
      "execution_count": 19,
      "outputs": []
    },
    {
      "cell_type": "code",
      "source": [
        "df.isnull().sum()"
      ],
      "metadata": {
        "colab": {
          "base_uri": "https://localhost:8080/"
        },
        "id": "XOyZEZY6SLzh",
        "outputId": "971ccd70-d330-4d60-c88b-491c620c3d1d"
      },
      "execution_count": 204,
      "outputs": [
        {
          "output_type": "execute_result",
          "data": {
            "text/plain": [
              "Ind_ID              0\n",
              "GENDER              7\n",
              "Car_Owner           0\n",
              "Propert_Owner       0\n",
              "CHILDREN            0\n",
              "Annual_income      23\n",
              "Type_Income         0\n",
              "EDUCATION           0\n",
              "Housing_type        0\n",
              "Birthday_count     22\n",
              "Employed_days       0\n",
              "Type_Occupation     0\n",
              "Family_Members      0\n",
              "label               0\n",
              "dtype: int64"
            ]
          },
          "metadata": {},
          "execution_count": 204
        }
      ]
    },
    {
      "cell_type": "code",
      "source": [
        "df[\"Type_Occupation\"].fillna(\"Missing\", inplace = True)"
      ],
      "metadata": {
        "id": "7PbZPJmXzHxC"
      },
      "execution_count": 203,
      "outputs": []
    },
    {
      "cell_type": "code",
      "source": [
        "plt.figure(figsize = (25,10))\n",
        "plt.bar(df[\"Type_Occupation\"].value_counts().index,df[\"Type_Occupation\"].value_counts().values)\n",
        "plt.show()"
      ],
      "metadata": {
        "colab": {
          "base_uri": "https://localhost:8080/",
          "height": 481
        },
        "id": "23cUUS8VygFl",
        "outputId": "6da5f58d-0c79-47d2-c753-9b035767fcb2"
      },
      "execution_count": 205,
      "outputs": [
        {
          "output_type": "display_data",
          "data": {
            "text/plain": [
              "<Figure size 1800x720 with 1 Axes>"
            ],
            "image/png": "[encoded data removed]"
          },
          "metadata": {
            "needs_background": "light"
          }
        }
      ]
    },
    {
      "cell_type": "code",
      "source": [
        "df[\"Type_Occupation\"].value_counts()"
      ],
      "metadata": {
        "colab": {
          "base_uri": "https://localhost:8080/"
        },
        "id": "xFt-XY9dzVaa",
        "outputId": "1987458c-589a-4584-d8f3-8ebbe60f7b76"
      },
      "execution_count": 206,
      "outputs": [
        {
          "output_type": "execute_result",
          "data": {
            "text/plain": [
              "Missing                  488\n",
              "Laborers                 268\n",
              "Core staff               174\n",
              "Managers                 136\n",
              "Sales staff              122\n",
              "Drivers                   86\n",
              "High skill tech staff     65\n",
              "Medicine staff            50\n",
              "Accountants               44\n",
              "Security staff            25\n",
              "Cleaning staff            22\n",
              "Cooking staff             21\n",
              "Private service staff     17\n",
              "Low-skill Laborers         9\n",
              "Secretaries                9\n",
              "Waiters/barmen staff       5\n",
              "HR staff                   3\n",
              "IT staff                   2\n",
              "Realty agents              2\n",
              "Name: Type_Occupation, dtype: int64"
            ]
          },
          "metadata": {},
          "execution_count": 206
        }
      ]
    },
    {
      "cell_type": "code",
      "source": [
        "sns.histplot(df[\"Annual_income\"], kde = True)"
      ],
      "metadata": {
        "colab": {
          "base_uri": "https://localhost:8080/",
          "height": 297
        },
        "id": "9BUYOHhKSKTY",
        "outputId": "dd81e2f1-22b8-42b5-95d9-74bfba105a13"
      },
      "execution_count": 165,
      "outputs": [
        {
          "output_type": "execute_result",
          "data": {
            "text/plain": [
              "<AxesSubplot:xlabel='Annual_income', ylabel='Count'>"
            ]
          },
          "metadata": {},
          "execution_count": 165
        },
        {
          "output_type": "display_data",
          "data": {
            "text/plain": [
              "<Figure size 432x288 with 1 Axes>"
            ],
            "image/png": "[encoded data removed]"
          },
          "metadata": {
            "needs_background": "light"
          }
        }
      ]
    },
    {
      "cell_type": "code",
      "source": [
        "med_income = df[\"Annual_income\"].median()"
      ],
      "metadata": {
        "id": "zc6P3wFZSrC5"
      },
      "execution_count": 163,
      "outputs": []
    },
    {
      "cell_type": "code",
      "source": [
        "df[\"Annual_income\"].fillna(med_income, inplace = True)"
      ],
      "metadata": {
        "id": "dF3A27bfSy2s"
      },
      "execution_count": 164,
      "outputs": []
    },
    {
      "cell_type": "code",
      "source": [
        "sns.histplot(df[\"Age\"], kde = True)"
      ],
      "metadata": {
        "colab": {
          "base_uri": "https://localhost:8080/",
          "height": 296
        },
        "id": "DLyfSItZTZL_",
        "outputId": "269c626e-e699-4e13-cd37-6b666e3bd994"
      },
      "execution_count": 172,
      "outputs": [
        {
          "output_type": "execute_result",
          "data": {
            "text/plain": [
              "<AxesSubplot:xlabel='Age', ylabel='Count'>"
            ]
          },
          "metadata": {},
          "execution_count": 172
        },
        {
          "output_type": "display_data",
          "data": {
            "text/plain": [
              "<Figure size 432x288 with 1 Axes>"
            ],
            "image/png": "[encoded data removed]"
          },
          "metadata": {
            "needs_background": "light"
          }
        }
      ]
    },
    {
      "cell_type": "markdown",
      "source": [
        "#####Feature Engineering"
      ],
      "metadata": {
        "id": "3njNmurMiMBb"
      }
    },
    {
      "cell_type": "markdown",
      "source": [
        "*   In the dataset, there are some negative values in which needs to be converted.\n",
        "*   In \"Employed_days\", 0 or positive value should be 0 as Experience.\n",
        "*   \"Birthday_count\" and \"Employed_days\" columns need to converted into years with positive value in it.\n",
        "\n",
        "\n"
      ],
      "metadata": {
        "id": "yZ75BaL_V6uv"
      }
    },
    {
      "cell_type": "code",
      "source": [
        "print(df.shape)\n",
        "df[df[\"Birthday_count\"]>=0]"
      ],
      "metadata": {
        "colab": {
          "base_uri": "https://localhost:8080/",
          "height": 0
        },
        "id": "MZJjwkX4uFd9",
        "outputId": "189d26d0-0e12-4427-f4a5-9ab36ea108c7"
      },
      "execution_count": 166,
      "outputs": [
        {
          "output_type": "stream",
          "name": "stdout",
          "text": [
            "(1548, 14)\n"
          ]
        },
        {
          "output_type": "execute_result",
          "data": {
            "text/plain": [
              "Empty DataFrame\n",
              "Columns: [Ind_ID, GENDER, Car_Owner, Propert_Owner, CHILDREN, Annual_income, Type_Income, EDUCATION, Housing_type, Birthday_count, Employed_days, Type_Occupation, Family_Members, label]\n",
              "Index: []"
            ],
            "text/html": [
              "\n",
              "  <div id=\"df-2efe2409-be95-47b5-a92e-294e8897a5d5\">\n",
              "    <div class=\"colab-df-container\">\n",
              "      <div>\n",
              "<style scoped>\n",
              "    .dataframe tbody tr th:only-of-type {\n",
              "        vertical-align: middle;\n",
              "    }\n",
              "\n",
              "    .dataframe tbody tr th {\n",
              "        vertical-align: top;\n",
              "    }\n",
              "\n",
              "    .dataframe thead th {\n",
              "        text-align: right;\n",
              "    }\n",
              "</style>\n",
              "<table border=\"1\" class=\"dataframe\">\n",
              "  <thead>\n",
              "    <tr style=\"text-align: right;\">\n",
              "      <th></th>\n",
              "      <th>Ind_ID</th>\n",
              "      <th>GENDER</th>\n",
              "      <th>Car_Owner</th>\n",
              "      <th>Propert_Owner</th>\n",
              "      <th>CHILDREN</th>\n",
              "      <th>Annual_income</th>\n",
              "      <th>Type_Income</th>\n",
              "      <th>EDUCATION</th>\n",
              "      <th>Housing_type</th>\n",
              "      <th>Birthday_count</th>\n",
              "      <th>Employed_days</th>\n",
              "      <th>Type_Occupation</th>\n",
              "      <th>Family_Members</th>\n",
              "      <th>label</th>\n",
              "    </tr>\n",
              "  </thead>\n",
              "  <tbody>\n",
              "  </tbody>\n",
              "</table>\n",
              "</div>\n",
              "      <button class=\"colab-df-convert\" onclick=\"convertToInteractive('df-2efe2409-be95-47b5-a92e-294e8897a5d5')\"\n",
              "              title=\"Convert this dataframe to an interactive table.\"\n",
              "              style=\"display:none;\">\n",
              "        \n",
              "  <svg xmlns=\"http://www.w3.org/2000/svg\" height=\"24px\"viewBox=\"0 0 24 24\"\n",
              "       width=\"24px\">\n",
              "    <path d=\"M0 0h24v24H0V0z\" fill=\"none\"/>\n",
              "    <path d=\"M18.56 5.44l.94 2.06.94-2.06 2.06-.94-2.06-.94-.94-2.06-.94 2.06-2.06.94zm-11 1L8.5 8.5l.94-2.06 2.06-.94-2.06-.94L8.5 2.5l-.94 2.06-2.06.94zm10 10l.94 2.06.94-2.06 2.06-.94-2.06-.94-.94-2.06-.94 2.06-2.06.94z\"/><path d=\"M17.41 7.96l-1.37-1.37c-.4-.4-.92-.59-1.43-.59-.52 0-1.04.2-1.43.59L10.3 9.45l-7.72 7.72c-.78.78-.78 2.05 0 2.83L4 21.41c.39.39.9.59 1.41.59.51 0 1.02-.2 1.41-.59l7.78-7.78 2.81-2.81c.8-.78.8-2.07 0-2.86zM5.41 20L4 18.59l7.72-7.72 1.47 1.35L5.41 20z\"/>\n",
              "  </svg>\n",
              "      </button>\n",
              "      \n",
              "  <style>\n",
              "    .colab-df-container {\n",
              "      display:flex;\n",
              "      flex-wrap:wrap;\n",
              "      gap: 12px;\n",
              "    }\n",
              "\n",
              "    .colab-df-convert {\n",
              "      background-color: #E8F0FE;\n",
              "      border: none;\n",
              "      border-radius: 50%;\n",
              "      cursor: pointer;\n",
              "      display: none;\n",
              "      fill: #1967D2;\n",
              "      height: 32px;\n",
              "      padding: 0 0 0 0;\n",
              "      width: 32px;\n",
              "    }\n",
              "\n",
              "    .colab-df-convert:hover {\n",
              "      background-color: #E2EBFA;\n",
              "      box-shadow: 0px 1px 2px rgba(60, 64, 67, 0.3), 0px 1px 3px 1px rgba(60, 64, 67, 0.15);\n",
              "      fill: #174EA6;\n",
              "    }\n",
              "\n",
              "    [theme=dark] .colab-df-convert {\n",
              "      background-color: #3B4455;\n",
              "      fill: #D2E3FC;\n",
              "    }\n",
              "\n",
              "    [theme=dark] .colab-df-convert:hover {\n",
              "      background-color: #434B5C;\n",
              "      box-shadow: 0px 1px 3px 1px rgba(0, 0, 0, 0.15);\n",
              "      filter: drop-shadow(0px 1px 2px rgba(0, 0, 0, 0.3));\n",
              "      fill: #FFFFFF;\n",
              "    }\n",
              "  </style>\n",
              "\n",
              "      <script>\n",
              "        const buttonEl =\n",
              "          document.querySelector('#df-2efe2409-be95-47b5-a92e-294e8897a5d5 button.colab-df-convert');\n",
              "        buttonEl.style.display =\n",
              "          google.colab.kernel.accessAllowed ? 'block' : 'none';\n",
              "\n",
              "        async function convertToInteractive(key) {\n",
              "          const element = document.querySelector('#df-2efe2409-be95-47b5-a92e-294e8897a5d5');\n",
              "          const dataTable =\n",
              "            await google.colab.kernel.invokeFunction('convertToInteractive',\n",
              "                                                     [key], {});\n",
              "          if (!dataTable) return;\n",
              "\n",
              "          const docLinkHtml = 'Like what you see? Visit the ' +\n",
              "            '<a target=\"_blank\" href=https://colab.research.google.com/notebooks/data_table.ipynb>data table notebook</a>'\n",
              "            + ' to learn more about interactive tables.';\n",
              "          element.innerHTML = '';\n",
              "          dataTable['output_type'] = 'display_data';\n",
              "          await google.colab.output.renderOutput(dataTable, element);\n",
              "          const docLink = document.createElement('div');\n",
              "          docLink.innerHTML = docLinkHtml;\n",
              "          element.appendChild(docLink);\n",
              "        }\n",
              "      </script>\n",
              "    </div>\n",
              "  </div>\n",
              "  "
            ]
          },
          "metadata": {},
          "execution_count": 166
        }
      ]
    },
    {
      "cell_type": "code",
      "source": [
        "#Renaming the \"Birthday_count\" to \"Age\" by dividing 365.\n",
        "df.rename(columns = {\"Birthday_count\" : \"Age\"}, inplace=True) \n",
        "df[\"Age\"] = round(abs(df[\"Age\"]/365))"
      ],
      "metadata": {
        "id": "6Yw6MWSem6h2"
      },
      "execution_count": 167,
      "outputs": []
    },
    {
      "cell_type": "code",
      "source": [
        "df[df[\"Employed_days\"]>=0].head()"
      ],
      "metadata": {
        "colab": {
          "base_uri": "https://localhost:8080/",
          "height": 0
        },
        "id": "D9PcRJ7uuJBH",
        "outputId": "d727e4aa-8fc9-44c5-9a6b-f79d8219a48c"
      },
      "execution_count": 168,
      "outputs": [
        {
          "output_type": "execute_result",
          "data": {
            "text/plain": [
              "     Ind_ID  GENDER  Car_Owner  Propert_Owner  CHILDREN  Annual_income  \\\n",
              "0   5008827     1.0          1              1         0       180000.0   \n",
              "7   5009894     0.0          0              0         0       180000.0   \n",
              "26  5024916     0.0          0              1         0       112500.0   \n",
              "27  5024917     0.0          0              1         0       166500.0   \n",
              "31  5029311     0.0          0              1         0       112500.0   \n",
              "\n",
              "   Type_Income                      EDUCATION       Housing_type   Age  \\\n",
              "0    Pensioner               Higher education  House / apartment  51.0   \n",
              "7    Pensioner  Secondary / secondary special  House / apartment  61.0   \n",
              "26   Pensioner  Secondary / secondary special  House / apartment  60.0   \n",
              "27   Pensioner  Secondary / secondary special  House / apartment  60.0   \n",
              "31   Pensioner  Secondary / secondary special  House / apartment  60.0   \n",
              "\n",
              "    Employed_days Type_Occupation  Family_Members  label  \n",
              "0          365243             NaN               2      1  \n",
              "7          365243             NaN               2      1  \n",
              "26         365243             NaN               2      1  \n",
              "27         365243             NaN               2      1  \n",
              "31         365243             NaN               2      1  "
            ],
            "text/html": [
              "\n",
              "  <div id=\"df-496edb08-75d7-41a1-8fc8-f9a17a09967e\">\n",
              "    <div class=\"colab-df-container\">\n",
              "      <div>\n",
              "<style scoped>\n",
              "    .dataframe tbody tr th:only-of-type {\n",
              "        vertical-align: middle;\n",
              "    }\n",
              "\n",
              "    .dataframe tbody tr th {\n",
              "        vertical-align: top;\n",
              "    }\n",
              "\n",
              "    .dataframe thead th {\n",
              "        text-align: right;\n",
              "    }\n",
              "</style>\n",
              "<table border=\"1\" class=\"dataframe\">\n",
              "  <thead>\n",
              "    <tr style=\"text-align: right;\">\n",
              "      <th></th>\n",
              "      <th>Ind_ID</th>\n",
              "      <th>GENDER</th>\n",
              "      <th>Car_Owner</th>\n",
              "      <th>Propert_Owner</th>\n",
              "      <th>CHILDREN</th>\n",
              "      <th>Annual_income</th>\n",
              "      <th>Type_Income</th>\n",
              "      <th>EDUCATION</th>\n",
              "      <th>Housing_type</th>\n",
              "      <th>Age</th>\n",
              "      <th>Employed_days</th>\n",
              "      <th>Type_Occupation</th>\n",
              "      <th>Family_Members</th>\n",
              "      <th>label</th>\n",
              "    </tr>\n",
              "  </thead>\n",
              "  <tbody>\n",
              "    <tr>\n",
              "      <th>0</th>\n",
              "      <td>5008827</td>\n",
              "      <td>1.0</td>\n",
              "      <td>1</td>\n",
              "      <td>1</td>\n",
              "      <td>0</td>\n",
              "      <td>180000.0</td>\n",
              "      <td>Pensioner</td>\n",
              "      <td>Higher education</td>\n",
              "      <td>House / apartment</td>\n",
              "      <td>51.0</td>\n",
              "      <td>365243</td>\n",
              "      <td>NaN</td>\n",
              "      <td>2</td>\n",
              "      <td>1</td>\n",
              "    </tr>\n",
              "    <tr>\n",
              "      <th>7</th>\n",
              "      <td>5009894</td>\n",
              "      <td>0.0</td>\n",
              "      <td>0</td>\n",
              "      <td>0</td>\n",
              "      <td>0</td>\n",
              "      <td>180000.0</td>\n",
              "      <td>Pensioner</td>\n",
              "      <td>Secondary / secondary special</td>\n",
              "      <td>House / apartment</td>\n",
              "      <td>61.0</td>\n",
              "      <td>365243</td>\n",
              "      <td>NaN</td>\n",
              "      <td>2</td>\n",
              "      <td>1</td>\n",
              "    </tr>\n",
              "    <tr>\n",
              "      <th>26</th>\n",
              "      <td>5024916</td>\n",
              "      <td>0.0</td>\n",
              "      <td>0</td>\n",
              "      <td>1</td>\n",
              "      <td>0</td>\n",
              "      <td>112500.0</td>\n",
              "      <td>Pensioner</td>\n",
              "      <td>Secondary / secondary special</td>\n",
              "      <td>House / apartment</td>\n",
              "      <td>60.0</td>\n",
              "      <td>365243</td>\n",
              "      <td>NaN</td>\n",
              "      <td>2</td>\n",
              "      <td>1</td>\n",
              "    </tr>\n",
              "    <tr>\n",
              "      <th>27</th>\n",
              "      <td>5024917</td>\n",
              "      <td>0.0</td>\n",
              "      <td>0</td>\n",
              "      <td>1</td>\n",
              "      <td>0</td>\n",
              "      <td>166500.0</td>\n",
              "      <td>Pensioner</td>\n",
              "      <td>Secondary / secondary special</td>\n",
              "      <td>House / apartment</td>\n",
              "      <td>60.0</td>\n",
              "      <td>365243</td>\n",
              "      <td>NaN</td>\n",
              "      <td>2</td>\n",
              "      <td>1</td>\n",
              "    </tr>\n",
              "    <tr>\n",
              "      <th>31</th>\n",
              "      <td>5029311</td>\n",
              "      <td>0.0</td>\n",
              "      <td>0</td>\n",
              "      <td>1</td>\n",
              "      <td>0</td>\n",
              "      <td>112500.0</td>\n",
              "      <td>Pensioner</td>\n",
              "      <td>Secondary / secondary special</td>\n",
              "      <td>House / apartment</td>\n",
              "      <td>60.0</td>\n",
              "      <td>365243</td>\n",
              "      <td>NaN</td>\n",
              "      <td>2</td>\n",
              "      <td>1</td>\n",
              "    </tr>\n",
              "  </tbody>\n",
              "</table>\n",
              "</div>\n",
              "      <button class=\"colab-df-convert\" onclick=\"convertToInteractive('df-496edb08-75d7-41a1-8fc8-f9a17a09967e')\"\n",
              "              title=\"Convert this dataframe to an interactive table.\"\n",
              "              style=\"display:none;\">\n",
              "        \n",
              "  <svg xmlns=\"http://www.w3.org/2000/svg\" height=\"24px\"viewBox=\"0 0 24 24\"\n",
              "       width=\"24px\">\n",
              "    <path d=\"M0 0h24v24H0V0z\" fill=\"none\"/>\n",
              "    <path d=\"M18.56 5.44l.94 2.06.94-2.06 2.06-.94-2.06-.94-.94-2.06-.94 2.06-2.06.94zm-11 1L8.5 8.5l.94-2.06 2.06-.94-2.06-.94L8.5 2.5l-.94 2.06-2.06.94zm10 10l.94 2.06.94-2.06 2.06-.94-2.06-.94-.94-2.06-.94 2.06-2.06.94z\"/><path d=\"M17.41 7.96l-1.37-1.37c-.4-.4-.92-.59-1.43-.59-.52 0-1.04.2-1.43.59L10.3 9.45l-7.72 7.72c-.78.78-.78 2.05 0 2.83L4 21.41c.39.39.9.59 1.41.59.51 0 1.02-.2 1.41-.59l7.78-7.78 2.81-2.81c.8-.78.8-2.07 0-2.86zM5.41 20L4 18.59l7.72-7.72 1.47 1.35L5.41 20z\"/>\n",
              "  </svg>\n",
              "      </button>\n",
              "      \n",
              "  <style>\n",
              "    .colab-df-container {\n",
              "      display:flex;\n",
              "      flex-wrap:wrap;\n",
              "      gap: 12px;\n",
              "    }\n",
              "\n",
              "    .colab-df-convert {\n",
              "      background-color: #E8F0FE;\n",
              "      border: none;\n",
              "      border-radius: 50%;\n",
              "      cursor: pointer;\n",
              "      display: none;\n",
              "      fill: #1967D2;\n",
              "      height: 32px;\n",
              "      padding: 0 0 0 0;\n",
              "      width: 32px;\n",
              "    }\n",
              "\n",
              "    .colab-df-convert:hover {\n",
              "      background-color: #E2EBFA;\n",
              "      box-shadow: 0px 1px 2px rgba(60, 64, 67, 0.3), 0px 1px 3px 1px rgba(60, 64, 67, 0.15);\n",
              "      fill: #174EA6;\n",
              "    }\n",
              "\n",
              "    [theme=dark] .colab-df-convert {\n",
              "      background-color: #3B4455;\n",
              "      fill: #D2E3FC;\n",
              "    }\n",
              "\n",
              "    [theme=dark] .colab-df-convert:hover {\n",
              "      background-color: #434B5C;\n",
              "      box-shadow: 0px 1px 3px 1px rgba(0, 0, 0, 0.15);\n",
              "      filter: drop-shadow(0px 1px 2px rgba(0, 0, 0, 0.3));\n",
              "      fill: #FFFFFF;\n",
              "    }\n",
              "  </style>\n",
              "\n",
              "      <script>\n",
              "        const buttonEl =\n",
              "          document.querySelector('#df-496edb08-75d7-41a1-8fc8-f9a17a09967e button.colab-df-convert');\n",
              "        buttonEl.style.display =\n",
              "          google.colab.kernel.accessAllowed ? 'block' : 'none';\n",
              "\n",
              "        async function convertToInteractive(key) {\n",
              "          const element = document.querySelector('#df-496edb08-75d7-41a1-8fc8-f9a17a09967e');\n",
              "          const dataTable =\n",
              "            await google.colab.kernel.invokeFunction('convertToInteractive',\n",
              "                                                     [key], {});\n",
              "          if (!dataTable) return;\n",
              "\n",
              "          const docLinkHtml = 'Like what you see? Visit the ' +\n",
              "            '<a target=\"_blank\" href=https://colab.research.google.com/notebooks/data_table.ipynb>data table notebook</a>'\n",
              "            + ' to learn more about interactive tables.';\n",
              "          element.innerHTML = '';\n",
              "          dataTable['output_type'] = 'display_data';\n",
              "          await google.colab.output.renderOutput(dataTable, element);\n",
              "          const docLink = document.createElement('div');\n",
              "          docLink.innerHTML = docLinkHtml;\n",
              "          element.appendChild(docLink);\n",
              "        }\n",
              "      </script>\n",
              "    </div>\n",
              "  </div>\n",
              "  "
            ]
          },
          "metadata": {},
          "execution_count": 168
        }
      ]
    },
    {
      "cell_type": "code",
      "source": [
        "df[\"Employed_days\"][df[\"Employed_days\"]>=0] = 0\n",
        "df.shape"
      ],
      "metadata": {
        "colab": {
          "base_uri": "https://localhost:8080/"
        },
        "id": "9BRgzbkNuQee",
        "outputId": "f41a2a34-c0c6-4330-ead9-f71590f48321"
      },
      "execution_count": 169,
      "outputs": [
        {
          "output_type": "execute_result",
          "data": {
            "text/plain": [
              "(1548, 14)"
            ]
          },
          "metadata": {},
          "execution_count": 169
        }
      ]
    },
    {
      "cell_type": "code",
      "source": [
        "#Renaming the \"Employed_days\" to \"Experience\" by dividing 365.\n",
        "df.rename(columns = {\"Employed_days\" : \"Experience\"}, inplace=True) \n",
        "df[\"Experience\"] = round(abs(df[\"Experience\"]/365),1)"
      ],
      "metadata": {
        "id": "10ZT2SRdVwhi"
      },
      "execution_count": 170,
      "outputs": []
    },
    {
      "cell_type": "markdown",
      "source": [
        "####Dealing with Outliers."
      ],
      "metadata": {
        "id": "ypsJjej6ZoKu"
      }
    },
    {
      "cell_type": "markdown",
      "source": [
        "#####Age"
      ],
      "metadata": {
        "id": "MqQ5c0TOZpne"
      }
    },
    {
      "cell_type": "code",
      "source": [
        "q3_age = df[\"Age\"].quantile(0.75)\n",
        "q1_age = df[\"Age\"].quantile(0.25)\n",
        "iqr_age = q3_age - q1_age\n",
        "upper_age = q3_age + (1.5*iqr_age)\n",
        "inner_age = q1_age - (1.5*iqr_age)\n",
        "df.drop(df[(df[\"Age\"]>upper_age)].index, inplace=True)\n",
        "df.drop(df[(df[\"Age\"]<inner_age)].index, inplace=True)"
      ],
      "metadata": {
        "id": "dxTzdidNZWyG"
      },
      "execution_count": 29,
      "outputs": []
    },
    {
      "cell_type": "code",
      "source": [
        "sns.boxplot(df[\"Age\"])\n",
        "plt.show()"
      ],
      "metadata": {
        "colab": {
          "base_uri": "https://localhost:8080/",
          "height": 0
        },
        "id": "V50YhiS8ZWvt",
        "outputId": "ad2ff108-cb46-4e1f-f9e4-4f1569e300d7"
      },
      "execution_count": 30,
      "outputs": [
        {
          "output_type": "display_data",
          "data": {
            "text/plain": [
              "<Figure size 432x288 with 1 Axes>"
            ],
            "image/png": "[encoded data removed]"
          },
          "metadata": {
            "needs_background": "light"
          }
        }
      ]
    },
    {
      "cell_type": "code",
      "source": [
        "plt.hist(df[\"Age\"])\n",
        "plt.show()"
      ],
      "metadata": {
        "colab": {
          "base_uri": "https://localhost:8080/",
          "height": 0
        },
        "id": "fxjJXCi2ZWtF",
        "outputId": "af9e585d-7cec-4a03-9c17-dbd9aad615ca"
      },
      "execution_count": 31,
      "outputs": [
        {
          "output_type": "display_data",
          "data": {
            "text/plain": [
              "<Figure size 432x288 with 1 Axes>"
            ],
            "image/png": "[encoded data removed]"
          },
          "metadata": {
            "needs_background": "light"
          }
        }
      ]
    },
    {
      "cell_type": "markdown",
      "source": [
        "#####Children"
      ],
      "metadata": {
        "id": "Rv-JIQ7TZwYX"
      }
    },
    {
      "cell_type": "code",
      "source": [
        "q3_child = df[\"CHILDREN\"].quantile(0.75)\n",
        "q1_child = df[\"CHILDREN\"].quantile(0.25)\n",
        "iqr_child = q3_child - q1_child\n",
        "upper_child = q3_child + (1.5*iqr_child)\n",
        "lower_child = q1_child - (1.5*iqr_child)\n",
        "df.drop(df[(df[\"CHILDREN\"]>upper_child)].index, inplace=True)\n",
        "df.drop(df[(df[\"CHILDREN\"]<lower_child)].index, inplace=True)"
      ],
      "metadata": {
        "id": "XLC1000hZWqf"
      },
      "execution_count": 32,
      "outputs": []
    },
    {
      "cell_type": "code",
      "source": [
        "sns.boxplot(df[\"CHILDREN\"])\n",
        "plt.show()"
      ],
      "metadata": {
        "colab": {
          "base_uri": "https://localhost:8080/",
          "height": 0
        },
        "id": "dArIKNbmZWoK",
        "outputId": "bef2368e-5cc4-4af1-a858-120da577751d"
      },
      "execution_count": 33,
      "outputs": [
        {
          "output_type": "display_data",
          "data": {
            "text/plain": [
              "<Figure size 432x288 with 1 Axes>"
            ],
            "image/png": "[encoded data removed]"
          },
          "metadata": {
            "needs_background": "light"
          }
        }
      ]
    },
    {
      "cell_type": "code",
      "source": [
        "plt.hist(df[\"CHILDREN\"])\n",
        "plt.show()"
      ],
      "metadata": {
        "colab": {
          "base_uri": "https://localhost:8080/",
          "height": 0
        },
        "id": "3HBMFff6ZWlZ",
        "outputId": "b56718c5-0382-4194-bb8a-67f0f79c7503"
      },
      "execution_count": 34,
      "outputs": [
        {
          "output_type": "display_data",
          "data": {
            "text/plain": [
              "<Figure size 432x288 with 1 Axes>"
            ],
            "image/png": "[encoded data removed]"
          },
          "metadata": {
            "needs_background": "light"
          }
        }
      ]
    },
    {
      "cell_type": "markdown",
      "source": [
        "#####Family Members"
      ],
      "metadata": {
        "id": "JPF_dfqqaNJp"
      }
    },
    {
      "cell_type": "code",
      "source": [
        "q3_fam = df[\"Family_Members\"].quantile(0.75)\n",
        "q1_fam = df[\"Family_Members\"].quantile(0.25)\n",
        "iqr_fam = q3_fam - q1_fam\n",
        "upper_fam_member = q3_fam + (1.5*iqr_fam)\n",
        "lower_fam_member = q1_fam - (1.5*iqr_fam)\n",
        "df.drop(df[(df[\"Family_Members\"]>upper_fam_member)].index, inplace=True)"
      ],
      "metadata": {
        "id": "DcWqWoTvZWi-"
      },
      "execution_count": 35,
      "outputs": []
    },
    {
      "cell_type": "code",
      "source": [
        "sns.boxplot(df[\"Family_Members\"])\n",
        "plt.show()"
      ],
      "metadata": {
        "colab": {
          "base_uri": "https://localhost:8080/",
          "height": 0
        },
        "id": "ZdeiIR3gZWgO",
        "outputId": "369b4c1a-6bf1-4ca7-a9a7-6d11728114dd"
      },
      "execution_count": 36,
      "outputs": [
        {
          "output_type": "display_data",
          "data": {
            "text/plain": [
              "<Figure size 432x288 with 1 Axes>"
            ],
            "image/png": "[encoded data removed]"
          },
          "metadata": {
            "needs_background": "light"
          }
        }
      ]
    },
    {
      "cell_type": "code",
      "source": [
        "plt.hist(df[\"Family_Members\"])\n",
        "plt.show()"
      ],
      "metadata": {
        "colab": {
          "base_uri": "https://localhost:8080/",
          "height": 0
        },
        "id": "zwR90D3KZWF-",
        "outputId": "cb1ce031-924d-4dc5-fe34-2abb284c9ff6"
      },
      "execution_count": 37,
      "outputs": [
        {
          "output_type": "display_data",
          "data": {
            "text/plain": [
              "<Figure size 432x288 with 1 Axes>"
            ],
            "image/png": "[encoded data removed]"
          },
          "metadata": {
            "needs_background": "light"
          }
        }
      ]
    },
    {
      "cell_type": "markdown",
      "source": [
        "#####Experience"
      ],
      "metadata": {
        "id": "OJH1FG-SaTXG"
      }
    },
    {
      "cell_type": "code",
      "source": [
        "q3_exp = df[\"Experience\"].quantile(0.75)\n",
        "q1_exp = df[\"Experience\"].quantile(0.25)\n",
        "iqr_exp = q3_exp - q1_exp\n",
        "upper_exp = q3_exp + (1.5*iqr_exp)\n",
        "lower_exp = q1_exp - (1.5*iqr_exp)\n",
        "df.drop(df[df[\"Experience\"]>upper_exp].index, inplace=True)"
      ],
      "metadata": {
        "id": "UE9cAHJcaDt4"
      },
      "execution_count": 38,
      "outputs": []
    },
    {
      "cell_type": "code",
      "source": [
        "sns.boxplot(df[\"Experience\"])\n",
        "plt.show()"
      ],
      "metadata": {
        "colab": {
          "base_uri": "https://localhost:8080/",
          "height": 0
        },
        "id": "vx8w_GLbaDwZ",
        "outputId": "a19755c2-3b04-4e2b-c7dc-df9579d0e156"
      },
      "execution_count": 39,
      "outputs": [
        {
          "output_type": "display_data",
          "data": {
            "text/plain": [
              "<Figure size 432x288 with 1 Axes>"
            ],
            "image/png": "[encoded data removed]"
          },
          "metadata": {
            "needs_background": "light"
          }
        }
      ]
    },
    {
      "cell_type": "code",
      "source": [
        "plt.hist(df[\"Experience\"])\n",
        "plt.show()"
      ],
      "metadata": {
        "colab": {
          "base_uri": "https://localhost:8080/",
          "height": 0
        },
        "id": "lvj2XLx8aWAy",
        "outputId": "875294f4-3ebf-4a59-e5a1-9d73a389069e"
      },
      "execution_count": 40,
      "outputs": [
        {
          "output_type": "display_data",
          "data": {
            "text/plain": [
              "<Figure size 432x288 with 1 Axes>"
            ],
            "image/png": "[encoded data removed]"
          },
          "metadata": {
            "needs_background": "light"
          }
        }
      ]
    },
    {
      "cell_type": "markdown",
      "source": [
        "####Duplicates"
      ],
      "metadata": {
        "id": "qZYsilmzvTwC"
      }
    },
    {
      "cell_type": "code",
      "source": [
        "df.drop_duplicates(inplace = True)"
      ],
      "metadata": {
        "id": "3MOuwdDSjpVS"
      },
      "execution_count": 41,
      "outputs": []
    },
    {
      "cell_type": "code",
      "source": [
        "df.shape"
      ],
      "metadata": {
        "colab": {
          "base_uri": "https://localhost:8080/"
        },
        "id": "KImdg1XmjxNY",
        "outputId": "1f676273-3b3f-4df2-e1f1-6da9258c1456"
      },
      "execution_count": 42,
      "outputs": [
        {
          "output_type": "execute_result",
          "data": {
            "text/plain": [
              "(1398, 13)"
            ]
          },
          "metadata": {},
          "execution_count": 42
        }
      ]
    },
    {
      "cell_type": "code",
      "source": [
        "df.drop([\"Ind_ID\"], axis=1, inplace=True)"
      ],
      "metadata": {
        "id": "b-79rizRvSiP"
      },
      "execution_count": 43,
      "outputs": []
    },
    {
      "cell_type": "code",
      "source": [
        "df.shape"
      ],
      "metadata": {
        "colab": {
          "base_uri": "https://localhost:8080/"
        },
        "id": "ppKFvWwFjynC",
        "outputId": "8722c8b4-17a5-49bf-f551-094117e96606"
      },
      "execution_count": 44,
      "outputs": [
        {
          "output_type": "execute_result",
          "data": {
            "text/plain": [
              "(1398, 12)"
            ]
          },
          "metadata": {},
          "execution_count": 44
        }
      ]
    },
    {
      "cell_type": "code",
      "source": [
        "corr_df_new = df.corr()"
      ],
      "metadata": {
        "id": "jM92C7n2UlIe"
      },
      "execution_count": 45,
      "outputs": []
    },
    {
      "cell_type": "code",
      "source": [
        "top_corr_fig = corr_df_new.index\n",
        "plt.figure(figsize=(10,10))\n",
        "sns.heatmap(df[top_corr_fig].corr(), annot=True, cmap =\"RdYlGn\")\n",
        "plt.show()"
      ],
      "metadata": {
        "colab": {
          "base_uri": "https://localhost:8080/",
          "height": 0
        },
        "id": "0FMm6Id9UqLB",
        "outputId": "7240484e-3022-430f-c26e-495bbc97b094"
      },
      "execution_count": 46,
      "outputs": [
        {
          "output_type": "display_data",
          "data": {
            "text/plain": [
              "<Figure size 720x720 with 2 Axes>"
            ],
            "image/png": "[encoded data removed]"
          },
          "metadata": {
            "needs_background": "light"
          }
        }
      ]
    },
    {
      "cell_type": "markdown",
      "source": [
        "#**EXPLORATORY DATA ANALYSIS**"
      ],
      "metadata": {
        "id": "ZFGzOZYyZ_lH"
      }
    },
    {
      "cell_type": "code",
      "source": [
        "df.head()"
      ],
      "metadata": {
        "colab": {
          "base_uri": "https://localhost:8080/",
          "height": 0
        },
        "id": "iew29HPzZBPf",
        "outputId": "bfd91f8a-0866-42c4-b96a-2f6a4c095b87"
      },
      "execution_count": 47,
      "outputs": [
        {
          "output_type": "execute_result",
          "data": {
            "text/plain": [
              "   GENDER  Car_Owner  Propert_Owner  CHILDREN  Annual_income  \\\n",
              "0     1.0          1              1         0       180000.0   \n",
              "1     0.0          1              0         0       315000.0   \n",
              "4     0.0          1              0         0       315000.0   \n",
              "6     0.0          1              0         0       315000.0   \n",
              "7     0.0          0              0         0       180000.0   \n",
              "\n",
              "            Type_Income                      EDUCATION       Housing_type  \\\n",
              "0             Pensioner               Higher education  House / apartment   \n",
              "1  Commercial associate               Higher education  House / apartment   \n",
              "4  Commercial associate               Higher education  House / apartment   \n",
              "6  Commercial associate               Higher education  House / apartment   \n",
              "7             Pensioner  Secondary / secondary special  House / apartment   \n",
              "\n",
              "    Age  Experience  Family_Members  label  \n",
              "0  51.0         0.0               2      1  \n",
              "1  37.0         1.6               2      1  \n",
              "4  37.0         1.6               2      1  \n",
              "6  37.0         1.6               2      1  \n",
              "7  61.0         0.0               2      1  "
            ],
            "text/html": [
              "\n",
              "  <div id=\"df-69fa8d0c-77a4-4956-b9ff-4f20103f7671\">\n",
              "    <div class=\"colab-df-container\">\n",
              "      <div>\n",
              "<style scoped>\n",
              "    .dataframe tbody tr th:only-of-type {\n",
              "        vertical-align: middle;\n",
              "    }\n",
              "\n",
              "    .dataframe tbody tr th {\n",
              "        vertical-align: top;\n",
              "    }\n",
              "\n",
              "    .dataframe thead th {\n",
              "        text-align: right;\n",
              "    }\n",
              "</style>\n",
              "<table border=\"1\" class=\"dataframe\">\n",
              "  <thead>\n",
              "    <tr style=\"text-align: right;\">\n",
              "      <th></th>\n",
              "      <th>GENDER</th>\n",
              "      <th>Car_Owner</th>\n",
              "      <th>Propert_Owner</th>\n",
              "      <th>CHILDREN</th>\n",
              "      <th>Annual_income</th>\n",
              "      <th>Type_Income</th>\n",
              "      <th>EDUCATION</th>\n",
              "      <th>Housing_type</th>\n",
              "      <th>Age</th>\n",
              "      <th>Experience</th>\n",
              "      <th>Family_Members</th>\n",
              "      <th>label</th>\n",
              "    </tr>\n",
              "  </thead>\n",
              "  <tbody>\n",
              "    <tr>\n",
              "      <th>0</th>\n",
              "      <td>1.0</td>\n",
              "      <td>1</td>\n",
              "      <td>1</td>\n",
              "      <td>0</td>\n",
              "      <td>180000.0</td>\n",
              "      <td>Pensioner</td>\n",
              "      <td>Higher education</td>\n",
              "      <td>House / apartment</td>\n",
              "      <td>51.0</td>\n",
              "      <td>0.0</td>\n",
              "      <td>2</td>\n",
              "      <td>1</td>\n",
              "    </tr>\n",
              "    <tr>\n",
              "      <th>1</th>\n",
              "      <td>0.0</td>\n",
              "      <td>1</td>\n",
              "      <td>0</td>\n",
              "      <td>0</td>\n",
              "      <td>315000.0</td>\n",
              "      <td>Commercial associate</td>\n",
              "      <td>Higher education</td>\n",
              "      <td>House / apartment</td>\n",
              "      <td>37.0</td>\n",
              "      <td>1.6</td>\n",
              "      <td>2</td>\n",
              "      <td>1</td>\n",
              "    </tr>\n",
              "    <tr>\n",
              "      <th>4</th>\n",
              "      <td>0.0</td>\n",
              "      <td>1</td>\n",
              "      <td>0</td>\n",
              "      <td>0</td>\n",
              "      <td>315000.0</td>\n",
              "      <td>Commercial associate</td>\n",
              "      <td>Higher education</td>\n",
              "      <td>House / apartment</td>\n",
              "      <td>37.0</td>\n",
              "      <td>1.6</td>\n",
              "      <td>2</td>\n",
              "      <td>1</td>\n",
              "    </tr>\n",
              "    <tr>\n",
              "      <th>6</th>\n",
              "      <td>0.0</td>\n",
              "      <td>1</td>\n",
              "      <td>0</td>\n",
              "      <td>0</td>\n",
              "      <td>315000.0</td>\n",
              "      <td>Commercial associate</td>\n",
              "      <td>Higher education</td>\n",
              "      <td>House / apartment</td>\n",
              "      <td>37.0</td>\n",
              "      <td>1.6</td>\n",
              "      <td>2</td>\n",
              "      <td>1</td>\n",
              "    </tr>\n",
              "    <tr>\n",
              "      <th>7</th>\n",
              "      <td>0.0</td>\n",
              "      <td>0</td>\n",
              "      <td>0</td>\n",
              "      <td>0</td>\n",
              "      <td>180000.0</td>\n",
              "      <td>Pensioner</td>\n",
              "      <td>Secondary / secondary special</td>\n",
              "      <td>House / apartment</td>\n",
              "      <td>61.0</td>\n",
              "      <td>0.0</td>\n",
              "      <td>2</td>\n",
              "      <td>1</td>\n",
              "    </tr>\n",
              "  </tbody>\n",
              "</table>\n",
              "</div>\n",
              "      <button class=\"colab-df-convert\" onclick=\"convertToInteractive('df-69fa8d0c-77a4-4956-b9ff-4f20103f7671')\"\n",
              "              title=\"Convert this dataframe to an interactive table.\"\n",
              "              style=\"display:none;\">\n",
              "        \n",
              "  <svg xmlns=\"http://www.w3.org/2000/svg\" height=\"24px\"viewBox=\"0 0 24 24\"\n",
              "       width=\"24px\">\n",
              "    <path d=\"M0 0h24v24H0V0z\" fill=\"none\"/>\n",
              "    <path d=\"M18.56 5.44l.94 2.06.94-2.06 2.06-.94-2.06-.94-.94-2.06-.94 2.06-2.06.94zm-11 1L8.5 8.5l.94-2.06 2.06-.94-2.06-.94L8.5 2.5l-.94 2.06-2.06.94zm10 10l.94 2.06.94-2.06 2.06-.94-2.06-.94-.94-2.06-.94 2.06-2.06.94z\"/><path d=\"M17.41 7.96l-1.37-1.37c-.4-.4-.92-.59-1.43-.59-.52 0-1.04.2-1.43.59L10.3 9.45l-7.72 7.72c-.78.78-.78 2.05 0 2.83L4 21.41c.39.39.9.59 1.41.59.51 0 1.02-.2 1.41-.59l7.78-7.78 2.81-2.81c.8-.78.8-2.07 0-2.86zM5.41 20L4 18.59l7.72-7.72 1.47 1.35L5.41 20z\"/>\n",
              "  </svg>\n",
              "      </button>\n",
              "      \n",
              "  <style>\n",
              "    .colab-df-container {\n",
              "      display:flex;\n",
              "      flex-wrap:wrap;\n",
              "      gap: 12px;\n",
              "    }\n",
              "\n",
              "    .colab-df-convert {\n",
              "      background-color: #E8F0FE;\n",
              "      border: none;\n",
              "      border-radius: 50%;\n",
              "      cursor: pointer;\n",
              "      display: none;\n",
              "      fill: #1967D2;\n",
              "      height: 32px;\n",
              "      padding: 0 0 0 0;\n",
              "      width: 32px;\n",
              "    }\n",
              "\n",
              "    .colab-df-convert:hover {\n",
              "      background-color: #E2EBFA;\n",
              "      box-shadow: 0px 1px 2px rgba(60, 64, 67, 0.3), 0px 1px 3px 1px rgba(60, 64, 67, 0.15);\n",
              "      fill: #174EA6;\n",
              "    }\n",
              "\n",
              "    [theme=dark] .colab-df-convert {\n",
              "      background-color: #3B4455;\n",
              "      fill: #D2E3FC;\n",
              "    }\n",
              "\n",
              "    [theme=dark] .colab-df-convert:hover {\n",
              "      background-color: #434B5C;\n",
              "      box-shadow: 0px 1px 3px 1px rgba(0, 0, 0, 0.15);\n",
              "      filter: drop-shadow(0px 1px 2px rgba(0, 0, 0, 0.3));\n",
              "      fill: #FFFFFF;\n",
              "    }\n",
              "  </style>\n",
              "\n",
              "      <script>\n",
              "        const buttonEl =\n",
              "          document.querySelector('#df-69fa8d0c-77a4-4956-b9ff-4f20103f7671 button.colab-df-convert');\n",
              "        buttonEl.style.display =\n",
              "          google.colab.kernel.accessAllowed ? 'block' : 'none';\n",
              "\n",
              "        async function convertToInteractive(key) {\n",
              "          const element = document.querySelector('#df-69fa8d0c-77a4-4956-b9ff-4f20103f7671');\n",
              "          const dataTable =\n",
              "            await google.colab.kernel.invokeFunction('convertToInteractive',\n",
              "                                                     [key], {});\n",
              "          if (!dataTable) return;\n",
              "\n",
              "          const docLinkHtml = 'Like what you see? Visit the ' +\n",
              "            '<a target=\"_blank\" href=https://colab.research.google.com/notebooks/data_table.ipynb>data table notebook</a>'\n",
              "            + ' to learn more about interactive tables.';\n",
              "          element.innerHTML = '';\n",
              "          dataTable['output_type'] = 'display_data';\n",
              "          await google.colab.output.renderOutput(dataTable, element);\n",
              "          const docLink = document.createElement('div');\n",
              "          docLink.innerHTML = docLinkHtml;\n",
              "          element.appendChild(docLink);\n",
              "        }\n",
              "      </script>\n",
              "    </div>\n",
              "  </div>\n",
              "  "
            ]
          },
          "metadata": {},
          "execution_count": 47
        }
      ]
    },
    {
      "cell_type": "markdown",
      "source": [
        "#####Univariate Analysis"
      ],
      "metadata": {
        "id": "mEl8SONedUdN"
      }
    },
    {
      "cell_type": "code",
      "source": [
        "# df.hist(bins = 30, figsize = (15,10))\n",
        "# plt.show()"
      ],
      "metadata": {
        "id": "8Uw2aBAVLISA"
      },
      "execution_count": 48,
      "outputs": []
    },
    {
      "cell_type": "code",
      "source": [
        "# plt.pie(df[\"GENDER\"].value_counts(), labels=[\"Female\", \"Male\"], autopct='%1.2f%%')\n",
        "# plt.show()"
      ],
      "metadata": {
        "id": "AScV7LtmdS-F"
      },
      "execution_count": 49,
      "outputs": []
    },
    {
      "cell_type": "code",
      "source": [
        "sns.countplot(\"label\", hue = \"Type_Income\", data = df)"
      ],
      "metadata": {
        "colab": {
          "base_uri": "https://localhost:8080/",
          "height": 0
        },
        "id": "UeQOEbZsYjDX",
        "outputId": "0cf90b13-5f29-4bc7-cdf0-ebd5977462a4"
      },
      "execution_count": 50,
      "outputs": [
        {
          "output_type": "execute_result",
          "data": {
            "text/plain": [
              "<AxesSubplot:xlabel='label', ylabel='count'>"
            ]
          },
          "metadata": {},
          "execution_count": 50
        },
        {
          "output_type": "display_data",
          "data": {
            "text/plain": [
              "<Figure size 432x288 with 1 Axes>"
            ],
            "image/png": "[encoded data removed]"
          },
          "metadata": {
            "needs_background": "light"
          }
        }
      ]
    },
    {
      "cell_type": "code",
      "source": [
        "sns.countplot(\"label\", hue = \"Housing_type\", data = df)"
      ],
      "metadata": {
        "colab": {
          "base_uri": "https://localhost:8080/",
          "height": 0
        },
        "id": "06Tbt5oCZMUY",
        "outputId": "f3e418c9-45c0-4138-f9e2-9f76f1576ecf"
      },
      "execution_count": 51,
      "outputs": [
        {
          "output_type": "execute_result",
          "data": {
            "text/plain": [
              "<AxesSubplot:xlabel='label', ylabel='count'>"
            ]
          },
          "metadata": {},
          "execution_count": 51
        },
        {
          "output_type": "display_data",
          "data": {
            "text/plain": [
              "<Figure size 432x288 with 1 Axes>"
            ],
            "image/png": "[encoded data removed]"
          },
          "metadata": {
            "needs_background": "light"
          }
        }
      ]
    },
    {
      "cell_type": "code",
      "source": [
        "plt.figure(figsize = (25,7))\n",
        "plt.subplot(1,2, 1)\n",
        "plt.title(\"Log of Annual Income\")\n",
        "plt.xlabel(\"Log of Annual Income\")\n",
        "sns.histplot(np.log(df[\"Annual_income\"]), kde =True, color =\"r\")\n",
        "plt.subplot(1, 2, 2)\n",
        "sns.histplot(df[\"Annual_income\"], kde = True, color =\"b\")\n",
        "plt.title(\"Annual Income\")\n",
        "plt.xlabel(\"Annual Income\")\n",
        "plt.show()"
      ],
      "metadata": {
        "colab": {
          "base_uri": "https://localhost:8080/",
          "height": 0
        },
        "id": "yVlwVbgVqgVO",
        "outputId": "ad309cbe-9fe3-4fdb-ed58-a0b24fd2972e"
      },
      "execution_count": 52,
      "outputs": [
        {
          "output_type": "display_data",
          "data": {
            "text/plain": [
              "<Figure size 1800x504 with 2 Axes>"
            ],
            "image/png": "[encoded data removed]"
          },
          "metadata": {
            "needs_background": "light"
          }
        }
      ]
    },
    {
      "cell_type": "code",
      "source": [
        "plt.figure(figsize = (25,7))\n",
        "plt.subplot(1, 2, 1)\n",
        "plt.title(\"Log of Experience\")\n",
        "plt.xlabel(\"Log Experience\")\n",
        "sns.histplot(np.log(df[\"Experience\"]), kde =True, color =\"cyan\")\n",
        "plt.subplot(1, 2, 2)\n",
        "sns.histplot(df[\"Experience\"], kde = True, color = \"green\")\n",
        "plt.title(\"Experience\")\n",
        "plt.xlabel(\"Experience\")\n",
        "plt.show()"
      ],
      "metadata": {
        "colab": {
          "base_uri": "https://localhost:8080/",
          "height": 0
        },
        "id": "8sI-f_4cu772",
        "outputId": "d205aad4-b190-4c10-b7e5-8c0cca8c7957"
      },
      "execution_count": 53,
      "outputs": [
        {
          "output_type": "display_data",
          "data": {
            "text/plain": [
              "<Figure size 1800x504 with 2 Axes>"
            ],
            "image/png": "[encoded data removed]"
          },
          "metadata": {
            "needs_background": "light"
          }
        }
      ]
    },
    {
      "cell_type": "code",
      "source": [
        "plt.figure(figsize = (25,7))\n",
        "plt.subplot(1, 2, 1)\n",
        "plt.title(\"Log of Age\")\n",
        "plt.xlabel(\"Log Age\")\n",
        "sns.histplot(np.log(df[\"Age\"]), kde =True, color =\"cyan\")\n",
        "plt.subplot(1, 2, 2)\n",
        "sns.histplot(df[\"Age\"], kde = True, color = \"green\")\n",
        "plt.title(\"Age\")\n",
        "plt.xlabel(\"Age\")\n",
        "plt.show()"
      ],
      "metadata": {
        "colab": {
          "base_uri": "https://localhost:8080/",
          "height": 0
        },
        "id": "65QHnzhLrxTh",
        "outputId": "f297275b-43d4-462d-f32c-2d41784eb4a0"
      },
      "execution_count": 54,
      "outputs": [
        {
          "output_type": "display_data",
          "data": {
            "text/plain": [
              "<Figure size 1800x504 with 2 Axes>"
            ],
            "image/png": "[encoded data removed]"
          },
          "metadata": {
            "needs_background": "light"
          }
        }
      ]
    },
    {
      "cell_type": "markdown",
      "source": [
        "The log transformation extract out all the values into the center of the distribution making it look more like a \"Normal distribution\""
      ],
      "metadata": {
        "id": "aEHOnv5d9qPs"
      }
    },
    {
      "cell_type": "markdown",
      "source": [
        "#####BivariateAnalysis"
      ],
      "metadata": {
        "id": "fhnuCbRRq1W0"
      }
    },
    {
      "cell_type": "code",
      "source": [
        "# cat = df[[\"Type_Income\", \"Annual_income\"]].groupby(['Type_Income'], as_index=False).sum().sort_values(by='Annual_income', ascending=False)\n",
        "cat = df[[\"Type_Income\", \"Annual_income\"]].groupby(['Type_Income'], as_index=False).sum()\n",
        "sns.barplot(x = \"Type_Income\", y = \"Annual_income\", data = cat)\n",
        "plt.title(\"Annual Income based on Occupation\")\n",
        "plt.xlabel(\"Occupation\")\n",
        "plt.ylabel(\"Annual Income\")\n",
        "plt.show()"
      ],
      "metadata": {
        "colab": {
          "base_uri": "https://localhost:8080/",
          "height": 0
        },
        "id": "b11lDm6_grFK",
        "outputId": "681a9ca5-3fc7-4f43-aa49-fc5b44a5a16b"
      },
      "execution_count": 55,
      "outputs": [
        {
          "output_type": "display_data",
          "data": {
            "text/plain": [
              "<Figure size 432x288 with 1 Axes>"
            ],
            "image/png": "[encoded data removed]"
          },
          "metadata": {
            "needs_background": "light"
          }
        }
      ]
    },
    {
      "cell_type": "markdown",
      "source": [
        "Car and Property Analysis with respect to Annual Income"
      ],
      "metadata": {
        "id": "VeXyZFA0p9FP"
      }
    },
    {
      "cell_type": "code",
      "source": [
        "cat1 = df[[\"Car_Owner\",\"Propert_Owner\", \"Annual_income\"]].groupby(['Car_Owner','Propert_Owner'], as_index=False).agg({'Annual_income':'count','Annual_income':'max'})\n",
        "plt.figure(figsize = (25,7))\n",
        "plt.subplot(1, 4, 1)\n",
        "sns.barplot(cat1[\"Car_Owner\"], cat1[\"Annual_income\"])\n",
        "plt.title(\"Income Vs Car Owner\")\n",
        "plt.xlabel(\"Cars\")\n",
        "plt.ylabel(\"Income\")\n",
        "plt.subplot(1, 4, 2)\n",
        "sns.barplot(cat1[\"Propert_Owner\"], cat1[\"Annual_income\"])\n",
        "plt.title(\"Income Vs Property Owner\")\n",
        "plt.xlabel(\"Property\")\n",
        "plt.ylabel(\"Income\")\n",
        "plt.show()"
      ],
      "metadata": {
        "colab": {
          "base_uri": "https://localhost:8080/",
          "height": 0
        },
        "id": "-gK79QaLlXjC",
        "outputId": "e3860f54-9878-4144-edb4-38c316122264"
      },
      "execution_count": 56,
      "outputs": [
        {
          "output_type": "display_data",
          "data": {
            "text/plain": [
              "<Figure size 1800x504 with 2 Axes>"
            ],
            "image/png": "[encoded data removed]"
          },
          "metadata": {
            "needs_background": "light"
          }
        }
      ]
    },
    {
      "cell_type": "code",
      "source": [
        "exp1 = pd.cut(df[\"Experience\"], bins = list(np.arange(0,23,3)))\n",
        "print(\"Mean of Annual Income by the Age are :\\n\",df.groupby(exp1)[\"Annual_income\"].mean())\n",
        "\n",
        "cat2 = round(df[['Experience',\"Annual_income\"]].groupby(pd.cut(df[\"Experience\"], bins = list(np.arange(0,23,3))), as_index=False).mean(),1)\n",
        "plt.figure(figsize =(10,5))\n",
        "sns.barplot(x = \"Experience\", y = \"Annual_income\", data = cat2)\n",
        "plt.title(\"Annual Income Based on Experience\")\n",
        "plt.xlabel(\"Experience\")\n",
        "plt.ylabel(\"Annual Income\")\n",
        "plt.show()"
      ],
      "metadata": {
        "colab": {
          "base_uri": "https://localhost:8080/",
          "height": 0
        },
        "id": "XvSMqYllxs9U",
        "outputId": "2f7c3952-b2b7-4394-f4d1-d89c70bdca8c"
      },
      "execution_count": 57,
      "outputs": [
        {
          "output_type": "stream",
          "name": "stdout",
          "text": [
            "Mean of Annual Income by the Age are :\n",
            " Experience\n",
            "(0, 3]      193627.322034\n",
            "(3, 6]      191744.262295\n",
            "(6, 9]      212091.013825\n",
            "(9, 12]     224679.545455\n",
            "(12, 15]    200370.000000\n",
            "(15, 18]    200531.250000\n",
            "(18, 21]    171356.250000\n",
            "Name: Annual_income, dtype: float64\n"
          ]
        },
        {
          "output_type": "display_data",
          "data": {
            "text/plain": [
              "<Figure size 720x360 with 1 Axes>"
            ],
            "image/png": "[encoded data removed]"
          },
          "metadata": {
            "needs_background": "light"
          }
        }
      ]
    },
    {
      "cell_type": "code",
      "source": [
        "age = pd.cut(df[\"Age\"], bins = [20,30,40,50,60,70])\n",
        "print(\"Mean of Annual Income by the Age are :\\n\",df.groupby(age)[\"Annual_income\"].mean())\n",
        "\n",
        "cat4 = round(df[['Age',\"Annual_income\"]].groupby(pd.cut(df[\"Age\"], bins = [20,30,40,50,60,70]), as_index=False).mean(),1)\n",
        "plt.figure(figsize =(10,5))\n",
        "sns.barplot(x = \"Age\", y = \"Annual_income\", data = cat4)\n",
        "plt.title(\"Annual Income based on Age\")\n",
        "plt.xlabel(\"Age\")\n",
        "plt.ylabel(\"Annual Income\")\n",
        "plt.show()"
      ],
      "metadata": {
        "colab": {
          "base_uri": "https://localhost:8080/",
          "height": 0
        },
        "id": "nMDGChYReVSY",
        "outputId": "3f8d4250-e5d4-44a4-cb69-2f5452c57821"
      },
      "execution_count": 58,
      "outputs": [
        {
          "output_type": "stream",
          "name": "stdout",
          "text": [
            "Mean of Annual Income by the Age are :\n",
            " Age\n",
            "(20, 30]    207417.857143\n",
            "(30, 40]    192075.371287\n",
            "(40, 50]    213460.213235\n",
            "(50, 60]    171785.204082\n",
            "(60, 70]    153211.764706\n",
            "Name: Annual_income, dtype: float64\n"
          ]
        },
        {
          "output_type": "display_data",
          "data": {
            "text/plain": [
              "<Figure size 720x360 with 1 Axes>"
            ],
            "image/png": "[encoded data removed]"
          },
          "metadata": {
            "needs_background": "light"
          }
        }
      ]
    },
    {
      "cell_type": "markdown",
      "source": [
        "#####Multivariate Analysis"
      ],
      "metadata": {
        "id": "1r8hMduhPli_"
      }
    },
    {
      "cell_type": "code",
      "source": [
        "exp1 = pd.cut(df[\"Experience\"], bins = list(np.arange(0,22,2)))\n",
        "print(\"Mean of Annual Income by the Age are :\\n\",df.groupby(exp1)[\"label\"].mean())\n",
        "\n",
        "cat3 = round(df[['Experience',\"Annual_income\", \"label\"]].groupby(pd.cut(df[\"Experience\"], bins = list(np.arange(0,22,2))), as_index=False).mean(),1)\n",
        "plt.figure(figsize =(50,10))\n",
        "plt.subplot(1, 4, 1)\n",
        "sns.barplot(x = \"Experience\", y = \"label\", data = cat3)\n",
        "plt.title(\"Probability of Credit Card Approval Based on Experience\", fontsize = 15)\n",
        "plt.xlabel(\"Experience\")\n",
        "plt.ylabel(\"label\")\n",
        "\n",
        "plt.subplot(1, 4, 2)\n",
        "sns.barplot(x = \"Annual_income\", y = \"label\", data = cat3)\n",
        "plt.title(\"Probability of Credit Card Approval Based on Annual Income\", fontsize = 15)\n",
        "plt.xlabel(\"Annual Income\")\n",
        "plt.ylabel(\"label\")\n",
        "plt.show()"
      ],
      "metadata": {
        "colab": {
          "base_uri": "https://localhost:8080/",
          "height": 0
        },
        "id": "WFoL-rX5FThc",
        "outputId": "f26e5c21-0dc4-4dbc-81a9-f918d5e09f5e"
      },
      "execution_count": 59,
      "outputs": [
        {
          "output_type": "stream",
          "name": "stdout",
          "text": [
            "Mean of Annual Income by the Age are :\n",
            " Experience\n",
            "(0, 2]      0.149798\n",
            "(2, 4]      0.162791\n",
            "(4, 6]      0.086294\n",
            "(6, 8]      0.070513\n",
            "(8, 10]     0.088000\n",
            "(10, 12]    0.088235\n",
            "(12, 14]    0.044444\n",
            "(14, 16]    0.000000\n",
            "(16, 18]    0.000000\n",
            "(18, 20]    0.083333\n",
            "Name: label, dtype: float64\n"
          ]
        },
        {
          "output_type": "display_data",
          "data": {
            "text/plain": [
              "<Figure size 3600x720 with 2 Axes>"
            ],
            "image/png": "[encoded data removed]"
          },
          "metadata": {
            "needs_background": "light"
          }
        }
      ]
    },
    {
      "cell_type": "markdown",
      "source": [
        "- **OBSERVATIONS :-**\n",
        "* People have 2 to 4 Year of Experience have 20% chances to get the Credit Card.\n",
        "* Salary between 1.7 Lakhs to 2.25 Lakhs has 10% chances to get Credit Card.\n",
        "* Salary around 1.9 Lakhs has 20% chances to get Credit Card."
      ],
      "metadata": {
        "id": "AhuqoGmlGvnL"
      }
    },
    {
      "cell_type": "markdown",
      "source": [
        "#**FEATURE ENGINEERING & SELECTION**"
      ],
      "metadata": {
        "id": "ILOSoyCrcpHs"
      }
    },
    {
      "cell_type": "markdown",
      "source": [
        "#####Spliting Data into Dependent(y) and Independent(X) Variable"
      ],
      "metadata": {
        "id": "6SzIGXozCcsZ"
      }
    },
    {
      "cell_type": "code",
      "source": [
        "df1 = df.iloc[:,:-1]\n",
        "y = df.iloc[:,-1]"
      ],
      "metadata": {
        "id": "14vp6uNAAQIT"
      },
      "execution_count": 60,
      "outputs": []
    },
    {
      "cell_type": "code",
      "source": [
        "X = pd.get_dummies(df1, drop_first = True)"
      ],
      "metadata": {
        "id": "tf3larJTzaQ1"
      },
      "execution_count": 61,
      "outputs": []
    },
    {
      "cell_type": "code",
      "source": [
        "X.head()"
      ],
      "metadata": {
        "colab": {
          "base_uri": "https://localhost:8080/",
          "height": 287
        },
        "id": "ocehRuQJ0M77",
        "outputId": "c23bed1b-f8b1-4415-a711-d7074d48fe2d"
      },
      "execution_count": 62,
      "outputs": [
        {
          "output_type": "execute_result",
          "data": {
            "text/plain": [
              "   GENDER  Car_Owner  Propert_Owner  CHILDREN  Annual_income   Age  \\\n",
              "0     1.0          1              1         0       180000.0  51.0   \n",
              "1     0.0          1              0         0       315000.0  37.0   \n",
              "4     0.0          1              0         0       315000.0  37.0   \n",
              "6     0.0          1              0         0       315000.0  37.0   \n",
              "7     0.0          0              0         0       180000.0  61.0   \n",
              "\n",
              "   Experience  Family_Members  Type_Income_Pensioner  \\\n",
              "0         0.0               2                      1   \n",
              "1         1.6               2                      0   \n",
              "4         1.6               2                      0   \n",
              "6         1.6               2                      0   \n",
              "7         0.0               2                      1   \n",
              "\n",
              "   Type_Income_State servant  Type_Income_Working  EDUCATION_Higher education  \\\n",
              "0                          0                    0                           1   \n",
              "1                          0                    0                           1   \n",
              "4                          0                    0                           1   \n",
              "6                          0                    0                           1   \n",
              "7                          0                    0                           0   \n",
              "\n",
              "   EDUCATION_Incomplete higher  EDUCATION_Lower secondary  \\\n",
              "0                            0                          0   \n",
              "1                            0                          0   \n",
              "4                            0                          0   \n",
              "6                            0                          0   \n",
              "7                            0                          0   \n",
              "\n",
              "   EDUCATION_Secondary / secondary special  Housing_type_House / apartment  \\\n",
              "0                                        0                               1   \n",
              "1                                        0                               1   \n",
              "4                                        0                               1   \n",
              "6                                        0                               1   \n",
              "7                                        1                               1   \n",
              "\n",
              "   Housing_type_Municipal apartment  Housing_type_Office apartment  \\\n",
              "0                                 0                              0   \n",
              "1                                 0                              0   \n",
              "4                                 0                              0   \n",
              "6                                 0                              0   \n",
              "7                                 0                              0   \n",
              "\n",
              "   Housing_type_Rented apartment  Housing_type_With parents  \n",
              "0                              0                          0  \n",
              "1                              0                          0  \n",
              "4                              0                          0  \n",
              "6                              0                          0  \n",
              "7                              0                          0  "
            ],
            "text/html": [
              "\n",
              "  <div id=\"df-5eda82cd-89f1-41a1-95ab-43dab8b06db8\">\n",
              "    <div class=\"colab-df-container\">\n",
              "      <div>\n",
              "<style scoped>\n",
              "    .dataframe tbody tr th:only-of-type {\n",
              "        vertical-align: middle;\n",
              "    }\n",
              "\n",
              "    .dataframe tbody tr th {\n",
              "        vertical-align: top;\n",
              "    }\n",
              "\n",
              "    .dataframe thead th {\n",
              "        text-align: right;\n",
              "    }\n",
              "</style>\n",
              "<table border=\"1\" class=\"dataframe\">\n",
              "  <thead>\n",
              "    <tr style=\"text-align: right;\">\n",
              "      <th></th>\n",
              "      <th>GENDER</th>\n",
              "      <th>Car_Owner</th>\n",
              "      <th>Propert_Owner</th>\n",
              "      <th>CHILDREN</th>\n",
              "      <th>Annual_income</th>\n",
              "      <th>Age</th>\n",
              "      <th>Experience</th>\n",
              "      <th>Family_Members</th>\n",
              "      <th>Type_Income_Pensioner</th>\n",
              "      <th>Type_Income_State servant</th>\n",
              "      <th>Type_Income_Working</th>\n",
              "      <th>EDUCATION_Higher education</th>\n",
              "      <th>EDUCATION_Incomplete higher</th>\n",
              "      <th>EDUCATION_Lower secondary</th>\n",
              "      <th>EDUCATION_Secondary / secondary special</th>\n",
              "      <th>Housing_type_House / apartment</th>\n",
              "      <th>Housing_type_Municipal apartment</th>\n",
              "      <th>Housing_type_Office apartment</th>\n",
              "      <th>Housing_type_Rented apartment</th>\n",
              "      <th>Housing_type_With parents</th>\n",
              "    </tr>\n",
              "  </thead>\n",
              "  <tbody>\n",
              "    <tr>\n",
              "      <th>0</th>\n",
              "      <td>1.0</td>\n",
              "      <td>1</td>\n",
              "      <td>1</td>\n",
              "      <td>0</td>\n",
              "      <td>180000.0</td>\n",
              "      <td>51.0</td>\n",
              "      <td>0.0</td>\n",
              "      <td>2</td>\n",
              "      <td>1</td>\n",
              "      <td>0</td>\n",
              "      <td>0</td>\n",
              "      <td>1</td>\n",
              "      <td>0</td>\n",
              "      <td>0</td>\n",
              "      <td>0</td>\n",
              "      <td>1</td>\n",
              "      <td>0</td>\n",
              "      <td>0</td>\n",
              "      <td>0</td>\n",
              "      <td>0</td>\n",
              "    </tr>\n",
              "    <tr>\n",
              "      <th>1</th>\n",
              "      <td>0.0</td>\n",
              "      <td>1</td>\n",
              "      <td>0</td>\n",
              "      <td>0</td>\n",
              "      <td>315000.0</td>\n",
              "      <td>37.0</td>\n",
              "      <td>1.6</td>\n",
              "      <td>2</td>\n",
              "      <td>0</td>\n",
              "      <td>0</td>\n",
              "      <td>0</td>\n",
              "      <td>1</td>\n",
              "      <td>0</td>\n",
              "      <td>0</td>\n",
              "      <td>0</td>\n",
              "      <td>1</td>\n",
              "      <td>0</td>\n",
              "      <td>0</td>\n",
              "      <td>0</td>\n",
              "      <td>0</td>\n",
              "    </tr>\n",
              "    <tr>\n",
              "      <th>4</th>\n",
              "      <td>0.0</td>\n",
              "      <td>1</td>\n",
              "      <td>0</td>\n",
              "      <td>0</td>\n",
              "      <td>315000.0</td>\n",
              "      <td>37.0</td>\n",
              "      <td>1.6</td>\n",
              "      <td>2</td>\n",
              "      <td>0</td>\n",
              "      <td>0</td>\n",
              "      <td>0</td>\n",
              "      <td>1</td>\n",
              "      <td>0</td>\n",
              "      <td>0</td>\n",
              "      <td>0</td>\n",
              "      <td>1</td>\n",
              "      <td>0</td>\n",
              "      <td>0</td>\n",
              "      <td>0</td>\n",
              "      <td>0</td>\n",
              "    </tr>\n",
              "    <tr>\n",
              "      <th>6</th>\n",
              "      <td>0.0</td>\n",
              "      <td>1</td>\n",
              "      <td>0</td>\n",
              "      <td>0</td>\n",
              "      <td>315000.0</td>\n",
              "      <td>37.0</td>\n",
              "      <td>1.6</td>\n",
              "      <td>2</td>\n",
              "      <td>0</td>\n",
              "      <td>0</td>\n",
              "      <td>0</td>\n",
              "      <td>1</td>\n",
              "      <td>0</td>\n",
              "      <td>0</td>\n",
              "      <td>0</td>\n",
              "      <td>1</td>\n",
              "      <td>0</td>\n",
              "      <td>0</td>\n",
              "      <td>0</td>\n",
              "      <td>0</td>\n",
              "    </tr>\n",
              "    <tr>\n",
              "      <th>7</th>\n",
              "      <td>0.0</td>\n",
              "      <td>0</td>\n",
              "      <td>0</td>\n",
              "      <td>0</td>\n",
              "      <td>180000.0</td>\n",
              "      <td>61.0</td>\n",
              "      <td>0.0</td>\n",
              "      <td>2</td>\n",
              "      <td>1</td>\n",
              "      <td>0</td>\n",
              "      <td>0</td>\n",
              "      <td>0</td>\n",
              "      <td>0</td>\n",
              "      <td>0</td>\n",
              "      <td>1</td>\n",
              "      <td>1</td>\n",
              "      <td>0</td>\n",
              "      <td>0</td>\n",
              "      <td>0</td>\n",
              "      <td>0</td>\n",
              "    </tr>\n",
              "  </tbody>\n",
              "</table>\n",
              "</div>\n",
              "      <button class=\"colab-df-convert\" onclick=\"convertToInteractive('df-5eda82cd-89f1-41a1-95ab-43dab8b06db8')\"\n",
              "              title=\"Convert this dataframe to an interactive table.\"\n",
              "              style=\"display:none;\">\n",
              "        \n",
              "  <svg xmlns=\"http://www.w3.org/2000/svg\" height=\"24px\"viewBox=\"0 0 24 24\"\n",
              "       width=\"24px\">\n",
              "    <path d=\"M0 0h24v24H0V0z\" fill=\"none\"/>\n",
              "    <path d=\"M18.56 5.44l.94 2.06.94-2.06 2.06-.94-2.06-.94-.94-2.06-.94 2.06-2.06.94zm-11 1L8.5 8.5l.94-2.06 2.06-.94-2.06-.94L8.5 2.5l-.94 2.06-2.06.94zm10 10l.94 2.06.94-2.06 2.06-.94-2.06-.94-.94-2.06-.94 2.06-2.06.94z\"/><path d=\"M17.41 7.96l-1.37-1.37c-.4-.4-.92-.59-1.43-.59-.52 0-1.04.2-1.43.59L10.3 9.45l-7.72 7.72c-.78.78-.78 2.05 0 2.83L4 21.41c.39.39.9.59 1.41.59.51 0 1.02-.2 1.41-.59l7.78-7.78 2.81-2.81c.8-.78.8-2.07 0-2.86zM5.41 20L4 18.59l7.72-7.72 1.47 1.35L5.41 20z\"/>\n",
              "  </svg>\n",
              "      </button>\n",
              "      \n",
              "  <style>\n",
              "    .colab-df-container {\n",
              "      display:flex;\n",
              "      flex-wrap:wrap;\n",
              "      gap: 12px;\n",
              "    }\n",
              "\n",
              "    .colab-df-convert {\n",
              "      background-color: #E8F0FE;\n",
              "      border: none;\n",
              "      border-radius: 50%;\n",
              "      cursor: pointer;\n",
              "      display: none;\n",
              "      fill: #1967D2;\n",
              "      height: 32px;\n",
              "      padding: 0 0 0 0;\n",
              "      width: 32px;\n",
              "    }\n",
              "\n",
              "    .colab-df-convert:hover {\n",
              "      background-color: #E2EBFA;\n",
              "      box-shadow: 0px 1px 2px rgba(60, 64, 67, 0.3), 0px 1px 3px 1px rgba(60, 64, 67, 0.15);\n",
              "      fill: #174EA6;\n",
              "    }\n",
              "\n",
              "    [theme=dark] .colab-df-convert {\n",
              "      background-color: #3B4455;\n",
              "      fill: #D2E3FC;\n",
              "    }\n",
              "\n",
              "    [theme=dark] .colab-df-convert:hover {\n",
              "      background-color: #434B5C;\n",
              "      box-shadow: 0px 1px 3px 1px rgba(0, 0, 0, 0.15);\n",
              "      filter: drop-shadow(0px 1px 2px rgba(0, 0, 0, 0.3));\n",
              "      fill: #FFFFFF;\n",
              "    }\n",
              "  </style>\n",
              "\n",
              "      <script>\n",
              "        const buttonEl =\n",
              "          document.querySelector('#df-5eda82cd-89f1-41a1-95ab-43dab8b06db8 button.colab-df-convert');\n",
              "        buttonEl.style.display =\n",
              "          google.colab.kernel.accessAllowed ? 'block' : 'none';\n",
              "\n",
              "        async function convertToInteractive(key) {\n",
              "          const element = document.querySelector('#df-5eda82cd-89f1-41a1-95ab-43dab8b06db8');\n",
              "          const dataTable =\n",
              "            await google.colab.kernel.invokeFunction('convertToInteractive',\n",
              "                                                     [key], {});\n",
              "          if (!dataTable) return;\n",
              "\n",
              "          const docLinkHtml = 'Like what you see? Visit the ' +\n",
              "            '<a target=\"_blank\" href=https://colab.research.google.com/notebooks/data_table.ipynb>data table notebook</a>'\n",
              "            + ' to learn more about interactive tables.';\n",
              "          element.innerHTML = '';\n",
              "          dataTable['output_type'] = 'display_data';\n",
              "          await google.colab.output.renderOutput(dataTable, element);\n",
              "          const docLink = document.createElement('div');\n",
              "          docLink.innerHTML = docLinkHtml;\n",
              "          element.appendChild(docLink);\n",
              "        }\n",
              "      </script>\n",
              "    </div>\n",
              "  </div>\n",
              "  "
            ]
          },
          "metadata": {},
          "execution_count": 62
        }
      ]
    },
    {
      "cell_type": "markdown",
      "source": [
        "#####Feature Selection - Pending"
      ],
      "metadata": {
        "id": "d5WRdRmsCllX"
      }
    },
    {
      "cell_type": "code",
      "source": [
        "df.corr()"
      ],
      "metadata": {
        "colab": {
          "base_uri": "https://localhost:8080/",
          "height": 331
        },
        "id": "L2_ex94mFguh",
        "outputId": "d403fa42-1d26-4e73-e81e-78f6cf202521"
      },
      "execution_count": 63,
      "outputs": [
        {
          "output_type": "execute_result",
          "data": {
            "text/plain": [
              "                  GENDER  Car_Owner  Propert_Owner  CHILDREN  Annual_income  \\\n",
              "GENDER          1.000000   0.366000      -0.046590  0.068441       0.213587   \n",
              "Car_Owner       0.366000   1.000000      -0.000509  0.068853       0.208379   \n",
              "Propert_Owner  -0.046590  -0.000509       1.000000 -0.019240       0.057085   \n",
              "CHILDREN        0.068441   0.068853      -0.019240  1.000000       0.101543   \n",
              "Annual_income   0.213587   0.208379       0.057085  0.101543       1.000000   \n",
              "Age            -0.182753  -0.133944       0.127433 -0.326757      -0.113484   \n",
              "Experience      0.036791   0.043919      -0.058612  0.148197       0.104760   \n",
              "Family_Members  0.109759   0.129453      -0.011664  0.863185       0.061569   \n",
              "label           0.051808  -0.022255      -0.002870 -0.028371       0.011205   \n",
              "\n",
              "                     Age  Experience  Family_Members     label  \n",
              "GENDER         -0.182753    0.036791        0.109759  0.051808  \n",
              "Car_Owner      -0.133944    0.043919        0.129453 -0.022255  \n",
              "Propert_Owner   0.127433   -0.058612       -0.011664 -0.002870  \n",
              "CHILDREN       -0.326757    0.148197        0.863185 -0.028371  \n",
              "Annual_income  -0.113484    0.104760        0.061569  0.011205  \n",
              "Age             1.000000   -0.186417       -0.290513  0.048903  \n",
              "Experience     -0.186417    1.000000        0.179529 -0.104550  \n",
              "Family_Members -0.290513    0.179529        1.000000 -0.040733  \n",
              "label           0.048903   -0.104550       -0.040733  1.000000  "
            ],
            "text/html": [
              "\n",
              "  <div id=\"df-92064b01-ce01-43b6-8b3c-29d0e649e79b\">\n",
              "    <div class=\"colab-df-container\">\n",
              "      <div>\n",
              "<style scoped>\n",
              "    .dataframe tbody tr th:only-of-type {\n",
              "        vertical-align: middle;\n",
              "    }\n",
              "\n",
              "    .dataframe tbody tr th {\n",
              "        vertical-align: top;\n",
              "    }\n",
              "\n",
              "    .dataframe thead th {\n",
              "        text-align: right;\n",
              "    }\n",
              "</style>\n",
              "<table border=\"1\" class=\"dataframe\">\n",
              "  <thead>\n",
              "    <tr style=\"text-align: right;\">\n",
              "      <th></th>\n",
              "      <th>GENDER</th>\n",
              "      <th>Car_Owner</th>\n",
              "      <th>Propert_Owner</th>\n",
              "      <th>CHILDREN</th>\n",
              "      <th>Annual_income</th>\n",
              "      <th>Age</th>\n",
              "      <th>Experience</th>\n",
              "      <th>Family_Members</th>\n",
              "      <th>label</th>\n",
              "    </tr>\n",
              "  </thead>\n",
              "  <tbody>\n",
              "    <tr>\n",
              "      <th>GENDER</th>\n",
              "      <td>1.000000</td>\n",
              "      <td>0.366000</td>\n",
              "      <td>-0.046590</td>\n",
              "      <td>0.068441</td>\n",
              "      <td>0.213587</td>\n",
              "      <td>-0.182753</td>\n",
              "      <td>0.036791</td>\n",
              "      <td>0.109759</td>\n",
              "      <td>0.051808</td>\n",
              "    </tr>\n",
              "    <tr>\n",
              "      <th>Car_Owner</th>\n",
              "      <td>0.366000</td>\n",
              "      <td>1.000000</td>\n",
              "      <td>-0.000509</td>\n",
              "      <td>0.068853</td>\n",
              "      <td>0.208379</td>\n",
              "      <td>-0.133944</td>\n",
              "      <td>0.043919</td>\n",
              "      <td>0.129453</td>\n",
              "      <td>-0.022255</td>\n",
              "    </tr>\n",
              "    <tr>\n",
              "      <th>Propert_Owner</th>\n",
              "      <td>-0.046590</td>\n",
              "      <td>-0.000509</td>\n",
              "      <td>1.000000</td>\n",
              "      <td>-0.019240</td>\n",
              "      <td>0.057085</td>\n",
              "      <td>0.127433</td>\n",
              "      <td>-0.058612</td>\n",
              "      <td>-0.011664</td>\n",
              "      <td>-0.002870</td>\n",
              "    </tr>\n",
              "    <tr>\n",
              "      <th>CHILDREN</th>\n",
              "      <td>0.068441</td>\n",
              "      <td>0.068853</td>\n",
              "      <td>-0.019240</td>\n",
              "      <td>1.000000</td>\n",
              "      <td>0.101543</td>\n",
              "      <td>-0.326757</td>\n",
              "      <td>0.148197</td>\n",
              "      <td>0.863185</td>\n",
              "      <td>-0.028371</td>\n",
              "    </tr>\n",
              "    <tr>\n",
              "      <th>Annual_income</th>\n",
              "      <td>0.213587</td>\n",
              "      <td>0.208379</td>\n",
              "      <td>0.057085</td>\n",
              "      <td>0.101543</td>\n",
              "      <td>1.000000</td>\n",
              "      <td>-0.113484</td>\n",
              "      <td>0.104760</td>\n",
              "      <td>0.061569</td>\n",
              "      <td>0.011205</td>\n",
              "    </tr>\n",
              "    <tr>\n",
              "      <th>Age</th>\n",
              "      <td>-0.182753</td>\n",
              "      <td>-0.133944</td>\n",
              "      <td>0.127433</td>\n",
              "      <td>-0.326757</td>\n",
              "      <td>-0.113484</td>\n",
              "      <td>1.000000</td>\n",
              "      <td>-0.186417</td>\n",
              "      <td>-0.290513</td>\n",
              "      <td>0.048903</td>\n",
              "    </tr>\n",
              "    <tr>\n",
              "      <th>Experience</th>\n",
              "      <td>0.036791</td>\n",
              "      <td>0.043919</td>\n",
              "      <td>-0.058612</td>\n",
              "      <td>0.148197</td>\n",
              "      <td>0.104760</td>\n",
              "      <td>-0.186417</td>\n",
              "      <td>1.000000</td>\n",
              "      <td>0.179529</td>\n",
              "      <td>-0.104550</td>\n",
              "    </tr>\n",
              "    <tr>\n",
              "      <th>Family_Members</th>\n",
              "      <td>0.109759</td>\n",
              "      <td>0.129453</td>\n",
              "      <td>-0.011664</td>\n",
              "      <td>0.863185</td>\n",
              "      <td>0.061569</td>\n",
              "      <td>-0.290513</td>\n",
              "      <td>0.179529</td>\n",
              "      <td>1.000000</td>\n",
              "      <td>-0.040733</td>\n",
              "    </tr>\n",
              "    <tr>\n",
              "      <th>label</th>\n",
              "      <td>0.051808</td>\n",
              "      <td>-0.022255</td>\n",
              "      <td>-0.002870</td>\n",
              "      <td>-0.028371</td>\n",
              "      <td>0.011205</td>\n",
              "      <td>0.048903</td>\n",
              "      <td>-0.104550</td>\n",
              "      <td>-0.040733</td>\n",
              "      <td>1.000000</td>\n",
              "    </tr>\n",
              "  </tbody>\n",
              "</table>\n",
              "</div>\n",
              "      <button class=\"colab-df-convert\" onclick=\"convertToInteractive('df-92064b01-ce01-43b6-8b3c-29d0e649e79b')\"\n",
              "              title=\"Convert this dataframe to an interactive table.\"\n",
              "              style=\"display:none;\">\n",
              "        \n",
              "  <svg xmlns=\"http://www.w3.org/2000/svg\" height=\"24px\"viewBox=\"0 0 24 24\"\n",
              "       width=\"24px\">\n",
              "    <path d=\"M0 0h24v24H0V0z\" fill=\"none\"/>\n",
              "    <path d=\"M18.56 5.44l.94 2.06.94-2.06 2.06-.94-2.06-.94-.94-2.06-.94 2.06-2.06.94zm-11 1L8.5 8.5l.94-2.06 2.06-.94-2.06-.94L8.5 2.5l-.94 2.06-2.06.94zm10 10l.94 2.06.94-2.06 2.06-.94-2.06-.94-.94-2.06-.94 2.06-2.06.94z\"/><path d=\"M17.41 7.96l-1.37-1.37c-.4-.4-.92-.59-1.43-.59-.52 0-1.04.2-1.43.59L10.3 9.45l-7.72 7.72c-.78.78-.78 2.05 0 2.83L4 21.41c.39.39.9.59 1.41.59.51 0 1.02-.2 1.41-.59l7.78-7.78 2.81-2.81c.8-.78.8-2.07 0-2.86zM5.41 20L4 18.59l7.72-7.72 1.47 1.35L5.41 20z\"/>\n",
              "  </svg>\n",
              "      </button>\n",
              "      \n",
              "  <style>\n",
              "    .colab-df-container {\n",
              "      display:flex;\n",
              "      flex-wrap:wrap;\n",
              "      gap: 12px;\n",
              "    }\n",
              "\n",
              "    .colab-df-convert {\n",
              "      background-color: #E8F0FE;\n",
              "      border: none;\n",
              "      border-radius: 50%;\n",
              "      cursor: pointer;\n",
              "      display: none;\n",
              "      fill: #1967D2;\n",
              "      height: 32px;\n",
              "      padding: 0 0 0 0;\n",
              "      width: 32px;\n",
              "    }\n",
              "\n",
              "    .colab-df-convert:hover {\n",
              "      background-color: #E2EBFA;\n",
              "      box-shadow: 0px 1px 2px rgba(60, 64, 67, 0.3), 0px 1px 3px 1px rgba(60, 64, 67, 0.15);\n",
              "      fill: #174EA6;\n",
              "    }\n",
              "\n",
              "    [theme=dark] .colab-df-convert {\n",
              "      background-color: #3B4455;\n",
              "      fill: #D2E3FC;\n",
              "    }\n",
              "\n",
              "    [theme=dark] .colab-df-convert:hover {\n",
              "      background-color: #434B5C;\n",
              "      box-shadow: 0px 1px 3px 1px rgba(0, 0, 0, 0.15);\n",
              "      filter: drop-shadow(0px 1px 2px rgba(0, 0, 0, 0.3));\n",
              "      fill: #FFFFFF;\n",
              "    }\n",
              "  </style>\n",
              "\n",
              "      <script>\n",
              "        const buttonEl =\n",
              "          document.querySelector('#df-92064b01-ce01-43b6-8b3c-29d0e649e79b button.colab-df-convert');\n",
              "        buttonEl.style.display =\n",
              "          google.colab.kernel.accessAllowed ? 'block' : 'none';\n",
              "\n",
              "        async function convertToInteractive(key) {\n",
              "          const element = document.querySelector('#df-92064b01-ce01-43b6-8b3c-29d0e649e79b');\n",
              "          const dataTable =\n",
              "            await google.colab.kernel.invokeFunction('convertToInteractive',\n",
              "                                                     [key], {});\n",
              "          if (!dataTable) return;\n",
              "\n",
              "          const docLinkHtml = 'Like what you see? Visit the ' +\n",
              "            '<a target=\"_blank\" href=https://colab.research.google.com/notebooks/data_table.ipynb>data table notebook</a>'\n",
              "            + ' to learn more about interactive tables.';\n",
              "          element.innerHTML = '';\n",
              "          dataTable['output_type'] = 'display_data';\n",
              "          await google.colab.output.renderOutput(dataTable, element);\n",
              "          const docLink = document.createElement('div');\n",
              "          docLink.innerHTML = docLinkHtml;\n",
              "          element.appendChild(docLink);\n",
              "        }\n",
              "      </script>\n",
              "    </div>\n",
              "  </div>\n",
              "  "
            ]
          },
          "metadata": {},
          "execution_count": 63
        }
      ]
    },
    {
      "cell_type": "code",
      "source": [
        "# X_train.corr()"
      ],
      "metadata": {
        "id": "jp8DbXxDFcPP"
      },
      "execution_count": 64,
      "outputs": []
    },
    {
      "cell_type": "code",
      "source": [
        "from sklearn.ensemble import ExtraTreesRegressor\n",
        "model = ExtraTreesRegressor()\n",
        "model.fit(X,y)"
      ],
      "metadata": {
        "colab": {
          "base_uri": "https://localhost:8080/",
          "height": 74
        },
        "id": "o2Q0o6vruc8M",
        "outputId": "9813fd7d-774e-4460-fd76-e56207c1365d"
      },
      "execution_count": 65,
      "outputs": [
        {
          "output_type": "execute_result",
          "data": {
            "text/plain": [
              "ExtraTreesRegressor()"
            ],
            "text/html": [
              "<style>#sk-container-id-1 {color: black;background-color: white;}#sk-container-id-1 pre{padding: 0;}#sk-container-id-1 div.sk-toggleable {background-color: white;}#sk-container-id-1 label.sk-toggleable__label {cursor: pointer;display: block;width: 100%;margin-bottom: 0;padding: 0.3em;box-sizing: border-box;text-align: center;}#sk-container-id-1 label.sk-toggleable__label-arrow:before {content: \"▸\";float: left;margin-right: 0.25em;color: #696969;}#sk-container-id-1 label.sk-toggleable__label-arrow:hover:before {color: black;}#sk-container-id-1 div.sk-estimator:hover label.sk-toggleable__label-arrow:before {color: black;}#sk-container-id-1 div.sk-toggleable__content {max-height: 0;max-width: 0;overflow: hidden;text-align: left;background-color: #f0f8ff;}#sk-container-id-1 div.sk-toggleable__content pre {margin: 0.2em;color: black;border-radius: 0.25em;background-color: #f0f8ff;}#sk-container-id-1 input.sk-toggleable__control:checked~div.sk-toggleable__content {max-height: 200px;max-width: 100%;overflow: auto;}#sk-container-id-1 input.sk-toggleable__control:checked~label.sk-toggleable__label-arrow:before {content: \"▾\";}#sk-container-id-1 div.sk-estimator input.sk-toggleable__control:checked~label.sk-toggleable__label {background-color: #d4ebff;}#sk-container-id-1 div.sk-label input.sk-toggleable__control:checked~label.sk-toggleable__label {background-color: #d4ebff;}#sk-container-id-1 input.sk-hidden--visually {border: 0;clip: rect(1px 1px 1px 1px);clip: rect(1px, 1px, 1px, 1px);height: 1px;margin: -1px;overflow: hidden;padding: 0;position: absolute;width: 1px;}#sk-container-id-1 div.sk-estimator {font-family: monospace;background-color: #f0f8ff;border: 1px dotted black;border-radius: 0.25em;box-sizing: border-box;margin-bottom: 0.5em;}#sk-container-id-1 div.sk-estimator:hover {background-color: #d4ebff;}#sk-container-id-1 div.sk-parallel-item::after {content: \"\";width: 100%;border-bottom: 1px solid gray;flex-grow: 1;}#sk-container-id-1 div.sk-label:hover label.sk-toggleable__label {background-color: #d4ebff;}#sk-container-id-1 div.sk-serial::before {content: \"\";position: absolute;border-left: 1px solid gray;box-sizing: border-box;top: 0;bottom: 0;left: 50%;z-index: 0;}#sk-container-id-1 div.sk-serial {display: flex;flex-direction: column;align-items: center;background-color: white;padding-right: 0.2em;padding-left: 0.2em;position: relative;}#sk-container-id-1 div.sk-item {position: relative;z-index: 1;}#sk-container-id-1 div.sk-parallel {display: flex;align-items: stretch;justify-content: center;background-color: white;position: relative;}#sk-container-id-1 div.sk-item::before, #sk-container-id-1 div.sk-parallel-item::before {content: \"\";position: absolute;border-left: 1px solid gray;box-sizing: border-box;top: 0;bottom: 0;left: 50%;z-index: -1;}#sk-container-id-1 div.sk-parallel-item {display: flex;flex-direction: column;z-index: 1;position: relative;background-color: white;}#sk-container-id-1 div.sk-parallel-item:first-child::after {align-self: flex-end;width: 50%;}#sk-container-id-1 div.sk-parallel-item:last-child::after {align-self: flex-start;width: 50%;}#sk-container-id-1 div.sk-parallel-item:only-child::after {width: 0;}#sk-container-id-1 div.sk-dashed-wrapped {border: 1px dashed gray;margin: 0 0.4em 0.5em 0.4em;box-sizing: border-box;padding-bottom: 0.4em;background-color: white;}#sk-container-id-1 div.sk-label label {font-family: monospace;font-weight: bold;display: inline-block;line-height: 1.2em;}#sk-container-id-1 div.sk-label-container {text-align: center;}#sk-container-id-1 div.sk-container {/* jupyter's `normalize.less` sets `[hidden] { display: none; }` but bootstrap.min.css set `[hidden] { display: none !important; }` so we also need the `!important` here to be able to override the default hidden behavior on the sphinx rendered scikit-learn.org. See: https://github.com/scikit-learn/scikit-learn/issues/21755 */display: inline-block !important;position: relative;}#sk-container-id-1 div.sk-text-repr-fallback {display: none;}</style><div id=\"sk-container-id-1\" class=\"sk-top-container\"><div class=\"sk-text-repr-fallback\"><pre>ExtraTreesRegressor()</pre><b>In a Jupyter environment, please rerun this cell to show the HTML representation or trust the notebook. <br />On GitHub, the HTML representation is unable to render, please try loading this page with nbviewer.org.</b></div><div class=\"sk-container\" hidden><div class=\"sk-item\"><div class=\"sk-estimator sk-toggleable\"><input class=\"sk-toggleable__control sk-hidden--visually\" id=\"sk-estimator-id-1\" type=\"checkbox\" checked><label for=\"sk-estimator-id-1\" class=\"sk-toggleable__label sk-toggleable__label-arrow\">ExtraTreesRegressor</label><div class=\"sk-toggleable__content\"><pre>ExtraTreesRegressor()</pre></div></div></div></div></div>"
            ]
          },
          "metadata": {},
          "execution_count": 65
        }
      ]
    },
    {
      "cell_type": "code",
      "source": [
        "print(model.feature_importances_)"
      ],
      "metadata": {
        "colab": {
          "base_uri": "https://localhost:8080/"
        },
        "id": "TfVfbxMzuxFh",
        "outputId": "47bd649a-259b-4ced-bc22-639acf8dd24f"
      },
      "execution_count": 66,
      "outputs": [
        {
          "output_type": "stream",
          "name": "stdout",
          "text": [
            "[0.03582542 0.05667533 0.04226084 0.04553003 0.20612642 0.20353692\n",
            " 0.15133104 0.0771006  0.02532533 0.01341701 0.03208407 0.0246181\n",
            " 0.00726416 0.0066674  0.02848689 0.01097035 0.01240493 0.00910695\n",
            " 0.0057424  0.00552581]\n"
          ]
        }
      ]
    },
    {
      "cell_type": "code",
      "source": [
        "feat_important = pd.Series(model.feature_importances_, index = X.columns)\n",
        "feat_important.nlargest(10).plot(kind=\"barh\")\n",
        "plt.show()"
      ],
      "metadata": {
        "colab": {
          "base_uri": "https://localhost:8080/",
          "height": 265
        },
        "id": "bZWKaGQR5cli",
        "outputId": "2dbe85ac-5dbd-47dd-8cbc-316405000626"
      },
      "execution_count": 67,
      "outputs": [
        {
          "output_type": "display_data",
          "data": {
            "text/plain": [
              "<Figure size 432x288 with 1 Axes>"
            ],
            "image/png": "[encoded data removed]"
          },
          "metadata": {
            "needs_background": "light"
          }
        }
      ]
    },
    {
      "cell_type": "code",
      "source": [
        "## Drop irrelevant columns."
      ],
      "metadata": {
        "id": "GeSzRkl4EmPd"
      },
      "execution_count": 68,
      "outputs": []
    },
    {
      "cell_type": "markdown",
      "source": [
        "#####Splitting data into Training and Test data"
      ],
      "metadata": {
        "id": "RdQsSfX4doaV"
      }
    },
    {
      "cell_type": "code",
      "source": [
        "L = df.iloc[:,:-1]\n",
        "m = df.iloc[:,-1]"
      ],
      "metadata": {
        "id": "XAuZUVluAYi3"
      },
      "execution_count": 83,
      "outputs": []
    },
    {
      "cell_type": "code",
      "source": [
        "#import train test split from sklearn libraries.\n",
        "#Train size : 75% and Test size : 25% with random state = 42\n",
        "from sklearn.model_selection import train_test_split\n",
        "X_train, X_test, y_train, y_test = train_test_split(L, m, test_size=0.25, random_state=0)"
      ],
      "metadata": {
        "id": "n4iKFKj-AbZf"
      },
      "execution_count": 84,
      "outputs": []
    },
    {
      "cell_type": "code",
      "source": [
        "print(\"Train : \",X_train.shape, y_train.shape)\n",
        "print(\"Test : \",X_test.shape, y_test.shape)"
      ],
      "metadata": {
        "colab": {
          "base_uri": "https://localhost:8080/"
        },
        "id": "FYIf_F_Z1d4e",
        "outputId": "bb952101-c267-4fc7-d680-d9458ea2bc08"
      },
      "execution_count": 85,
      "outputs": [
        {
          "output_type": "stream",
          "name": "stdout",
          "text": [
            "Train :  (1048, 11) (1048,)\n",
            "Test :  (350, 11) (350,)\n"
          ]
        }
      ]
    },
    {
      "cell_type": "markdown",
      "source": [
        "Observation\n",
        "\n",
        "\n",
        "*   Numerical Feature : Gender, Car_Owner, Propert_Owner, Children, Annual_income, Age, Experience, Family_Members.\n",
        "*   Categorical Feature : Type_Income, Education, Marital_status, Housing_type.\n",
        "\n"
      ],
      "metadata": {
        "id": "WXGbNA2axwod"
      }
    },
    {
      "cell_type": "code",
      "source": [
        "## mut_feature \n",
        "## SelectKBest\n",
        "## chi2"
      ],
      "metadata": {
        "id": "wiv6VkW7EENe"
      },
      "execution_count": 71,
      "outputs": []
    },
    {
      "cell_type": "markdown",
      "source": [
        "#**ML MODEL**"
      ],
      "metadata": {
        "id": "QUPmVEMWehFt"
      }
    },
    {
      "cell_type": "markdown",
      "source": [
        "#####Feature Scaling"
      ],
      "metadata": {
        "id": "yQPdrbJWdjtv"
      }
    },
    {
      "cell_type": "code",
      "source": [
        "#Extracting out the Numerical and Categorical Feature into \"num_features\" and \"cat_features\".   \n",
        "num_features = X_train.select_dtypes(exclude=\"object\").columns\n",
        "cat_features = X_train.select_dtypes(include=\"object\").columns\n",
        "print(num_features)\n",
        "print(cat_features)\n",
        "\n",
        "\n",
        "#Importing OneHotEncoding and StandardScaler Library for Scaling the dataset.\n",
        "from sklearn.preprocessing import OneHotEncoder, StandardScaler, OrdinalEncoder\n",
        "\n",
        "\n",
        "#Importing \"ColumnTransformer\" : Used to create and apply separate transformers for numerical and categorical data.\n",
        "from sklearn.compose import ColumnTransformer\n",
        "\n",
        "#Crating a object for \"StandardScaler()\" and \"OneHotEncoder()\".\n",
        "numeric_transformer = StandardScaler()\n",
        "oh_transformer = OneHotEncoder()\n",
        "oe = OrdinalEncoder()\n",
        "\n",
        "#Transforming for Numerical and Categorical data.\n",
        "preprocessor = ColumnTransformer(\n",
        "    [\n",
        "        (\"OneHotEncoder\", oh_transformer, cat_features),\n",
        "         (\"StandardScaler\", numeric_transformer, num_features),        \n",
        "    ]\n",
        ")\n",
        "\n",
        "# transformer = ColumnTransformer(\n",
        "#     [\n",
        "#         (\"Num1\", oe(categories=[[\"House / apartment\", \"With parents\", \"Municipal apartment\", \n",
        "#                                 \"Rented apartment\", \"Office apartment\", \"Co-op apartment\"]]), \"Housing_type\" ),\n",
        "#         (\"Num2\", oh_transformer(sparse = False, drop = \"first\"), [\"Type_Income\", \"EDUCATION\"]),\n",
        "#         (\"Num3\", numeric_transformer, num_features)\n",
        "#     ]\n",
        "    \n",
        "# )\n",
        "\n",
        "#Using fit_transform to Standardize the train data\n",
        "X_train = preprocessor.fit_transform(X_train)\n",
        "\n",
        "#\"transform\" only to avoid data leakage\n",
        "X_test = preprocessor.transform(X_test)"
      ],
      "metadata": {
        "id": "INQk3N_G3ms5",
        "colab": {
          "base_uri": "https://localhost:8080/"
        },
        "outputId": "b7397f43-858b-4e5b-ecb2-233f468a6e75"
      },
      "execution_count": 92,
      "outputs": [
        {
          "output_type": "stream",
          "name": "stdout",
          "text": [
            "Index(['GENDER', 'Car_Owner', 'Propert_Owner', 'CHILDREN', 'Annual_income',\n",
            "       'Age', 'Experience', 'Family_Members'],\n",
            "      dtype='object')\n",
            "Index(['Type_Income', 'EDUCATION', 'Housing_type'], dtype='object')\n"
          ]
        }
      ]
    },
    {
      "cell_type": "markdown",
      "source": [
        "###Logistic Regression"
      ],
      "metadata": {
        "id": "g85hq2g8piWq"
      }
    },
    {
      "cell_type": "code",
      "source": [
        "from sklearn.linear_model import LogisticRegression\n",
        "from sklearn.metrics import accuracy_score, confusion_matrix, classification_report\n",
        "log_reg = LogisticRegression()\n",
        "log_reg.fit(X_train,y_train)\n",
        "y_pred = log_reg.predict(X_test)\n",
        "Log_reg_untune = accuracy_score(y_pred, y_test)*100\n",
        "print(\"Accuracy of Logistic Regression Model : {}%\".format(round(accuracy_score(y_pred, y_test)*100)))\n",
        "print(\"Classification Report of Logistic Regression Model : \\n\",classification_report(y_pred, y_test))"
      ],
      "metadata": {
        "colab": {
          "base_uri": "https://localhost:8080/"
        },
        "id": "Fon1TM59CBRv",
        "outputId": "f95bddf5-37cd-4995-d0d0-90850cf65408"
      },
      "execution_count": null,
      "outputs": [
        {
          "output_type": "stream",
          "name": "stdout",
          "text": [
            "Accuracy of Logistic Regression Model : 89%\n",
            "Classification Report of Logistic Regression Model : \n",
            "               precision    recall  f1-score   support\n",
            "\n",
            "           0       1.00      0.89      0.94       349\n",
            "           1       0.00      0.00      0.00         1\n",
            "\n",
            "    accuracy                           0.89       350\n",
            "   macro avg       0.50      0.45      0.47       350\n",
            "weighted avg       0.99      0.89      0.94       350\n",
            "\n"
          ]
        }
      ]
    },
    {
      "cell_type": "code",
      "source": [
        "sns.distplot(y_test - y_pred)"
      ],
      "metadata": {
        "colab": {
          "base_uri": "https://localhost:8080/"
        },
        "id": "ss0MI7rhJPBk",
        "outputId": "47bc5804-7642-48d5-f378-3c00df72c19d"
      },
      "execution_count": null,
      "outputs": [
        {
          "output_type": "execute_result",
          "data": {
            "text/plain": [
              "<AxesSubplot:xlabel='label', ylabel='Density'>"
            ]
          },
          "metadata": {},
          "execution_count": 68
        },
        {
          "output_type": "display_data",
          "data": {
            "text/plain": [
              "<Figure size 432x288 with 1 Axes>"
            ],
            "image/png": "[encoded data removed]"
          },
          "metadata": {
            "needs_background": "light"
          }
        }
      ]
    },
    {
      "cell_type": "markdown",
      "source": [
        "####Model Evaluation Metrics"
      ],
      "metadata": {
        "id": "Eaa5JUjuGK1b"
      }
    },
    {
      "cell_type": "code",
      "source": [
        "confusion_matrix(y_pred, y_test)"
      ],
      "metadata": {
        "colab": {
          "base_uri": "https://localhost:8080/"
        },
        "id": "J1IFZ-hC_6JU",
        "outputId": "f5937559-12f0-4468-aaf6-e2401bb87e46"
      },
      "execution_count": null,
      "outputs": [
        {
          "output_type": "execute_result",
          "data": {
            "text/plain": [
              "array([[312,  37],\n",
              "       [  1,   0]])"
            ]
          },
          "metadata": {},
          "execution_count": 69
        }
      ]
    },
    {
      "cell_type": "markdown",
      "source": [
        "####Hyper Parameter Tuning for Logistic Regression"
      ],
      "metadata": {
        "id": "YfeXZAPCk64L"
      }
    },
    {
      "cell_type": "code",
      "source": [
        "from sklearn.model_selection import GridSearchCV\n",
        "parameter = {\"penalty\":[\"l1\", \"l2\", \"elasticnet\"],\n",
        "             \"C\" : [1,2,3,4,5,6,10,20,40,50],\n",
        "             \"max_iter\" : [100,200,300,400,500]}\n",
        "Classfier_Reg = GridSearchCV(log_reg,param_grid=parameter, scoring=\"accuracy\", cv=10)"
      ],
      "metadata": {
        "id": "n6XyeF29E-l6"
      },
      "execution_count": null,
      "outputs": []
    },
    {
      "cell_type": "code",
      "source": [
        "Classfier_Reg.fit(X_train, y_train)"
      ],
      "metadata": {
        "colab": {
          "base_uri": "https://localhost:8080/"
        },
        "id": "tEEMsg2hFSII",
        "outputId": "c87e1bb8-0f4d-4a30-e954-668ead8455ca"
      },
      "execution_count": null,
      "outputs": [
        {
          "output_type": "execute_result",
          "data": {
            "text/plain": [
              "GridSearchCV(cv=10, estimator=LogisticRegression(),\n",
              "             param_grid={'C': [1, 2, 3, 4, 5, 6, 10, 20, 40, 50],\n",
              "                         'max_iter': [100, 200, 300, 400, 500],\n",
              "                         'penalty': ['l1', 'l2', 'elasticnet']},\n",
              "             scoring='accuracy')"
            ],
            "text/html": [
              "<style>#sk-container-id-2 {color: black;background-color: white;}#sk-container-id-2 pre{padding: 0;}#sk-container-id-2 div.sk-toggleable {background-color: white;}#sk-container-id-2 label.sk-toggleable__label {cursor: pointer;display: block;width: 100%;margin-bottom: 0;padding: 0.3em;box-sizing: border-box;text-align: center;}#sk-container-id-2 label.sk-toggleable__label-arrow:before {content: \"▸\";float: left;margin-right: 0.25em;color: #696969;}#sk-container-id-2 label.sk-toggleable__label-arrow:hover:before {color: black;}#sk-container-id-2 div.sk-estimator:hover label.sk-toggleable__label-arrow:before {color: black;}#sk-container-id-2 div.sk-toggleable__content {max-height: 0;max-width: 0;overflow: hidden;text-align: left;background-color: #f0f8ff;}#sk-container-id-2 div.sk-toggleable__content pre {margin: 0.2em;color: black;border-radius: 0.25em;background-color: #f0f8ff;}#sk-container-id-2 input.sk-toggleable__control:checked~div.sk-toggleable__content {max-height: 200px;max-width: 100%;overflow: auto;}#sk-container-id-2 input.sk-toggleable__control:checked~label.sk-toggleable__label-arrow:before {content: \"▾\";}#sk-container-id-2 div.sk-estimator input.sk-toggleable__control:checked~label.sk-toggleable__label {background-color: #d4ebff;}#sk-container-id-2 div.sk-label input.sk-toggleable__control:checked~label.sk-toggleable__label {background-color: #d4ebff;}#sk-container-id-2 input.sk-hidden--visually {border: 0;clip: rect(1px 1px 1px 1px);clip: rect(1px, 1px, 1px, 1px);height: 1px;margin: -1px;overflow: hidden;padding: 0;position: absolute;width: 1px;}#sk-container-id-2 div.sk-estimator {font-family: monospace;background-color: #f0f8ff;border: 1px dotted black;border-radius: 0.25em;box-sizing: border-box;margin-bottom: 0.5em;}#sk-container-id-2 div.sk-estimator:hover {background-color: #d4ebff;}#sk-container-id-2 div.sk-parallel-item::after {content: \"\";width: 100%;border-bottom: 1px solid gray;flex-grow: 1;}#sk-container-id-2 div.sk-label:hover label.sk-toggleable__label {background-color: #d4ebff;}#sk-container-id-2 div.sk-serial::before {content: \"\";position: absolute;border-left: 1px solid gray;box-sizing: border-box;top: 0;bottom: 0;left: 50%;z-index: 0;}#sk-container-id-2 div.sk-serial {display: flex;flex-direction: column;align-items: center;background-color: white;padding-right: 0.2em;padding-left: 0.2em;position: relative;}#sk-container-id-2 div.sk-item {position: relative;z-index: 1;}#sk-container-id-2 div.sk-parallel {display: flex;align-items: stretch;justify-content: center;background-color: white;position: relative;}#sk-container-id-2 div.sk-item::before, #sk-container-id-2 div.sk-parallel-item::before {content: \"\";position: absolute;border-left: 1px solid gray;box-sizing: border-box;top: 0;bottom: 0;left: 50%;z-index: -1;}#sk-container-id-2 div.sk-parallel-item {display: flex;flex-direction: column;z-index: 1;position: relative;background-color: white;}#sk-container-id-2 div.sk-parallel-item:first-child::after {align-self: flex-end;width: 50%;}#sk-container-id-2 div.sk-parallel-item:last-child::after {align-self: flex-start;width: 50%;}#sk-container-id-2 div.sk-parallel-item:only-child::after {width: 0;}#sk-container-id-2 div.sk-dashed-wrapped {border: 1px dashed gray;margin: 0 0.4em 0.5em 0.4em;box-sizing: border-box;padding-bottom: 0.4em;background-color: white;}#sk-container-id-2 div.sk-label label {font-family: monospace;font-weight: bold;display: inline-block;line-height: 1.2em;}#sk-container-id-2 div.sk-label-container {text-align: center;}#sk-container-id-2 div.sk-container {/* jupyter's `normalize.less` sets `[hidden] { display: none; }` but bootstrap.min.css set `[hidden] { display: none !important; }` so we also need the `!important` here to be able to override the default hidden behavior on the sphinx rendered scikit-learn.org. See: https://github.com/scikit-learn/scikit-learn/issues/21755 */display: inline-block !important;position: relative;}#sk-container-id-2 div.sk-text-repr-fallback {display: none;}</style><div id=\"sk-container-id-2\" class=\"sk-top-container\"><div class=\"sk-text-repr-fallback\"><pre>GridSearchCV(cv=10, estimator=LogisticRegression(),\n",
              "             param_grid={&#x27;C&#x27;: [1, 2, 3, 4, 5, 6, 10, 20, 40, 50],\n",
              "                         &#x27;max_iter&#x27;: [100, 200, 300, 400, 500],\n",
              "                         &#x27;penalty&#x27;: [&#x27;l1&#x27;, &#x27;l2&#x27;, &#x27;elasticnet&#x27;]},\n",
              "             scoring=&#x27;accuracy&#x27;)</pre><b>In a Jupyter environment, please rerun this cell to show the HTML representation or trust the notebook. <br />On GitHub, the HTML representation is unable to render, please try loading this page with nbviewer.org.</b></div><div class=\"sk-container\" hidden><div class=\"sk-item sk-dashed-wrapped\"><div class=\"sk-label-container\"><div class=\"sk-label sk-toggleable\"><input class=\"sk-toggleable__control sk-hidden--visually\" id=\"sk-estimator-id-2\" type=\"checkbox\" ><label for=\"sk-estimator-id-2\" class=\"sk-toggleable__label sk-toggleable__label-arrow\">GridSearchCV</label><div class=\"sk-toggleable__content\"><pre>GridSearchCV(cv=10, estimator=LogisticRegression(),\n",
              "             param_grid={&#x27;C&#x27;: [1, 2, 3, 4, 5, 6, 10, 20, 40, 50],\n",
              "                         &#x27;max_iter&#x27;: [100, 200, 300, 400, 500],\n",
              "                         &#x27;penalty&#x27;: [&#x27;l1&#x27;, &#x27;l2&#x27;, &#x27;elasticnet&#x27;]},\n",
              "             scoring=&#x27;accuracy&#x27;)</pre></div></div></div><div class=\"sk-parallel\"><div class=\"sk-parallel-item\"><div class=\"sk-item\"><div class=\"sk-label-container\"><div class=\"sk-label sk-toggleable\"><input class=\"sk-toggleable__control sk-hidden--visually\" id=\"sk-estimator-id-3\" type=\"checkbox\" ><label for=\"sk-estimator-id-3\" class=\"sk-toggleable__label sk-toggleable__label-arrow\">estimator: LogisticRegression</label><div class=\"sk-toggleable__content\"><pre>LogisticRegression()</pre></div></div></div><div class=\"sk-serial\"><div class=\"sk-item\"><div class=\"sk-estimator sk-toggleable\"><input class=\"sk-toggleable__control sk-hidden--visually\" id=\"sk-estimator-id-4\" type=\"checkbox\" ><label for=\"sk-estimator-id-4\" class=\"sk-toggleable__label sk-toggleable__label-arrow\">LogisticRegression</label><div class=\"sk-toggleable__content\"><pre>LogisticRegression()</pre></div></div></div></div></div></div></div></div></div></div>"
            ]
          },
          "metadata": {},
          "execution_count": 71
        }
      ]
    },
    {
      "cell_type": "code",
      "source": [
        "print(Classfier_Reg.best_params_)"
      ],
      "metadata": {
        "colab": {
          "base_uri": "https://localhost:8080/"
        },
        "id": "EFkzacLUFSEu",
        "outputId": "29841f6c-b17c-497b-cd84-e74933292de1"
      },
      "execution_count": null,
      "outputs": [
        {
          "output_type": "stream",
          "name": "stdout",
          "text": [
            "{'C': 1, 'max_iter': 100, 'penalty': 'l2'}\n"
          ]
        }
      ]
    },
    {
      "cell_type": "code",
      "source": [
        "print(Classfier_Reg.best_score_)"
      ],
      "metadata": {
        "colab": {
          "base_uri": "https://localhost:8080/"
        },
        "id": "anh6rshyGT_I",
        "outputId": "1ff70ff8-387f-46d7-8a91-aae7091fd245"
      },
      "execution_count": null,
      "outputs": [
        {
          "output_type": "stream",
          "name": "stdout",
          "text": [
            "0.887408424908425\n"
          ]
        }
      ]
    },
    {
      "cell_type": "code",
      "source": [
        "y_pred_tune_grid = Classfier_Reg.predict(X_test)"
      ],
      "metadata": {
        "id": "TbHdHYe8GbZh"
      },
      "execution_count": null,
      "outputs": []
    },
    {
      "cell_type": "code",
      "source": [
        "Log_reg_tune = accuracy_score(y_pred_tune_grid, y_test)*100\n",
        "round(accuracy_score(y_pred_tune_grid, y_test)*100)"
      ],
      "metadata": {
        "colab": {
          "base_uri": "https://localhost:8080/"
        },
        "id": "bEmOzPZIGk1V",
        "outputId": "c174be04-ade5-456a-9093-ba15d57d193d"
      },
      "execution_count": null,
      "outputs": [
        {
          "output_type": "execute_result",
          "data": {
            "text/plain": [
              "89"
            ]
          },
          "metadata": {},
          "execution_count": 75
        }
      ]
    },
    {
      "cell_type": "code",
      "source": [
        "confusion_matrix(y_pred_tune_grid, y_test)"
      ],
      "metadata": {
        "colab": {
          "base_uri": "https://localhost:8080/"
        },
        "id": "Awnnc2k2AFRe",
        "outputId": "5b71493b-9d6b-4675-b45f-5387cfa93b73"
      },
      "execution_count": null,
      "outputs": [
        {
          "output_type": "execute_result",
          "data": {
            "text/plain": [
              "array([[312,  37],\n",
              "       [  1,   0]])"
            ]
          },
          "metadata": {},
          "execution_count": 76
        }
      ]
    },
    {
      "cell_type": "markdown",
      "source": [
        "Improvment in FP"
      ],
      "metadata": {
        "id": "yQTPvYQHAkSV"
      }
    },
    {
      "cell_type": "code",
      "source": [
        "print(classification_report(y_pred_tune_grid, y_test))"
      ],
      "metadata": {
        "colab": {
          "base_uri": "https://localhost:8080/"
        },
        "id": "_JP7cjyrHOPD",
        "outputId": "53f836ea-206b-474d-8fe9-cb66ca0755d2"
      },
      "execution_count": null,
      "outputs": [
        {
          "output_type": "stream",
          "name": "stdout",
          "text": [
            "              precision    recall  f1-score   support\n",
            "\n",
            "           0       1.00      0.89      0.94       349\n",
            "           1       0.00      0.00      0.00         1\n",
            "\n",
            "    accuracy                           0.89       350\n",
            "   macro avg       0.50      0.45      0.47       350\n",
            "weighted avg       0.99      0.89      0.94       350\n",
            "\n"
          ]
        }
      ]
    },
    {
      "cell_type": "markdown",
      "source": [
        "Verification after tuning"
      ],
      "metadata": {
        "id": "MxWItNHkJoSl"
      }
    },
    {
      "cell_type": "code",
      "source": [
        "log_reg_tune = LogisticRegression(penalty=\"l2\",C = 4, max_iter=100, random_state=0)\n",
        "log_reg_tune.fit(X_train,y_train)\n",
        "y_pred_tune = log_reg_tune.predict(X_test)\n",
        "print(\"Accuracy of Logistic Regression Model : {}%\".format(round(accuracy_score(y_pred_tune, y_test)*100)))\n",
        "print(\"Classification Report of Logistic Regression Model : \\n\",classification_report(y_pred_tune, y_test))"
      ],
      "metadata": {
        "colab": {
          "base_uri": "https://localhost:8080/"
        },
        "id": "Febk4uUMFSCd",
        "outputId": "a5bacbd1-4c11-42c6-f85e-a82d34719d0c"
      },
      "execution_count": null,
      "outputs": [
        {
          "output_type": "stream",
          "name": "stdout",
          "text": [
            "Accuracy of Logistic Regression Model : 89%\n",
            "Classification Report of Logistic Regression Model : \n",
            "               precision    recall  f1-score   support\n",
            "\n",
            "           0       1.00      0.89      0.94       349\n",
            "           1       0.00      0.00      0.00         1\n",
            "\n",
            "    accuracy                           0.89       350\n",
            "   macro avg       0.50      0.45      0.47       350\n",
            "weighted avg       0.99      0.89      0.94       350\n",
            "\n"
          ]
        }
      ]
    },
    {
      "cell_type": "markdown",
      "source": [
        "###Decision Tree Classifier"
      ],
      "metadata": {
        "id": "o2OY3eM6o6BN"
      }
    },
    {
      "cell_type": "code",
      "source": [
        "from sklearn.tree import DecisionTreeClassifier\n",
        "dec_tree = DecisionTreeClassifier()\n",
        "dec_tree.fit(X_train,y_train)\n",
        "y_pred_dec = dec_tree.predict(X_test)\n",
        "dec_tree_untune = accuracy_score(y_pred_dec, y_test)*100\n",
        "accuracy_score(y_pred_dec, y_test)*100"
      ],
      "metadata": {
        "colab": {
          "base_uri": "https://localhost:8080/"
        },
        "id": "F_OyraoKFR_Y",
        "outputId": "fb58f06c-428d-45e6-953b-39f2cffc758d"
      },
      "execution_count": null,
      "outputs": [
        {
          "output_type": "execute_result",
          "data": {
            "text/plain": [
              "88.0"
            ]
          },
          "metadata": {},
          "execution_count": 79
        }
      ]
    },
    {
      "cell_type": "code",
      "source": [
        "sns.distplot(y_test - y_pred_dec)"
      ],
      "metadata": {
        "colab": {
          "base_uri": "https://localhost:8080/"
        },
        "id": "CrzcdixNJq34",
        "outputId": "e85b2020-f019-4963-cee0-609cec61f61d"
      },
      "execution_count": null,
      "outputs": [
        {
          "output_type": "execute_result",
          "data": {
            "text/plain": [
              "<AxesSubplot:xlabel='label', ylabel='Density'>"
            ]
          },
          "metadata": {},
          "execution_count": 80
        },
        {
          "output_type": "display_data",
          "data": {
            "text/plain": [
              "<Figure size 432x288 with 1 Axes>"
            ],
            "image/png": "[encoded data removed]"
          },
          "metadata": {
            "needs_background": "light"
          }
        }
      ]
    },
    {
      "cell_type": "code",
      "source": [
        "# from sklearn import tree\n",
        "# tree.plot_tree(dec_tree)"
      ],
      "metadata": {
        "id": "PhrmFLSpqbh2"
      },
      "execution_count": null,
      "outputs": []
    },
    {
      "cell_type": "markdown",
      "source": [
        "#####Hyper Parameter Tuning for Decision Tree Classifier"
      ],
      "metadata": {
        "id": "a1qtwTGWJcav"
      }
    },
    {
      "cell_type": "code",
      "source": [
        "from sklearn.model_selection import GridSearchCV\n",
        "parameter_dtc = {\"criterion\" : [\"gini\", \"entropy\", \"log_loss\"],\n",
        "                 \"splitter\" : [\"best\", \"random\"],\n",
        "                 \"max_depth\" : [1,2,3,4,5],\n",
        "                 \"max_features\" : [\"auto\", \"sqrt\", \"log2\"],\n",
        "                 \"ccp_alpha\" : [1,2,3,4,5,6,7]}\n",
        "Classfier_dtc = GridSearchCV(dec_tree,param_grid=parameter_dtc, scoring=\"accuracy\", cv=5)"
      ],
      "metadata": {
        "id": "ScPXEimRpoYf"
      },
      "execution_count": null,
      "outputs": []
    },
    {
      "cell_type": "code",
      "source": [
        "Classfier_dtc.fit(X_train, y_train)"
      ],
      "metadata": {
        "colab": {
          "base_uri": "https://localhost:8080/"
        },
        "id": "QgRGnka7seU_",
        "outputId": "23705e41-0de6-47ce-a8da-809848cf5f55"
      },
      "execution_count": null,
      "outputs": [
        {
          "output_type": "execute_result",
          "data": {
            "text/plain": [
              "GridSearchCV(cv=5, estimator=DecisionTreeClassifier(),\n",
              "             param_grid={'ccp_alpha': [1, 2, 3, 4, 5, 6, 7],\n",
              "                         'criterion': ['gini', 'entropy', 'log_loss'],\n",
              "                         'max_depth': [1, 2, 3, 4, 5],\n",
              "                         'max_features': ['auto', 'sqrt', 'log2'],\n",
              "                         'splitter': ['best', 'random']},\n",
              "             scoring='accuracy')"
            ],
            "text/html": [
              "<style>#sk-container-id-3 {color: black;background-color: white;}#sk-container-id-3 pre{padding: 0;}#sk-container-id-3 div.sk-toggleable {background-color: white;}#sk-container-id-3 label.sk-toggleable__label {cursor: pointer;display: block;width: 100%;margin-bottom: 0;padding: 0.3em;box-sizing: border-box;text-align: center;}#sk-container-id-3 label.sk-toggleable__label-arrow:before {content: \"▸\";float: left;margin-right: 0.25em;color: #696969;}#sk-container-id-3 label.sk-toggleable__label-arrow:hover:before {color: black;}#sk-container-id-3 div.sk-estimator:hover label.sk-toggleable__label-arrow:before {color: black;}#sk-container-id-3 div.sk-toggleable__content {max-height: 0;max-width: 0;overflow: hidden;text-align: left;background-color: #f0f8ff;}#sk-container-id-3 div.sk-toggleable__content pre {margin: 0.2em;color: black;border-radius: 0.25em;background-color: #f0f8ff;}#sk-container-id-3 input.sk-toggleable__control:checked~div.sk-toggleable__content {max-height: 200px;max-width: 100%;overflow: auto;}#sk-container-id-3 input.sk-toggleable__control:checked~label.sk-toggleable__label-arrow:before {content: \"▾\";}#sk-container-id-3 div.sk-estimator input.sk-toggleable__control:checked~label.sk-toggleable__label {background-color: #d4ebff;}#sk-container-id-3 div.sk-label input.sk-toggleable__control:checked~label.sk-toggleable__label {background-color: #d4ebff;}#sk-container-id-3 input.sk-hidden--visually {border: 0;clip: rect(1px 1px 1px 1px);clip: rect(1px, 1px, 1px, 1px);height: 1px;margin: -1px;overflow: hidden;padding: 0;position: absolute;width: 1px;}#sk-container-id-3 div.sk-estimator {font-family: monospace;background-color: #f0f8ff;border: 1px dotted black;border-radius: 0.25em;box-sizing: border-box;margin-bottom: 0.5em;}#sk-container-id-3 div.sk-estimator:hover {background-color: #d4ebff;}#sk-container-id-3 div.sk-parallel-item::after {content: \"\";width: 100%;border-bottom: 1px solid gray;flex-grow: 1;}#sk-container-id-3 div.sk-label:hover label.sk-toggleable__label {background-color: #d4ebff;}#sk-container-id-3 div.sk-serial::before {content: \"\";position: absolute;border-left: 1px solid gray;box-sizing: border-box;top: 0;bottom: 0;left: 50%;z-index: 0;}#sk-container-id-3 div.sk-serial {display: flex;flex-direction: column;align-items: center;background-color: white;padding-right: 0.2em;padding-left: 0.2em;position: relative;}#sk-container-id-3 div.sk-item {position: relative;z-index: 1;}#sk-container-id-3 div.sk-parallel {display: flex;align-items: stretch;justify-content: center;background-color: white;position: relative;}#sk-container-id-3 div.sk-item::before, #sk-container-id-3 div.sk-parallel-item::before {content: \"\";position: absolute;border-left: 1px solid gray;box-sizing: border-box;top: 0;bottom: 0;left: 50%;z-index: -1;}#sk-container-id-3 div.sk-parallel-item {display: flex;flex-direction: column;z-index: 1;position: relative;background-color: white;}#sk-container-id-3 div.sk-parallel-item:first-child::after {align-self: flex-end;width: 50%;}#sk-container-id-3 div.sk-parallel-item:last-child::after {align-self: flex-start;width: 50%;}#sk-container-id-3 div.sk-parallel-item:only-child::after {width: 0;}#sk-container-id-3 div.sk-dashed-wrapped {border: 1px dashed gray;margin: 0 0.4em 0.5em 0.4em;box-sizing: border-box;padding-bottom: 0.4em;background-color: white;}#sk-container-id-3 div.sk-label label {font-family: monospace;font-weight: bold;display: inline-block;line-height: 1.2em;}#sk-container-id-3 div.sk-label-container {text-align: center;}#sk-container-id-3 div.sk-container {/* jupyter's `normalize.less` sets `[hidden] { display: none; }` but bootstrap.min.css set `[hidden] { display: none !important; }` so we also need the `!important` here to be able to override the default hidden behavior on the sphinx rendered scikit-learn.org. See: https://github.com/scikit-learn/scikit-learn/issues/21755 */display: inline-block !important;position: relative;}#sk-container-id-3 div.sk-text-repr-fallback {display: none;}</style><div id=\"sk-container-id-3\" class=\"sk-top-container\"><div class=\"sk-text-repr-fallback\"><pre>GridSearchCV(cv=5, estimator=DecisionTreeClassifier(),\n",
              "             param_grid={&#x27;ccp_alpha&#x27;: [1, 2, 3, 4, 5, 6, 7],\n",
              "                         &#x27;criterion&#x27;: [&#x27;gini&#x27;, &#x27;entropy&#x27;, &#x27;log_loss&#x27;],\n",
              "                         &#x27;max_depth&#x27;: [1, 2, 3, 4, 5],\n",
              "                         &#x27;max_features&#x27;: [&#x27;auto&#x27;, &#x27;sqrt&#x27;, &#x27;log2&#x27;],\n",
              "                         &#x27;splitter&#x27;: [&#x27;best&#x27;, &#x27;random&#x27;]},\n",
              "             scoring=&#x27;accuracy&#x27;)</pre><b>In a Jupyter environment, please rerun this cell to show the HTML representation or trust the notebook. <br />On GitHub, the HTML representation is unable to render, please try loading this page with nbviewer.org.</b></div><div class=\"sk-container\" hidden><div class=\"sk-item sk-dashed-wrapped\"><div class=\"sk-label-container\"><div class=\"sk-label sk-toggleable\"><input class=\"sk-toggleable__control sk-hidden--visually\" id=\"sk-estimator-id-5\" type=\"checkbox\" ><label for=\"sk-estimator-id-5\" class=\"sk-toggleable__label sk-toggleable__label-arrow\">GridSearchCV</label><div class=\"sk-toggleable__content\"><pre>GridSearchCV(cv=5, estimator=DecisionTreeClassifier(),\n",
              "             param_grid={&#x27;ccp_alpha&#x27;: [1, 2, 3, 4, 5, 6, 7],\n",
              "                         &#x27;criterion&#x27;: [&#x27;gini&#x27;, &#x27;entropy&#x27;, &#x27;log_loss&#x27;],\n",
              "                         &#x27;max_depth&#x27;: [1, 2, 3, 4, 5],\n",
              "                         &#x27;max_features&#x27;: [&#x27;auto&#x27;, &#x27;sqrt&#x27;, &#x27;log2&#x27;],\n",
              "                         &#x27;splitter&#x27;: [&#x27;best&#x27;, &#x27;random&#x27;]},\n",
              "             scoring=&#x27;accuracy&#x27;)</pre></div></div></div><div class=\"sk-parallel\"><div class=\"sk-parallel-item\"><div class=\"sk-item\"><div class=\"sk-label-container\"><div class=\"sk-label sk-toggleable\"><input class=\"sk-toggleable__control sk-hidden--visually\" id=\"sk-estimator-id-6\" type=\"checkbox\" ><label for=\"sk-estimator-id-6\" class=\"sk-toggleable__label sk-toggleable__label-arrow\">estimator: DecisionTreeClassifier</label><div class=\"sk-toggleable__content\"><pre>DecisionTreeClassifier()</pre></div></div></div><div class=\"sk-serial\"><div class=\"sk-item\"><div class=\"sk-estimator sk-toggleable\"><input class=\"sk-toggleable__control sk-hidden--visually\" id=\"sk-estimator-id-7\" type=\"checkbox\" ><label for=\"sk-estimator-id-7\" class=\"sk-toggleable__label sk-toggleable__label-arrow\">DecisionTreeClassifier</label><div class=\"sk-toggleable__content\"><pre>DecisionTreeClassifier()</pre></div></div></div></div></div></div></div></div></div></div>"
            ]
          },
          "metadata": {},
          "execution_count": 83
        }
      ]
    },
    {
      "cell_type": "code",
      "source": [
        "print(Classfier_dtc.best_params_)"
      ],
      "metadata": {
        "colab": {
          "base_uri": "https://localhost:8080/"
        },
        "id": "AwVzo6NSsAL7",
        "outputId": "851838a6-a027-4dcf-ad20-caf3a933fa17"
      },
      "execution_count": null,
      "outputs": [
        {
          "output_type": "stream",
          "name": "stdout",
          "text": [
            "{'ccp_alpha': 1, 'criterion': 'gini', 'max_depth': 1, 'max_features': 'auto', 'splitter': 'best'}\n"
          ]
        }
      ]
    },
    {
      "cell_type": "code",
      "source": [
        "print(Classfier_dtc.best_score_)"
      ],
      "metadata": {
        "colab": {
          "base_uri": "https://localhost:8080/"
        },
        "id": "nDf8x4wdsrbL",
        "outputId": "deff4636-fcba-44d2-b378-ee9109a979c9"
      },
      "execution_count": null,
      "outputs": [
        {
          "output_type": "stream",
          "name": "stdout",
          "text": [
            "0.8902665755297334\n"
          ]
        }
      ]
    },
    {
      "cell_type": "code",
      "source": [
        "y_pred_tune_dtc = Classfier_dtc.predict(X_test)"
      ],
      "metadata": {
        "id": "5dYyHfTKsrXx"
      },
      "execution_count": null,
      "outputs": []
    },
    {
      "cell_type": "code",
      "source": [
        "dec_tree_tune = accuracy_score(y_pred_tune_dtc, y_test)*100\n",
        "accuracy_score(y_pred_tune_dtc, y_test)*100"
      ],
      "metadata": {
        "colab": {
          "base_uri": "https://localhost:8080/"
        },
        "id": "iN5RnoqvsrUj",
        "outputId": "d8403613-0095-458f-c769-636264df72dd"
      },
      "execution_count": null,
      "outputs": [
        {
          "output_type": "execute_result",
          "data": {
            "text/plain": [
              "89.42857142857143"
            ]
          },
          "metadata": {},
          "execution_count": 87
        }
      ]
    },
    {
      "cell_type": "code",
      "source": [
        "print(classification_report(y_pred_tune_dtc, y_test))"
      ],
      "metadata": {
        "colab": {
          "base_uri": "https://localhost:8080/"
        },
        "id": "hxXrnxpeszqV",
        "outputId": "315a3b93-9dea-4625-c126-ccfb4b08de62"
      },
      "execution_count": null,
      "outputs": [
        {
          "output_type": "stream",
          "name": "stdout",
          "text": [
            "              precision    recall  f1-score   support\n",
            "\n",
            "           0       1.00      0.89      0.94       350\n",
            "           1       0.00      0.00      0.00         0\n",
            "\n",
            "    accuracy                           0.89       350\n",
            "   macro avg       0.50      0.45      0.47       350\n",
            "weighted avg       1.00      0.89      0.94       350\n",
            "\n"
          ]
        }
      ]
    },
    {
      "cell_type": "markdown",
      "source": [
        "###KNN"
      ],
      "metadata": {
        "id": "nrbBNH95pEvT"
      }
    },
    {
      "cell_type": "code",
      "source": [
        "from sklearn.neighbors import KNeighborsClassifier\n",
        "knn = KNeighborsClassifier()\n",
        "knn.fit(X_train,y_train)\n",
        "y_pred_knn = knn.predict(X_test)\n",
        "knn_untune = accuracy_score(y_pred_knn, y_test)*100\n",
        "accuracy_score(y_pred_knn, y_test)*100"
      ],
      "metadata": {
        "colab": {
          "base_uri": "https://localhost:8080/"
        },
        "id": "oHp0WJJoo-0M",
        "outputId": "333c10a1-9fa2-4e14-9689-612e3cde776e"
      },
      "execution_count": null,
      "outputs": [
        {
          "output_type": "execute_result",
          "data": {
            "text/plain": [
              "90.0"
            ]
          },
          "metadata": {},
          "execution_count": 89
        }
      ]
    },
    {
      "cell_type": "code",
      "source": [
        "sns.distplot(y_test - y_pred_knn)"
      ],
      "metadata": {
        "colab": {
          "base_uri": "https://localhost:8080/"
        },
        "id": "MBXJqPDfJwoC",
        "outputId": "83f52983-46b5-4674-e085-6a17bd032d37"
      },
      "execution_count": null,
      "outputs": [
        {
          "output_type": "execute_result",
          "data": {
            "text/plain": [
              "<AxesSubplot:xlabel='label', ylabel='Density'>"
            ]
          },
          "metadata": {},
          "execution_count": 90
        },
        {
          "output_type": "display_data",
          "data": {
            "text/plain": [
              "<Figure size 432x288 with 1 Axes>"
            ],
            "image/png": "[encoded data removed]"
          },
          "metadata": {
            "needs_background": "light"
          }
        }
      ]
    },
    {
      "cell_type": "markdown",
      "source": [
        "#####Hyper Parameter Tuning for KNN"
      ],
      "metadata": {
        "id": "QglT7jL6J_LV"
      }
    },
    {
      "cell_type": "code",
      "source": [
        "from sklearn.model_selection import GridSearchCV\n",
        "parameter_knn = {\"n_neighbors\" : list(np.arange(1,30,1)),\n",
        "                 \"weights\" : [\"uniform\", \"distance\"],\n",
        "                 \"algorithm\" : [\"auto\", \"ball_tree\", \"kd_tree\", \"brute\"]}\n",
        "Classfier_knn = GridSearchCV(knn,param_grid=parameter_knn, scoring=\"accuracy\", cv=5)"
      ],
      "metadata": {
        "id": "CHqvgNG6tSQ0"
      },
      "execution_count": null,
      "outputs": []
    },
    {
      "cell_type": "code",
      "source": [
        "Classfier_knn.fit(X_train, y_train)"
      ],
      "metadata": {
        "colab": {
          "base_uri": "https://localhost:8080/"
        },
        "id": "qnSm5OuhtSNc",
        "outputId": "16cb488a-8f26-417a-afbe-43e90df3959c"
      },
      "execution_count": null,
      "outputs": [
        {
          "output_type": "execute_result",
          "data": {
            "text/plain": [
              "GridSearchCV(cv=5, estimator=KNeighborsClassifier(),\n",
              "             param_grid={'algorithm': ['auto', 'ball_tree', 'kd_tree', 'brute'],\n",
              "                         'n_neighbors': [1, 2, 3, 4, 5, 6, 7, 8, 9, 10, 11, 12,\n",
              "                                         13, 14, 15, 16, 17, 18, 19, 20, 21, 22,\n",
              "                                         23, 24, 25, 26, 27, 28, 29],\n",
              "                         'weights': ['uniform', 'distance']},\n",
              "             scoring='accuracy')"
            ],
            "text/html": [
              "<style>#sk-container-id-4 {color: black;background-color: white;}#sk-container-id-4 pre{padding: 0;}#sk-container-id-4 div.sk-toggleable {background-color: white;}#sk-container-id-4 label.sk-toggleable__label {cursor: pointer;display: block;width: 100%;margin-bottom: 0;padding: 0.3em;box-sizing: border-box;text-align: center;}#sk-container-id-4 label.sk-toggleable__label-arrow:before {content: \"▸\";float: left;margin-right: 0.25em;color: #696969;}#sk-container-id-4 label.sk-toggleable__label-arrow:hover:before {color: black;}#sk-container-id-4 div.sk-estimator:hover label.sk-toggleable__label-arrow:before {color: black;}#sk-container-id-4 div.sk-toggleable__content {max-height: 0;max-width: 0;overflow: hidden;text-align: left;background-color: #f0f8ff;}#sk-container-id-4 div.sk-toggleable__content pre {margin: 0.2em;color: black;border-radius: 0.25em;background-color: #f0f8ff;}#sk-container-id-4 input.sk-toggleable__control:checked~div.sk-toggleable__content {max-height: 200px;max-width: 100%;overflow: auto;}#sk-container-id-4 input.sk-toggleable__control:checked~label.sk-toggleable__label-arrow:before {content: \"▾\";}#sk-container-id-4 div.sk-estimator input.sk-toggleable__control:checked~label.sk-toggleable__label {background-color: #d4ebff;}#sk-container-id-4 div.sk-label input.sk-toggleable__control:checked~label.sk-toggleable__label {background-color: #d4ebff;}#sk-container-id-4 input.sk-hidden--visually {border: 0;clip: rect(1px 1px 1px 1px);clip: rect(1px, 1px, 1px, 1px);height: 1px;margin: -1px;overflow: hidden;padding: 0;position: absolute;width: 1px;}#sk-container-id-4 div.sk-estimator {font-family: monospace;background-color: #f0f8ff;border: 1px dotted black;border-radius: 0.25em;box-sizing: border-box;margin-bottom: 0.5em;}#sk-container-id-4 div.sk-estimator:hover {background-color: #d4ebff;}#sk-container-id-4 div.sk-parallel-item::after {content: \"\";width: 100%;border-bottom: 1px solid gray;flex-grow: 1;}#sk-container-id-4 div.sk-label:hover label.sk-toggleable__label {background-color: #d4ebff;}#sk-container-id-4 div.sk-serial::before {content: \"\";position: absolute;border-left: 1px solid gray;box-sizing: border-box;top: 0;bottom: 0;left: 50%;z-index: 0;}#sk-container-id-4 div.sk-serial {display: flex;flex-direction: column;align-items: center;background-color: white;padding-right: 0.2em;padding-left: 0.2em;position: relative;}#sk-container-id-4 div.sk-item {position: relative;z-index: 1;}#sk-container-id-4 div.sk-parallel {display: flex;align-items: stretch;justify-content: center;background-color: white;position: relative;}#sk-container-id-4 div.sk-item::before, #sk-container-id-4 div.sk-parallel-item::before {content: \"\";position: absolute;border-left: 1px solid gray;box-sizing: border-box;top: 0;bottom: 0;left: 50%;z-index: -1;}#sk-container-id-4 div.sk-parallel-item {display: flex;flex-direction: column;z-index: 1;position: relative;background-color: white;}#sk-container-id-4 div.sk-parallel-item:first-child::after {align-self: flex-end;width: 50%;}#sk-container-id-4 div.sk-parallel-item:last-child::after {align-self: flex-start;width: 50%;}#sk-container-id-4 div.sk-parallel-item:only-child::after {width: 0;}#sk-container-id-4 div.sk-dashed-wrapped {border: 1px dashed gray;margin: 0 0.4em 0.5em 0.4em;box-sizing: border-box;padding-bottom: 0.4em;background-color: white;}#sk-container-id-4 div.sk-label label {font-family: monospace;font-weight: bold;display: inline-block;line-height: 1.2em;}#sk-container-id-4 div.sk-label-container {text-align: center;}#sk-container-id-4 div.sk-container {/* jupyter's `normalize.less` sets `[hidden] { display: none; }` but bootstrap.min.css set `[hidden] { display: none !important; }` so we also need the `!important` here to be able to override the default hidden behavior on the sphinx rendered scikit-learn.org. See: https://github.com/scikit-learn/scikit-learn/issues/21755 */display: inline-block !important;position: relative;}#sk-container-id-4 div.sk-text-repr-fallback {display: none;}</style><div id=\"sk-container-id-4\" class=\"sk-top-container\"><div class=\"sk-text-repr-fallback\"><pre>GridSearchCV(cv=5, estimator=KNeighborsClassifier(),\n",
              "             param_grid={&#x27;algorithm&#x27;: [&#x27;auto&#x27;, &#x27;ball_tree&#x27;, &#x27;kd_tree&#x27;, &#x27;brute&#x27;],\n",
              "                         &#x27;n_neighbors&#x27;: [1, 2, 3, 4, 5, 6, 7, 8, 9, 10, 11, 12,\n",
              "                                         13, 14, 15, 16, 17, 18, 19, 20, 21, 22,\n",
              "                                         23, 24, 25, 26, 27, 28, 29],\n",
              "                         &#x27;weights&#x27;: [&#x27;uniform&#x27;, &#x27;distance&#x27;]},\n",
              "             scoring=&#x27;accuracy&#x27;)</pre><b>In a Jupyter environment, please rerun this cell to show the HTML representation or trust the notebook. <br />On GitHub, the HTML representation is unable to render, please try loading this page with nbviewer.org.</b></div><div class=\"sk-container\" hidden><div class=\"sk-item sk-dashed-wrapped\"><div class=\"sk-label-container\"><div class=\"sk-label sk-toggleable\"><input class=\"sk-toggleable__control sk-hidden--visually\" id=\"sk-estimator-id-8\" type=\"checkbox\" ><label for=\"sk-estimator-id-8\" class=\"sk-toggleable__label sk-toggleable__label-arrow\">GridSearchCV</label><div class=\"sk-toggleable__content\"><pre>GridSearchCV(cv=5, estimator=KNeighborsClassifier(),\n",
              "             param_grid={&#x27;algorithm&#x27;: [&#x27;auto&#x27;, &#x27;ball_tree&#x27;, &#x27;kd_tree&#x27;, &#x27;brute&#x27;],\n",
              "                         &#x27;n_neighbors&#x27;: [1, 2, 3, 4, 5, 6, 7, 8, 9, 10, 11, 12,\n",
              "                                         13, 14, 15, 16, 17, 18, 19, 20, 21, 22,\n",
              "                                         23, 24, 25, 26, 27, 28, 29],\n",
              "                         &#x27;weights&#x27;: [&#x27;uniform&#x27;, &#x27;distance&#x27;]},\n",
              "             scoring=&#x27;accuracy&#x27;)</pre></div></div></div><div class=\"sk-parallel\"><div class=\"sk-parallel-item\"><div class=\"sk-item\"><div class=\"sk-label-container\"><div class=\"sk-label sk-toggleable\"><input class=\"sk-toggleable__control sk-hidden--visually\" id=\"sk-estimator-id-9\" type=\"checkbox\" ><label for=\"sk-estimator-id-9\" class=\"sk-toggleable__label sk-toggleable__label-arrow\">estimator: KNeighborsClassifier</label><div class=\"sk-toggleable__content\"><pre>KNeighborsClassifier()</pre></div></div></div><div class=\"sk-serial\"><div class=\"sk-item\"><div class=\"sk-estimator sk-toggleable\"><input class=\"sk-toggleable__control sk-hidden--visually\" id=\"sk-estimator-id-10\" type=\"checkbox\" ><label for=\"sk-estimator-id-10\" class=\"sk-toggleable__label sk-toggleable__label-arrow\">KNeighborsClassifier</label><div class=\"sk-toggleable__content\"><pre>KNeighborsClassifier()</pre></div></div></div></div></div></div></div></div></div></div>"
            ]
          },
          "metadata": {},
          "execution_count": 92
        }
      ]
    },
    {
      "cell_type": "code",
      "source": [
        "print(Classfier_knn.best_params_)"
      ],
      "metadata": {
        "colab": {
          "base_uri": "https://localhost:8080/"
        },
        "id": "2ZMhS04YtSLP",
        "outputId": "0b19d342-2954-43c2-cb30-c18f8647ec08"
      },
      "execution_count": null,
      "outputs": [
        {
          "output_type": "stream",
          "name": "stdout",
          "text": [
            "{'algorithm': 'auto', 'n_neighbors': 22, 'weights': 'distance'}\n"
          ]
        }
      ]
    },
    {
      "cell_type": "code",
      "source": [
        "print(Classfier_knn.best_score_)"
      ],
      "metadata": {
        "colab": {
          "base_uri": "https://localhost:8080/"
        },
        "id": "gCAy7Zf2tSH0",
        "outputId": "7ff41fbd-bb57-473c-89ef-ef500e6aa1bc"
      },
      "execution_count": null,
      "outputs": [
        {
          "output_type": "stream",
          "name": "stdout",
          "text": [
            "0.9217543859649122\n"
          ]
        }
      ]
    },
    {
      "cell_type": "code",
      "source": [
        "y_pred_tune_knn = Classfier_knn.predict(X_test)"
      ],
      "metadata": {
        "id": "5eGCbiKAtSFh"
      },
      "execution_count": null,
      "outputs": []
    },
    {
      "cell_type": "code",
      "source": [
        "knn_tune = accuracy_score(y_pred_tune_knn, y_test)*100\n",
        "accuracy_score(y_pred_tune_knn, y_test)*100"
      ],
      "metadata": {
        "colab": {
          "base_uri": "https://localhost:8080/"
        },
        "id": "kuhAqHMTtSEe",
        "outputId": "49d47aab-2b0f-4175-b98f-99c718b5f351"
      },
      "execution_count": null,
      "outputs": [
        {
          "output_type": "execute_result",
          "data": {
            "text/plain": [
              "92.28571428571428"
            ]
          },
          "metadata": {},
          "execution_count": 96
        }
      ]
    },
    {
      "cell_type": "code",
      "source": [
        "print(classification_report(y_pred_tune_knn, y_test))"
      ],
      "metadata": {
        "colab": {
          "base_uri": "https://localhost:8080/"
        },
        "id": "BWcHkA4UtSB_",
        "outputId": "5dfa25df-6f16-456d-dda7-2bb48d7e4827"
      },
      "execution_count": null,
      "outputs": [
        {
          "output_type": "stream",
          "name": "stdout",
          "text": [
            "              precision    recall  f1-score   support\n",
            "\n",
            "           0       1.00      0.92      0.96       338\n",
            "           1       0.30      0.92      0.45        12\n",
            "\n",
            "    accuracy                           0.92       350\n",
            "   macro avg       0.65      0.92      0.70       350\n",
            "weighted avg       0.97      0.92      0.94       350\n",
            "\n"
          ]
        }
      ]
    },
    {
      "cell_type": "markdown",
      "source": [
        "###Random Forest Classifier"
      ],
      "metadata": {
        "id": "uhxoRW-qpTwn"
      }
    },
    {
      "cell_type": "code",
      "source": [
        "from sklearn.ensemble import RandomForestClassifier\n",
        "random_forest = RandomForestClassifier()\n",
        "random_forest.fit(X_train,y_train)\n",
        "y_pred_rfc = random_forest.predict(X_test)\n",
        "random_forest_untune = accuracy_score(y_pred_rfc, y_test)*100\n",
        "accuracy_score(y_pred_rfc, y_test)*100"
      ],
      "metadata": {
        "colab": {
          "base_uri": "https://localhost:8080/"
        },
        "id": "L0drAF7to-2v",
        "outputId": "220891cd-758c-4647-8ea0-cf13033f4551"
      },
      "execution_count": null,
      "outputs": [
        {
          "output_type": "execute_result",
          "data": {
            "text/plain": [
              "92.0"
            ]
          },
          "metadata": {},
          "execution_count": 98
        }
      ]
    },
    {
      "cell_type": "code",
      "source": [
        "sns.distplot(y_test - y_pred_rfc)"
      ],
      "metadata": {
        "colab": {
          "base_uri": "https://localhost:8080/"
        },
        "id": "vmrtDch7J-Uf",
        "outputId": "60031857-68ba-41a0-b066-7bb74cc19850"
      },
      "execution_count": null,
      "outputs": [
        {
          "output_type": "execute_result",
          "data": {
            "text/plain": [
              "<AxesSubplot:xlabel='label', ylabel='Density'>"
            ]
          },
          "metadata": {},
          "execution_count": 99
        },
        {
          "output_type": "display_data",
          "data": {
            "text/plain": [
              "<Figure size 432x288 with 1 Axes>"
            ],
            "image/png": "[encoded data removed]"
          },
          "metadata": {
            "needs_background": "light"
          }
        }
      ]
    },
    {
      "cell_type": "markdown",
      "source": [
        "#####Hyper Parameter Tuning for Random Forest Classifier"
      ],
      "metadata": {
        "id": "3xg7bJb0KRwS"
      }
    },
    {
      "cell_type": "code",
      "source": [
        "from sklearn.model_selection import GridSearchCV\n",
        "parameter_rfc = {\"n_estimators\" : list(np.arange(10,15,1)),\n",
        "                 \"criterion\" : [\"gini\", \"entropy\", \"log_loss\"],\n",
        "                 \"max_depth\" : list(np.arange(0,14))}\n",
        "Classfier_rfc = GridSearchCV(random_forest,param_grid=parameter_rfc, scoring=\"accuracy\", cv=5)"
      ],
      "metadata": {
        "id": "KgaoyMOSweJQ"
      },
      "execution_count": null,
      "outputs": []
    },
    {
      "cell_type": "code",
      "source": [
        "Classfier_rfc.fit(X_train, y_train)"
      ],
      "metadata": {
        "colab": {
          "base_uri": "https://localhost:8080/"
        },
        "id": "j-kIoHeuweDS",
        "outputId": "ecf87caa-e3b9-4467-a2d8-2b990ddf12f8"
      },
      "execution_count": null,
      "outputs": [
        {
          "output_type": "execute_result",
          "data": {
            "text/plain": [
              "GridSearchCV(cv=5, estimator=RandomForestClassifier(),\n",
              "             param_grid={'criterion': ['gini', 'entropy', 'log_loss'],\n",
              "                         'max_depth': [0, 1, 2, 3, 4, 5, 6, 7, 8, 9, 10, 11, 12,\n",
              "                                       13],\n",
              "                         'n_estimators': [10, 11, 12, 13, 14]},\n",
              "             scoring='accuracy')"
            ],
            "text/html": [
              "<style>#sk-container-id-5 {color: black;background-color: white;}#sk-container-id-5 pre{padding: 0;}#sk-container-id-5 div.sk-toggleable {background-color: white;}#sk-container-id-5 label.sk-toggleable__label {cursor: pointer;display: block;width: 100%;margin-bottom: 0;padding: 0.3em;box-sizing: border-box;text-align: center;}#sk-container-id-5 label.sk-toggleable__label-arrow:before {content: \"▸\";float: left;margin-right: 0.25em;color: #696969;}#sk-container-id-5 label.sk-toggleable__label-arrow:hover:before {color: black;}#sk-container-id-5 div.sk-estimator:hover label.sk-toggleable__label-arrow:before {color: black;}#sk-container-id-5 div.sk-toggleable__content {max-height: 0;max-width: 0;overflow: hidden;text-align: left;background-color: #f0f8ff;}#sk-container-id-5 div.sk-toggleable__content pre {margin: 0.2em;color: black;border-radius: 0.25em;background-color: #f0f8ff;}#sk-container-id-5 input.sk-toggleable__control:checked~div.sk-toggleable__content {max-height: 200px;max-width: 100%;overflow: auto;}#sk-container-id-5 input.sk-toggleable__control:checked~label.sk-toggleable__label-arrow:before {content: \"▾\";}#sk-container-id-5 div.sk-estimator input.sk-toggleable__control:checked~label.sk-toggleable__label {background-color: #d4ebff;}#sk-container-id-5 div.sk-label input.sk-toggleable__control:checked~label.sk-toggleable__label {background-color: #d4ebff;}#sk-container-id-5 input.sk-hidden--visually {border: 0;clip: rect(1px 1px 1px 1px);clip: rect(1px, 1px, 1px, 1px);height: 1px;margin: -1px;overflow: hidden;padding: 0;position: absolute;width: 1px;}#sk-container-id-5 div.sk-estimator {font-family: monospace;background-color: #f0f8ff;border: 1px dotted black;border-radius: 0.25em;box-sizing: border-box;margin-bottom: 0.5em;}#sk-container-id-5 div.sk-estimator:hover {background-color: #d4ebff;}#sk-container-id-5 div.sk-parallel-item::after {content: \"\";width: 100%;border-bottom: 1px solid gray;flex-grow: 1;}#sk-container-id-5 div.sk-label:hover label.sk-toggleable__label {background-color: #d4ebff;}#sk-container-id-5 div.sk-serial::before {content: \"\";position: absolute;border-left: 1px solid gray;box-sizing: border-box;top: 0;bottom: 0;left: 50%;z-index: 0;}#sk-container-id-5 div.sk-serial {display: flex;flex-direction: column;align-items: center;background-color: white;padding-right: 0.2em;padding-left: 0.2em;position: relative;}#sk-container-id-5 div.sk-item {position: relative;z-index: 1;}#sk-container-id-5 div.sk-parallel {display: flex;align-items: stretch;justify-content: center;background-color: white;position: relative;}#sk-container-id-5 div.sk-item::before, #sk-container-id-5 div.sk-parallel-item::before {content: \"\";position: absolute;border-left: 1px solid gray;box-sizing: border-box;top: 0;bottom: 0;left: 50%;z-index: -1;}#sk-container-id-5 div.sk-parallel-item {display: flex;flex-direction: column;z-index: 1;position: relative;background-color: white;}#sk-container-id-5 div.sk-parallel-item:first-child::after {align-self: flex-end;width: 50%;}#sk-container-id-5 div.sk-parallel-item:last-child::after {align-self: flex-start;width: 50%;}#sk-container-id-5 div.sk-parallel-item:only-child::after {width: 0;}#sk-container-id-5 div.sk-dashed-wrapped {border: 1px dashed gray;margin: 0 0.4em 0.5em 0.4em;box-sizing: border-box;padding-bottom: 0.4em;background-color: white;}#sk-container-id-5 div.sk-label label {font-family: monospace;font-weight: bold;display: inline-block;line-height: 1.2em;}#sk-container-id-5 div.sk-label-container {text-align: center;}#sk-container-id-5 div.sk-container {/* jupyter's `normalize.less` sets `[hidden] { display: none; }` but bootstrap.min.css set `[hidden] { display: none !important; }` so we also need the `!important` here to be able to override the default hidden behavior on the sphinx rendered scikit-learn.org. See: https://github.com/scikit-learn/scikit-learn/issues/21755 */display: inline-block !important;position: relative;}#sk-container-id-5 div.sk-text-repr-fallback {display: none;}</style><div id=\"sk-container-id-5\" class=\"sk-top-container\"><div class=\"sk-text-repr-fallback\"><pre>GridSearchCV(cv=5, estimator=RandomForestClassifier(),\n",
              "             param_grid={&#x27;criterion&#x27;: [&#x27;gini&#x27;, &#x27;entropy&#x27;, &#x27;log_loss&#x27;],\n",
              "                         &#x27;max_depth&#x27;: [0, 1, 2, 3, 4, 5, 6, 7, 8, 9, 10, 11, 12,\n",
              "                                       13],\n",
              "                         &#x27;n_estimators&#x27;: [10, 11, 12, 13, 14]},\n",
              "             scoring=&#x27;accuracy&#x27;)</pre><b>In a Jupyter environment, please rerun this cell to show the HTML representation or trust the notebook. <br />On GitHub, the HTML representation is unable to render, please try loading this page with nbviewer.org.</b></div><div class=\"sk-container\" hidden><div class=\"sk-item sk-dashed-wrapped\"><div class=\"sk-label-container\"><div class=\"sk-label sk-toggleable\"><input class=\"sk-toggleable__control sk-hidden--visually\" id=\"sk-estimator-id-11\" type=\"checkbox\" ><label for=\"sk-estimator-id-11\" class=\"sk-toggleable__label sk-toggleable__label-arrow\">GridSearchCV</label><div class=\"sk-toggleable__content\"><pre>GridSearchCV(cv=5, estimator=RandomForestClassifier(),\n",
              "             param_grid={&#x27;criterion&#x27;: [&#x27;gini&#x27;, &#x27;entropy&#x27;, &#x27;log_loss&#x27;],\n",
              "                         &#x27;max_depth&#x27;: [0, 1, 2, 3, 4, 5, 6, 7, 8, 9, 10, 11, 12,\n",
              "                                       13],\n",
              "                         &#x27;n_estimators&#x27;: [10, 11, 12, 13, 14]},\n",
              "             scoring=&#x27;accuracy&#x27;)</pre></div></div></div><div class=\"sk-parallel\"><div class=\"sk-parallel-item\"><div class=\"sk-item\"><div class=\"sk-label-container\"><div class=\"sk-label sk-toggleable\"><input class=\"sk-toggleable__control sk-hidden--visually\" id=\"sk-estimator-id-12\" type=\"checkbox\" ><label for=\"sk-estimator-id-12\" class=\"sk-toggleable__label sk-toggleable__label-arrow\">estimator: RandomForestClassifier</label><div class=\"sk-toggleable__content\"><pre>RandomForestClassifier()</pre></div></div></div><div class=\"sk-serial\"><div class=\"sk-item\"><div class=\"sk-estimator sk-toggleable\"><input class=\"sk-toggleable__control sk-hidden--visually\" id=\"sk-estimator-id-13\" type=\"checkbox\" ><label for=\"sk-estimator-id-13\" class=\"sk-toggleable__label sk-toggleable__label-arrow\">RandomForestClassifier</label><div class=\"sk-toggleable__content\"><pre>RandomForestClassifier()</pre></div></div></div></div></div></div></div></div></div></div>"
            ]
          },
          "metadata": {},
          "execution_count": 101
        }
      ]
    },
    {
      "cell_type": "code",
      "source": [
        "print(Classfier_rfc.best_params_)"
      ],
      "metadata": {
        "colab": {
          "base_uri": "https://localhost:8080/"
        },
        "id": "6mQ46JRCwd_3",
        "outputId": "daf9797c-3d14-408c-c2f8-1a2af942879f"
      },
      "execution_count": null,
      "outputs": [
        {
          "output_type": "stream",
          "name": "stdout",
          "text": [
            "{'criterion': 'log_loss', 'max_depth': 13, 'n_estimators': 14}\n"
          ]
        }
      ]
    },
    {
      "cell_type": "code",
      "source": [
        "print(Classfier_rfc.best_score_)"
      ],
      "metadata": {
        "colab": {
          "base_uri": "https://localhost:8080/"
        },
        "id": "HEFceHi_wd9T",
        "outputId": "1ffd8507-c232-4834-9dd3-2e4c52c99251"
      },
      "execution_count": null,
      "outputs": [
        {
          "output_type": "stream",
          "name": "stdout",
          "text": [
            "0.9141216678058784\n"
          ]
        }
      ]
    },
    {
      "cell_type": "code",
      "source": [
        "y_pred_tune_rfc = Classfier_rfc.predict(X_test)"
      ],
      "metadata": {
        "id": "KRwX1HO6wd6T"
      },
      "execution_count": null,
      "outputs": []
    },
    {
      "cell_type": "code",
      "source": [
        "random_forest_tune = accuracy_score(y_pred_tune_rfc, y_test)*100\n",
        "accuracy_score(y_pred_tune_rfc, y_test)*100"
      ],
      "metadata": {
        "colab": {
          "base_uri": "https://localhost:8080/"
        },
        "id": "LMUcKPB4wd2t",
        "outputId": "8aedef50-fb99-4b91-b906-59f08b2e00a0"
      },
      "execution_count": null,
      "outputs": [
        {
          "output_type": "execute_result",
          "data": {
            "text/plain": [
              "90.57142857142857"
            ]
          },
          "metadata": {},
          "execution_count": 105
        }
      ]
    },
    {
      "cell_type": "code",
      "source": [
        "print(classification_report(y_pred_tune_rfc, y_test))"
      ],
      "metadata": {
        "colab": {
          "base_uri": "https://localhost:8080/"
        },
        "id": "gsgVXEKDwdzW",
        "outputId": "4acfff82-4734-4413-97d9-2a5227965662"
      },
      "execution_count": null,
      "outputs": [
        {
          "output_type": "stream",
          "name": "stdout",
          "text": [
            "              precision    recall  f1-score   support\n",
            "\n",
            "           0       0.99      0.91      0.95       340\n",
            "           1       0.19      0.70      0.30        10\n",
            "\n",
            "    accuracy                           0.91       350\n",
            "   macro avg       0.59      0.81      0.62       350\n",
            "weighted avg       0.97      0.91      0.93       350\n",
            "\n"
          ]
        }
      ]
    },
    {
      "cell_type": "markdown",
      "source": [
        "###XGBoost"
      ],
      "metadata": {
        "id": "RY8BORdgpYrF"
      }
    },
    {
      "cell_type": "code",
      "source": [
        "from sklearn.ensemble import GradientBoostingClassifier\n",
        "grad_boost = GradientBoostingClassifier()\n",
        "grad_boost.fit(X_train,y_train)\n",
        "y_pred_gbc = grad_boost.predict(X_test)\n",
        "grad_boost_untune = accuracy_score(y_pred_gbc, y_test)*100\n",
        "accuracy_score(y_pred_gbc, y_test)*100"
      ],
      "metadata": {
        "colab": {
          "base_uri": "https://localhost:8080/"
        },
        "id": "lSwxnSGQo-6D",
        "outputId": "c3079e4c-557b-4870-b402-d5a8a21099f5"
      },
      "execution_count": null,
      "outputs": [
        {
          "output_type": "execute_result",
          "data": {
            "text/plain": [
              "87.71428571428571"
            ]
          },
          "metadata": {},
          "execution_count": 107
        }
      ]
    },
    {
      "cell_type": "code",
      "source": [
        "sns.distplot(y_test - y_pred_gbc)"
      ],
      "metadata": {
        "colab": {
          "base_uri": "https://localhost:8080/"
        },
        "id": "doBugwY0KC-9",
        "outputId": "9c78dd54-cca4-461c-b954-859ac6b6ed74"
      },
      "execution_count": null,
      "outputs": [
        {
          "output_type": "execute_result",
          "data": {
            "text/plain": [
              "<AxesSubplot:xlabel='label', ylabel='Density'>"
            ]
          },
          "metadata": {},
          "execution_count": 108
        },
        {
          "output_type": "display_data",
          "data": {
            "text/plain": [
              "<Figure size 432x288 with 1 Axes>"
            ],
            "image/png": "[encoded data removed]"
          },
          "metadata": {
            "needs_background": "light"
          }
        }
      ]
    },
    {
      "cell_type": "markdown",
      "source": [
        "###SVM"
      ],
      "metadata": {
        "id": "f9hGemvSpbiH"
      }
    },
    {
      "cell_type": "code",
      "source": [
        "from sklearn.svm import SVC\n",
        "svm = SVC()\n",
        "svm.fit(X_train,y_train)\n",
        "y_pred_svm = svm.predict(X_test)\n",
        "svm_untune = accuracy_score(y_pred_svm, y_test)*100\n",
        "accuracy_score(y_pred_svm, y_test)*100"
      ],
      "metadata": {
        "colab": {
          "base_uri": "https://localhost:8080/"
        },
        "id": "fpzV5b0mpPcV",
        "outputId": "d1bce5b1-cc92-45c5-f051-4ac98d04cf58"
      },
      "execution_count": null,
      "outputs": [
        {
          "output_type": "execute_result",
          "data": {
            "text/plain": [
              "89.42857142857143"
            ]
          },
          "metadata": {},
          "execution_count": 109
        }
      ]
    },
    {
      "cell_type": "code",
      "source": [
        "sns.distplot(y_test - y_pred_svm)"
      ],
      "metadata": {
        "colab": {
          "base_uri": "https://localhost:8080/",
          "height": 296
        },
        "id": "W5UZwXCYKdqd",
        "outputId": "6b2169b0-d9a6-42fd-8635-8511a6d5f75d"
      },
      "execution_count": null,
      "outputs": [
        {
          "output_type": "execute_result",
          "data": {
            "text/plain": [
              "<AxesSubplot:xlabel='label', ylabel='Density'>"
            ]
          },
          "metadata": {},
          "execution_count": 110
        },
        {
          "output_type": "display_data",
          "data": {
            "text/plain": [
              "<Figure size 432x288 with 1 Axes>"
            ],
            "image/png": "[encoded data removed]"
          },
          "metadata": {
            "needs_background": "light"
          }
        }
      ]
    },
    {
      "cell_type": "markdown",
      "source": [
        "#####Hyper Parameter Tuning for SVC"
      ],
      "metadata": {
        "id": "6VdhZSqYKj7w"
      }
    },
    {
      "cell_type": "code",
      "source": [
        "from sklearn.model_selection import GridSearchCV\n",
        "parameter_svm = {'C': [0.1, 1, 10, 100, 1000], \n",
        "              'gamma': [1, 0.1, 0.01, 0.001, 0.0001],\n",
        "              'kernel': ['rbf', 'poly', 'sigmoid']}\n",
        "Classfier_svm = GridSearchCV(svm,param_grid=parameter_svm,refit=True, verbose=2)"
      ],
      "metadata": {
        "id": "33XGX6P-pPY6"
      },
      "execution_count": null,
      "outputs": []
    },
    {
      "cell_type": "code",
      "source": [
        "Classfier_svm.fit(X_train, y_train)"
      ],
      "metadata": {
        "colab": {
          "base_uri": "https://localhost:8080/",
          "height": 1000
        },
        "id": "dY8yY_-H1-RQ",
        "outputId": "107d598b-91af-49b5-85ba-57dffdbf3823"
      },
      "execution_count": null,
      "outputs": [
        {
          "output_type": "stream",
          "name": "stdout",
          "text": [
            "Fitting 5 folds for each of 75 candidates, totalling 375 fits\n",
            "[CV] END .........................C=0.1, gamma=1, kernel=rbf; total time=   0.0s\n",
            "[CV] END .........................C=0.1, gamma=1, kernel=rbf; total time=   0.0s\n",
            "[CV] END .........................C=0.1, gamma=1, kernel=rbf; total time=   0.0s\n",
            "[CV] END .........................C=0.1, gamma=1, kernel=rbf; total time=   0.0s\n",
            "[CV] END .........................C=0.1, gamma=1, kernel=rbf; total time=   0.0s\n",
            "[CV] END ........................C=0.1, gamma=1, kernel=poly; total time=   0.1s\n",
            "[CV] END ........................C=0.1, gamma=1, kernel=poly; total time=   0.0s\n",
            "[CV] END ........................C=0.1, gamma=1, kernel=poly; total time=   0.1s\n",
            "[CV] END ........................C=0.1, gamma=1, kernel=poly; total time=   0.1s\n",
            "[CV] END ........................C=0.1, gamma=1, kernel=poly; total time=   0.1s\n",
            "[CV] END .....................C=0.1, gamma=1, kernel=sigmoid; total time=   0.0s\n",
            "[CV] END .....................C=0.1, gamma=1, kernel=sigmoid; total time=   0.0s\n",
            "[CV] END .....................C=0.1, gamma=1, kernel=sigmoid; total time=   0.0s\n",
            "[CV] END .....................C=0.1, gamma=1, kernel=sigmoid; total time=   0.0s\n",
            "[CV] END .....................C=0.1, gamma=1, kernel=sigmoid; total time=   0.0s\n",
            "[CV] END .......................C=0.1, gamma=0.1, kernel=rbf; total time=   0.0s\n",
            "[CV] END .......................C=0.1, gamma=0.1, kernel=rbf; total time=   0.0s\n",
            "[CV] END .......................C=0.1, gamma=0.1, kernel=rbf; total time=   0.0s\n",
            "[CV] END .......................C=0.1, gamma=0.1, kernel=rbf; total time=   0.0s\n",
            "[CV] END .......................C=0.1, gamma=0.1, kernel=rbf; total time=   0.0s\n",
            "[CV] END ......................C=0.1, gamma=0.1, kernel=poly; total time=   0.0s\n",
            "[CV] END ......................C=0.1, gamma=0.1, kernel=poly; total time=   0.0s\n",
            "[CV] END ......................C=0.1, gamma=0.1, kernel=poly; total time=   0.0s\n",
            "[CV] END ......................C=0.1, gamma=0.1, kernel=poly; total time=   0.0s\n",
            "[CV] END ......................C=0.1, gamma=0.1, kernel=poly; total time=   0.0s\n",
            "[CV] END ...................C=0.1, gamma=0.1, kernel=sigmoid; total time=   0.0s\n",
            "[CV] END ...................C=0.1, gamma=0.1, kernel=sigmoid; total time=   0.0s\n",
            "[CV] END ...................C=0.1, gamma=0.1, kernel=sigmoid; total time=   0.0s\n",
            "[CV] END ...................C=0.1, gamma=0.1, kernel=sigmoid; total time=   0.0s\n",
            "[CV] END ...................C=0.1, gamma=0.1, kernel=sigmoid; total time=   0.0s\n",
            "[CV] END ......................C=0.1, gamma=0.01, kernel=rbf; total time=   0.0s\n",
            "[CV] END ......................C=0.1, gamma=0.01, kernel=rbf; total time=   0.0s\n",
            "[CV] END ......................C=0.1, gamma=0.01, kernel=rbf; total time=   0.0s\n",
            "[CV] END ......................C=0.1, gamma=0.01, kernel=rbf; total time=   0.0s\n",
            "[CV] END ......................C=0.1, gamma=0.01, kernel=rbf; total time=   0.0s\n",
            "[CV] END .....................C=0.1, gamma=0.01, kernel=poly; total time=   0.0s\n",
            "[CV] END .....................C=0.1, gamma=0.01, kernel=poly; total time=   0.0s\n",
            "[CV] END .....................C=0.1, gamma=0.01, kernel=poly; total time=   0.0s\n",
            "[CV] END .....................C=0.1, gamma=0.01, kernel=poly; total time=   0.0s\n",
            "[CV] END .....................C=0.1, gamma=0.01, kernel=poly; total time=   0.0s\n",
            "[CV] END ..................C=0.1, gamma=0.01, kernel=sigmoid; total time=   0.0s\n",
            "[CV] END ..................C=0.1, gamma=0.01, kernel=sigmoid; total time=   0.0s\n",
            "[CV] END ..................C=0.1, gamma=0.01, kernel=sigmoid; total time=   0.0s\n",
            "[CV] END ..................C=0.1, gamma=0.01, kernel=sigmoid; total time=   0.0s\n",
            "[CV] END ..................C=0.1, gamma=0.01, kernel=sigmoid; total time=   0.0s\n",
            "[CV] END .....................C=0.1, gamma=0.001, kernel=rbf; total time=   0.0s\n",
            "[CV] END .....................C=0.1, gamma=0.001, kernel=rbf; total time=   0.0s\n",
            "[CV] END .....................C=0.1, gamma=0.001, kernel=rbf; total time=   0.0s\n",
            "[CV] END .....................C=0.1, gamma=0.001, kernel=rbf; total time=   0.0s\n",
            "[CV] END .....................C=0.1, gamma=0.001, kernel=rbf; total time=   0.0s\n",
            "[CV] END ....................C=0.1, gamma=0.001, kernel=poly; total time=   0.0s\n",
            "[CV] END ....................C=0.1, gamma=0.001, kernel=poly; total time=   0.0s\n",
            "[CV] END ....................C=0.1, gamma=0.001, kernel=poly; total time=   0.0s\n",
            "[CV] END ....................C=0.1, gamma=0.001, kernel=poly; total time=   0.0s\n",
            "[CV] END ....................C=0.1, gamma=0.001, kernel=poly; total time=   0.0s\n",
            "[CV] END .................C=0.1, gamma=0.001, kernel=sigmoid; total time=   0.0s\n",
            "[CV] END .................C=0.1, gamma=0.001, kernel=sigmoid; total time=   0.0s\n",
            "[CV] END .................C=0.1, gamma=0.001, kernel=sigmoid; total time=   0.0s\n",
            "[CV] END .................C=0.1, gamma=0.001, kernel=sigmoid; total time=   0.0s\n",
            "[CV] END .................C=0.1, gamma=0.001, kernel=sigmoid; total time=   0.0s\n",
            "[CV] END ....................C=0.1, gamma=0.0001, kernel=rbf; total time=   0.0s\n",
            "[CV] END ....................C=0.1, gamma=0.0001, kernel=rbf; total time=   0.0s\n",
            "[CV] END ....................C=0.1, gamma=0.0001, kernel=rbf; total time=   0.0s\n",
            "[CV] END ....................C=0.1, gamma=0.0001, kernel=rbf; total time=   0.0s\n",
            "[CV] END ....................C=0.1, gamma=0.0001, kernel=rbf; total time=   0.0s\n",
            "[CV] END ...................C=0.1, gamma=0.0001, kernel=poly; total time=   0.0s\n",
            "[CV] END ...................C=0.1, gamma=0.0001, kernel=poly; total time=   0.0s\n",
            "[CV] END ...................C=0.1, gamma=0.0001, kernel=poly; total time=   0.0s\n",
            "[CV] END ...................C=0.1, gamma=0.0001, kernel=poly; total time=   0.0s\n",
            "[CV] END ...................C=0.1, gamma=0.0001, kernel=poly; total time=   0.0s\n",
            "[CV] END ................C=0.1, gamma=0.0001, kernel=sigmoid; total time=   0.0s\n",
            "[CV] END ................C=0.1, gamma=0.0001, kernel=sigmoid; total time=   0.0s\n",
            "[CV] END ................C=0.1, gamma=0.0001, kernel=sigmoid; total time=   0.0s\n",
            "[CV] END ................C=0.1, gamma=0.0001, kernel=sigmoid; total time=   0.0s\n",
            "[CV] END ................C=0.1, gamma=0.0001, kernel=sigmoid; total time=   0.0s\n",
            "[CV] END ...........................C=1, gamma=1, kernel=rbf; total time=   0.0s\n",
            "[CV] END ...........................C=1, gamma=1, kernel=rbf; total time=   0.1s\n",
            "[CV] END ...........................C=1, gamma=1, kernel=rbf; total time=   0.1s\n",
            "[CV] END ...........................C=1, gamma=1, kernel=rbf; total time=   0.0s\n",
            "[CV] END ...........................C=1, gamma=1, kernel=rbf; total time=   0.0s\n",
            "[CV] END ..........................C=1, gamma=1, kernel=poly; total time=   0.2s\n",
            "[CV] END ..........................C=1, gamma=1, kernel=poly; total time=   0.1s\n",
            "[CV] END ..........................C=1, gamma=1, kernel=poly; total time=   0.1s\n",
            "[CV] END ..........................C=1, gamma=1, kernel=poly; total time=   0.2s\n",
            "[CV] END ..........................C=1, gamma=1, kernel=poly; total time=   0.1s\n",
            "[CV] END .......................C=1, gamma=1, kernel=sigmoid; total time=   0.0s\n",
            "[CV] END .......................C=1, gamma=1, kernel=sigmoid; total time=   0.0s\n",
            "[CV] END .......................C=1, gamma=1, kernel=sigmoid; total time=   0.0s\n",
            "[CV] END .......................C=1, gamma=1, kernel=sigmoid; total time=   0.0s\n",
            "[CV] END .......................C=1, gamma=1, kernel=sigmoid; total time=   0.0s\n",
            "[CV] END .........................C=1, gamma=0.1, kernel=rbf; total time=   0.0s\n",
            "[CV] END .........................C=1, gamma=0.1, kernel=rbf; total time=   0.0s\n",
            "[CV] END .........................C=1, gamma=0.1, kernel=rbf; total time=   0.0s\n",
            "[CV] END .........................C=1, gamma=0.1, kernel=rbf; total time=   0.0s\n",
            "[CV] END .........................C=1, gamma=0.1, kernel=rbf; total time=   0.0s\n",
            "[CV] END ........................C=1, gamma=0.1, kernel=poly; total time=   0.0s\n",
            "[CV] END ........................C=1, gamma=0.1, kernel=poly; total time=   0.0s\n",
            "[CV] END ........................C=1, gamma=0.1, kernel=poly; total time=   0.0s\n",
            "[CV] END ........................C=1, gamma=0.1, kernel=poly; total time=   0.0s\n",
            "[CV] END ........................C=1, gamma=0.1, kernel=poly; total time=   0.0s\n",
            "[CV] END .....................C=1, gamma=0.1, kernel=sigmoid; total time=   0.0s\n",
            "[CV] END .....................C=1, gamma=0.1, kernel=sigmoid; total time=   0.0s\n",
            "[CV] END .....................C=1, gamma=0.1, kernel=sigmoid; total time=   0.0s\n",
            "[CV] END .....................C=1, gamma=0.1, kernel=sigmoid; total time=   0.0s\n",
            "[CV] END .....................C=1, gamma=0.1, kernel=sigmoid; total time=   0.0s\n",
            "[CV] END ........................C=1, gamma=0.01, kernel=rbf; total time=   0.0s\n",
            "[CV] END ........................C=1, gamma=0.01, kernel=rbf; total time=   0.0s\n",
            "[CV] END ........................C=1, gamma=0.01, kernel=rbf; total time=   0.0s\n",
            "[CV] END ........................C=1, gamma=0.01, kernel=rbf; total time=   0.0s\n",
            "[CV] END ........................C=1, gamma=0.01, kernel=rbf; total time=   0.0s\n",
            "[CV] END .......................C=1, gamma=0.01, kernel=poly; total time=   0.0s\n",
            "[CV] END .......................C=1, gamma=0.01, kernel=poly; total time=   0.0s\n",
            "[CV] END .......................C=1, gamma=0.01, kernel=poly; total time=   0.0s\n",
            "[CV] END .......................C=1, gamma=0.01, kernel=poly; total time=   0.0s\n",
            "[CV] END .......................C=1, gamma=0.01, kernel=poly; total time=   0.0s\n",
            "[CV] END ....................C=1, gamma=0.01, kernel=sigmoid; total time=   0.0s\n",
            "[CV] END ....................C=1, gamma=0.01, kernel=sigmoid; total time=   0.0s\n",
            "[CV] END ....................C=1, gamma=0.01, kernel=sigmoid; total time=   0.0s\n",
            "[CV] END ....................C=1, gamma=0.01, kernel=sigmoid; total time=   0.0s\n",
            "[CV] END ....................C=1, gamma=0.01, kernel=sigmoid; total time=   0.0s\n",
            "[CV] END .......................C=1, gamma=0.001, kernel=rbf; total time=   0.0s\n",
            "[CV] END .......................C=1, gamma=0.001, kernel=rbf; total time=   0.0s\n",
            "[CV] END .......................C=1, gamma=0.001, kernel=rbf; total time=   0.0s\n",
            "[CV] END .......................C=1, gamma=0.001, kernel=rbf; total time=   0.0s\n",
            "[CV] END .......................C=1, gamma=0.001, kernel=rbf; total time=   0.0s\n",
            "[CV] END ......................C=1, gamma=0.001, kernel=poly; total time=   0.0s\n",
            "[CV] END ......................C=1, gamma=0.001, kernel=poly; total time=   0.0s\n",
            "[CV] END ......................C=1, gamma=0.001, kernel=poly; total time=   0.0s\n",
            "[CV] END ......................C=1, gamma=0.001, kernel=poly; total time=   0.0s\n",
            "[CV] END ......................C=1, gamma=0.001, kernel=poly; total time=   0.0s\n",
            "[CV] END ...................C=1, gamma=0.001, kernel=sigmoid; total time=   0.0s\n",
            "[CV] END ...................C=1, gamma=0.001, kernel=sigmoid; total time=   0.0s\n",
            "[CV] END ...................C=1, gamma=0.001, kernel=sigmoid; total time=   0.0s\n",
            "[CV] END ...................C=1, gamma=0.001, kernel=sigmoid; total time=   0.0s\n",
            "[CV] END ...................C=1, gamma=0.001, kernel=sigmoid; total time=   0.0s\n",
            "[CV] END ......................C=1, gamma=0.0001, kernel=rbf; total time=   0.0s\n",
            "[CV] END ......................C=1, gamma=0.0001, kernel=rbf; total time=   0.0s\n",
            "[CV] END ......................C=1, gamma=0.0001, kernel=rbf; total time=   0.0s\n",
            "[CV] END ......................C=1, gamma=0.0001, kernel=rbf; total time=   0.0s\n",
            "[CV] END ......................C=1, gamma=0.0001, kernel=rbf; total time=   0.0s\n",
            "[CV] END .....................C=1, gamma=0.0001, kernel=poly; total time=   0.0s\n",
            "[CV] END .....................C=1, gamma=0.0001, kernel=poly; total time=   0.0s\n",
            "[CV] END .....................C=1, gamma=0.0001, kernel=poly; total time=   0.0s\n",
            "[CV] END .....................C=1, gamma=0.0001, kernel=poly; total time=   0.0s\n",
            "[CV] END .....................C=1, gamma=0.0001, kernel=poly; total time=   0.0s\n",
            "[CV] END ..................C=1, gamma=0.0001, kernel=sigmoid; total time=   0.0s\n",
            "[CV] END ..................C=1, gamma=0.0001, kernel=sigmoid; total time=   0.0s\n",
            "[CV] END ..................C=1, gamma=0.0001, kernel=sigmoid; total time=   0.0s\n",
            "[CV] END ..................C=1, gamma=0.0001, kernel=sigmoid; total time=   0.0s\n",
            "[CV] END ..................C=1, gamma=0.0001, kernel=sigmoid; total time=   0.0s\n",
            "[CV] END ..........................C=10, gamma=1, kernel=rbf; total time=   0.1s\n",
            "[CV] END ..........................C=10, gamma=1, kernel=rbf; total time=   0.1s\n",
            "[CV] END ..........................C=10, gamma=1, kernel=rbf; total time=   0.1s\n",
            "[CV] END ..........................C=10, gamma=1, kernel=rbf; total time=   0.1s\n",
            "[CV] END ..........................C=10, gamma=1, kernel=rbf; total time=   0.1s\n",
            "[CV] END .........................C=10, gamma=1, kernel=poly; total time=   0.4s\n",
            "[CV] END .........................C=10, gamma=1, kernel=poly; total time=   0.2s\n",
            "[CV] END .........................C=10, gamma=1, kernel=poly; total time=   0.2s\n",
            "[CV] END .........................C=10, gamma=1, kernel=poly; total time=   0.3s\n",
            "[CV] END .........................C=10, gamma=1, kernel=poly; total time=   0.2s\n",
            "[CV] END ......................C=10, gamma=1, kernel=sigmoid; total time=   0.0s\n",
            "[CV] END ......................C=10, gamma=1, kernel=sigmoid; total time=   0.0s\n",
            "[CV] END ......................C=10, gamma=1, kernel=sigmoid; total time=   0.0s\n",
            "[CV] END ......................C=10, gamma=1, kernel=sigmoid; total time=   0.0s\n",
            "[CV] END ......................C=10, gamma=1, kernel=sigmoid; total time=   0.0s\n",
            "[CV] END ........................C=10, gamma=0.1, kernel=rbf; total time=   0.0s\n",
            "[CV] END ........................C=10, gamma=0.1, kernel=rbf; total time=   0.0s\n",
            "[CV] END ........................C=10, gamma=0.1, kernel=rbf; total time=   0.0s\n",
            "[CV] END ........................C=10, gamma=0.1, kernel=rbf; total time=   0.0s\n",
            "[CV] END ........................C=10, gamma=0.1, kernel=rbf; total time=   0.0s\n",
            "[CV] END .......................C=10, gamma=0.1, kernel=poly; total time=   0.0s\n",
            "[CV] END .......................C=10, gamma=0.1, kernel=poly; total time=   0.0s\n",
            "[CV] END .......................C=10, gamma=0.1, kernel=poly; total time=   0.0s\n",
            "[CV] END .......................C=10, gamma=0.1, kernel=poly; total time=   0.0s\n",
            "[CV] END .......................C=10, gamma=0.1, kernel=poly; total time=   0.0s\n",
            "[CV] END ....................C=10, gamma=0.1, kernel=sigmoid; total time=   0.0s\n",
            "[CV] END ....................C=10, gamma=0.1, kernel=sigmoid; total time=   0.0s\n",
            "[CV] END ....................C=10, gamma=0.1, kernel=sigmoid; total time=   0.0s\n",
            "[CV] END ....................C=10, gamma=0.1, kernel=sigmoid; total time=   0.0s\n",
            "[CV] END ....................C=10, gamma=0.1, kernel=sigmoid; total time=   0.0s\n",
            "[CV] END .......................C=10, gamma=0.01, kernel=rbf; total time=   0.0s\n",
            "[CV] END .......................C=10, gamma=0.01, kernel=rbf; total time=   0.0s\n",
            "[CV] END .......................C=10, gamma=0.01, kernel=rbf; total time=   0.0s\n",
            "[CV] END .......................C=10, gamma=0.01, kernel=rbf; total time=   0.0s\n",
            "[CV] END .......................C=10, gamma=0.01, kernel=rbf; total time=   0.0s\n",
            "[CV] END ......................C=10, gamma=0.01, kernel=poly; total time=   0.0s\n",
            "[CV] END ......................C=10, gamma=0.01, kernel=poly; total time=   0.0s\n",
            "[CV] END ......................C=10, gamma=0.01, kernel=poly; total time=   0.0s\n",
            "[CV] END ......................C=10, gamma=0.01, kernel=poly; total time=   0.0s\n",
            "[CV] END ......................C=10, gamma=0.01, kernel=poly; total time=   0.0s\n",
            "[CV] END ...................C=10, gamma=0.01, kernel=sigmoid; total time=   0.0s\n",
            "[CV] END ...................C=10, gamma=0.01, kernel=sigmoid; total time=   0.0s\n",
            "[CV] END ...................C=10, gamma=0.01, kernel=sigmoid; total time=   0.0s\n",
            "[CV] END ...................C=10, gamma=0.01, kernel=sigmoid; total time=   0.0s\n",
            "[CV] END ...................C=10, gamma=0.01, kernel=sigmoid; total time=   0.0s\n",
            "[CV] END ......................C=10, gamma=0.001, kernel=rbf; total time=   0.0s\n",
            "[CV] END ......................C=10, gamma=0.001, kernel=rbf; total time=   0.0s\n",
            "[CV] END ......................C=10, gamma=0.001, kernel=rbf; total time=   0.0s\n",
            "[CV] END ......................C=10, gamma=0.001, kernel=rbf; total time=   0.0s\n",
            "[CV] END ......................C=10, gamma=0.001, kernel=rbf; total time=   0.0s\n",
            "[CV] END .....................C=10, gamma=0.001, kernel=poly; total time=   0.0s\n",
            "[CV] END .....................C=10, gamma=0.001, kernel=poly; total time=   0.0s\n",
            "[CV] END .....................C=10, gamma=0.001, kernel=poly; total time=   0.0s\n",
            "[CV] END .....................C=10, gamma=0.001, kernel=poly; total time=   0.0s\n",
            "[CV] END .....................C=10, gamma=0.001, kernel=poly; total time=   0.0s\n",
            "[CV] END ..................C=10, gamma=0.001, kernel=sigmoid; total time=   0.0s\n",
            "[CV] END ..................C=10, gamma=0.001, kernel=sigmoid; total time=   0.0s\n",
            "[CV] END ..................C=10, gamma=0.001, kernel=sigmoid; total time=   0.0s\n",
            "[CV] END ..................C=10, gamma=0.001, kernel=sigmoid; total time=   0.0s\n",
            "[CV] END ..................C=10, gamma=0.001, kernel=sigmoid; total time=   0.0s\n",
            "[CV] END .....................C=10, gamma=0.0001, kernel=rbf; total time=   0.0s\n",
            "[CV] END .....................C=10, gamma=0.0001, kernel=rbf; total time=   0.0s\n",
            "[CV] END .....................C=10, gamma=0.0001, kernel=rbf; total time=   0.0s\n",
            "[CV] END .....................C=10, gamma=0.0001, kernel=rbf; total time=   0.0s\n",
            "[CV] END .....................C=10, gamma=0.0001, kernel=rbf; total time=   0.0s\n",
            "[CV] END ....................C=10, gamma=0.0001, kernel=poly; total time=   0.0s\n",
            "[CV] END ....................C=10, gamma=0.0001, kernel=poly; total time=   0.0s\n",
            "[CV] END ....................C=10, gamma=0.0001, kernel=poly; total time=   0.0s\n",
            "[CV] END ....................C=10, gamma=0.0001, kernel=poly; total time=   0.0s\n",
            "[CV] END ....................C=10, gamma=0.0001, kernel=poly; total time=   0.0s\n",
            "[CV] END .................C=10, gamma=0.0001, kernel=sigmoid; total time=   0.0s\n",
            "[CV] END .................C=10, gamma=0.0001, kernel=sigmoid; total time=   0.0s\n",
            "[CV] END .................C=10, gamma=0.0001, kernel=sigmoid; total time=   0.0s\n",
            "[CV] END .................C=10, gamma=0.0001, kernel=sigmoid; total time=   0.0s\n",
            "[CV] END .................C=10, gamma=0.0001, kernel=sigmoid; total time=   0.0s\n",
            "[CV] END .........................C=100, gamma=1, kernel=rbf; total time=   0.1s\n",
            "[CV] END .........................C=100, gamma=1, kernel=rbf; total time=   0.1s\n",
            "[CV] END .........................C=100, gamma=1, kernel=rbf; total time=   0.1s\n",
            "[CV] END .........................C=100, gamma=1, kernel=rbf; total time=   0.1s\n",
            "[CV] END .........................C=100, gamma=1, kernel=rbf; total time=   0.0s\n",
            "[CV] END ........................C=100, gamma=1, kernel=poly; total time=   1.1s\n",
            "[CV] END ........................C=100, gamma=1, kernel=poly; total time=   2.3s\n",
            "[CV] END ........................C=100, gamma=1, kernel=poly; total time=   1.8s\n",
            "[CV] END ........................C=100, gamma=1, kernel=poly; total time=   1.4s\n",
            "[CV] END ........................C=100, gamma=1, kernel=poly; total time=   0.2s\n",
            "[CV] END .....................C=100, gamma=1, kernel=sigmoid; total time=   0.0s\n",
            "[CV] END .....................C=100, gamma=1, kernel=sigmoid; total time=   0.0s\n",
            "[CV] END .....................C=100, gamma=1, kernel=sigmoid; total time=   0.0s\n",
            "[CV] END .....................C=100, gamma=1, kernel=sigmoid; total time=   0.0s\n",
            "[CV] END .....................C=100, gamma=1, kernel=sigmoid; total time=   0.0s\n",
            "[CV] END .......................C=100, gamma=0.1, kernel=rbf; total time=   0.0s\n",
            "[CV] END .......................C=100, gamma=0.1, kernel=rbf; total time=   0.0s\n",
            "[CV] END .......................C=100, gamma=0.1, kernel=rbf; total time=   0.0s\n",
            "[CV] END .......................C=100, gamma=0.1, kernel=rbf; total time=   0.0s\n",
            "[CV] END .......................C=100, gamma=0.1, kernel=rbf; total time=   0.0s\n",
            "[CV] END ......................C=100, gamma=0.1, kernel=poly; total time=   0.1s\n",
            "[CV] END ......................C=100, gamma=0.1, kernel=poly; total time=   0.0s\n",
            "[CV] END ......................C=100, gamma=0.1, kernel=poly; total time=   0.1s\n",
            "[CV] END ......................C=100, gamma=0.1, kernel=poly; total time=   0.1s\n",
            "[CV] END ......................C=100, gamma=0.1, kernel=poly; total time=   0.1s\n",
            "[CV] END ...................C=100, gamma=0.1, kernel=sigmoid; total time=   0.0s\n",
            "[CV] END ...................C=100, gamma=0.1, kernel=sigmoid; total time=   0.0s\n",
            "[CV] END ...................C=100, gamma=0.1, kernel=sigmoid; total time=   0.0s\n",
            "[CV] END ...................C=100, gamma=0.1, kernel=sigmoid; total time=   0.0s\n",
            "[CV] END ...................C=100, gamma=0.1, kernel=sigmoid; total time=   0.0s\n",
            "[CV] END ......................C=100, gamma=0.01, kernel=rbf; total time=   0.1s\n",
            "[CV] END ......................C=100, gamma=0.01, kernel=rbf; total time=   0.1s\n",
            "[CV] END ......................C=100, gamma=0.01, kernel=rbf; total time=   0.1s\n",
            "[CV] END ......................C=100, gamma=0.01, kernel=rbf; total time=   0.1s\n",
            "[CV] END ......................C=100, gamma=0.01, kernel=rbf; total time=   0.0s\n",
            "[CV] END .....................C=100, gamma=0.01, kernel=poly; total time=   0.0s\n",
            "[CV] END .....................C=100, gamma=0.01, kernel=poly; total time=   0.0s\n",
            "[CV] END .....................C=100, gamma=0.01, kernel=poly; total time=   0.0s\n",
            "[CV] END .....................C=100, gamma=0.01, kernel=poly; total time=   0.0s\n",
            "[CV] END .....................C=100, gamma=0.01, kernel=poly; total time=   0.0s\n",
            "[CV] END ..................C=100, gamma=0.01, kernel=sigmoid; total time=   0.0s\n",
            "[CV] END ..................C=100, gamma=0.01, kernel=sigmoid; total time=   0.0s\n",
            "[CV] END ..................C=100, gamma=0.01, kernel=sigmoid; total time=   0.0s\n",
            "[CV] END ..................C=100, gamma=0.01, kernel=sigmoid; total time=   0.0s\n",
            "[CV] END ..................C=100, gamma=0.01, kernel=sigmoid; total time=   0.0s\n",
            "[CV] END .....................C=100, gamma=0.001, kernel=rbf; total time=   0.1s\n",
            "[CV] END .....................C=100, gamma=0.001, kernel=rbf; total time=   0.1s\n",
            "[CV] END .....................C=100, gamma=0.001, kernel=rbf; total time=   0.1s\n",
            "[CV] END .....................C=100, gamma=0.001, kernel=rbf; total time=   0.1s\n",
            "[CV] END .....................C=100, gamma=0.001, kernel=rbf; total time=   0.1s\n",
            "[CV] END ....................C=100, gamma=0.001, kernel=poly; total time=   0.0s\n",
            "[CV] END ....................C=100, gamma=0.001, kernel=poly; total time=   0.0s\n",
            "[CV] END ....................C=100, gamma=0.001, kernel=poly; total time=   0.0s\n",
            "[CV] END ....................C=100, gamma=0.001, kernel=poly; total time=   0.0s\n",
            "[CV] END ....................C=100, gamma=0.001, kernel=poly; total time=   0.0s\n",
            "[CV] END .................C=100, gamma=0.001, kernel=sigmoid; total time=   0.1s\n",
            "[CV] END .................C=100, gamma=0.001, kernel=sigmoid; total time=   0.1s\n",
            "[CV] END .................C=100, gamma=0.001, kernel=sigmoid; total time=   0.1s\n",
            "[CV] END .................C=100, gamma=0.001, kernel=sigmoid; total time=   0.1s\n",
            "[CV] END .................C=100, gamma=0.001, kernel=sigmoid; total time=   0.1s\n",
            "[CV] END ....................C=100, gamma=0.0001, kernel=rbf; total time=   0.0s\n",
            "[CV] END ....................C=100, gamma=0.0001, kernel=rbf; total time=   0.0s\n",
            "[CV] END ....................C=100, gamma=0.0001, kernel=rbf; total time=   0.0s\n",
            "[CV] END ....................C=100, gamma=0.0001, kernel=rbf; total time=   0.0s\n",
            "[CV] END ....................C=100, gamma=0.0001, kernel=rbf; total time=   0.0s\n",
            "[CV] END ...................C=100, gamma=0.0001, kernel=poly; total time=   0.0s\n",
            "[CV] END ...................C=100, gamma=0.0001, kernel=poly; total time=   0.0s\n",
            "[CV] END ...................C=100, gamma=0.0001, kernel=poly; total time=   0.0s\n",
            "[CV] END ...................C=100, gamma=0.0001, kernel=poly; total time=   0.0s\n",
            "[CV] END ...................C=100, gamma=0.0001, kernel=poly; total time=   0.0s\n",
            "[CV] END ................C=100, gamma=0.0001, kernel=sigmoid; total time=   0.0s\n",
            "[CV] END ................C=100, gamma=0.0001, kernel=sigmoid; total time=   0.0s\n",
            "[CV] END ................C=100, gamma=0.0001, kernel=sigmoid; total time=   0.0s\n",
            "[CV] END ................C=100, gamma=0.0001, kernel=sigmoid; total time=   0.0s\n",
            "[CV] END ................C=100, gamma=0.0001, kernel=sigmoid; total time=   0.0s\n",
            "[CV] END ........................C=1000, gamma=1, kernel=rbf; total time=   0.0s\n",
            "[CV] END ........................C=1000, gamma=1, kernel=rbf; total time=   0.1s\n",
            "[CV] END ........................C=1000, gamma=1, kernel=rbf; total time=   0.1s\n",
            "[CV] END ........................C=1000, gamma=1, kernel=rbf; total time=   0.1s\n",
            "[CV] END ........................C=1000, gamma=1, kernel=rbf; total time=   0.1s\n",
            "[CV] END .......................C=1000, gamma=1, kernel=poly; total time=   0.9s\n",
            "[CV] END .......................C=1000, gamma=1, kernel=poly; total time=   0.9s\n",
            "[CV] END .......................C=1000, gamma=1, kernel=poly; total time=  10.7s\n",
            "[CV] END .......................C=1000, gamma=1, kernel=poly; total time=   0.9s\n",
            "[CV] END .......................C=1000, gamma=1, kernel=poly; total time=   4.5s\n",
            "[CV] END ....................C=1000, gamma=1, kernel=sigmoid; total time=   0.0s\n",
            "[CV] END ....................C=1000, gamma=1, kernel=sigmoid; total time=   0.0s\n",
            "[CV] END ....................C=1000, gamma=1, kernel=sigmoid; total time=   0.0s\n",
            "[CV] END ....................C=1000, gamma=1, kernel=sigmoid; total time=   0.0s\n",
            "[CV] END ....................C=1000, gamma=1, kernel=sigmoid; total time=   0.0s\n",
            "[CV] END ......................C=1000, gamma=0.1, kernel=rbf; total time=   0.1s\n",
            "[CV] END ......................C=1000, gamma=0.1, kernel=rbf; total time=   0.1s\n",
            "[CV] END ......................C=1000, gamma=0.1, kernel=rbf; total time=   0.1s\n",
            "[CV] END ......................C=1000, gamma=0.1, kernel=rbf; total time=   0.1s\n",
            "[CV] END ......................C=1000, gamma=0.1, kernel=rbf; total time=   0.1s\n",
            "[CV] END .....................C=1000, gamma=0.1, kernel=poly; total time=   0.4s\n",
            "[CV] END .....................C=1000, gamma=0.1, kernel=poly; total time=   0.2s\n",
            "[CV] END .....................C=1000, gamma=0.1, kernel=poly; total time=   0.2s\n",
            "[CV] END .....................C=1000, gamma=0.1, kernel=poly; total time=   0.3s\n",
            "[CV] END .....................C=1000, gamma=0.1, kernel=poly; total time=   0.1s\n",
            "[CV] END ..................C=1000, gamma=0.1, kernel=sigmoid; total time=   0.0s\n",
            "[CV] END ..................C=1000, gamma=0.1, kernel=sigmoid; total time=   0.0s\n",
            "[CV] END ..................C=1000, gamma=0.1, kernel=sigmoid; total time=   0.0s\n",
            "[CV] END ..................C=1000, gamma=0.1, kernel=sigmoid; total time=   0.0s\n",
            "[CV] END ..................C=1000, gamma=0.1, kernel=sigmoid; total time=   0.0s\n",
            "[CV] END .....................C=1000, gamma=0.01, kernel=rbf; total time=   0.2s\n",
            "[CV] END .....................C=1000, gamma=0.01, kernel=rbf; total time=   0.1s\n",
            "[CV] END .....................C=1000, gamma=0.01, kernel=rbf; total time=   0.1s\n",
            "[CV] END .....................C=1000, gamma=0.01, kernel=rbf; total time=   0.1s\n",
            "[CV] END .....................C=1000, gamma=0.01, kernel=rbf; total time=   0.1s\n",
            "[CV] END ....................C=1000, gamma=0.01, kernel=poly; total time=   0.0s\n",
            "[CV] END ....................C=1000, gamma=0.01, kernel=poly; total time=   0.0s\n",
            "[CV] END ....................C=1000, gamma=0.01, kernel=poly; total time=   0.0s\n",
            "[CV] END ....................C=1000, gamma=0.01, kernel=poly; total time=   0.0s\n",
            "[CV] END ....................C=1000, gamma=0.01, kernel=poly; total time=   0.0s\n",
            "[CV] END .................C=1000, gamma=0.01, kernel=sigmoid; total time=   0.0s\n",
            "[CV] END .................C=1000, gamma=0.01, kernel=sigmoid; total time=   0.0s\n",
            "[CV] END .................C=1000, gamma=0.01, kernel=sigmoid; total time=   0.0s\n",
            "[CV] END .................C=1000, gamma=0.01, kernel=sigmoid; total time=   0.0s\n",
            "[CV] END .................C=1000, gamma=0.01, kernel=sigmoid; total time=   0.0s\n",
            "[CV] END ....................C=1000, gamma=0.001, kernel=rbf; total time=   0.2s\n",
            "[CV] END ....................C=1000, gamma=0.001, kernel=rbf; total time=   0.1s\n",
            "[CV] END ....................C=1000, gamma=0.001, kernel=rbf; total time=   0.5s\n",
            "[CV] END ....................C=1000, gamma=0.001, kernel=rbf; total time=   0.8s\n",
            "[CV] END ....................C=1000, gamma=0.001, kernel=rbf; total time=   0.1s\n",
            "[CV] END ...................C=1000, gamma=0.001, kernel=poly; total time=   0.0s\n",
            "[CV] END ...................C=1000, gamma=0.001, kernel=poly; total time=   0.0s\n",
            "[CV] END ...................C=1000, gamma=0.001, kernel=poly; total time=   0.0s\n",
            "[CV] END ...................C=1000, gamma=0.001, kernel=poly; total time=   0.0s\n",
            "[CV] END ...................C=1000, gamma=0.001, kernel=poly; total time=   0.0s\n",
            "[CV] END ................C=1000, gamma=0.001, kernel=sigmoid; total time=   0.3s\n",
            "[CV] END ................C=1000, gamma=0.001, kernel=sigmoid; total time=   0.2s\n",
            "[CV] END ................C=1000, gamma=0.001, kernel=sigmoid; total time=   0.3s\n",
            "[CV] END ................C=1000, gamma=0.001, kernel=sigmoid; total time=   0.3s\n",
            "[CV] END ................C=1000, gamma=0.001, kernel=sigmoid; total time=   0.2s\n",
            "[CV] END ...................C=1000, gamma=0.0001, kernel=rbf; total time=   0.2s\n",
            "[CV] END ...................C=1000, gamma=0.0001, kernel=rbf; total time=   0.2s\n",
            "[CV] END ...................C=1000, gamma=0.0001, kernel=rbf; total time=   0.1s\n",
            "[CV] END ...................C=1000, gamma=0.0001, kernel=rbf; total time=   0.1s\n",
            "[CV] END ...................C=1000, gamma=0.0001, kernel=rbf; total time=   0.2s\n",
            "[CV] END ..................C=1000, gamma=0.0001, kernel=poly; total time=   0.0s\n",
            "[CV] END ..................C=1000, gamma=0.0001, kernel=poly; total time=   0.0s\n",
            "[CV] END ..................C=1000, gamma=0.0001, kernel=poly; total time=   0.0s\n",
            "[CV] END ..................C=1000, gamma=0.0001, kernel=poly; total time=   0.0s\n",
            "[CV] END ..................C=1000, gamma=0.0001, kernel=poly; total time=   0.0s\n",
            "[CV] END ...............C=1000, gamma=0.0001, kernel=sigmoid; total time=   0.0s\n",
            "[CV] END ...............C=1000, gamma=0.0001, kernel=sigmoid; total time=   0.0s\n",
            "[CV] END ...............C=1000, gamma=0.0001, kernel=sigmoid; total time=   0.0s\n",
            "[CV] END ...............C=1000, gamma=0.0001, kernel=sigmoid; total time=   0.0s\n",
            "[CV] END ...............C=1000, gamma=0.0001, kernel=sigmoid; total time=   0.0s\n"
          ]
        },
        {
          "output_type": "execute_result",
          "data": {
            "text/plain": [
              "GridSearchCV(estimator=SVC(),\n",
              "             param_grid={'C': [0.1, 1, 10, 100, 1000],\n",
              "                         'gamma': [1, 0.1, 0.01, 0.001, 0.0001],\n",
              "                         'kernel': ['rbf', 'poly', 'sigmoid']},\n",
              "             verbose=2)"
            ],
            "text/html": [
              "<style>#sk-container-id-6 {color: black;background-color: white;}#sk-container-id-6 pre{padding: 0;}#sk-container-id-6 div.sk-toggleable {background-color: white;}#sk-container-id-6 label.sk-toggleable__label {cursor: pointer;display: block;width: 100%;margin-bottom: 0;padding: 0.3em;box-sizing: border-box;text-align: center;}#sk-container-id-6 label.sk-toggleable__label-arrow:before {content: \"▸\";float: left;margin-right: 0.25em;color: #696969;}#sk-container-id-6 label.sk-toggleable__label-arrow:hover:before {color: black;}#sk-container-id-6 div.sk-estimator:hover label.sk-toggleable__label-arrow:before {color: black;}#sk-container-id-6 div.sk-toggleable__content {max-height: 0;max-width: 0;overflow: hidden;text-align: left;background-color: #f0f8ff;}#sk-container-id-6 div.sk-toggleable__content pre {margin: 0.2em;color: black;border-radius: 0.25em;background-color: #f0f8ff;}#sk-container-id-6 input.sk-toggleable__control:checked~div.sk-toggleable__content {max-height: 200px;max-width: 100%;overflow: auto;}#sk-container-id-6 input.sk-toggleable__control:checked~label.sk-toggleable__label-arrow:before {content: \"▾\";}#sk-container-id-6 div.sk-estimator input.sk-toggleable__control:checked~label.sk-toggleable__label {background-color: #d4ebff;}#sk-container-id-6 div.sk-label input.sk-toggleable__control:checked~label.sk-toggleable__label {background-color: #d4ebff;}#sk-container-id-6 input.sk-hidden--visually {border: 0;clip: rect(1px 1px 1px 1px);clip: rect(1px, 1px, 1px, 1px);height: 1px;margin: -1px;overflow: hidden;padding: 0;position: absolute;width: 1px;}#sk-container-id-6 div.sk-estimator {font-family: monospace;background-color: #f0f8ff;border: 1px dotted black;border-radius: 0.25em;box-sizing: border-box;margin-bottom: 0.5em;}#sk-container-id-6 div.sk-estimator:hover {background-color: #d4ebff;}#sk-container-id-6 div.sk-parallel-item::after {content: \"\";width: 100%;border-bottom: 1px solid gray;flex-grow: 1;}#sk-container-id-6 div.sk-label:hover label.sk-toggleable__label {background-color: #d4ebff;}#sk-container-id-6 div.sk-serial::before {content: \"\";position: absolute;border-left: 1px solid gray;box-sizing: border-box;top: 0;bottom: 0;left: 50%;z-index: 0;}#sk-container-id-6 div.sk-serial {display: flex;flex-direction: column;align-items: center;background-color: white;padding-right: 0.2em;padding-left: 0.2em;position: relative;}#sk-container-id-6 div.sk-item {position: relative;z-index: 1;}#sk-container-id-6 div.sk-parallel {display: flex;align-items: stretch;justify-content: center;background-color: white;position: relative;}#sk-container-id-6 div.sk-item::before, #sk-container-id-6 div.sk-parallel-item::before {content: \"\";position: absolute;border-left: 1px solid gray;box-sizing: border-box;top: 0;bottom: 0;left: 50%;z-index: -1;}#sk-container-id-6 div.sk-parallel-item {display: flex;flex-direction: column;z-index: 1;position: relative;background-color: white;}#sk-container-id-6 div.sk-parallel-item:first-child::after {align-self: flex-end;width: 50%;}#sk-container-id-6 div.sk-parallel-item:last-child::after {align-self: flex-start;width: 50%;}#sk-container-id-6 div.sk-parallel-item:only-child::after {width: 0;}#sk-container-id-6 div.sk-dashed-wrapped {border: 1px dashed gray;margin: 0 0.4em 0.5em 0.4em;box-sizing: border-box;padding-bottom: 0.4em;background-color: white;}#sk-container-id-6 div.sk-label label {font-family: monospace;font-weight: bold;display: inline-block;line-height: 1.2em;}#sk-container-id-6 div.sk-label-container {text-align: center;}#sk-container-id-6 div.sk-container {/* jupyter's `normalize.less` sets `[hidden] { display: none; }` but bootstrap.min.css set `[hidden] { display: none !important; }` so we also need the `!important` here to be able to override the default hidden behavior on the sphinx rendered scikit-learn.org. See: https://github.com/scikit-learn/scikit-learn/issues/21755 */display: inline-block !important;position: relative;}#sk-container-id-6 div.sk-text-repr-fallback {display: none;}</style><div id=\"sk-container-id-6\" class=\"sk-top-container\"><div class=\"sk-text-repr-fallback\"><pre>GridSearchCV(estimator=SVC(),\n",
              "             param_grid={&#x27;C&#x27;: [0.1, 1, 10, 100, 1000],\n",
              "                         &#x27;gamma&#x27;: [1, 0.1, 0.01, 0.001, 0.0001],\n",
              "                         &#x27;kernel&#x27;: [&#x27;rbf&#x27;, &#x27;poly&#x27;, &#x27;sigmoid&#x27;]},\n",
              "             verbose=2)</pre><b>In a Jupyter environment, please rerun this cell to show the HTML representation or trust the notebook. <br />On GitHub, the HTML representation is unable to render, please try loading this page with nbviewer.org.</b></div><div class=\"sk-container\" hidden><div class=\"sk-item sk-dashed-wrapped\"><div class=\"sk-label-container\"><div class=\"sk-label sk-toggleable\"><input class=\"sk-toggleable__control sk-hidden--visually\" id=\"sk-estimator-id-14\" type=\"checkbox\" ><label for=\"sk-estimator-id-14\" class=\"sk-toggleable__label sk-toggleable__label-arrow\">GridSearchCV</label><div class=\"sk-toggleable__content\"><pre>GridSearchCV(estimator=SVC(),\n",
              "             param_grid={&#x27;C&#x27;: [0.1, 1, 10, 100, 1000],\n",
              "                         &#x27;gamma&#x27;: [1, 0.1, 0.01, 0.001, 0.0001],\n",
              "                         &#x27;kernel&#x27;: [&#x27;rbf&#x27;, &#x27;poly&#x27;, &#x27;sigmoid&#x27;]},\n",
              "             verbose=2)</pre></div></div></div><div class=\"sk-parallel\"><div class=\"sk-parallel-item\"><div class=\"sk-item\"><div class=\"sk-label-container\"><div class=\"sk-label sk-toggleable\"><input class=\"sk-toggleable__control sk-hidden--visually\" id=\"sk-estimator-id-15\" type=\"checkbox\" ><label for=\"sk-estimator-id-15\" class=\"sk-toggleable__label sk-toggleable__label-arrow\">estimator: SVC</label><div class=\"sk-toggleable__content\"><pre>SVC()</pre></div></div></div><div class=\"sk-serial\"><div class=\"sk-item\"><div class=\"sk-estimator sk-toggleable\"><input class=\"sk-toggleable__control sk-hidden--visually\" id=\"sk-estimator-id-16\" type=\"checkbox\" ><label for=\"sk-estimator-id-16\" class=\"sk-toggleable__label sk-toggleable__label-arrow\">SVC</label><div class=\"sk-toggleable__content\"><pre>SVC()</pre></div></div></div></div></div></div></div></div></div></div>"
            ]
          },
          "metadata": {},
          "execution_count": 112
        }
      ]
    },
    {
      "cell_type": "code",
      "source": [
        "print(Classfier_svm.best_params_)"
      ],
      "metadata": {
        "colab": {
          "base_uri": "https://localhost:8080/"
        },
        "id": "xD3yliaG0xxX",
        "outputId": "8f0a272c-d239-4c2e-9a5a-7dfc68c5a944"
      },
      "execution_count": null,
      "outputs": [
        {
          "output_type": "stream",
          "name": "stdout",
          "text": [
            "{'C': 1, 'gamma': 1, 'kernel': 'rbf'}\n"
          ]
        }
      ]
    },
    {
      "cell_type": "code",
      "source": [
        "print(Classfier_svm.best_estimator_)"
      ],
      "metadata": {
        "colab": {
          "base_uri": "https://localhost:8080/"
        },
        "id": "bek8cqJe2gAn",
        "outputId": "f54bb305-26a8-4aa1-ab65-f761dee727ba"
      },
      "execution_count": null,
      "outputs": [
        {
          "output_type": "stream",
          "name": "stdout",
          "text": [
            "SVC(C=1, gamma=1)\n"
          ]
        }
      ]
    },
    {
      "cell_type": "code",
      "source": [
        "print(Classfier_svm.best_score_)"
      ],
      "metadata": {
        "colab": {
          "base_uri": "https://localhost:8080/"
        },
        "id": "TsF5uD2r2f9U",
        "outputId": "5ea287a2-c874-4e90-a688-3d7098c90e9e"
      },
      "execution_count": null,
      "outputs": [
        {
          "output_type": "stream",
          "name": "stdout",
          "text": [
            "0.903613579403053\n"
          ]
        }
      ]
    },
    {
      "cell_type": "code",
      "source": [
        "y_pred_tune_svm = Classfier_svm.predict(X_test)"
      ],
      "metadata": {
        "id": "kjd3h-in2f7X"
      },
      "execution_count": null,
      "outputs": []
    },
    {
      "cell_type": "code",
      "source": [
        "svm_tune = accuracy_score(y_pred_tune_svm, y_test)*100\n",
        "accuracy_score(y_pred_tune_svm, y_test)*100"
      ],
      "metadata": {
        "colab": {
          "base_uri": "https://localhost:8080/"
        },
        "id": "Fu5XFgyW2f37",
        "outputId": "f45d2588-cef1-4721-d005-4cb860cd334f"
      },
      "execution_count": null,
      "outputs": [
        {
          "output_type": "execute_result",
          "data": {
            "text/plain": [
              "91.71428571428571"
            ]
          },
          "metadata": {},
          "execution_count": 117
        }
      ]
    },
    {
      "cell_type": "code",
      "source": [
        "print(classification_report(y_pred_tune_svm, y_test))"
      ],
      "metadata": {
        "colab": {
          "base_uri": "https://localhost:8080/"
        },
        "id": "c7ilF3iJ26Gv",
        "outputId": "93cc13b7-db3b-4b6e-8a02-d86b6b99b6f5"
      },
      "execution_count": null,
      "outputs": [
        {
          "output_type": "stream",
          "name": "stdout",
          "text": [
            "              precision    recall  f1-score   support\n",
            "\n",
            "           0       1.00      0.92      0.96       340\n",
            "           1       0.24      0.90      0.38        10\n",
            "\n",
            "    accuracy                           0.92       350\n",
            "   macro avg       0.62      0.91      0.67       350\n",
            "weighted avg       0.98      0.92      0.94       350\n",
            "\n"
          ]
        }
      ]
    },
    {
      "cell_type": "markdown",
      "source": [
        "#**ACCURACY : GRAPH**"
      ],
      "metadata": {
        "id": "RIBuS217KFlj"
      }
    },
    {
      "cell_type": "markdown",
      "source": [
        "#####Untuned Algorithm Graph"
      ],
      "metadata": {
        "id": "rSN7lTuSQ566"
      }
    },
    {
      "cell_type": "code",
      "source": [
        "untuned_algo = [Log_reg_untune, dec_tree_untune, knn_untune, random_forest_untune, svm_untune]\n",
        "Algo_value_untune = []\n",
        "for i in untuned_algo:\n",
        "  Algo_value_untune.append(round(i,1))\n",
        "Algo = [\"Logistic Regression\", \"Decision Tree\" , \"KNN\", \"Random Forest\", \"SVM\"]\n",
        "plt.figure(figsize=(15,5))\n",
        "def addlabels_untune(x,y):\n",
        "    for i in range(len(x)):\n",
        "        plt.text(i,y[i],y[i], horizontalalignment = \"left\")\n",
        "sns.barplot(Algo,untuned_algo)\n",
        "addlabels_untune(Algo, Algo_value_untune)"
      ],
      "metadata": {
        "colab": {
          "base_uri": "https://localhost:8080/"
        },
        "id": "CPpSzKHAKwkx",
        "outputId": "71a92f0d-be86-441a-8f01-a5b7e64f2406"
      },
      "execution_count": null,
      "outputs": [
        {
          "output_type": "display_data",
          "data": {
            "text/plain": [
              "<Figure size 1080x360 with 1 Axes>"
            ],
            "image/png": "[encoded data removed]"
          },
          "metadata": {
            "needs_background": "light"
          }
        }
      ]
    },
    {
      "cell_type": "markdown",
      "source": [
        "#####Tuned Algorithm Graph"
      ],
      "metadata": {
        "id": "GJNJosgaQ2ML"
      }
    },
    {
      "cell_type": "code",
      "source": [
        "tuned_algo = [Log_reg_tune, dec_tree_tune, knn_tune, random_forest_tune, svm_tune]\n",
        "Algo_value_tune = []\n",
        "for i in tuned_algo:\n",
        "  Algo_value_tune.append(round(i,1))\n",
        "Algo = [\"Logistic Regression\", \"Decision Tree\" , \"KNN\", \"Random Forest\", \"SVM\"]\n",
        "plt.figure(figsize=(15,5))\n",
        "def addlabels_tune(x,y):\n",
        "    for i in range(len(x)):\n",
        "        plt.text(i,y[i],y[i], horizontalalignment = \"right\")\n",
        "sns.barplot(Algo,Algo_value_tune)\n",
        "addlabels_tune(Algo, Algo_value_tune)"
      ],
      "metadata": {
        "colab": {
          "base_uri": "https://localhost:8080/"
        },
        "id": "DBR15P00Q1U1",
        "outputId": "e96c4925-346b-43c7-eecb-e5fc112ccb9d"
      },
      "execution_count": null,
      "outputs": [
        {
          "output_type": "display_data",
          "data": {
            "text/plain": [
              "<Figure size 1080x360 with 1 Axes>"
            ],
            "image/png": "[encoded data removed]"
          },
          "metadata": {
            "needs_background": "light"
          }
        }
      ]
    },
    {
      "cell_type": "markdown",
      "source": [
        "#####Comparision "
      ],
      "metadata": {
        "id": "pr1KKQF3MOME"
      }
    },
    {
      "cell_type": "code",
      "source": [
        "plt.figure(figsize=(20,12))\n",
        "X_label_algo = np.arange(len(Algo))\n",
        "plt.bar(X_label_algo-0.1, untuned_algo, 0.3, label = \"Untuned Algorithm\")\n",
        "plt.bar(X_label_algo+0.1, tuned_algo, 0.3, label = \"Tuned Algorithm\" )\n",
        "plt.xticks(X_label_algo, Algo)\n",
        "plt.legend()\n",
        "addlabels_tune(Algo, Algo_value_tune)\n",
        "addlabels_untune(Algo, Algo_value_untune)"
      ],
      "metadata": {
        "colab": {
          "base_uri": "https://localhost:8080/",
          "height": 700
        },
        "id": "8hoPHltHLV6J",
        "outputId": "1e1c2340-d047-4eb4-a6df-b6438b11e1fc"
      },
      "execution_count": null,
      "outputs": [
        {
          "output_type": "display_data",
          "data": {
            "text/plain": [
              "<Figure size 1440x864 with 1 Axes>"
            ],
            "image/png": "[encoded data removed]"
          },
          "metadata": {
            "needs_background": "light"
          }
        }
      ]
    },
    {
      "cell_type": "markdown",
      "source": [
        "#Imbalance Data"
      ],
      "metadata": {
        "id": "zKtB2K_OR7Lo"
      }
    }
  ]
}